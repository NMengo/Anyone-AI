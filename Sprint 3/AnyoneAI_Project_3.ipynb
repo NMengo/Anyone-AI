{
 "cells": [
  {
   "cell_type": "markdown",
   "id": "9d3c07ee-c3bf-4530-812a-36405502b38d",
   "metadata": {
    "id": "9d3c07ee-c3bf-4530-812a-36405502b38d"
   },
   "source": [
    "# Anyone AI"
   ]
  },
  {
   "cell_type": "markdown",
   "id": "12c65989-2d1a-4e6e-9332-092ff6830d29",
   "metadata": {
    "id": "12c65989-2d1a-4e6e-9332-092ff6830d29"
   },
   "source": [
    "# Project III - Home Credit Default Risk"
   ]
  },
  {
   "cell_type": "markdown",
   "id": "b5a8ce13-f23a-41bf-a8c7-d432ebcbe0c1",
   "metadata": {
    "id": "b5a8ce13-f23a-41bf-a8c7-d432ebcbe0c1"
   },
   "source": [
    "You've been learning a lot about Machine Learning Algorithms, now we you're gonna be asked to put it all together. "
   ]
  },
  {
   "cell_type": "markdown",
   "id": "58ca3658-e8a1-41ba-a823-1a88ca9ef34b",
   "metadata": {
    "id": "58ca3658-e8a1-41ba-a823-1a88ca9ef34b"
   },
   "source": [
    "You will create a complete pipeline to preprocess the data, train your model and then predict values for the [Home Credit Default Risk](https://www.kaggle.com/competitions/home-credit-default-risk/) Kaggle competition."
   ]
  },
  {
   "cell_type": "markdown",
   "id": "e396c950-04b0-453e-b930-a22a96cee2d1",
   "metadata": {
    "id": "e396c950-04b0-453e-b930-a22a96cee2d1"
   },
   "source": [
    "## Introduction"
   ]
  },
  {
   "cell_type": "markdown",
   "id": "6a305c07-e042-4c59-8aea-03475afc09dd",
   "metadata": {
    "id": "6a305c07-e042-4c59-8aea-03475afc09dd"
   },
   "source": [
    "Kaggle is a web platform and community for data scientist and machine learning engineers where competetitions and datasets are regularly published.\n",
    "\n",
    "This particular competition is a binary Classification task: we want to predict whether the person applying for a home credit will be able to repay its debt or not. The competition finished 4 years ago, so you will find a lot of blog posts and code written for it, we encourage you to read everything you can about it.\n",
    "\n",
    "The dataset is composed of multiple files with different information about loands taken. In this project we're going to exclusively work with the main files: application_train.csv and application_test.csv.\n",
    "\n",
    "The competition uses [Area Under the ROC Curve](https://developers.google.com/machine-learning/crash-course/classification/roc-and-auc?hl=es_419) as the evaluation metric, so our models will have to return the probabilities that a loan is not paid for each row."
   ]
  },
  {
   "cell_type": "markdown",
   "id": "3ab085b5-379c-4e02-9f96-08edf5dbf887",
   "metadata": {
    "id": "3ab085b5-379c-4e02-9f96-08edf5dbf887"
   },
   "source": [
    "### Getting the data"
   ]
  },
  {
   "cell_type": "markdown",
   "id": "73354ae2-3adf-43c7-b3f3-849db316bfd3",
   "metadata": {
    "id": "73354ae2-3adf-43c7-b3f3-849db316bfd3"
   },
   "source": [
    "1- Login to Kaggle (if you don't have an account you'll have to register to get it) and download the [complete dataset](https://www.kaggle.com/competitions/home-credit-default-risk/data). Read the information about the data. What does a row in the main file represent? What does the target variable means?"
   ]
  },
  {
   "cell_type": "code",
   "execution_count": 1,
   "outputs": [],
   "source": [
    "!pip install -q kaggle\n",
    "import json\n",
    "# from google.colab import files"
   ],
   "metadata": {
    "collapsed": false,
    "pycharm": {
     "name": "#%%\n"
    }
   }
  },
  {
   "cell_type": "code",
   "execution_count": 1,
   "outputs": [],
   "source": [
    "import pandas as pd\n",
    "import matplotlib.pyplot as plt\n",
    "import seaborn as sns\n",
    "import numpy as np\n",
    "from sklearn.model_selection import train_test_split, StratifiedShuffleSplit, GridSearchCV\n",
    "from sklearn.metrics import mean_absolute_error, precision_score, recall_score, f1_score, accuracy_score,\\\n",
    "    classification_report\n",
    "from sklearn.preprocessing import MinMaxScaler, StandardScaler, OneHotEncoder\n",
    "from sklearn.linear_model import SGDRegressor, LogisticRegression\n",
    "from sklearn.tree import DecisionTreeRegressor\n",
    "from pandas.plotting import scatter_matrix\n",
    "import warnings\n",
    "warnings.filterwarnings('ignore')\n",
    "pd.options.display.max_rows = None"
   ],
   "metadata": {
    "collapsed": false,
    "pycharm": {
     "name": "#%%\n"
    }
   }
  },
  {
   "cell_type": "markdown",
   "id": "c4f50673-a197-4ea4-99df-3d4435bd643d",
   "metadata": {
    "id": "c4f50673-a197-4ea4-99df-3d4435bd643d"
   },
   "source": [
    "One row represents one loan in our data sample.\n",
    "The target variable says wether the loan was repaid (0) or not (1)"
   ]
  },
  {
   "cell_type": "markdown",
   "id": "25a0a724-ceb1-40cb-b123-b8c907a9c06f",
   "metadata": {
    "id": "25a0a724-ceb1-40cb-b123-b8c907a9c06f"
   },
   "source": [
    "2- Load the training and test datasets, we're only going to work withe \"application_train.csv\" and \"application_test.csv\" for now"
   ]
  },
  {
   "cell_type": "code",
   "execution_count": 3,
   "id": "1d62ba4d-a3f6-443b-8c3e-65582a85d8a6",
   "metadata": {
    "id": "1d62ba4d-a3f6-443b-8c3e-65582a85d8a6"
   },
   "outputs": [
    {
     "name": "stderr",
     "output_type": "stream",
     "text": [
      "La sintaxis del comando no es correcta.\n",
      "\"cp\" no se reconoce como un comando interno o externo,\n",
      "programa o archivo por lotes ejecutable.\n",
      "\"chmod\" no se reconoce como un comando interno o externo,\n",
      "programa o archivo por lotes ejecutable.\n",
      "Traceback (most recent call last):\n",
      "  File \"C:\\Users\\Mengo\\anaconda3\\envs\\Python Projects\\lib\\runpy.py\", line 196, in _run_module_as_main\n",
      "    return _run_code(code, main_globals, None,\n",
      "  File \"C:\\Users\\Mengo\\anaconda3\\envs\\Python Projects\\lib\\runpy.py\", line 86, in _run_code\n",
      "    exec(code, run_globals)\n",
      "  File \"C:\\Users\\Mengo\\anaconda3\\envs\\Python Projects\\Scripts\\kaggle.exe\\__main__.py\", line 4, in <module>\n",
      "  File \"C:\\Users\\Mengo\\anaconda3\\envs\\Python Projects\\lib\\site-packages\\kaggle\\__init__.py\", line 23, in <module>\n",
      "    api.authenticate()\n",
      "  File \"C:\\Users\\Mengo\\anaconda3\\envs\\Python Projects\\lib\\site-packages\\kaggle\\api\\kaggle_api_extended.py\", line 164, in authenticate\n",
      "    raise IOError('Could not find {}. Make sure it\\'s located in'\n",
      "OSError: Could not find kaggle.json. Make sure it's located in C:\\Users\\Mengo\\.kaggle. Or use the environment method.\n",
      "\"unzip\" no se reconoce como un comando interno o externo,\n",
      "programa o archivo por lotes ejecutable.\n"
     ]
    }
   ],
   "source": [
    "k = {\"username\":\"nicolasmengochea\",\n",
    "     \"key\":\"c93cfa7017ca4c7082e7bb521ec99ecc\"}\n",
    "with open('kaggle.json', 'w') as fp:\n",
    "  json.dump(k, fp)\n",
    "!mkdir ~/.kaggle\n",
    "!cp kaggle.json ~/.kaggle/\n",
    "!chmod 600 ~/.kaggle/kaggle.json\n",
    "!kaggle competitions download -c home-credit-default-risk\n",
    "!mkdir home-credit-default-risk\n",
    "!unzip home-credit-default-risk.zip -d home-credit-default-risk"
   ]
  },
  {
   "cell_type": "markdown",
   "id": "7c10a608-5c38-44f4-8158-18225619e7ae",
   "metadata": {
    "tags": [],
    "id": "7c10a608-5c38-44f4-8158-18225619e7ae"
   },
   "source": [
    "### Exploratory Data Analysis"
   ]
  },
  {
   "cell_type": "markdown",
   "id": "6bc490ab-a7b3-4590-a93c-70df44787682",
   "metadata": {
    "id": "6bc490ab-a7b3-4590-a93c-70df44787682"
   },
   "source": [
    "A lot of the analysis of the data can be found on public available Kaggle kernels or blog posts, but you need to make sure you understand the datasets properties before starting working on it, so we'll do exploratory data analysis for the main files"
   ]
  },
  {
   "cell_type": "markdown",
   "id": "2ea774d3-e12c-4c2b-846d-8c5c03e70928",
   "metadata": {
    "id": "2ea774d3-e12c-4c2b-846d-8c5c03e70928"
   },
   "source": [
    "**Dataset Basics**"
   ]
  },
  {
   "cell_type": "markdown",
   "id": "9f0b4817-5768-49d2-b5f2-907827541f16",
   "metadata": {
    "id": "9f0b4817-5768-49d2-b5f2-907827541f16"
   },
   "source": [
    "1- Show the shape of the training and test datasets."
   ]
  },
  {
   "cell_type": "code",
   "execution_count": 2,
   "outputs": [],
   "source": [
    "application_test = pd.read_csv('DataSets/application_test.csv')\n",
    "application_train = pd.read_csv('DataSets/application_train.csv')"
   ],
   "metadata": {
    "collapsed": false,
    "pycharm": {
     "name": "#%%\n"
    }
   }
  },
  {
   "cell_type": "code",
   "execution_count": 5,
   "id": "6a98fdd5-cbf2-4d20-9559-89c7cf5943cd",
   "metadata": {
    "id": "6a98fdd5-cbf2-4d20-9559-89c7cf5943cd"
   },
   "outputs": [
    {
     "name": "stdout",
     "output_type": "stream",
     "text": [
      "<class 'pandas.core.frame.DataFrame'>\n",
      "RangeIndex: 307511 entries, 0 to 307510\n",
      "Columns: 122 entries, SK_ID_CURR to AMT_REQ_CREDIT_BUREAU_YEAR\n",
      "dtypes: float64(65), int64(41), object(16)\n",
      "memory usage: 286.2+ MB\n",
      "None\n",
      "--------------------------\n",
      "<class 'pandas.core.frame.DataFrame'>\n",
      "RangeIndex: 48744 entries, 0 to 48743\n",
      "Columns: 121 entries, SK_ID_CURR to AMT_REQ_CREDIT_BUREAU_YEAR\n",
      "dtypes: float64(65), int64(40), object(16)\n",
      "memory usage: 45.0+ MB\n",
      "None\n"
     ]
    }
   ],
   "source": [
    "print(application_train.info())\n",
    "print('--------------------------')\n",
    "print(application_test.info())"
   ]
  },
  {
   "cell_type": "markdown",
   "id": "74e7a95b-8288-4ead-8c1e-f2cf68167d8e",
   "metadata": {
    "id": "74e7a95b-8288-4ead-8c1e-f2cf68167d8e"
   },
   "source": [
    "2- List all columns in the train dataset"
   ]
  },
  {
   "cell_type": "code",
   "execution_count": 6,
   "outputs": [
    {
     "name": "stdout",
     "output_type": "stream",
     "text": [
      "Missing column:  TARGET\n",
      "--------------------------------------------------------------------------------------\n",
      "['SK_ID_CURR', 'TARGET', 'NAME_CONTRACT_TYPE', 'CODE_GENDER', 'FLAG_OWN_CAR', 'FLAG_OWN_REALTY', 'CNT_CHILDREN', 'AMT_INCOME_TOTAL', 'AMT_CREDIT', 'AMT_ANNUITY', 'AMT_GOODS_PRICE', 'NAME_TYPE_SUITE', 'NAME_INCOME_TYPE', 'NAME_EDUCATION_TYPE', 'NAME_FAMILY_STATUS', 'NAME_HOUSING_TYPE', 'REGION_POPULATION_RELATIVE', 'DAYS_BIRTH', 'DAYS_EMPLOYED', 'DAYS_REGISTRATION', 'DAYS_ID_PUBLISH', 'OWN_CAR_AGE', 'FLAG_MOBIL', 'FLAG_EMP_PHONE', 'FLAG_WORK_PHONE', 'FLAG_CONT_MOBILE', 'FLAG_PHONE', 'FLAG_EMAIL', 'OCCUPATION_TYPE', 'CNT_FAM_MEMBERS', 'REGION_RATING_CLIENT', 'REGION_RATING_CLIENT_W_CITY', 'WEEKDAY_APPR_PROCESS_START', 'HOUR_APPR_PROCESS_START', 'REG_REGION_NOT_LIVE_REGION', 'REG_REGION_NOT_WORK_REGION', 'LIVE_REGION_NOT_WORK_REGION', 'REG_CITY_NOT_LIVE_CITY', 'REG_CITY_NOT_WORK_CITY', 'LIVE_CITY_NOT_WORK_CITY', 'ORGANIZATION_TYPE', 'EXT_SOURCE_1', 'EXT_SOURCE_2', 'EXT_SOURCE_3', 'APARTMENTS_AVG', 'BASEMENTAREA_AVG', 'YEARS_BEGINEXPLUATATION_AVG', 'YEARS_BUILD_AVG', 'COMMONAREA_AVG', 'ELEVATORS_AVG', 'ENTRANCES_AVG', 'FLOORSMAX_AVG', 'FLOORSMIN_AVG', 'LANDAREA_AVG', 'LIVINGAPARTMENTS_AVG', 'LIVINGAREA_AVG', 'NONLIVINGAPARTMENTS_AVG', 'NONLIVINGAREA_AVG', 'APARTMENTS_MODE', 'BASEMENTAREA_MODE', 'YEARS_BEGINEXPLUATATION_MODE', 'YEARS_BUILD_MODE', 'COMMONAREA_MODE', 'ELEVATORS_MODE', 'ENTRANCES_MODE', 'FLOORSMAX_MODE', 'FLOORSMIN_MODE', 'LANDAREA_MODE', 'LIVINGAPARTMENTS_MODE', 'LIVINGAREA_MODE', 'NONLIVINGAPARTMENTS_MODE', 'NONLIVINGAREA_MODE', 'APARTMENTS_MEDI', 'BASEMENTAREA_MEDI', 'YEARS_BEGINEXPLUATATION_MEDI', 'YEARS_BUILD_MEDI', 'COMMONAREA_MEDI', 'ELEVATORS_MEDI', 'ENTRANCES_MEDI', 'FLOORSMAX_MEDI', 'FLOORSMIN_MEDI', 'LANDAREA_MEDI', 'LIVINGAPARTMENTS_MEDI', 'LIVINGAREA_MEDI', 'NONLIVINGAPARTMENTS_MEDI', 'NONLIVINGAREA_MEDI', 'FONDKAPREMONT_MODE', 'HOUSETYPE_MODE', 'TOTALAREA_MODE', 'WALLSMATERIAL_MODE', 'EMERGENCYSTATE_MODE', 'OBS_30_CNT_SOCIAL_CIRCLE', 'DEF_30_CNT_SOCIAL_CIRCLE', 'OBS_60_CNT_SOCIAL_CIRCLE', 'DEF_60_CNT_SOCIAL_CIRCLE', 'DAYS_LAST_PHONE_CHANGE', 'FLAG_DOCUMENT_2', 'FLAG_DOCUMENT_3', 'FLAG_DOCUMENT_4', 'FLAG_DOCUMENT_5', 'FLAG_DOCUMENT_6', 'FLAG_DOCUMENT_7', 'FLAG_DOCUMENT_8', 'FLAG_DOCUMENT_9', 'FLAG_DOCUMENT_10', 'FLAG_DOCUMENT_11', 'FLAG_DOCUMENT_12', 'FLAG_DOCUMENT_13', 'FLAG_DOCUMENT_14', 'FLAG_DOCUMENT_15', 'FLAG_DOCUMENT_16', 'FLAG_DOCUMENT_17', 'FLAG_DOCUMENT_18', 'FLAG_DOCUMENT_19', 'FLAG_DOCUMENT_20', 'FLAG_DOCUMENT_21', 'AMT_REQ_CREDIT_BUREAU_HOUR', 'AMT_REQ_CREDIT_BUREAU_DAY', 'AMT_REQ_CREDIT_BUREAU_WEEK', 'AMT_REQ_CREDIT_BUREAU_MON', 'AMT_REQ_CREDIT_BUREAU_QRT', 'AMT_REQ_CREDIT_BUREAU_YEAR']\n"
     ]
    }
   ],
   "source": [
    "for column in application_train:\n",
    "    if column not in application_test.columns:\n",
    "        print(f\"Missing column: \", column)\n",
    "print('--------------------------------------------------------------------------------------')\n",
    "print(list(application_train.columns))"
   ],
   "metadata": {
    "collapsed": false,
    "pycharm": {
     "name": "#%%\n"
    }
   }
  },
  {
   "cell_type": "markdown",
   "id": "2dc4835f-90c3-4049-9ec2-44d102201104",
   "metadata": {
    "id": "2dc4835f-90c3-4049-9ec2-44d102201104"
   },
   "source": [
    "3- Show the first 5 records of the training dataset, transpose the dataframe to see each record as a column and features as rows, make sure all features are visualized. Take your time to review what kind of information you can gather from this data."
   ]
  },
  {
   "cell_type": "code",
   "execution_count": 7,
   "id": "ac9c85b3-52e0-4b80-9753-afb81f92bd0d",
   "metadata": {
    "id": "ac9c85b3-52e0-4b80-9753-afb81f92bd0d"
   },
   "outputs": [
    {
     "data": {
      "text/plain": "                                                          0  \\\nSK_ID_CURR                                           100002   \nTARGET                                                    1   \nNAME_CONTRACT_TYPE                               Cash loans   \nCODE_GENDER                                               M   \nFLAG_OWN_CAR                                              N   \nFLAG_OWN_REALTY                                           Y   \nCNT_CHILDREN                                              0   \nAMT_INCOME_TOTAL                                   202500.0   \nAMT_CREDIT                                         406597.5   \nAMT_ANNUITY                                         24700.5   \nAMT_GOODS_PRICE                                    351000.0   \nNAME_TYPE_SUITE                               Unaccompanied   \nNAME_INCOME_TYPE                                    Working   \nNAME_EDUCATION_TYPE           Secondary / secondary special   \nNAME_FAMILY_STATUS                     Single / not married   \nNAME_HOUSING_TYPE                         House / apartment   \nREGION_POPULATION_RELATIVE                         0.018801   \nDAYS_BIRTH                                            -9461   \nDAYS_EMPLOYED                                          -637   \nDAYS_REGISTRATION                                   -3648.0   \nDAYS_ID_PUBLISH                                       -2120   \nOWN_CAR_AGE                                             NaN   \nFLAG_MOBIL                                                1   \nFLAG_EMP_PHONE                                            1   \nFLAG_WORK_PHONE                                           0   \nFLAG_CONT_MOBILE                                          1   \nFLAG_PHONE                                                1   \nFLAG_EMAIL                                                0   \nOCCUPATION_TYPE                                    Laborers   \nCNT_FAM_MEMBERS                                         1.0   \nREGION_RATING_CLIENT                                      2   \nREGION_RATING_CLIENT_W_CITY                               2   \nWEEKDAY_APPR_PROCESS_START                        WEDNESDAY   \nHOUR_APPR_PROCESS_START                                  10   \nREG_REGION_NOT_LIVE_REGION                                0   \nREG_REGION_NOT_WORK_REGION                                0   \nLIVE_REGION_NOT_WORK_REGION                               0   \nREG_CITY_NOT_LIVE_CITY                                    0   \nREG_CITY_NOT_WORK_CITY                                    0   \nLIVE_CITY_NOT_WORK_CITY                                   0   \nORGANIZATION_TYPE                    Business Entity Type 3   \nEXT_SOURCE_1                                       0.083037   \nEXT_SOURCE_2                                       0.262949   \nEXT_SOURCE_3                                       0.139376   \nAPARTMENTS_AVG                                       0.0247   \nBASEMENTAREA_AVG                                     0.0369   \nYEARS_BEGINEXPLUATATION_AVG                          0.9722   \nYEARS_BUILD_AVG                                      0.6192   \nCOMMONAREA_AVG                                       0.0143   \nELEVATORS_AVG                                           0.0   \nENTRANCES_AVG                                         0.069   \nFLOORSMAX_AVG                                        0.0833   \nFLOORSMIN_AVG                                         0.125   \nLANDAREA_AVG                                         0.0369   \nLIVINGAPARTMENTS_AVG                                 0.0202   \nLIVINGAREA_AVG                                        0.019   \nNONLIVINGAPARTMENTS_AVG                                 0.0   \nNONLIVINGAREA_AVG                                       0.0   \nAPARTMENTS_MODE                                      0.0252   \nBASEMENTAREA_MODE                                    0.0383   \nYEARS_BEGINEXPLUATATION_MODE                         0.9722   \nYEARS_BUILD_MODE                                     0.6341   \nCOMMONAREA_MODE                                      0.0144   \nELEVATORS_MODE                                          0.0   \nENTRANCES_MODE                                        0.069   \nFLOORSMAX_MODE                                       0.0833   \nFLOORSMIN_MODE                                        0.125   \nLANDAREA_MODE                                        0.0377   \nLIVINGAPARTMENTS_MODE                                 0.022   \nLIVINGAREA_MODE                                      0.0198   \nNONLIVINGAPARTMENTS_MODE                                0.0   \nNONLIVINGAREA_MODE                                      0.0   \nAPARTMENTS_MEDI                                       0.025   \nBASEMENTAREA_MEDI                                    0.0369   \nYEARS_BEGINEXPLUATATION_MEDI                         0.9722   \nYEARS_BUILD_MEDI                                     0.6243   \nCOMMONAREA_MEDI                                      0.0144   \nELEVATORS_MEDI                                          0.0   \nENTRANCES_MEDI                                        0.069   \nFLOORSMAX_MEDI                                       0.0833   \nFLOORSMIN_MEDI                                        0.125   \nLANDAREA_MEDI                                        0.0375   \nLIVINGAPARTMENTS_MEDI                                0.0205   \nLIVINGAREA_MEDI                                      0.0193   \nNONLIVINGAPARTMENTS_MEDI                                0.0   \nNONLIVINGAREA_MEDI                                      0.0   \nFONDKAPREMONT_MODE                         reg oper account   \nHOUSETYPE_MODE                               block of flats   \nTOTALAREA_MODE                                       0.0149   \nWALLSMATERIAL_MODE                             Stone, brick   \nEMERGENCYSTATE_MODE                                      No   \nOBS_30_CNT_SOCIAL_CIRCLE                                2.0   \nDEF_30_CNT_SOCIAL_CIRCLE                                2.0   \nOBS_60_CNT_SOCIAL_CIRCLE                                2.0   \nDEF_60_CNT_SOCIAL_CIRCLE                                2.0   \nDAYS_LAST_PHONE_CHANGE                              -1134.0   \nFLAG_DOCUMENT_2                                           0   \nFLAG_DOCUMENT_3                                           1   \nFLAG_DOCUMENT_4                                           0   \nFLAG_DOCUMENT_5                                           0   \nFLAG_DOCUMENT_6                                           0   \nFLAG_DOCUMENT_7                                           0   \nFLAG_DOCUMENT_8                                           0   \nFLAG_DOCUMENT_9                                           0   \nFLAG_DOCUMENT_10                                          0   \nFLAG_DOCUMENT_11                                          0   \nFLAG_DOCUMENT_12                                          0   \nFLAG_DOCUMENT_13                                          0   \nFLAG_DOCUMENT_14                                          0   \nFLAG_DOCUMENT_15                                          0   \nFLAG_DOCUMENT_16                                          0   \nFLAG_DOCUMENT_17                                          0   \nFLAG_DOCUMENT_18                                          0   \nFLAG_DOCUMENT_19                                          0   \nFLAG_DOCUMENT_20                                          0   \nFLAG_DOCUMENT_21                                          0   \nAMT_REQ_CREDIT_BUREAU_HOUR                              0.0   \nAMT_REQ_CREDIT_BUREAU_DAY                               0.0   \nAMT_REQ_CREDIT_BUREAU_WEEK                              0.0   \nAMT_REQ_CREDIT_BUREAU_MON                               0.0   \nAMT_REQ_CREDIT_BUREAU_QRT                               0.0   \nAMT_REQ_CREDIT_BUREAU_YEAR                              1.0   \n\n                                              1  \\\nSK_ID_CURR                               100003   \nTARGET                                        0   \nNAME_CONTRACT_TYPE                   Cash loans   \nCODE_GENDER                                   F   \nFLAG_OWN_CAR                                  N   \nFLAG_OWN_REALTY                               N   \nCNT_CHILDREN                                  0   \nAMT_INCOME_TOTAL                       270000.0   \nAMT_CREDIT                            1293502.5   \nAMT_ANNUITY                             35698.5   \nAMT_GOODS_PRICE                       1129500.0   \nNAME_TYPE_SUITE                          Family   \nNAME_INCOME_TYPE                  State servant   \nNAME_EDUCATION_TYPE            Higher education   \nNAME_FAMILY_STATUS                      Married   \nNAME_HOUSING_TYPE             House / apartment   \nREGION_POPULATION_RELATIVE             0.003541   \nDAYS_BIRTH                               -16765   \nDAYS_EMPLOYED                             -1188   \nDAYS_REGISTRATION                       -1186.0   \nDAYS_ID_PUBLISH                            -291   \nOWN_CAR_AGE                                 NaN   \nFLAG_MOBIL                                    1   \nFLAG_EMP_PHONE                                1   \nFLAG_WORK_PHONE                               0   \nFLAG_CONT_MOBILE                              1   \nFLAG_PHONE                                    1   \nFLAG_EMAIL                                    0   \nOCCUPATION_TYPE                      Core staff   \nCNT_FAM_MEMBERS                             2.0   \nREGION_RATING_CLIENT                          1   \nREGION_RATING_CLIENT_W_CITY                   1   \nWEEKDAY_APPR_PROCESS_START               MONDAY   \nHOUR_APPR_PROCESS_START                      11   \nREG_REGION_NOT_LIVE_REGION                    0   \nREG_REGION_NOT_WORK_REGION                    0   \nLIVE_REGION_NOT_WORK_REGION                   0   \nREG_CITY_NOT_LIVE_CITY                        0   \nREG_CITY_NOT_WORK_CITY                        0   \nLIVE_CITY_NOT_WORK_CITY                       0   \nORGANIZATION_TYPE                        School   \nEXT_SOURCE_1                           0.311267   \nEXT_SOURCE_2                           0.622246   \nEXT_SOURCE_3                                NaN   \nAPARTMENTS_AVG                           0.0959   \nBASEMENTAREA_AVG                         0.0529   \nYEARS_BEGINEXPLUATATION_AVG              0.9851   \nYEARS_BUILD_AVG                           0.796   \nCOMMONAREA_AVG                           0.0605   \nELEVATORS_AVG                              0.08   \nENTRANCES_AVG                            0.0345   \nFLOORSMAX_AVG                            0.2917   \nFLOORSMIN_AVG                            0.3333   \nLANDAREA_AVG                              0.013   \nLIVINGAPARTMENTS_AVG                     0.0773   \nLIVINGAREA_AVG                           0.0549   \nNONLIVINGAPARTMENTS_AVG                  0.0039   \nNONLIVINGAREA_AVG                        0.0098   \nAPARTMENTS_MODE                          0.0924   \nBASEMENTAREA_MODE                        0.0538   \nYEARS_BEGINEXPLUATATION_MODE             0.9851   \nYEARS_BUILD_MODE                          0.804   \nCOMMONAREA_MODE                          0.0497   \nELEVATORS_MODE                           0.0806   \nENTRANCES_MODE                           0.0345   \nFLOORSMAX_MODE                           0.2917   \nFLOORSMIN_MODE                           0.3333   \nLANDAREA_MODE                            0.0128   \nLIVINGAPARTMENTS_MODE                     0.079   \nLIVINGAREA_MODE                          0.0554   \nNONLIVINGAPARTMENTS_MODE                    0.0   \nNONLIVINGAREA_MODE                          0.0   \nAPARTMENTS_MEDI                          0.0968   \nBASEMENTAREA_MEDI                        0.0529   \nYEARS_BEGINEXPLUATATION_MEDI             0.9851   \nYEARS_BUILD_MEDI                         0.7987   \nCOMMONAREA_MEDI                          0.0608   \nELEVATORS_MEDI                             0.08   \nENTRANCES_MEDI                           0.0345   \nFLOORSMAX_MEDI                           0.2917   \nFLOORSMIN_MEDI                           0.3333   \nLANDAREA_MEDI                            0.0132   \nLIVINGAPARTMENTS_MEDI                    0.0787   \nLIVINGAREA_MEDI                          0.0558   \nNONLIVINGAPARTMENTS_MEDI                 0.0039   \nNONLIVINGAREA_MEDI                         0.01   \nFONDKAPREMONT_MODE             reg oper account   \nHOUSETYPE_MODE                   block of flats   \nTOTALAREA_MODE                           0.0714   \nWALLSMATERIAL_MODE                        Block   \nEMERGENCYSTATE_MODE                          No   \nOBS_30_CNT_SOCIAL_CIRCLE                    1.0   \nDEF_30_CNT_SOCIAL_CIRCLE                    0.0   \nOBS_60_CNT_SOCIAL_CIRCLE                    1.0   \nDEF_60_CNT_SOCIAL_CIRCLE                    0.0   \nDAYS_LAST_PHONE_CHANGE                   -828.0   \nFLAG_DOCUMENT_2                               0   \nFLAG_DOCUMENT_3                               1   \nFLAG_DOCUMENT_4                               0   \nFLAG_DOCUMENT_5                               0   \nFLAG_DOCUMENT_6                               0   \nFLAG_DOCUMENT_7                               0   \nFLAG_DOCUMENT_8                               0   \nFLAG_DOCUMENT_9                               0   \nFLAG_DOCUMENT_10                              0   \nFLAG_DOCUMENT_11                              0   \nFLAG_DOCUMENT_12                              0   \nFLAG_DOCUMENT_13                              0   \nFLAG_DOCUMENT_14                              0   \nFLAG_DOCUMENT_15                              0   \nFLAG_DOCUMENT_16                              0   \nFLAG_DOCUMENT_17                              0   \nFLAG_DOCUMENT_18                              0   \nFLAG_DOCUMENT_19                              0   \nFLAG_DOCUMENT_20                              0   \nFLAG_DOCUMENT_21                              0   \nAMT_REQ_CREDIT_BUREAU_HOUR                  0.0   \nAMT_REQ_CREDIT_BUREAU_DAY                   0.0   \nAMT_REQ_CREDIT_BUREAU_WEEK                  0.0   \nAMT_REQ_CREDIT_BUREAU_MON                   0.0   \nAMT_REQ_CREDIT_BUREAU_QRT                   0.0   \nAMT_REQ_CREDIT_BUREAU_YEAR                  0.0   \n\n                                                          2  \\\nSK_ID_CURR                                           100004   \nTARGET                                                    0   \nNAME_CONTRACT_TYPE                          Revolving loans   \nCODE_GENDER                                               M   \nFLAG_OWN_CAR                                              Y   \nFLAG_OWN_REALTY                                           Y   \nCNT_CHILDREN                                              0   \nAMT_INCOME_TOTAL                                    67500.0   \nAMT_CREDIT                                         135000.0   \nAMT_ANNUITY                                          6750.0   \nAMT_GOODS_PRICE                                    135000.0   \nNAME_TYPE_SUITE                               Unaccompanied   \nNAME_INCOME_TYPE                                    Working   \nNAME_EDUCATION_TYPE           Secondary / secondary special   \nNAME_FAMILY_STATUS                     Single / not married   \nNAME_HOUSING_TYPE                         House / apartment   \nREGION_POPULATION_RELATIVE                         0.010032   \nDAYS_BIRTH                                           -19046   \nDAYS_EMPLOYED                                          -225   \nDAYS_REGISTRATION                                   -4260.0   \nDAYS_ID_PUBLISH                                       -2531   \nOWN_CAR_AGE                                            26.0   \nFLAG_MOBIL                                                1   \nFLAG_EMP_PHONE                                            1   \nFLAG_WORK_PHONE                                           1   \nFLAG_CONT_MOBILE                                          1   \nFLAG_PHONE                                                1   \nFLAG_EMAIL                                                0   \nOCCUPATION_TYPE                                    Laborers   \nCNT_FAM_MEMBERS                                         1.0   \nREGION_RATING_CLIENT                                      2   \nREGION_RATING_CLIENT_W_CITY                               2   \nWEEKDAY_APPR_PROCESS_START                           MONDAY   \nHOUR_APPR_PROCESS_START                                   9   \nREG_REGION_NOT_LIVE_REGION                                0   \nREG_REGION_NOT_WORK_REGION                                0   \nLIVE_REGION_NOT_WORK_REGION                               0   \nREG_CITY_NOT_LIVE_CITY                                    0   \nREG_CITY_NOT_WORK_CITY                                    0   \nLIVE_CITY_NOT_WORK_CITY                                   0   \nORGANIZATION_TYPE                                Government   \nEXT_SOURCE_1                                            NaN   \nEXT_SOURCE_2                                       0.555912   \nEXT_SOURCE_3                                       0.729567   \nAPARTMENTS_AVG                                          NaN   \nBASEMENTAREA_AVG                                        NaN   \nYEARS_BEGINEXPLUATATION_AVG                             NaN   \nYEARS_BUILD_AVG                                         NaN   \nCOMMONAREA_AVG                                          NaN   \nELEVATORS_AVG                                           NaN   \nENTRANCES_AVG                                           NaN   \nFLOORSMAX_AVG                                           NaN   \nFLOORSMIN_AVG                                           NaN   \nLANDAREA_AVG                                            NaN   \nLIVINGAPARTMENTS_AVG                                    NaN   \nLIVINGAREA_AVG                                          NaN   \nNONLIVINGAPARTMENTS_AVG                                 NaN   \nNONLIVINGAREA_AVG                                       NaN   \nAPARTMENTS_MODE                                         NaN   \nBASEMENTAREA_MODE                                       NaN   \nYEARS_BEGINEXPLUATATION_MODE                            NaN   \nYEARS_BUILD_MODE                                        NaN   \nCOMMONAREA_MODE                                         NaN   \nELEVATORS_MODE                                          NaN   \nENTRANCES_MODE                                          NaN   \nFLOORSMAX_MODE                                          NaN   \nFLOORSMIN_MODE                                          NaN   \nLANDAREA_MODE                                           NaN   \nLIVINGAPARTMENTS_MODE                                   NaN   \nLIVINGAREA_MODE                                         NaN   \nNONLIVINGAPARTMENTS_MODE                                NaN   \nNONLIVINGAREA_MODE                                      NaN   \nAPARTMENTS_MEDI                                         NaN   \nBASEMENTAREA_MEDI                                       NaN   \nYEARS_BEGINEXPLUATATION_MEDI                            NaN   \nYEARS_BUILD_MEDI                                        NaN   \nCOMMONAREA_MEDI                                         NaN   \nELEVATORS_MEDI                                          NaN   \nENTRANCES_MEDI                                          NaN   \nFLOORSMAX_MEDI                                          NaN   \nFLOORSMIN_MEDI                                          NaN   \nLANDAREA_MEDI                                           NaN   \nLIVINGAPARTMENTS_MEDI                                   NaN   \nLIVINGAREA_MEDI                                         NaN   \nNONLIVINGAPARTMENTS_MEDI                                NaN   \nNONLIVINGAREA_MEDI                                      NaN   \nFONDKAPREMONT_MODE                                      NaN   \nHOUSETYPE_MODE                                          NaN   \nTOTALAREA_MODE                                          NaN   \nWALLSMATERIAL_MODE                                      NaN   \nEMERGENCYSTATE_MODE                                     NaN   \nOBS_30_CNT_SOCIAL_CIRCLE                                0.0   \nDEF_30_CNT_SOCIAL_CIRCLE                                0.0   \nOBS_60_CNT_SOCIAL_CIRCLE                                0.0   \nDEF_60_CNT_SOCIAL_CIRCLE                                0.0   \nDAYS_LAST_PHONE_CHANGE                               -815.0   \nFLAG_DOCUMENT_2                                           0   \nFLAG_DOCUMENT_3                                           0   \nFLAG_DOCUMENT_4                                           0   \nFLAG_DOCUMENT_5                                           0   \nFLAG_DOCUMENT_6                                           0   \nFLAG_DOCUMENT_7                                           0   \nFLAG_DOCUMENT_8                                           0   \nFLAG_DOCUMENT_9                                           0   \nFLAG_DOCUMENT_10                                          0   \nFLAG_DOCUMENT_11                                          0   \nFLAG_DOCUMENT_12                                          0   \nFLAG_DOCUMENT_13                                          0   \nFLAG_DOCUMENT_14                                          0   \nFLAG_DOCUMENT_15                                          0   \nFLAG_DOCUMENT_16                                          0   \nFLAG_DOCUMENT_17                                          0   \nFLAG_DOCUMENT_18                                          0   \nFLAG_DOCUMENT_19                                          0   \nFLAG_DOCUMENT_20                                          0   \nFLAG_DOCUMENT_21                                          0   \nAMT_REQ_CREDIT_BUREAU_HOUR                              0.0   \nAMT_REQ_CREDIT_BUREAU_DAY                               0.0   \nAMT_REQ_CREDIT_BUREAU_WEEK                              0.0   \nAMT_REQ_CREDIT_BUREAU_MON                               0.0   \nAMT_REQ_CREDIT_BUREAU_QRT                               0.0   \nAMT_REQ_CREDIT_BUREAU_YEAR                              0.0   \n\n                                                          3  \\\nSK_ID_CURR                                           100006   \nTARGET                                                    0   \nNAME_CONTRACT_TYPE                               Cash loans   \nCODE_GENDER                                               F   \nFLAG_OWN_CAR                                              N   \nFLAG_OWN_REALTY                                           Y   \nCNT_CHILDREN                                              0   \nAMT_INCOME_TOTAL                                   135000.0   \nAMT_CREDIT                                         312682.5   \nAMT_ANNUITY                                         29686.5   \nAMT_GOODS_PRICE                                    297000.0   \nNAME_TYPE_SUITE                               Unaccompanied   \nNAME_INCOME_TYPE                                    Working   \nNAME_EDUCATION_TYPE           Secondary / secondary special   \nNAME_FAMILY_STATUS                           Civil marriage   \nNAME_HOUSING_TYPE                         House / apartment   \nREGION_POPULATION_RELATIVE                         0.008019   \nDAYS_BIRTH                                           -19005   \nDAYS_EMPLOYED                                         -3039   \nDAYS_REGISTRATION                                   -9833.0   \nDAYS_ID_PUBLISH                                       -2437   \nOWN_CAR_AGE                                             NaN   \nFLAG_MOBIL                                                1   \nFLAG_EMP_PHONE                                            1   \nFLAG_WORK_PHONE                                           0   \nFLAG_CONT_MOBILE                                          1   \nFLAG_PHONE                                                0   \nFLAG_EMAIL                                                0   \nOCCUPATION_TYPE                                    Laborers   \nCNT_FAM_MEMBERS                                         2.0   \nREGION_RATING_CLIENT                                      2   \nREGION_RATING_CLIENT_W_CITY                               2   \nWEEKDAY_APPR_PROCESS_START                        WEDNESDAY   \nHOUR_APPR_PROCESS_START                                  17   \nREG_REGION_NOT_LIVE_REGION                                0   \nREG_REGION_NOT_WORK_REGION                                0   \nLIVE_REGION_NOT_WORK_REGION                               0   \nREG_CITY_NOT_LIVE_CITY                                    0   \nREG_CITY_NOT_WORK_CITY                                    0   \nLIVE_CITY_NOT_WORK_CITY                                   0   \nORGANIZATION_TYPE                    Business Entity Type 3   \nEXT_SOURCE_1                                            NaN   \nEXT_SOURCE_2                                       0.650442   \nEXT_SOURCE_3                                            NaN   \nAPARTMENTS_AVG                                          NaN   \nBASEMENTAREA_AVG                                        NaN   \nYEARS_BEGINEXPLUATATION_AVG                             NaN   \nYEARS_BUILD_AVG                                         NaN   \nCOMMONAREA_AVG                                          NaN   \nELEVATORS_AVG                                           NaN   \nENTRANCES_AVG                                           NaN   \nFLOORSMAX_AVG                                           NaN   \nFLOORSMIN_AVG                                           NaN   \nLANDAREA_AVG                                            NaN   \nLIVINGAPARTMENTS_AVG                                    NaN   \nLIVINGAREA_AVG                                          NaN   \nNONLIVINGAPARTMENTS_AVG                                 NaN   \nNONLIVINGAREA_AVG                                       NaN   \nAPARTMENTS_MODE                                         NaN   \nBASEMENTAREA_MODE                                       NaN   \nYEARS_BEGINEXPLUATATION_MODE                            NaN   \nYEARS_BUILD_MODE                                        NaN   \nCOMMONAREA_MODE                                         NaN   \nELEVATORS_MODE                                          NaN   \nENTRANCES_MODE                                          NaN   \nFLOORSMAX_MODE                                          NaN   \nFLOORSMIN_MODE                                          NaN   \nLANDAREA_MODE                                           NaN   \nLIVINGAPARTMENTS_MODE                                   NaN   \nLIVINGAREA_MODE                                         NaN   \nNONLIVINGAPARTMENTS_MODE                                NaN   \nNONLIVINGAREA_MODE                                      NaN   \nAPARTMENTS_MEDI                                         NaN   \nBASEMENTAREA_MEDI                                       NaN   \nYEARS_BEGINEXPLUATATION_MEDI                            NaN   \nYEARS_BUILD_MEDI                                        NaN   \nCOMMONAREA_MEDI                                         NaN   \nELEVATORS_MEDI                                          NaN   \nENTRANCES_MEDI                                          NaN   \nFLOORSMAX_MEDI                                          NaN   \nFLOORSMIN_MEDI                                          NaN   \nLANDAREA_MEDI                                           NaN   \nLIVINGAPARTMENTS_MEDI                                   NaN   \nLIVINGAREA_MEDI                                         NaN   \nNONLIVINGAPARTMENTS_MEDI                                NaN   \nNONLIVINGAREA_MEDI                                      NaN   \nFONDKAPREMONT_MODE                                      NaN   \nHOUSETYPE_MODE                                          NaN   \nTOTALAREA_MODE                                          NaN   \nWALLSMATERIAL_MODE                                      NaN   \nEMERGENCYSTATE_MODE                                     NaN   \nOBS_30_CNT_SOCIAL_CIRCLE                                2.0   \nDEF_30_CNT_SOCIAL_CIRCLE                                0.0   \nOBS_60_CNT_SOCIAL_CIRCLE                                2.0   \nDEF_60_CNT_SOCIAL_CIRCLE                                0.0   \nDAYS_LAST_PHONE_CHANGE                               -617.0   \nFLAG_DOCUMENT_2                                           0   \nFLAG_DOCUMENT_3                                           1   \nFLAG_DOCUMENT_4                                           0   \nFLAG_DOCUMENT_5                                           0   \nFLAG_DOCUMENT_6                                           0   \nFLAG_DOCUMENT_7                                           0   \nFLAG_DOCUMENT_8                                           0   \nFLAG_DOCUMENT_9                                           0   \nFLAG_DOCUMENT_10                                          0   \nFLAG_DOCUMENT_11                                          0   \nFLAG_DOCUMENT_12                                          0   \nFLAG_DOCUMENT_13                                          0   \nFLAG_DOCUMENT_14                                          0   \nFLAG_DOCUMENT_15                                          0   \nFLAG_DOCUMENT_16                                          0   \nFLAG_DOCUMENT_17                                          0   \nFLAG_DOCUMENT_18                                          0   \nFLAG_DOCUMENT_19                                          0   \nFLAG_DOCUMENT_20                                          0   \nFLAG_DOCUMENT_21                                          0   \nAMT_REQ_CREDIT_BUREAU_HOUR                              NaN   \nAMT_REQ_CREDIT_BUREAU_DAY                               NaN   \nAMT_REQ_CREDIT_BUREAU_WEEK                              NaN   \nAMT_REQ_CREDIT_BUREAU_MON                               NaN   \nAMT_REQ_CREDIT_BUREAU_QRT                               NaN   \nAMT_REQ_CREDIT_BUREAU_YEAR                              NaN   \n\n                                                          4  \nSK_ID_CURR                                           100007  \nTARGET                                                    0  \nNAME_CONTRACT_TYPE                               Cash loans  \nCODE_GENDER                                               M  \nFLAG_OWN_CAR                                              N  \nFLAG_OWN_REALTY                                           Y  \nCNT_CHILDREN                                              0  \nAMT_INCOME_TOTAL                                   121500.0  \nAMT_CREDIT                                         513000.0  \nAMT_ANNUITY                                         21865.5  \nAMT_GOODS_PRICE                                    513000.0  \nNAME_TYPE_SUITE                               Unaccompanied  \nNAME_INCOME_TYPE                                    Working  \nNAME_EDUCATION_TYPE           Secondary / secondary special  \nNAME_FAMILY_STATUS                     Single / not married  \nNAME_HOUSING_TYPE                         House / apartment  \nREGION_POPULATION_RELATIVE                         0.028663  \nDAYS_BIRTH                                           -19932  \nDAYS_EMPLOYED                                         -3038  \nDAYS_REGISTRATION                                   -4311.0  \nDAYS_ID_PUBLISH                                       -3458  \nOWN_CAR_AGE                                             NaN  \nFLAG_MOBIL                                                1  \nFLAG_EMP_PHONE                                            1  \nFLAG_WORK_PHONE                                           0  \nFLAG_CONT_MOBILE                                          1  \nFLAG_PHONE                                                0  \nFLAG_EMAIL                                                0  \nOCCUPATION_TYPE                                  Core staff  \nCNT_FAM_MEMBERS                                         1.0  \nREGION_RATING_CLIENT                                      2  \nREGION_RATING_CLIENT_W_CITY                               2  \nWEEKDAY_APPR_PROCESS_START                         THURSDAY  \nHOUR_APPR_PROCESS_START                                  11  \nREG_REGION_NOT_LIVE_REGION                                0  \nREG_REGION_NOT_WORK_REGION                                0  \nLIVE_REGION_NOT_WORK_REGION                               0  \nREG_CITY_NOT_LIVE_CITY                                    0  \nREG_CITY_NOT_WORK_CITY                                    1  \nLIVE_CITY_NOT_WORK_CITY                                   1  \nORGANIZATION_TYPE                                  Religion  \nEXT_SOURCE_1                                            NaN  \nEXT_SOURCE_2                                       0.322738  \nEXT_SOURCE_3                                            NaN  \nAPARTMENTS_AVG                                          NaN  \nBASEMENTAREA_AVG                                        NaN  \nYEARS_BEGINEXPLUATATION_AVG                             NaN  \nYEARS_BUILD_AVG                                         NaN  \nCOMMONAREA_AVG                                          NaN  \nELEVATORS_AVG                                           NaN  \nENTRANCES_AVG                                           NaN  \nFLOORSMAX_AVG                                           NaN  \nFLOORSMIN_AVG                                           NaN  \nLANDAREA_AVG                                            NaN  \nLIVINGAPARTMENTS_AVG                                    NaN  \nLIVINGAREA_AVG                                          NaN  \nNONLIVINGAPARTMENTS_AVG                                 NaN  \nNONLIVINGAREA_AVG                                       NaN  \nAPARTMENTS_MODE                                         NaN  \nBASEMENTAREA_MODE                                       NaN  \nYEARS_BEGINEXPLUATATION_MODE                            NaN  \nYEARS_BUILD_MODE                                        NaN  \nCOMMONAREA_MODE                                         NaN  \nELEVATORS_MODE                                          NaN  \nENTRANCES_MODE                                          NaN  \nFLOORSMAX_MODE                                          NaN  \nFLOORSMIN_MODE                                          NaN  \nLANDAREA_MODE                                           NaN  \nLIVINGAPARTMENTS_MODE                                   NaN  \nLIVINGAREA_MODE                                         NaN  \nNONLIVINGAPARTMENTS_MODE                                NaN  \nNONLIVINGAREA_MODE                                      NaN  \nAPARTMENTS_MEDI                                         NaN  \nBASEMENTAREA_MEDI                                       NaN  \nYEARS_BEGINEXPLUATATION_MEDI                            NaN  \nYEARS_BUILD_MEDI                                        NaN  \nCOMMONAREA_MEDI                                         NaN  \nELEVATORS_MEDI                                          NaN  \nENTRANCES_MEDI                                          NaN  \nFLOORSMAX_MEDI                                          NaN  \nFLOORSMIN_MEDI                                          NaN  \nLANDAREA_MEDI                                           NaN  \nLIVINGAPARTMENTS_MEDI                                   NaN  \nLIVINGAREA_MEDI                                         NaN  \nNONLIVINGAPARTMENTS_MEDI                                NaN  \nNONLIVINGAREA_MEDI                                      NaN  \nFONDKAPREMONT_MODE                                      NaN  \nHOUSETYPE_MODE                                          NaN  \nTOTALAREA_MODE                                          NaN  \nWALLSMATERIAL_MODE                                      NaN  \nEMERGENCYSTATE_MODE                                     NaN  \nOBS_30_CNT_SOCIAL_CIRCLE                                0.0  \nDEF_30_CNT_SOCIAL_CIRCLE                                0.0  \nOBS_60_CNT_SOCIAL_CIRCLE                                0.0  \nDEF_60_CNT_SOCIAL_CIRCLE                                0.0  \nDAYS_LAST_PHONE_CHANGE                              -1106.0  \nFLAG_DOCUMENT_2                                           0  \nFLAG_DOCUMENT_3                                           0  \nFLAG_DOCUMENT_4                                           0  \nFLAG_DOCUMENT_5                                           0  \nFLAG_DOCUMENT_6                                           0  \nFLAG_DOCUMENT_7                                           0  \nFLAG_DOCUMENT_8                                           1  \nFLAG_DOCUMENT_9                                           0  \nFLAG_DOCUMENT_10                                          0  \nFLAG_DOCUMENT_11                                          0  \nFLAG_DOCUMENT_12                                          0  \nFLAG_DOCUMENT_13                                          0  \nFLAG_DOCUMENT_14                                          0  \nFLAG_DOCUMENT_15                                          0  \nFLAG_DOCUMENT_16                                          0  \nFLAG_DOCUMENT_17                                          0  \nFLAG_DOCUMENT_18                                          0  \nFLAG_DOCUMENT_19                                          0  \nFLAG_DOCUMENT_20                                          0  \nFLAG_DOCUMENT_21                                          0  \nAMT_REQ_CREDIT_BUREAU_HOUR                              0.0  \nAMT_REQ_CREDIT_BUREAU_DAY                               0.0  \nAMT_REQ_CREDIT_BUREAU_WEEK                              0.0  \nAMT_REQ_CREDIT_BUREAU_MON                               0.0  \nAMT_REQ_CREDIT_BUREAU_QRT                               0.0  \nAMT_REQ_CREDIT_BUREAU_YEAR                              0.0  ",
      "text/html": "<div>\n<style scoped>\n    .dataframe tbody tr th:only-of-type {\n        vertical-align: middle;\n    }\n\n    .dataframe tbody tr th {\n        vertical-align: top;\n    }\n\n    .dataframe thead th {\n        text-align: right;\n    }\n</style>\n<table border=\"1\" class=\"dataframe\">\n  <thead>\n    <tr style=\"text-align: right;\">\n      <th></th>\n      <th>0</th>\n      <th>1</th>\n      <th>2</th>\n      <th>3</th>\n      <th>4</th>\n    </tr>\n  </thead>\n  <tbody>\n    <tr>\n      <th>SK_ID_CURR</th>\n      <td>100002</td>\n      <td>100003</td>\n      <td>100004</td>\n      <td>100006</td>\n      <td>100007</td>\n    </tr>\n    <tr>\n      <th>TARGET</th>\n      <td>1</td>\n      <td>0</td>\n      <td>0</td>\n      <td>0</td>\n      <td>0</td>\n    </tr>\n    <tr>\n      <th>NAME_CONTRACT_TYPE</th>\n      <td>Cash loans</td>\n      <td>Cash loans</td>\n      <td>Revolving loans</td>\n      <td>Cash loans</td>\n      <td>Cash loans</td>\n    </tr>\n    <tr>\n      <th>CODE_GENDER</th>\n      <td>M</td>\n      <td>F</td>\n      <td>M</td>\n      <td>F</td>\n      <td>M</td>\n    </tr>\n    <tr>\n      <th>FLAG_OWN_CAR</th>\n      <td>N</td>\n      <td>N</td>\n      <td>Y</td>\n      <td>N</td>\n      <td>N</td>\n    </tr>\n    <tr>\n      <th>FLAG_OWN_REALTY</th>\n      <td>Y</td>\n      <td>N</td>\n      <td>Y</td>\n      <td>Y</td>\n      <td>Y</td>\n    </tr>\n    <tr>\n      <th>CNT_CHILDREN</th>\n      <td>0</td>\n      <td>0</td>\n      <td>0</td>\n      <td>0</td>\n      <td>0</td>\n    </tr>\n    <tr>\n      <th>AMT_INCOME_TOTAL</th>\n      <td>202500.0</td>\n      <td>270000.0</td>\n      <td>67500.0</td>\n      <td>135000.0</td>\n      <td>121500.0</td>\n    </tr>\n    <tr>\n      <th>AMT_CREDIT</th>\n      <td>406597.5</td>\n      <td>1293502.5</td>\n      <td>135000.0</td>\n      <td>312682.5</td>\n      <td>513000.0</td>\n    </tr>\n    <tr>\n      <th>AMT_ANNUITY</th>\n      <td>24700.5</td>\n      <td>35698.5</td>\n      <td>6750.0</td>\n      <td>29686.5</td>\n      <td>21865.5</td>\n    </tr>\n    <tr>\n      <th>AMT_GOODS_PRICE</th>\n      <td>351000.0</td>\n      <td>1129500.0</td>\n      <td>135000.0</td>\n      <td>297000.0</td>\n      <td>513000.0</td>\n    </tr>\n    <tr>\n      <th>NAME_TYPE_SUITE</th>\n      <td>Unaccompanied</td>\n      <td>Family</td>\n      <td>Unaccompanied</td>\n      <td>Unaccompanied</td>\n      <td>Unaccompanied</td>\n    </tr>\n    <tr>\n      <th>NAME_INCOME_TYPE</th>\n      <td>Working</td>\n      <td>State servant</td>\n      <td>Working</td>\n      <td>Working</td>\n      <td>Working</td>\n    </tr>\n    <tr>\n      <th>NAME_EDUCATION_TYPE</th>\n      <td>Secondary / secondary special</td>\n      <td>Higher education</td>\n      <td>Secondary / secondary special</td>\n      <td>Secondary / secondary special</td>\n      <td>Secondary / secondary special</td>\n    </tr>\n    <tr>\n      <th>NAME_FAMILY_STATUS</th>\n      <td>Single / not married</td>\n      <td>Married</td>\n      <td>Single / not married</td>\n      <td>Civil marriage</td>\n      <td>Single / not married</td>\n    </tr>\n    <tr>\n      <th>NAME_HOUSING_TYPE</th>\n      <td>House / apartment</td>\n      <td>House / apartment</td>\n      <td>House / apartment</td>\n      <td>House / apartment</td>\n      <td>House / apartment</td>\n    </tr>\n    <tr>\n      <th>REGION_POPULATION_RELATIVE</th>\n      <td>0.018801</td>\n      <td>0.003541</td>\n      <td>0.010032</td>\n      <td>0.008019</td>\n      <td>0.028663</td>\n    </tr>\n    <tr>\n      <th>DAYS_BIRTH</th>\n      <td>-9461</td>\n      <td>-16765</td>\n      <td>-19046</td>\n      <td>-19005</td>\n      <td>-19932</td>\n    </tr>\n    <tr>\n      <th>DAYS_EMPLOYED</th>\n      <td>-637</td>\n      <td>-1188</td>\n      <td>-225</td>\n      <td>-3039</td>\n      <td>-3038</td>\n    </tr>\n    <tr>\n      <th>DAYS_REGISTRATION</th>\n      <td>-3648.0</td>\n      <td>-1186.0</td>\n      <td>-4260.0</td>\n      <td>-9833.0</td>\n      <td>-4311.0</td>\n    </tr>\n    <tr>\n      <th>DAYS_ID_PUBLISH</th>\n      <td>-2120</td>\n      <td>-291</td>\n      <td>-2531</td>\n      <td>-2437</td>\n      <td>-3458</td>\n    </tr>\n    <tr>\n      <th>OWN_CAR_AGE</th>\n      <td>NaN</td>\n      <td>NaN</td>\n      <td>26.0</td>\n      <td>NaN</td>\n      <td>NaN</td>\n    </tr>\n    <tr>\n      <th>FLAG_MOBIL</th>\n      <td>1</td>\n      <td>1</td>\n      <td>1</td>\n      <td>1</td>\n      <td>1</td>\n    </tr>\n    <tr>\n      <th>FLAG_EMP_PHONE</th>\n      <td>1</td>\n      <td>1</td>\n      <td>1</td>\n      <td>1</td>\n      <td>1</td>\n    </tr>\n    <tr>\n      <th>FLAG_WORK_PHONE</th>\n      <td>0</td>\n      <td>0</td>\n      <td>1</td>\n      <td>0</td>\n      <td>0</td>\n    </tr>\n    <tr>\n      <th>FLAG_CONT_MOBILE</th>\n      <td>1</td>\n      <td>1</td>\n      <td>1</td>\n      <td>1</td>\n      <td>1</td>\n    </tr>\n    <tr>\n      <th>FLAG_PHONE</th>\n      <td>1</td>\n      <td>1</td>\n      <td>1</td>\n      <td>0</td>\n      <td>0</td>\n    </tr>\n    <tr>\n      <th>FLAG_EMAIL</th>\n      <td>0</td>\n      <td>0</td>\n      <td>0</td>\n      <td>0</td>\n      <td>0</td>\n    </tr>\n    <tr>\n      <th>OCCUPATION_TYPE</th>\n      <td>Laborers</td>\n      <td>Core staff</td>\n      <td>Laborers</td>\n      <td>Laborers</td>\n      <td>Core staff</td>\n    </tr>\n    <tr>\n      <th>CNT_FAM_MEMBERS</th>\n      <td>1.0</td>\n      <td>2.0</td>\n      <td>1.0</td>\n      <td>2.0</td>\n      <td>1.0</td>\n    </tr>\n    <tr>\n      <th>REGION_RATING_CLIENT</th>\n      <td>2</td>\n      <td>1</td>\n      <td>2</td>\n      <td>2</td>\n      <td>2</td>\n    </tr>\n    <tr>\n      <th>REGION_RATING_CLIENT_W_CITY</th>\n      <td>2</td>\n      <td>1</td>\n      <td>2</td>\n      <td>2</td>\n      <td>2</td>\n    </tr>\n    <tr>\n      <th>WEEKDAY_APPR_PROCESS_START</th>\n      <td>WEDNESDAY</td>\n      <td>MONDAY</td>\n      <td>MONDAY</td>\n      <td>WEDNESDAY</td>\n      <td>THURSDAY</td>\n    </tr>\n    <tr>\n      <th>HOUR_APPR_PROCESS_START</th>\n      <td>10</td>\n      <td>11</td>\n      <td>9</td>\n      <td>17</td>\n      <td>11</td>\n    </tr>\n    <tr>\n      <th>REG_REGION_NOT_LIVE_REGION</th>\n      <td>0</td>\n      <td>0</td>\n      <td>0</td>\n      <td>0</td>\n      <td>0</td>\n    </tr>\n    <tr>\n      <th>REG_REGION_NOT_WORK_REGION</th>\n      <td>0</td>\n      <td>0</td>\n      <td>0</td>\n      <td>0</td>\n      <td>0</td>\n    </tr>\n    <tr>\n      <th>LIVE_REGION_NOT_WORK_REGION</th>\n      <td>0</td>\n      <td>0</td>\n      <td>0</td>\n      <td>0</td>\n      <td>0</td>\n    </tr>\n    <tr>\n      <th>REG_CITY_NOT_LIVE_CITY</th>\n      <td>0</td>\n      <td>0</td>\n      <td>0</td>\n      <td>0</td>\n      <td>0</td>\n    </tr>\n    <tr>\n      <th>REG_CITY_NOT_WORK_CITY</th>\n      <td>0</td>\n      <td>0</td>\n      <td>0</td>\n      <td>0</td>\n      <td>1</td>\n    </tr>\n    <tr>\n      <th>LIVE_CITY_NOT_WORK_CITY</th>\n      <td>0</td>\n      <td>0</td>\n      <td>0</td>\n      <td>0</td>\n      <td>1</td>\n    </tr>\n    <tr>\n      <th>ORGANIZATION_TYPE</th>\n      <td>Business Entity Type 3</td>\n      <td>School</td>\n      <td>Government</td>\n      <td>Business Entity Type 3</td>\n      <td>Religion</td>\n    </tr>\n    <tr>\n      <th>EXT_SOURCE_1</th>\n      <td>0.083037</td>\n      <td>0.311267</td>\n      <td>NaN</td>\n      <td>NaN</td>\n      <td>NaN</td>\n    </tr>\n    <tr>\n      <th>EXT_SOURCE_2</th>\n      <td>0.262949</td>\n      <td>0.622246</td>\n      <td>0.555912</td>\n      <td>0.650442</td>\n      <td>0.322738</td>\n    </tr>\n    <tr>\n      <th>EXT_SOURCE_3</th>\n      <td>0.139376</td>\n      <td>NaN</td>\n      <td>0.729567</td>\n      <td>NaN</td>\n      <td>NaN</td>\n    </tr>\n    <tr>\n      <th>APARTMENTS_AVG</th>\n      <td>0.0247</td>\n      <td>0.0959</td>\n      <td>NaN</td>\n      <td>NaN</td>\n      <td>NaN</td>\n    </tr>\n    <tr>\n      <th>BASEMENTAREA_AVG</th>\n      <td>0.0369</td>\n      <td>0.0529</td>\n      <td>NaN</td>\n      <td>NaN</td>\n      <td>NaN</td>\n    </tr>\n    <tr>\n      <th>YEARS_BEGINEXPLUATATION_AVG</th>\n      <td>0.9722</td>\n      <td>0.9851</td>\n      <td>NaN</td>\n      <td>NaN</td>\n      <td>NaN</td>\n    </tr>\n    <tr>\n      <th>YEARS_BUILD_AVG</th>\n      <td>0.6192</td>\n      <td>0.796</td>\n      <td>NaN</td>\n      <td>NaN</td>\n      <td>NaN</td>\n    </tr>\n    <tr>\n      <th>COMMONAREA_AVG</th>\n      <td>0.0143</td>\n      <td>0.0605</td>\n      <td>NaN</td>\n      <td>NaN</td>\n      <td>NaN</td>\n    </tr>\n    <tr>\n      <th>ELEVATORS_AVG</th>\n      <td>0.0</td>\n      <td>0.08</td>\n      <td>NaN</td>\n      <td>NaN</td>\n      <td>NaN</td>\n    </tr>\n    <tr>\n      <th>ENTRANCES_AVG</th>\n      <td>0.069</td>\n      <td>0.0345</td>\n      <td>NaN</td>\n      <td>NaN</td>\n      <td>NaN</td>\n    </tr>\n    <tr>\n      <th>FLOORSMAX_AVG</th>\n      <td>0.0833</td>\n      <td>0.2917</td>\n      <td>NaN</td>\n      <td>NaN</td>\n      <td>NaN</td>\n    </tr>\n    <tr>\n      <th>FLOORSMIN_AVG</th>\n      <td>0.125</td>\n      <td>0.3333</td>\n      <td>NaN</td>\n      <td>NaN</td>\n      <td>NaN</td>\n    </tr>\n    <tr>\n      <th>LANDAREA_AVG</th>\n      <td>0.0369</td>\n      <td>0.013</td>\n      <td>NaN</td>\n      <td>NaN</td>\n      <td>NaN</td>\n    </tr>\n    <tr>\n      <th>LIVINGAPARTMENTS_AVG</th>\n      <td>0.0202</td>\n      <td>0.0773</td>\n      <td>NaN</td>\n      <td>NaN</td>\n      <td>NaN</td>\n    </tr>\n    <tr>\n      <th>LIVINGAREA_AVG</th>\n      <td>0.019</td>\n      <td>0.0549</td>\n      <td>NaN</td>\n      <td>NaN</td>\n      <td>NaN</td>\n    </tr>\n    <tr>\n      <th>NONLIVINGAPARTMENTS_AVG</th>\n      <td>0.0</td>\n      <td>0.0039</td>\n      <td>NaN</td>\n      <td>NaN</td>\n      <td>NaN</td>\n    </tr>\n    <tr>\n      <th>NONLIVINGAREA_AVG</th>\n      <td>0.0</td>\n      <td>0.0098</td>\n      <td>NaN</td>\n      <td>NaN</td>\n      <td>NaN</td>\n    </tr>\n    <tr>\n      <th>APARTMENTS_MODE</th>\n      <td>0.0252</td>\n      <td>0.0924</td>\n      <td>NaN</td>\n      <td>NaN</td>\n      <td>NaN</td>\n    </tr>\n    <tr>\n      <th>BASEMENTAREA_MODE</th>\n      <td>0.0383</td>\n      <td>0.0538</td>\n      <td>NaN</td>\n      <td>NaN</td>\n      <td>NaN</td>\n    </tr>\n    <tr>\n      <th>YEARS_BEGINEXPLUATATION_MODE</th>\n      <td>0.9722</td>\n      <td>0.9851</td>\n      <td>NaN</td>\n      <td>NaN</td>\n      <td>NaN</td>\n    </tr>\n    <tr>\n      <th>YEARS_BUILD_MODE</th>\n      <td>0.6341</td>\n      <td>0.804</td>\n      <td>NaN</td>\n      <td>NaN</td>\n      <td>NaN</td>\n    </tr>\n    <tr>\n      <th>COMMONAREA_MODE</th>\n      <td>0.0144</td>\n      <td>0.0497</td>\n      <td>NaN</td>\n      <td>NaN</td>\n      <td>NaN</td>\n    </tr>\n    <tr>\n      <th>ELEVATORS_MODE</th>\n      <td>0.0</td>\n      <td>0.0806</td>\n      <td>NaN</td>\n      <td>NaN</td>\n      <td>NaN</td>\n    </tr>\n    <tr>\n      <th>ENTRANCES_MODE</th>\n      <td>0.069</td>\n      <td>0.0345</td>\n      <td>NaN</td>\n      <td>NaN</td>\n      <td>NaN</td>\n    </tr>\n    <tr>\n      <th>FLOORSMAX_MODE</th>\n      <td>0.0833</td>\n      <td>0.2917</td>\n      <td>NaN</td>\n      <td>NaN</td>\n      <td>NaN</td>\n    </tr>\n    <tr>\n      <th>FLOORSMIN_MODE</th>\n      <td>0.125</td>\n      <td>0.3333</td>\n      <td>NaN</td>\n      <td>NaN</td>\n      <td>NaN</td>\n    </tr>\n    <tr>\n      <th>LANDAREA_MODE</th>\n      <td>0.0377</td>\n      <td>0.0128</td>\n      <td>NaN</td>\n      <td>NaN</td>\n      <td>NaN</td>\n    </tr>\n    <tr>\n      <th>LIVINGAPARTMENTS_MODE</th>\n      <td>0.022</td>\n      <td>0.079</td>\n      <td>NaN</td>\n      <td>NaN</td>\n      <td>NaN</td>\n    </tr>\n    <tr>\n      <th>LIVINGAREA_MODE</th>\n      <td>0.0198</td>\n      <td>0.0554</td>\n      <td>NaN</td>\n      <td>NaN</td>\n      <td>NaN</td>\n    </tr>\n    <tr>\n      <th>NONLIVINGAPARTMENTS_MODE</th>\n      <td>0.0</td>\n      <td>0.0</td>\n      <td>NaN</td>\n      <td>NaN</td>\n      <td>NaN</td>\n    </tr>\n    <tr>\n      <th>NONLIVINGAREA_MODE</th>\n      <td>0.0</td>\n      <td>0.0</td>\n      <td>NaN</td>\n      <td>NaN</td>\n      <td>NaN</td>\n    </tr>\n    <tr>\n      <th>APARTMENTS_MEDI</th>\n      <td>0.025</td>\n      <td>0.0968</td>\n      <td>NaN</td>\n      <td>NaN</td>\n      <td>NaN</td>\n    </tr>\n    <tr>\n      <th>BASEMENTAREA_MEDI</th>\n      <td>0.0369</td>\n      <td>0.0529</td>\n      <td>NaN</td>\n      <td>NaN</td>\n      <td>NaN</td>\n    </tr>\n    <tr>\n      <th>YEARS_BEGINEXPLUATATION_MEDI</th>\n      <td>0.9722</td>\n      <td>0.9851</td>\n      <td>NaN</td>\n      <td>NaN</td>\n      <td>NaN</td>\n    </tr>\n    <tr>\n      <th>YEARS_BUILD_MEDI</th>\n      <td>0.6243</td>\n      <td>0.7987</td>\n      <td>NaN</td>\n      <td>NaN</td>\n      <td>NaN</td>\n    </tr>\n    <tr>\n      <th>COMMONAREA_MEDI</th>\n      <td>0.0144</td>\n      <td>0.0608</td>\n      <td>NaN</td>\n      <td>NaN</td>\n      <td>NaN</td>\n    </tr>\n    <tr>\n      <th>ELEVATORS_MEDI</th>\n      <td>0.0</td>\n      <td>0.08</td>\n      <td>NaN</td>\n      <td>NaN</td>\n      <td>NaN</td>\n    </tr>\n    <tr>\n      <th>ENTRANCES_MEDI</th>\n      <td>0.069</td>\n      <td>0.0345</td>\n      <td>NaN</td>\n      <td>NaN</td>\n      <td>NaN</td>\n    </tr>\n    <tr>\n      <th>FLOORSMAX_MEDI</th>\n      <td>0.0833</td>\n      <td>0.2917</td>\n      <td>NaN</td>\n      <td>NaN</td>\n      <td>NaN</td>\n    </tr>\n    <tr>\n      <th>FLOORSMIN_MEDI</th>\n      <td>0.125</td>\n      <td>0.3333</td>\n      <td>NaN</td>\n      <td>NaN</td>\n      <td>NaN</td>\n    </tr>\n    <tr>\n      <th>LANDAREA_MEDI</th>\n      <td>0.0375</td>\n      <td>0.0132</td>\n      <td>NaN</td>\n      <td>NaN</td>\n      <td>NaN</td>\n    </tr>\n    <tr>\n      <th>LIVINGAPARTMENTS_MEDI</th>\n      <td>0.0205</td>\n      <td>0.0787</td>\n      <td>NaN</td>\n      <td>NaN</td>\n      <td>NaN</td>\n    </tr>\n    <tr>\n      <th>LIVINGAREA_MEDI</th>\n      <td>0.0193</td>\n      <td>0.0558</td>\n      <td>NaN</td>\n      <td>NaN</td>\n      <td>NaN</td>\n    </tr>\n    <tr>\n      <th>NONLIVINGAPARTMENTS_MEDI</th>\n      <td>0.0</td>\n      <td>0.0039</td>\n      <td>NaN</td>\n      <td>NaN</td>\n      <td>NaN</td>\n    </tr>\n    <tr>\n      <th>NONLIVINGAREA_MEDI</th>\n      <td>0.0</td>\n      <td>0.01</td>\n      <td>NaN</td>\n      <td>NaN</td>\n      <td>NaN</td>\n    </tr>\n    <tr>\n      <th>FONDKAPREMONT_MODE</th>\n      <td>reg oper account</td>\n      <td>reg oper account</td>\n      <td>NaN</td>\n      <td>NaN</td>\n      <td>NaN</td>\n    </tr>\n    <tr>\n      <th>HOUSETYPE_MODE</th>\n      <td>block of flats</td>\n      <td>block of flats</td>\n      <td>NaN</td>\n      <td>NaN</td>\n      <td>NaN</td>\n    </tr>\n    <tr>\n      <th>TOTALAREA_MODE</th>\n      <td>0.0149</td>\n      <td>0.0714</td>\n      <td>NaN</td>\n      <td>NaN</td>\n      <td>NaN</td>\n    </tr>\n    <tr>\n      <th>WALLSMATERIAL_MODE</th>\n      <td>Stone, brick</td>\n      <td>Block</td>\n      <td>NaN</td>\n      <td>NaN</td>\n      <td>NaN</td>\n    </tr>\n    <tr>\n      <th>EMERGENCYSTATE_MODE</th>\n      <td>No</td>\n      <td>No</td>\n      <td>NaN</td>\n      <td>NaN</td>\n      <td>NaN</td>\n    </tr>\n    <tr>\n      <th>OBS_30_CNT_SOCIAL_CIRCLE</th>\n      <td>2.0</td>\n      <td>1.0</td>\n      <td>0.0</td>\n      <td>2.0</td>\n      <td>0.0</td>\n    </tr>\n    <tr>\n      <th>DEF_30_CNT_SOCIAL_CIRCLE</th>\n      <td>2.0</td>\n      <td>0.0</td>\n      <td>0.0</td>\n      <td>0.0</td>\n      <td>0.0</td>\n    </tr>\n    <tr>\n      <th>OBS_60_CNT_SOCIAL_CIRCLE</th>\n      <td>2.0</td>\n      <td>1.0</td>\n      <td>0.0</td>\n      <td>2.0</td>\n      <td>0.0</td>\n    </tr>\n    <tr>\n      <th>DEF_60_CNT_SOCIAL_CIRCLE</th>\n      <td>2.0</td>\n      <td>0.0</td>\n      <td>0.0</td>\n      <td>0.0</td>\n      <td>0.0</td>\n    </tr>\n    <tr>\n      <th>DAYS_LAST_PHONE_CHANGE</th>\n      <td>-1134.0</td>\n      <td>-828.0</td>\n      <td>-815.0</td>\n      <td>-617.0</td>\n      <td>-1106.0</td>\n    </tr>\n    <tr>\n      <th>FLAG_DOCUMENT_2</th>\n      <td>0</td>\n      <td>0</td>\n      <td>0</td>\n      <td>0</td>\n      <td>0</td>\n    </tr>\n    <tr>\n      <th>FLAG_DOCUMENT_3</th>\n      <td>1</td>\n      <td>1</td>\n      <td>0</td>\n      <td>1</td>\n      <td>0</td>\n    </tr>\n    <tr>\n      <th>FLAG_DOCUMENT_4</th>\n      <td>0</td>\n      <td>0</td>\n      <td>0</td>\n      <td>0</td>\n      <td>0</td>\n    </tr>\n    <tr>\n      <th>FLAG_DOCUMENT_5</th>\n      <td>0</td>\n      <td>0</td>\n      <td>0</td>\n      <td>0</td>\n      <td>0</td>\n    </tr>\n    <tr>\n      <th>FLAG_DOCUMENT_6</th>\n      <td>0</td>\n      <td>0</td>\n      <td>0</td>\n      <td>0</td>\n      <td>0</td>\n    </tr>\n    <tr>\n      <th>FLAG_DOCUMENT_7</th>\n      <td>0</td>\n      <td>0</td>\n      <td>0</td>\n      <td>0</td>\n      <td>0</td>\n    </tr>\n    <tr>\n      <th>FLAG_DOCUMENT_8</th>\n      <td>0</td>\n      <td>0</td>\n      <td>0</td>\n      <td>0</td>\n      <td>1</td>\n    </tr>\n    <tr>\n      <th>FLAG_DOCUMENT_9</th>\n      <td>0</td>\n      <td>0</td>\n      <td>0</td>\n      <td>0</td>\n      <td>0</td>\n    </tr>\n    <tr>\n      <th>FLAG_DOCUMENT_10</th>\n      <td>0</td>\n      <td>0</td>\n      <td>0</td>\n      <td>0</td>\n      <td>0</td>\n    </tr>\n    <tr>\n      <th>FLAG_DOCUMENT_11</th>\n      <td>0</td>\n      <td>0</td>\n      <td>0</td>\n      <td>0</td>\n      <td>0</td>\n    </tr>\n    <tr>\n      <th>FLAG_DOCUMENT_12</th>\n      <td>0</td>\n      <td>0</td>\n      <td>0</td>\n      <td>0</td>\n      <td>0</td>\n    </tr>\n    <tr>\n      <th>FLAG_DOCUMENT_13</th>\n      <td>0</td>\n      <td>0</td>\n      <td>0</td>\n      <td>0</td>\n      <td>0</td>\n    </tr>\n    <tr>\n      <th>FLAG_DOCUMENT_14</th>\n      <td>0</td>\n      <td>0</td>\n      <td>0</td>\n      <td>0</td>\n      <td>0</td>\n    </tr>\n    <tr>\n      <th>FLAG_DOCUMENT_15</th>\n      <td>0</td>\n      <td>0</td>\n      <td>0</td>\n      <td>0</td>\n      <td>0</td>\n    </tr>\n    <tr>\n      <th>FLAG_DOCUMENT_16</th>\n      <td>0</td>\n      <td>0</td>\n      <td>0</td>\n      <td>0</td>\n      <td>0</td>\n    </tr>\n    <tr>\n      <th>FLAG_DOCUMENT_17</th>\n      <td>0</td>\n      <td>0</td>\n      <td>0</td>\n      <td>0</td>\n      <td>0</td>\n    </tr>\n    <tr>\n      <th>FLAG_DOCUMENT_18</th>\n      <td>0</td>\n      <td>0</td>\n      <td>0</td>\n      <td>0</td>\n      <td>0</td>\n    </tr>\n    <tr>\n      <th>FLAG_DOCUMENT_19</th>\n      <td>0</td>\n      <td>0</td>\n      <td>0</td>\n      <td>0</td>\n      <td>0</td>\n    </tr>\n    <tr>\n      <th>FLAG_DOCUMENT_20</th>\n      <td>0</td>\n      <td>0</td>\n      <td>0</td>\n      <td>0</td>\n      <td>0</td>\n    </tr>\n    <tr>\n      <th>FLAG_DOCUMENT_21</th>\n      <td>0</td>\n      <td>0</td>\n      <td>0</td>\n      <td>0</td>\n      <td>0</td>\n    </tr>\n    <tr>\n      <th>AMT_REQ_CREDIT_BUREAU_HOUR</th>\n      <td>0.0</td>\n      <td>0.0</td>\n      <td>0.0</td>\n      <td>NaN</td>\n      <td>0.0</td>\n    </tr>\n    <tr>\n      <th>AMT_REQ_CREDIT_BUREAU_DAY</th>\n      <td>0.0</td>\n      <td>0.0</td>\n      <td>0.0</td>\n      <td>NaN</td>\n      <td>0.0</td>\n    </tr>\n    <tr>\n      <th>AMT_REQ_CREDIT_BUREAU_WEEK</th>\n      <td>0.0</td>\n      <td>0.0</td>\n      <td>0.0</td>\n      <td>NaN</td>\n      <td>0.0</td>\n    </tr>\n    <tr>\n      <th>AMT_REQ_CREDIT_BUREAU_MON</th>\n      <td>0.0</td>\n      <td>0.0</td>\n      <td>0.0</td>\n      <td>NaN</td>\n      <td>0.0</td>\n    </tr>\n    <tr>\n      <th>AMT_REQ_CREDIT_BUREAU_QRT</th>\n      <td>0.0</td>\n      <td>0.0</td>\n      <td>0.0</td>\n      <td>NaN</td>\n      <td>0.0</td>\n    </tr>\n    <tr>\n      <th>AMT_REQ_CREDIT_BUREAU_YEAR</th>\n      <td>1.0</td>\n      <td>0.0</td>\n      <td>0.0</td>\n      <td>NaN</td>\n      <td>0.0</td>\n    </tr>\n  </tbody>\n</table>\n</div>"
     },
     "execution_count": 7,
     "metadata": {},
     "output_type": "execute_result"
    }
   ],
   "source": [
    "a = application_train.head(5)\n",
    "a = a.T\n",
    "a"
   ]
  },
  {
   "cell_type": "markdown",
   "id": "59da8f46-e503-4b67-8e73-ac61c394824c",
   "metadata": {
    "id": "59da8f46-e503-4b67-8e73-ac61c394824c"
   },
   "source": [
    "4- Show the distribution of the target variable values: print the total value count and the percentage of each value, plot this relationship."
   ]
  },
  {
   "cell_type": "code",
   "execution_count": 8,
   "outputs": [
    {
     "name": "stdout",
     "output_type": "stream",
     "text": [
      "0    282686\n",
      "1     24825\n",
      "Name: TARGET, dtype: int64\n"
     ]
    },
    {
     "data": {
      "text/plain": "<Figure size 432x288 with 1 Axes>",
      "image/png": "[encoded data removed]"
     },
     "metadata": {
      "needs_background": "light"
     },
     "output_type": "display_data"
    }
   ],
   "source": [
    "application_train['TARGET'].hist()\n",
    "print(application_train['TARGET'].value_counts())\n"
   ],
   "metadata": {
    "collapsed": false,
    "pycharm": {
     "name": "#%%\n"
    }
   }
  },
  {
   "cell_type": "code",
   "execution_count": 9,
   "id": "8855d370-c825-415b-9dd0-9dbdd576fada",
   "metadata": {
    "id": "8855d370-c825-415b-9dd0-9dbdd576fada"
   },
   "outputs": [
    {
     "data": {
      "text/plain": "([<matplotlib.patches.Wedge at 0x1da005994e0>,\n  <matplotlib.patches.Wedge at 0x1da00599c00>],\n [Text(-1.0648123216659293, 0.27599768047650985, 'Negative'),\n  Text(1.0648123152057372, -0.27599770540024077, 'Positive')],\n [Text(-0.5808067209086887, 0.15054418935082356, '92%'),\n  Text(0.5808067173849475, -0.15054420294558588, '8%')])"
     },
     "execution_count": 9,
     "metadata": {},
     "output_type": "execute_result"
    },
    {
     "data": {
      "text/plain": "<Figure size 432x288 with 1 Axes>",
      "image/png": "[encoded data removed]"
     },
     "metadata": {},
     "output_type": "display_data"
    }
   ],
   "source": [
    "plt.pie(application_train['TARGET'].value_counts(), labels=['Negative','Positive'], autopct='%.0f%%')"
   ]
  },
  {
   "cell_type": "markdown",
   "id": "cc7b5a63-da31-4a61-9e91-9708dc7633a7",
   "metadata": {
    "id": "cc7b5a63-da31-4a61-9e91-9708dc7633a7"
   },
   "source": [
    "5- Show the number of columns of each data type"
   ]
  },
  {
   "cell_type": "code",
   "execution_count": 10,
   "id": "b74878dd-cc48-4e69-bc35-e90457d54b3a",
   "metadata": {
    "id": "b74878dd-cc48-4e69-bc35-e90457d54b3a"
   },
   "outputs": [
    {
     "data": {
      "text/plain": "float64    65\nint64      41\nobject     16\ndtype: int64"
     },
     "execution_count": 10,
     "metadata": {},
     "output_type": "execute_result"
    }
   ],
   "source": [
    "application_train.dtypes.value_counts()"
   ]
  },
  {
   "cell_type": "markdown",
   "id": "c0a8799e-d32a-4239-a85d-6ff29ab4682f",
   "metadata": {
    "id": "c0a8799e-d32a-4239-a85d-6ff29ab4682f"
   },
   "source": [
    "6- For categorical variables, show the number of distinct values in each column (number of labels)"
   ]
  },
  {
   "cell_type": "code",
   "execution_count": 10,
   "outputs": [
    {
     "data": {
      "text/plain": "array([307511,      2,      2,      3,      2,      2,     15,   2548,\n         5603,  13672,   1002,      7,      8,      5,      6,      6,\n           81,  17460,  12574,  15688,   6168,     62,      2,      2,\n            2,      2,      2,      2,     18,     17,      3,      3,\n            7,     24,      2,      2,      2,      2,      2,      2,\n           58, 114584, 119831,    814,   2339,   3780,    285,    149,\n         3181,    257,    285,    403,    305,   3527,   1868,   5199,\n          386,   3290,    760,   3841,    221,    154,   3128,     26,\n           30,     25,     25,   3563,    736,   5301,    167,   3327,\n         1148,   3772,    245,    151,   3202,     46,     46,     49,\n           47,   3560,   1097,   5281,    214,   3323,      4,      3,\n         5116,      7,      2,     33,     10,     33,      9,   3773,\n            2,      2,      2,      2,      2,      2,      2,      2,\n            2,      2,      2,      2,      2,      2,      2,      2,\n            2,      2,      2,      2,      5,      9,      9,     24,\n           11,     25], dtype=int64)"
     },
     "execution_count": 10,
     "metadata": {},
     "output_type": "execute_result"
    }
   ],
   "source": [
    "np.array(application_train.nunique())"
   ],
   "metadata": {
    "collapsed": false,
    "pycharm": {
     "name": "#%%\n"
    }
   }
  },
  {
   "cell_type": "code",
   "execution_count": 3,
   "outputs": [
    {
     "data": {
      "text/plain": "                      column_name   dtype  n_uniques\n0                      SK_ID_CURR  object     307511\n1                          TARGET  object          2\n2              NAME_CONTRACT_TYPE  object          2\n3                     CODE_GENDER  object          3\n4                    FLAG_OWN_CAR  object          2\n5                 FLAG_OWN_REALTY  object          2\n6                    CNT_CHILDREN  object         15\n7                AMT_INCOME_TOTAL  object       2548\n8                      AMT_CREDIT  object       5603\n9                     AMT_ANNUITY  object      13672\n10                AMT_GOODS_PRICE  object       1002\n11                NAME_TYPE_SUITE  object          7\n12               NAME_INCOME_TYPE  object          8\n13            NAME_EDUCATION_TYPE  object          5\n14             NAME_FAMILY_STATUS  object          6\n15              NAME_HOUSING_TYPE  object          6\n16     REGION_POPULATION_RELATIVE  object         81\n17                     DAYS_BIRTH  object      17460\n18                  DAYS_EMPLOYED  object      12574\n19              DAYS_REGISTRATION  object      15688\n20                DAYS_ID_PUBLISH  object       6168\n21                    OWN_CAR_AGE  object         62\n22                     FLAG_MOBIL  object          2\n23                 FLAG_EMP_PHONE  object          2\n24                FLAG_WORK_PHONE  object          2\n25               FLAG_CONT_MOBILE  object          2\n26                     FLAG_PHONE  object          2\n27                     FLAG_EMAIL  object          2\n28                OCCUPATION_TYPE  object         18\n29                CNT_FAM_MEMBERS  object         17\n30           REGION_RATING_CLIENT  object          3\n31    REGION_RATING_CLIENT_W_CITY  object          3\n32     WEEKDAY_APPR_PROCESS_START  object          7\n33        HOUR_APPR_PROCESS_START  object         24\n34     REG_REGION_NOT_LIVE_REGION  object          2\n35     REG_REGION_NOT_WORK_REGION  object          2\n36    LIVE_REGION_NOT_WORK_REGION  object          2\n37         REG_CITY_NOT_LIVE_CITY  object          2\n38         REG_CITY_NOT_WORK_CITY  object          2\n39        LIVE_CITY_NOT_WORK_CITY  object          2\n40              ORGANIZATION_TYPE  object         58\n41                   EXT_SOURCE_1  object     114584\n42                   EXT_SOURCE_2  object     119831\n43                   EXT_SOURCE_3  object        814\n44                 APARTMENTS_AVG  object       2339\n45               BASEMENTAREA_AVG  object       3780\n46    YEARS_BEGINEXPLUATATION_AVG  object        285\n47                YEARS_BUILD_AVG  object        149\n48                 COMMONAREA_AVG  object       3181\n49                  ELEVATORS_AVG  object        257\n50                  ENTRANCES_AVG  object        285\n51                  FLOORSMAX_AVG  object        403\n52                  FLOORSMIN_AVG  object        305\n53                   LANDAREA_AVG  object       3527\n54           LIVINGAPARTMENTS_AVG  object       1868\n55                 LIVINGAREA_AVG  object       5199\n56        NONLIVINGAPARTMENTS_AVG  object        386\n57              NONLIVINGAREA_AVG  object       3290\n58                APARTMENTS_MODE  object        760\n59              BASEMENTAREA_MODE  object       3841\n60   YEARS_BEGINEXPLUATATION_MODE  object        221\n61               YEARS_BUILD_MODE  object        154\n62                COMMONAREA_MODE  object       3128\n63                 ELEVATORS_MODE  object         26\n64                 ENTRANCES_MODE  object         30\n65                 FLOORSMAX_MODE  object         25\n66                 FLOORSMIN_MODE  object         25\n67                  LANDAREA_MODE  object       3563\n68          LIVINGAPARTMENTS_MODE  object        736\n69                LIVINGAREA_MODE  object       5301\n70       NONLIVINGAPARTMENTS_MODE  object        167\n71             NONLIVINGAREA_MODE  object       3327\n72                APARTMENTS_MEDI  object       1148\n73              BASEMENTAREA_MEDI  object       3772\n74   YEARS_BEGINEXPLUATATION_MEDI  object        245\n75               YEARS_BUILD_MEDI  object        151\n76                COMMONAREA_MEDI  object       3202\n77                 ELEVATORS_MEDI  object         46\n78                 ENTRANCES_MEDI  object         46\n79                 FLOORSMAX_MEDI  object         49\n80                 FLOORSMIN_MEDI  object         47\n81                  LANDAREA_MEDI  object       3560\n82          LIVINGAPARTMENTS_MEDI  object       1097\n83                LIVINGAREA_MEDI  object       5281\n84       NONLIVINGAPARTMENTS_MEDI  object        214\n85             NONLIVINGAREA_MEDI  object       3323\n86             FONDKAPREMONT_MODE  object          4\n87                 HOUSETYPE_MODE  object          3\n88                 TOTALAREA_MODE  object       5116\n89             WALLSMATERIAL_MODE  object          7\n90            EMERGENCYSTATE_MODE  object          2\n91       OBS_30_CNT_SOCIAL_CIRCLE  object         33\n92       DEF_30_CNT_SOCIAL_CIRCLE  object         10\n93       OBS_60_CNT_SOCIAL_CIRCLE  object         33\n94       DEF_60_CNT_SOCIAL_CIRCLE  object          9\n95         DAYS_LAST_PHONE_CHANGE  object       3773\n96                FLAG_DOCUMENT_2  object          2\n97                FLAG_DOCUMENT_3  object          2\n98                FLAG_DOCUMENT_4  object          2\n99                FLAG_DOCUMENT_5  object          2\n100               FLAG_DOCUMENT_6  object          2\n101               FLAG_DOCUMENT_7  object          2\n102               FLAG_DOCUMENT_8  object          2\n103               FLAG_DOCUMENT_9  object          2\n104              FLAG_DOCUMENT_10  object          2\n105              FLAG_DOCUMENT_11  object          2\n106              FLAG_DOCUMENT_12  object          2\n107              FLAG_DOCUMENT_13  object          2\n108              FLAG_DOCUMENT_14  object          2\n109              FLAG_DOCUMENT_15  object          2\n110              FLAG_DOCUMENT_16  object          2\n111              FLAG_DOCUMENT_17  object          2\n112              FLAG_DOCUMENT_18  object          2\n113              FLAG_DOCUMENT_19  object          2\n114              FLAG_DOCUMENT_20  object          2\n115              FLAG_DOCUMENT_21  object          2\n116    AMT_REQ_CREDIT_BUREAU_HOUR  object          5\n117     AMT_REQ_CREDIT_BUREAU_DAY  object          9\n118    AMT_REQ_CREDIT_BUREAU_WEEK  object          9\n119     AMT_REQ_CREDIT_BUREAU_MON  object         24\n120     AMT_REQ_CREDIT_BUREAU_QRT  object         11\n121    AMT_REQ_CREDIT_BUREAU_YEAR  object         25",
      "text/html": "<div>\n<style scoped>\n    .dataframe tbody tr th:only-of-type {\n        vertical-align: middle;\n    }\n\n    .dataframe tbody tr th {\n        vertical-align: top;\n    }\n\n    .dataframe thead th {\n        text-align: right;\n    }\n</style>\n<table border=\"1\" class=\"dataframe\">\n  <thead>\n    <tr style=\"text-align: right;\">\n      <th></th>\n      <th>column_name</th>\n      <th>dtype</th>\n      <th>n_uniques</th>\n    </tr>\n  </thead>\n  <tbody>\n    <tr>\n      <th>0</th>\n      <td>SK_ID_CURR</td>\n      <td>object</td>\n      <td>307511</td>\n    </tr>\n    <tr>\n      <th>1</th>\n      <td>TARGET</td>\n      <td>object</td>\n      <td>2</td>\n    </tr>\n    <tr>\n      <th>2</th>\n      <td>NAME_CONTRACT_TYPE</td>\n      <td>object</td>\n      <td>2</td>\n    </tr>\n    <tr>\n      <th>3</th>\n      <td>CODE_GENDER</td>\n      <td>object</td>\n      <td>3</td>\n    </tr>\n    <tr>\n      <th>4</th>\n      <td>FLAG_OWN_CAR</td>\n      <td>object</td>\n      <td>2</td>\n    </tr>\n    <tr>\n      <th>5</th>\n      <td>FLAG_OWN_REALTY</td>\n      <td>object</td>\n      <td>2</td>\n    </tr>\n    <tr>\n      <th>6</th>\n      <td>CNT_CHILDREN</td>\n      <td>object</td>\n      <td>15</td>\n    </tr>\n    <tr>\n      <th>7</th>\n      <td>AMT_INCOME_TOTAL</td>\n      <td>object</td>\n      <td>2548</td>\n    </tr>\n    <tr>\n      <th>8</th>\n      <td>AMT_CREDIT</td>\n      <td>object</td>\n      <td>5603</td>\n    </tr>\n    <tr>\n      <th>9</th>\n      <td>AMT_ANNUITY</td>\n      <td>object</td>\n      <td>13672</td>\n    </tr>\n    <tr>\n      <th>10</th>\n      <td>AMT_GOODS_PRICE</td>\n      <td>object</td>\n      <td>1002</td>\n    </tr>\n    <tr>\n      <th>11</th>\n      <td>NAME_TYPE_SUITE</td>\n      <td>object</td>\n      <td>7</td>\n    </tr>\n    <tr>\n      <th>12</th>\n      <td>NAME_INCOME_TYPE</td>\n      <td>object</td>\n      <td>8</td>\n    </tr>\n    <tr>\n      <th>13</th>\n      <td>NAME_EDUCATION_TYPE</td>\n      <td>object</td>\n      <td>5</td>\n    </tr>\n    <tr>\n      <th>14</th>\n      <td>NAME_FAMILY_STATUS</td>\n      <td>object</td>\n      <td>6</td>\n    </tr>\n    <tr>\n      <th>15</th>\n      <td>NAME_HOUSING_TYPE</td>\n      <td>object</td>\n      <td>6</td>\n    </tr>\n    <tr>\n      <th>16</th>\n      <td>REGION_POPULATION_RELATIVE</td>\n      <td>object</td>\n      <td>81</td>\n    </tr>\n    <tr>\n      <th>17</th>\n      <td>DAYS_BIRTH</td>\n      <td>object</td>\n      <td>17460</td>\n    </tr>\n    <tr>\n      <th>18</th>\n      <td>DAYS_EMPLOYED</td>\n      <td>object</td>\n      <td>12574</td>\n    </tr>\n    <tr>\n      <th>19</th>\n      <td>DAYS_REGISTRATION</td>\n      <td>object</td>\n      <td>15688</td>\n    </tr>\n    <tr>\n      <th>20</th>\n      <td>DAYS_ID_PUBLISH</td>\n      <td>object</td>\n      <td>6168</td>\n    </tr>\n    <tr>\n      <th>21</th>\n      <td>OWN_CAR_AGE</td>\n      <td>object</td>\n      <td>62</td>\n    </tr>\n    <tr>\n      <th>22</th>\n      <td>FLAG_MOBIL</td>\n      <td>object</td>\n      <td>2</td>\n    </tr>\n    <tr>\n      <th>23</th>\n      <td>FLAG_EMP_PHONE</td>\n      <td>object</td>\n      <td>2</td>\n    </tr>\n    <tr>\n      <th>24</th>\n      <td>FLAG_WORK_PHONE</td>\n      <td>object</td>\n      <td>2</td>\n    </tr>\n    <tr>\n      <th>25</th>\n      <td>FLAG_CONT_MOBILE</td>\n      <td>object</td>\n      <td>2</td>\n    </tr>\n    <tr>\n      <th>26</th>\n      <td>FLAG_PHONE</td>\n      <td>object</td>\n      <td>2</td>\n    </tr>\n    <tr>\n      <th>27</th>\n      <td>FLAG_EMAIL</td>\n      <td>object</td>\n      <td>2</td>\n    </tr>\n    <tr>\n      <th>28</th>\n      <td>OCCUPATION_TYPE</td>\n      <td>object</td>\n      <td>18</td>\n    </tr>\n    <tr>\n      <th>29</th>\n      <td>CNT_FAM_MEMBERS</td>\n      <td>object</td>\n      <td>17</td>\n    </tr>\n    <tr>\n      <th>30</th>\n      <td>REGION_RATING_CLIENT</td>\n      <td>object</td>\n      <td>3</td>\n    </tr>\n    <tr>\n      <th>31</th>\n      <td>REGION_RATING_CLIENT_W_CITY</td>\n      <td>object</td>\n      <td>3</td>\n    </tr>\n    <tr>\n      <th>32</th>\n      <td>WEEKDAY_APPR_PROCESS_START</td>\n      <td>object</td>\n      <td>7</td>\n    </tr>\n    <tr>\n      <th>33</th>\n      <td>HOUR_APPR_PROCESS_START</td>\n      <td>object</td>\n      <td>24</td>\n    </tr>\n    <tr>\n      <th>34</th>\n      <td>REG_REGION_NOT_LIVE_REGION</td>\n      <td>object</td>\n      <td>2</td>\n    </tr>\n    <tr>\n      <th>35</th>\n      <td>REG_REGION_NOT_WORK_REGION</td>\n      <td>object</td>\n      <td>2</td>\n    </tr>\n    <tr>\n      <th>36</th>\n      <td>LIVE_REGION_NOT_WORK_REGION</td>\n      <td>object</td>\n      <td>2</td>\n    </tr>\n    <tr>\n      <th>37</th>\n      <td>REG_CITY_NOT_LIVE_CITY</td>\n      <td>object</td>\n      <td>2</td>\n    </tr>\n    <tr>\n      <th>38</th>\n      <td>REG_CITY_NOT_WORK_CITY</td>\n      <td>object</td>\n      <td>2</td>\n    </tr>\n    <tr>\n      <th>39</th>\n      <td>LIVE_CITY_NOT_WORK_CITY</td>\n      <td>object</td>\n      <td>2</td>\n    </tr>\n    <tr>\n      <th>40</th>\n      <td>ORGANIZATION_TYPE</td>\n      <td>object</td>\n      <td>58</td>\n    </tr>\n    <tr>\n      <th>41</th>\n      <td>EXT_SOURCE_1</td>\n      <td>object</td>\n      <td>114584</td>\n    </tr>\n    <tr>\n      <th>42</th>\n      <td>EXT_SOURCE_2</td>\n      <td>object</td>\n      <td>119831</td>\n    </tr>\n    <tr>\n      <th>43</th>\n      <td>EXT_SOURCE_3</td>\n      <td>object</td>\n      <td>814</td>\n    </tr>\n    <tr>\n      <th>44</th>\n      <td>APARTMENTS_AVG</td>\n      <td>object</td>\n      <td>2339</td>\n    </tr>\n    <tr>\n      <th>45</th>\n      <td>BASEMENTAREA_AVG</td>\n      <td>object</td>\n      <td>3780</td>\n    </tr>\n    <tr>\n      <th>46</th>\n      <td>YEARS_BEGINEXPLUATATION_AVG</td>\n      <td>object</td>\n      <td>285</td>\n    </tr>\n    <tr>\n      <th>47</th>\n      <td>YEARS_BUILD_AVG</td>\n      <td>object</td>\n      <td>149</td>\n    </tr>\n    <tr>\n      <th>48</th>\n      <td>COMMONAREA_AVG</td>\n      <td>object</td>\n      <td>3181</td>\n    </tr>\n    <tr>\n      <th>49</th>\n      <td>ELEVATORS_AVG</td>\n      <td>object</td>\n      <td>257</td>\n    </tr>\n    <tr>\n      <th>50</th>\n      <td>ENTRANCES_AVG</td>\n      <td>object</td>\n      <td>285</td>\n    </tr>\n    <tr>\n      <th>51</th>\n      <td>FLOORSMAX_AVG</td>\n      <td>object</td>\n      <td>403</td>\n    </tr>\n    <tr>\n      <th>52</th>\n      <td>FLOORSMIN_AVG</td>\n      <td>object</td>\n      <td>305</td>\n    </tr>\n    <tr>\n      <th>53</th>\n      <td>LANDAREA_AVG</td>\n      <td>object</td>\n      <td>3527</td>\n    </tr>\n    <tr>\n      <th>54</th>\n      <td>LIVINGAPARTMENTS_AVG</td>\n      <td>object</td>\n      <td>1868</td>\n    </tr>\n    <tr>\n      <th>55</th>\n      <td>LIVINGAREA_AVG</td>\n      <td>object</td>\n      <td>5199</td>\n    </tr>\n    <tr>\n      <th>56</th>\n      <td>NONLIVINGAPARTMENTS_AVG</td>\n      <td>object</td>\n      <td>386</td>\n    </tr>\n    <tr>\n      <th>57</th>\n      <td>NONLIVINGAREA_AVG</td>\n      <td>object</td>\n      <td>3290</td>\n    </tr>\n    <tr>\n      <th>58</th>\n      <td>APARTMENTS_MODE</td>\n      <td>object</td>\n      <td>760</td>\n    </tr>\n    <tr>\n      <th>59</th>\n      <td>BASEMENTAREA_MODE</td>\n      <td>object</td>\n      <td>3841</td>\n    </tr>\n    <tr>\n      <th>60</th>\n      <td>YEARS_BEGINEXPLUATATION_MODE</td>\n      <td>object</td>\n      <td>221</td>\n    </tr>\n    <tr>\n      <th>61</th>\n      <td>YEARS_BUILD_MODE</td>\n      <td>object</td>\n      <td>154</td>\n    </tr>\n    <tr>\n      <th>62</th>\n      <td>COMMONAREA_MODE</td>\n      <td>object</td>\n      <td>3128</td>\n    </tr>\n    <tr>\n      <th>63</th>\n      <td>ELEVATORS_MODE</td>\n      <td>object</td>\n      <td>26</td>\n    </tr>\n    <tr>\n      <th>64</th>\n      <td>ENTRANCES_MODE</td>\n      <td>object</td>\n      <td>30</td>\n    </tr>\n    <tr>\n      <th>65</th>\n      <td>FLOORSMAX_MODE</td>\n      <td>object</td>\n      <td>25</td>\n    </tr>\n    <tr>\n      <th>66</th>\n      <td>FLOORSMIN_MODE</td>\n      <td>object</td>\n      <td>25</td>\n    </tr>\n    <tr>\n      <th>67</th>\n      <td>LANDAREA_MODE</td>\n      <td>object</td>\n      <td>3563</td>\n    </tr>\n    <tr>\n      <th>68</th>\n      <td>LIVINGAPARTMENTS_MODE</td>\n      <td>object</td>\n      <td>736</td>\n    </tr>\n    <tr>\n      <th>69</th>\n      <td>LIVINGAREA_MODE</td>\n      <td>object</td>\n      <td>5301</td>\n    </tr>\n    <tr>\n      <th>70</th>\n      <td>NONLIVINGAPARTMENTS_MODE</td>\n      <td>object</td>\n      <td>167</td>\n    </tr>\n    <tr>\n      <th>71</th>\n      <td>NONLIVINGAREA_MODE</td>\n      <td>object</td>\n      <td>3327</td>\n    </tr>\n    <tr>\n      <th>72</th>\n      <td>APARTMENTS_MEDI</td>\n      <td>object</td>\n      <td>1148</td>\n    </tr>\n    <tr>\n      <th>73</th>\n      <td>BASEMENTAREA_MEDI</td>\n      <td>object</td>\n      <td>3772</td>\n    </tr>\n    <tr>\n      <th>74</th>\n      <td>YEARS_BEGINEXPLUATATION_MEDI</td>\n      <td>object</td>\n      <td>245</td>\n    </tr>\n    <tr>\n      <th>75</th>\n      <td>YEARS_BUILD_MEDI</td>\n      <td>object</td>\n      <td>151</td>\n    </tr>\n    <tr>\n      <th>76</th>\n      <td>COMMONAREA_MEDI</td>\n      <td>object</td>\n      <td>3202</td>\n    </tr>\n    <tr>\n      <th>77</th>\n      <td>ELEVATORS_MEDI</td>\n      <td>object</td>\n      <td>46</td>\n    </tr>\n    <tr>\n      <th>78</th>\n      <td>ENTRANCES_MEDI</td>\n      <td>object</td>\n      <td>46</td>\n    </tr>\n    <tr>\n      <th>79</th>\n      <td>FLOORSMAX_MEDI</td>\n      <td>object</td>\n      <td>49</td>\n    </tr>\n    <tr>\n      <th>80</th>\n      <td>FLOORSMIN_MEDI</td>\n      <td>object</td>\n      <td>47</td>\n    </tr>\n    <tr>\n      <th>81</th>\n      <td>LANDAREA_MEDI</td>\n      <td>object</td>\n      <td>3560</td>\n    </tr>\n    <tr>\n      <th>82</th>\n      <td>LIVINGAPARTMENTS_MEDI</td>\n      <td>object</td>\n      <td>1097</td>\n    </tr>\n    <tr>\n      <th>83</th>\n      <td>LIVINGAREA_MEDI</td>\n      <td>object</td>\n      <td>5281</td>\n    </tr>\n    <tr>\n      <th>84</th>\n      <td>NONLIVINGAPARTMENTS_MEDI</td>\n      <td>object</td>\n      <td>214</td>\n    </tr>\n    <tr>\n      <th>85</th>\n      <td>NONLIVINGAREA_MEDI</td>\n      <td>object</td>\n      <td>3323</td>\n    </tr>\n    <tr>\n      <th>86</th>\n      <td>FONDKAPREMONT_MODE</td>\n      <td>object</td>\n      <td>4</td>\n    </tr>\n    <tr>\n      <th>87</th>\n      <td>HOUSETYPE_MODE</td>\n      <td>object</td>\n      <td>3</td>\n    </tr>\n    <tr>\n      <th>88</th>\n      <td>TOTALAREA_MODE</td>\n      <td>object</td>\n      <td>5116</td>\n    </tr>\n    <tr>\n      <th>89</th>\n      <td>WALLSMATERIAL_MODE</td>\n      <td>object</td>\n      <td>7</td>\n    </tr>\n    <tr>\n      <th>90</th>\n      <td>EMERGENCYSTATE_MODE</td>\n      <td>object</td>\n      <td>2</td>\n    </tr>\n    <tr>\n      <th>91</th>\n      <td>OBS_30_CNT_SOCIAL_CIRCLE</td>\n      <td>object</td>\n      <td>33</td>\n    </tr>\n    <tr>\n      <th>92</th>\n      <td>DEF_30_CNT_SOCIAL_CIRCLE</td>\n      <td>object</td>\n      <td>10</td>\n    </tr>\n    <tr>\n      <th>93</th>\n      <td>OBS_60_CNT_SOCIAL_CIRCLE</td>\n      <td>object</td>\n      <td>33</td>\n    </tr>\n    <tr>\n      <th>94</th>\n      <td>DEF_60_CNT_SOCIAL_CIRCLE</td>\n      <td>object</td>\n      <td>9</td>\n    </tr>\n    <tr>\n      <th>95</th>\n      <td>DAYS_LAST_PHONE_CHANGE</td>\n      <td>object</td>\n      <td>3773</td>\n    </tr>\n    <tr>\n      <th>96</th>\n      <td>FLAG_DOCUMENT_2</td>\n      <td>object</td>\n      <td>2</td>\n    </tr>\n    <tr>\n      <th>97</th>\n      <td>FLAG_DOCUMENT_3</td>\n      <td>object</td>\n      <td>2</td>\n    </tr>\n    <tr>\n      <th>98</th>\n      <td>FLAG_DOCUMENT_4</td>\n      <td>object</td>\n      <td>2</td>\n    </tr>\n    <tr>\n      <th>99</th>\n      <td>FLAG_DOCUMENT_5</td>\n      <td>object</td>\n      <td>2</td>\n    </tr>\n    <tr>\n      <th>100</th>\n      <td>FLAG_DOCUMENT_6</td>\n      <td>object</td>\n      <td>2</td>\n    </tr>\n    <tr>\n      <th>101</th>\n      <td>FLAG_DOCUMENT_7</td>\n      <td>object</td>\n      <td>2</td>\n    </tr>\n    <tr>\n      <th>102</th>\n      <td>FLAG_DOCUMENT_8</td>\n      <td>object</td>\n      <td>2</td>\n    </tr>\n    <tr>\n      <th>103</th>\n      <td>FLAG_DOCUMENT_9</td>\n      <td>object</td>\n      <td>2</td>\n    </tr>\n    <tr>\n      <th>104</th>\n      <td>FLAG_DOCUMENT_10</td>\n      <td>object</td>\n      <td>2</td>\n    </tr>\n    <tr>\n      <th>105</th>\n      <td>FLAG_DOCUMENT_11</td>\n      <td>object</td>\n      <td>2</td>\n    </tr>\n    <tr>\n      <th>106</th>\n      <td>FLAG_DOCUMENT_12</td>\n      <td>object</td>\n      <td>2</td>\n    </tr>\n    <tr>\n      <th>107</th>\n      <td>FLAG_DOCUMENT_13</td>\n      <td>object</td>\n      <td>2</td>\n    </tr>\n    <tr>\n      <th>108</th>\n      <td>FLAG_DOCUMENT_14</td>\n      <td>object</td>\n      <td>2</td>\n    </tr>\n    <tr>\n      <th>109</th>\n      <td>FLAG_DOCUMENT_15</td>\n      <td>object</td>\n      <td>2</td>\n    </tr>\n    <tr>\n      <th>110</th>\n      <td>FLAG_DOCUMENT_16</td>\n      <td>object</td>\n      <td>2</td>\n    </tr>\n    <tr>\n      <th>111</th>\n      <td>FLAG_DOCUMENT_17</td>\n      <td>object</td>\n      <td>2</td>\n    </tr>\n    <tr>\n      <th>112</th>\n      <td>FLAG_DOCUMENT_18</td>\n      <td>object</td>\n      <td>2</td>\n    </tr>\n    <tr>\n      <th>113</th>\n      <td>FLAG_DOCUMENT_19</td>\n      <td>object</td>\n      <td>2</td>\n    </tr>\n    <tr>\n      <th>114</th>\n      <td>FLAG_DOCUMENT_20</td>\n      <td>object</td>\n      <td>2</td>\n    </tr>\n    <tr>\n      <th>115</th>\n      <td>FLAG_DOCUMENT_21</td>\n      <td>object</td>\n      <td>2</td>\n    </tr>\n    <tr>\n      <th>116</th>\n      <td>AMT_REQ_CREDIT_BUREAU_HOUR</td>\n      <td>object</td>\n      <td>5</td>\n    </tr>\n    <tr>\n      <th>117</th>\n      <td>AMT_REQ_CREDIT_BUREAU_DAY</td>\n      <td>object</td>\n      <td>9</td>\n    </tr>\n    <tr>\n      <th>118</th>\n      <td>AMT_REQ_CREDIT_BUREAU_WEEK</td>\n      <td>object</td>\n      <td>9</td>\n    </tr>\n    <tr>\n      <th>119</th>\n      <td>AMT_REQ_CREDIT_BUREAU_MON</td>\n      <td>object</td>\n      <td>24</td>\n    </tr>\n    <tr>\n      <th>120</th>\n      <td>AMT_REQ_CREDIT_BUREAU_QRT</td>\n      <td>object</td>\n      <td>11</td>\n    </tr>\n    <tr>\n      <th>121</th>\n      <td>AMT_REQ_CREDIT_BUREAU_YEAR</td>\n      <td>object</td>\n      <td>25</td>\n    </tr>\n  </tbody>\n</table>\n</div>"
     },
     "execution_count": 3,
     "metadata": {},
     "output_type": "execute_result"
    }
   ],
   "source": [
    "df_categoricals = pd.DataFrame()\n",
    "df_categoricals['column_name'] = application_train.columns\n",
    "df_categoricals['dtype'] = application_train.columns.dtype\n",
    "df_categoricals['n_uniques'] = np.array(application_train.nunique())\n",
    "df_categoricals"
   ],
   "metadata": {
    "collapsed": false,
    "pycharm": {
     "name": "#%%\n"
    }
   }
  },
  {
   "cell_type": "code",
   "execution_count": 4,
   "outputs": [
    {
     "name": "stdout",
     "output_type": "stream",
     "text": [
      "hola\n"
     ]
    }
   ],
   "source": [
    "print('hola')"
   ],
   "metadata": {
    "collapsed": false,
    "pycharm": {
     "name": "#%%\n"
    }
   }
  },
  {
   "cell_type": "code",
   "execution_count": 12,
   "id": "8b294976-dc0d-44bd-9bf6-29ba1f6a2e2b",
   "metadata": {
    "id": "8b294976-dc0d-44bd-9bf6-29ba1f6a2e2b"
   },
   "outputs": [
    {
     "data": {
      "text/plain": "{'NAME_CONTRACT_TYPE': Cash loans         278232\n Revolving loans     29279\n Name: NAME_CONTRACT_TYPE, dtype: int64,\n 'CODE_GENDER': F      202448\n M      105059\n XNA         4\n Name: CODE_GENDER, dtype: int64,\n 'FLAG_OWN_CAR': N    202924\n Y    104587\n Name: FLAG_OWN_CAR, dtype: int64,\n 'FLAG_OWN_REALTY': Y    213312\n N     94199\n Name: FLAG_OWN_REALTY, dtype: int64,\n 'NAME_TYPE_SUITE': Unaccompanied      248526\n Family              40149\n Spouse, partner     11370\n Children             3267\n Other_B              1770\n Other_A               866\n Group of people       271\n Name: NAME_TYPE_SUITE, dtype: int64,\n 'NAME_INCOME_TYPE': Working                 158774\n Commercial associate     71617\n Pensioner                55362\n State servant            21703\n Unemployed                  22\n Student                     18\n Businessman                 10\n Maternity leave              5\n Name: NAME_INCOME_TYPE, dtype: int64,\n 'NAME_EDUCATION_TYPE': Secondary / secondary special    218391\n Higher education                  74863\n Incomplete higher                 10277\n Lower secondary                    3816\n Academic degree                     164\n Name: NAME_EDUCATION_TYPE, dtype: int64,\n 'NAME_FAMILY_STATUS': Married                 196432\n Single / not married     45444\n Civil marriage           29775\n Separated                19770\n Widow                    16088\n Unknown                      2\n Name: NAME_FAMILY_STATUS, dtype: int64,\n 'NAME_HOUSING_TYPE': House / apartment      272868\n With parents            14840\n Municipal apartment     11183\n Rented apartment         4881\n Office apartment         2617\n Co-op apartment          1122\n Name: NAME_HOUSING_TYPE, dtype: int64,\n 'OCCUPATION_TYPE': Laborers                 55186\n Sales staff              32102\n Core staff               27570\n Managers                 21371\n Drivers                  18603\n High skill tech staff    11380\n Accountants               9813\n Medicine staff            8537\n Security staff            6721\n Cooking staff             5946\n Cleaning staff            4653\n Private service staff     2652\n Low-skill Laborers        2093\n Waiters/barmen staff      1348\n Secretaries               1305\n Realty agents              751\n HR staff                   563\n IT staff                   526\n Name: OCCUPATION_TYPE, dtype: int64,\n 'WEEKDAY_APPR_PROCESS_START': TUESDAY      53901\n WEDNESDAY    51934\n MONDAY       50714\n THURSDAY     50591\n FRIDAY       50338\n SATURDAY     33852\n SUNDAY       16181\n Name: WEEKDAY_APPR_PROCESS_START, dtype: int64,\n 'ORGANIZATION_TYPE': Business Entity Type 3    67992\n XNA                       55374\n Self-employed             38412\n Other                     16683\n Medicine                  11193\n Business Entity Type 2    10553\n Government                10404\n School                     8893\n Trade: type 7              7831\n Kindergarten               6880\n Construction               6721\n Business Entity Type 1     5984\n Transport: type 4          5398\n Trade: type 3              3492\n Industry: type 9           3368\n Industry: type 3           3278\n Security                   3247\n Housing                    2958\n Industry: type 11          2704\n Military                   2634\n Bank                       2507\n Agriculture                2454\n Police                     2341\n Transport: type 2          2204\n Postal                     2157\n Security Ministries        1974\n Trade: type 2              1900\n Restaurant                 1811\n Services                   1575\n University                 1327\n Industry: type 7           1307\n Transport: type 3          1187\n Industry: type 1           1039\n Hotel                       966\n Electricity                 950\n Industry: type 4            877\n Trade: type 6               631\n Industry: type 5            599\n Insurance                   597\n Telecom                     577\n Emergency                   560\n Industry: type 2            458\n Advertising                 429\n Realtor                     396\n Culture                     379\n Industry: type 12           369\n Trade: type 1               348\n Mobile                      317\n Legal Services              305\n Cleaning                    260\n Transport: type 1           201\n Industry: type 6            112\n Industry: type 10           109\n Religion                     85\n Industry: type 13            67\n Trade: type 4                64\n Trade: type 5                49\n Industry: type 8             24\n Name: ORGANIZATION_TYPE, dtype: int64,\n 'FONDKAPREMONT_MODE': reg oper account         73830\n reg oper spec account    12080\n not specified             5687\n org spec account          5619\n Name: FONDKAPREMONT_MODE, dtype: int64,\n 'HOUSETYPE_MODE': block of flats      150503\n specific housing      1499\n terraced house        1212\n Name: HOUSETYPE_MODE, dtype: int64,\n 'WALLSMATERIAL_MODE': Panel           66040\n Stone, brick    64815\n Block            9253\n Wooden           5362\n Mixed            2296\n Monolithic       1779\n Others           1625\n Name: WALLSMATERIAL_MODE, dtype: int64,\n 'EMERGENCYSTATE_MODE': No     159428\n Yes      2328\n Name: EMERGENCYSTATE_MODE, dtype: int64}"
     },
     "execution_count": 12,
     "metadata": {},
     "output_type": "execute_result"
    }
   ],
   "source": [
    "cat_quant_variables = {}\n",
    "cat_variables = {}\n",
    "for column in application_train.columns:\n",
    "    if application_train[column].dtype == 'object':\n",
    "        cat_quant_variables.update({column:application_train[column].value_counts()})\n",
    "        cat_variables.update({column: application_train[column].nunique()})\n",
    "\n",
    "cat_quant_variables"
   ]
  },
  {
   "cell_type": "code",
   "execution_count": 13,
   "outputs": [
    {
     "data": {
      "text/plain": "{'NAME_CONTRACT_TYPE': 2,\n 'CODE_GENDER': 3,\n 'FLAG_OWN_CAR': 2,\n 'FLAG_OWN_REALTY': 2,\n 'NAME_TYPE_SUITE': 7,\n 'NAME_INCOME_TYPE': 8,\n 'NAME_EDUCATION_TYPE': 5,\n 'NAME_FAMILY_STATUS': 6,\n 'NAME_HOUSING_TYPE': 6,\n 'OCCUPATION_TYPE': 18,\n 'WEEKDAY_APPR_PROCESS_START': 7,\n 'ORGANIZATION_TYPE': 58,\n 'FONDKAPREMONT_MODE': 4,\n 'HOUSETYPE_MODE': 3,\n 'WALLSMATERIAL_MODE': 7,\n 'EMERGENCYSTATE_MODE': 2}"
     },
     "execution_count": 13,
     "metadata": {},
     "output_type": "execute_result"
    }
   ],
   "source": [
    "cat_variables"
   ],
   "metadata": {
    "collapsed": false,
    "pycharm": {
     "name": "#%%\n"
    }
   }
  },
  {
   "cell_type": "markdown",
   "id": "967d1938-e27d-4fbd-9bdc-f26364f5fdfd",
   "metadata": {
    "id": "967d1938-e27d-4fbd-9bdc-f26364f5fdfd"
   },
   "source": [
    "7- Analyzing missing data: show the percentage of missing data for each column ordered by percentage descending (show only the 20 columns with higher missing pct)"
   ]
  },
  {
   "cell_type": "code",
   "execution_count": 14,
   "id": "0b65aa7e-d8a2-44b0-9803-ca5277471470",
   "metadata": {
    "id": "0b65aa7e-d8a2-44b0-9803-ca5277471470"
   },
   "outputs": [
    {
     "data": {
      "text/plain": "SK_ID_CURR                           0\nTARGET                               0\nNAME_CONTRACT_TYPE                   0\nCODE_GENDER                          0\nFLAG_OWN_CAR                         0\nFLAG_OWN_REALTY                      0\nCNT_CHILDREN                         0\nAMT_INCOME_TOTAL                     0\nAMT_CREDIT                           0\nAMT_ANNUITY                         12\nAMT_GOODS_PRICE                    278\nNAME_TYPE_SUITE                   1292\nNAME_INCOME_TYPE                     0\nNAME_EDUCATION_TYPE                  0\nNAME_FAMILY_STATUS                   0\nNAME_HOUSING_TYPE                    0\nREGION_POPULATION_RELATIVE           0\nDAYS_BIRTH                           0\nDAYS_EMPLOYED                        0\nDAYS_REGISTRATION                    0\nDAYS_ID_PUBLISH                      0\nOWN_CAR_AGE                     202929\nFLAG_MOBIL                           0\nFLAG_EMP_PHONE                       0\nFLAG_WORK_PHONE                      0\nFLAG_CONT_MOBILE                     0\nFLAG_PHONE                           0\nFLAG_EMAIL                           0\nOCCUPATION_TYPE                  96391\nCNT_FAM_MEMBERS                      2\nREGION_RATING_CLIENT                 0\nREGION_RATING_CLIENT_W_CITY          0\nWEEKDAY_APPR_PROCESS_START           0\nHOUR_APPR_PROCESS_START              0\nREG_REGION_NOT_LIVE_REGION           0\nREG_REGION_NOT_WORK_REGION           0\nLIVE_REGION_NOT_WORK_REGION          0\nREG_CITY_NOT_LIVE_CITY               0\nREG_CITY_NOT_WORK_CITY               0\nLIVE_CITY_NOT_WORK_CITY              0\nORGANIZATION_TYPE                    0\nEXT_SOURCE_1                    173378\nEXT_SOURCE_2                       660\nEXT_SOURCE_3                     60965\nAPARTMENTS_AVG                  156061\nBASEMENTAREA_AVG                179943\nYEARS_BEGINEXPLUATATION_AVG     150007\nYEARS_BUILD_AVG                 204488\nCOMMONAREA_AVG                  214865\nELEVATORS_AVG                   163891\nENTRANCES_AVG                   154828\nFLOORSMAX_AVG                   153020\nFLOORSMIN_AVG                   208642\nLANDAREA_AVG                    182590\nLIVINGAPARTMENTS_AVG            210199\nLIVINGAREA_AVG                  154350\nNONLIVINGAPARTMENTS_AVG         213514\nNONLIVINGAREA_AVG               169682\nAPARTMENTS_MODE                 156061\nBASEMENTAREA_MODE               179943\nYEARS_BEGINEXPLUATATION_MODE    150007\nYEARS_BUILD_MODE                204488\nCOMMONAREA_MODE                 214865\nELEVATORS_MODE                  163891\nENTRANCES_MODE                  154828\nFLOORSMAX_MODE                  153020\nFLOORSMIN_MODE                  208642\nLANDAREA_MODE                   182590\nLIVINGAPARTMENTS_MODE           210199\nLIVINGAREA_MODE                 154350\nNONLIVINGAPARTMENTS_MODE        213514\nNONLIVINGAREA_MODE              169682\nAPARTMENTS_MEDI                 156061\nBASEMENTAREA_MEDI               179943\nYEARS_BEGINEXPLUATATION_MEDI    150007\nYEARS_BUILD_MEDI                204488\nCOMMONAREA_MEDI                 214865\nELEVATORS_MEDI                  163891\nENTRANCES_MEDI                  154828\nFLOORSMAX_MEDI                  153020\nFLOORSMIN_MEDI                  208642\nLANDAREA_MEDI                   182590\nLIVINGAPARTMENTS_MEDI           210199\nLIVINGAREA_MEDI                 154350\nNONLIVINGAPARTMENTS_MEDI        213514\nNONLIVINGAREA_MEDI              169682\nFONDKAPREMONT_MODE              210295\nHOUSETYPE_MODE                  154297\nTOTALAREA_MODE                  148431\nWALLSMATERIAL_MODE              156341\nEMERGENCYSTATE_MODE             145755\nOBS_30_CNT_SOCIAL_CIRCLE          1021\nDEF_30_CNT_SOCIAL_CIRCLE          1021\nOBS_60_CNT_SOCIAL_CIRCLE          1021\nDEF_60_CNT_SOCIAL_CIRCLE          1021\nDAYS_LAST_PHONE_CHANGE               1\nFLAG_DOCUMENT_2                      0\nFLAG_DOCUMENT_3                      0\nFLAG_DOCUMENT_4                      0\nFLAG_DOCUMENT_5                      0\nFLAG_DOCUMENT_6                      0\nFLAG_DOCUMENT_7                      0\nFLAG_DOCUMENT_8                      0\nFLAG_DOCUMENT_9                      0\nFLAG_DOCUMENT_10                     0\nFLAG_DOCUMENT_11                     0\nFLAG_DOCUMENT_12                     0\nFLAG_DOCUMENT_13                     0\nFLAG_DOCUMENT_14                     0\nFLAG_DOCUMENT_15                     0\nFLAG_DOCUMENT_16                     0\nFLAG_DOCUMENT_17                     0\nFLAG_DOCUMENT_18                     0\nFLAG_DOCUMENT_19                     0\nFLAG_DOCUMENT_20                     0\nFLAG_DOCUMENT_21                     0\nAMT_REQ_CREDIT_BUREAU_HOUR       41519\nAMT_REQ_CREDIT_BUREAU_DAY        41519\nAMT_REQ_CREDIT_BUREAU_WEEK       41519\nAMT_REQ_CREDIT_BUREAU_MON        41519\nAMT_REQ_CREDIT_BUREAU_QRT        41519\nAMT_REQ_CREDIT_BUREAU_YEAR       41519\ndtype: int64"
     },
     "execution_count": 14,
     "metadata": {},
     "output_type": "execute_result"
    }
   ],
   "source": [
    "application_train.isna().sum()"
   ]
  },
  {
   "cell_type": "code",
   "execution_count": 15,
   "outputs": [
    {
     "data": {
      "text/plain": "                              data\nCOMMONAREA_MEDI           0.698723\nCOMMONAREA_AVG            0.698723\nCOMMONAREA_MODE           0.698723\nNONLIVINGAPARTMENTS_MODE  0.694330\nNONLIVINGAPARTMENTS_AVG   0.694330\nNONLIVINGAPARTMENTS_MEDI  0.694330\nFONDKAPREMONT_MODE        0.683862\nLIVINGAPARTMENTS_MODE     0.683550\nLIVINGAPARTMENTS_AVG      0.683550\nLIVINGAPARTMENTS_MEDI     0.683550\nFLOORSMIN_AVG             0.678486\nFLOORSMIN_MODE            0.678486\nFLOORSMIN_MEDI            0.678486\nYEARS_BUILD_MEDI          0.664978\nYEARS_BUILD_MODE          0.664978\nYEARS_BUILD_AVG           0.664978\nOWN_CAR_AGE               0.659908\nLANDAREA_MEDI             0.593767\nLANDAREA_MODE             0.593767\nLANDAREA_AVG              0.593767",
      "text/html": "<div>\n<style scoped>\n    .dataframe tbody tr th:only-of-type {\n        vertical-align: middle;\n    }\n\n    .dataframe tbody tr th {\n        vertical-align: top;\n    }\n\n    .dataframe thead th {\n        text-align: right;\n    }\n</style>\n<table border=\"1\" class=\"dataframe\">\n  <thead>\n    <tr style=\"text-align: right;\">\n      <th></th>\n      <th>data</th>\n    </tr>\n  </thead>\n  <tbody>\n    <tr>\n      <th>COMMONAREA_MEDI</th>\n      <td>0.698723</td>\n    </tr>\n    <tr>\n      <th>COMMONAREA_AVG</th>\n      <td>0.698723</td>\n    </tr>\n    <tr>\n      <th>COMMONAREA_MODE</th>\n      <td>0.698723</td>\n    </tr>\n    <tr>\n      <th>NONLIVINGAPARTMENTS_MODE</th>\n      <td>0.694330</td>\n    </tr>\n    <tr>\n      <th>NONLIVINGAPARTMENTS_AVG</th>\n      <td>0.694330</td>\n    </tr>\n    <tr>\n      <th>NONLIVINGAPARTMENTS_MEDI</th>\n      <td>0.694330</td>\n    </tr>\n    <tr>\n      <th>FONDKAPREMONT_MODE</th>\n      <td>0.683862</td>\n    </tr>\n    <tr>\n      <th>LIVINGAPARTMENTS_MODE</th>\n      <td>0.683550</td>\n    </tr>\n    <tr>\n      <th>LIVINGAPARTMENTS_AVG</th>\n      <td>0.683550</td>\n    </tr>\n    <tr>\n      <th>LIVINGAPARTMENTS_MEDI</th>\n      <td>0.683550</td>\n    </tr>\n    <tr>\n      <th>FLOORSMIN_AVG</th>\n      <td>0.678486</td>\n    </tr>\n    <tr>\n      <th>FLOORSMIN_MODE</th>\n      <td>0.678486</td>\n    </tr>\n    <tr>\n      <th>FLOORSMIN_MEDI</th>\n      <td>0.678486</td>\n    </tr>\n    <tr>\n      <th>YEARS_BUILD_MEDI</th>\n      <td>0.664978</td>\n    </tr>\n    <tr>\n      <th>YEARS_BUILD_MODE</th>\n      <td>0.664978</td>\n    </tr>\n    <tr>\n      <th>YEARS_BUILD_AVG</th>\n      <td>0.664978</td>\n    </tr>\n    <tr>\n      <th>OWN_CAR_AGE</th>\n      <td>0.659908</td>\n    </tr>\n    <tr>\n      <th>LANDAREA_MEDI</th>\n      <td>0.593767</td>\n    </tr>\n    <tr>\n      <th>LANDAREA_MODE</th>\n      <td>0.593767</td>\n    </tr>\n    <tr>\n      <th>LANDAREA_AVG</th>\n      <td>0.593767</td>\n    </tr>\n  </tbody>\n</table>\n</div>"
     },
     "execution_count": 15,
     "metadata": {},
     "output_type": "execute_result"
    }
   ],
   "source": [
    "missing_values = pd.DataFrame(application_train.isna().sum() / application_train.count().max(), columns=['data'])\n",
    "missing_values.sort_values('data', ascending=False, inplace=True)\n",
    "missing_values.head(20)"
   ],
   "metadata": {
    "collapsed": false,
    "pycharm": {
     "name": "#%%\n"
    }
   }
  },
  {
   "cell_type": "markdown",
   "id": "783c5bb6-6b6d-4e34-bbe2-3a5dc319a4f0",
   "metadata": {
    "id": "783c5bb6-6b6d-4e34-bbe2-3a5dc319a4f0"
   },
   "source": [
    "**Analyzing distribution of variables**"
   ]
  },
  {
   "cell_type": "markdown",
   "id": "9c79d319-bde8-47a4-890d-6694edf221e2",
   "metadata": {
    "id": "9c79d319-bde8-47a4-890d-6694edf221e2"
   },
   "source": [
    "1- Show the distribution of credit amounts"
   ]
  },
  {
   "cell_type": "code",
   "execution_count": 16,
   "id": "bc953042-9744-498e-a435-fa660e76c70d",
   "metadata": {
    "id": "bc953042-9744-498e-a435-fa660e76c70d"
   },
   "outputs": [
    {
     "data": {
      "text/plain": "<AxesSubplot:>"
     },
     "execution_count": 16,
     "metadata": {},
     "output_type": "execute_result"
    },
    {
     "data": {
      "text/plain": "<Figure size 432x288 with 1 Axes>",
      "image/png": "[encoded data removed]"
     },
     "metadata": {
      "needs_background": "light"
     },
     "output_type": "display_data"
    }
   ],
   "source": [
    "application_train['AMT_CREDIT'].hist()"
   ]
  },
  {
   "cell_type": "markdown",
   "id": "f4e7bf4a-25c7-47c0-aea8-ed916d8827f6",
   "metadata": {
    "id": "f4e7bf4a-25c7-47c0-aea8-ed916d8827f6"
   },
   "source": [
    "2- Plot the education level of the credit applicants, show the percentages of each category. Also print the total counts for each category."
   ]
  },
  {
   "cell_type": "code",
   "execution_count": 17,
   "id": "406d7d06-b21a-4938-8e3d-11798def489b",
   "metadata": {
    "id": "406d7d06-b21a-4938-8e3d-11798def489b"
   },
   "outputs": [],
   "source": [
    "### Complete in this cell: level of education plot"
   ]
  },
  {
   "cell_type": "markdown",
   "id": "78e17d30-acce-4b7f-bacc-af488cda3e7d",
   "metadata": {
    "id": "78e17d30-acce-4b7f-bacc-af488cda3e7d"
   },
   "source": [
    "3- Plot the distribution of ocupation of the loan applicants"
   ]
  },
  {
   "cell_type": "code",
   "execution_count": 18,
   "id": "ec101d97-c77b-4e5d-b69f-7c2f8f652d8f",
   "metadata": {
    "id": "ec101d97-c77b-4e5d-b69f-7c2f8f652d8f"
   },
   "outputs": [],
   "source": [
    "### Complete in this cell: ocupation of applicants"
   ]
  },
  {
   "cell_type": "markdown",
   "id": "824b1bc0-4dad-4ce8-b574-cbae5984a589",
   "metadata": {
    "id": "824b1bc0-4dad-4ce8-b574-cbae5984a589"
   },
   "source": [
    "4- Plot the family status of the applicants"
   ]
  },
  {
   "cell_type": "code",
   "execution_count": 19,
   "id": "95463328-4392-435e-a203-95e28998930b",
   "metadata": {
    "id": "95463328-4392-435e-a203-95e28998930b"
   },
   "outputs": [],
   "source": [
    "### Complete in this cell: family status"
   ]
  },
  {
   "cell_type": "markdown",
   "id": "efa77db6-a50a-454e-b1b2-83abe3c8baae",
   "metadata": {
    "id": "efa77db6-a50a-454e-b1b2-83abe3c8baae"
   },
   "source": [
    "5- Plot the income type of applicants grouped by the target variable"
   ]
  },
  {
   "cell_type": "code",
   "execution_count": 20,
   "id": "f22c3267-56c8-45fc-9184-b822cd026571",
   "metadata": {
    "id": "f22c3267-56c8-45fc-9184-b822cd026571"
   },
   "outputs": [],
   "source": [
    "### Complete in this cell: Income type of applicants by target variable"
   ]
  },
  {
   "cell_type": "markdown",
   "id": "675b1ae3-c943-4737-bdb8-2ecff733b27b",
   "metadata": {
    "id": "675b1ae3-c943-4737-bdb8-2ecff733b27b"
   },
   "source": [
    "## Preprocessing"
   ]
  },
  {
   "cell_type": "markdown",
   "id": "51397c38-0204-454b-8fe6-011dc8c38418",
   "metadata": {
    "id": "51397c38-0204-454b-8fe6-011dc8c38418"
   },
   "source": [
    "In this section, you will code a function to make all the data pre processing for the dataset. What you have to deliver is a function that takes the train and test dataframes, processes all features, and returns the transformed data as numpy arrays ready to be used for training."
   ]
  },
  {
   "cell_type": "markdown",
   "id": "b72d36eb-3ae5-40b3-b9d2-48f6abdeb734",
   "metadata": {
    "id": "b72d36eb-3ae5-40b3-b9d2-48f6abdeb734"
   },
   "source": [
    "The function should perform these activities:\n",
    "\n",
    "- Correct outliers/anomalous values in numerical columns (hint: take a look at the DAYS_EMPLOYED column)\n",
    "- Impute values for all columns with missing data (use median as imputing value)\n",
    "- Encode categorical features:\n",
    "    - If feature has 2 categories encode using binary encoding\n",
    "    - More than 2 categories, use one hot encoding \n",
    "- Feature scaling\n",
    "\n",
    "Keep in mind that you could get different number of columns in train and test because some category could only be present in one of the dataframes, this could create more one hot encoded columns. You should align train and test to have the same number of columns"
   ]
  },
  {
   "cell_type": "code",
   "execution_count": 21,
   "id": "27bfc706-a0ab-4711-9bb1-4fa77a6993d3",
   "metadata": {
    "id": "27bfc706-a0ab-4711-9bb1-4fa77a6993d3"
   },
   "outputs": [],
   "source": [
    "### Complete in this cell: Data pre processing function    "
   ]
  },
  {
   "cell_type": "markdown",
   "id": "2f5df1e8-1f03-4f14-9dbd-292d3b84859d",
   "metadata": {
    "id": "2f5df1e8-1f03-4f14-9dbd-292d3b84859d"
   },
   "source": [
    "## Training Models"
   ]
  },
  {
   "cell_type": "markdown",
   "id": "83062f02-7157-4083-b57b-78fbc95fe39b",
   "metadata": {
    "id": "83062f02-7157-4083-b57b-78fbc95fe39b"
   },
   "source": [
    "As usual, you will start training simple models and will progressively move to more complex models and pipelines."
   ]
  },
  {
   "cell_type": "markdown",
   "id": "7e99a786-a17e-4caa-9ac7-48fced40fa71",
   "metadata": {
    "id": "7e99a786-a17e-4caa-9ac7-48fced40fa71"
   },
   "source": [
    "### Baseline: LogisticRegression"
   ]
  },
  {
   "cell_type": "markdown",
   "id": "91e10796-6d86-4fce-8738-4b9c4fbbf359",
   "metadata": {
    "id": "91e10796-6d86-4fce-8738-4b9c4fbbf359"
   },
   "source": [
    "1- Import LogisticRegression from sklearn and train a model using the preprocesed train data from the previous section, and just default parameters. If you receive a warning because the algorithm failed to converge, try increasing the number of iterations or decreasing the C parameter "
   ]
  },
  {
   "cell_type": "code",
   "execution_count": 22,
   "id": "e1285054-4ea6-4bdb-9477-e774fc3d04c5",
   "metadata": {
    "id": "e1285054-4ea6-4bdb-9477-e774fc3d04c5"
   },
   "outputs": [],
   "source": [
    "### Complete in this cell: train a logistic regression "
   ]
  },
  {
   "cell_type": "markdown",
   "id": "018d5c7e-012f-47cc-8bfc-0332de907ae9",
   "metadata": {
    "id": "018d5c7e-012f-47cc-8bfc-0332de907ae9"
   },
   "source": [
    "2- Use the trained model to predict probabilites for the test data, and then save the results to a csv in the format expected in the competition: a SK_ID_CURR column and a TARGET column with probabilities. REMEMBER: the TARGET columns should ONLY contain the probabilities that the debt is not repaid (equivalent to the class 1)."
   ]
  },
  {
   "cell_type": "code",
   "execution_count": 23,
   "id": "798ae69b-1fe2-458d-9de7-3e1ed70b9b02",
   "metadata": {
    "id": "798ae69b-1fe2-458d-9de7-3e1ed70b9b02"
   },
   "outputs": [],
   "source": [
    "### Complete in this cell: predict test data and save csv"
   ]
  },
  {
   "cell_type": "markdown",
   "id": "b0826305-4900-4ba1-bf25-48205be980c6",
   "metadata": {
    "id": "b0826305-4900-4ba1-bf25-48205be980c6"
   },
   "source": [
    "3- Go to the Kaggle competition, and in the [submissions page](https://www.kaggle.com/competitions/home-credit-default-risk/submit) load your csv file. Report here the result in the private score you obtained."
   ]
  },
  {
   "cell_type": "markdown",
   "id": "4d889582-0c21-4789-acac-4d58f8eb74d9",
   "metadata": {
    "id": "4d889582-0c21-4789-acac-4d58f8eb74d9"
   },
   "source": [
    "At this point, the model should produce a result around 0.67 "
   ]
  },
  {
   "cell_type": "markdown",
   "id": "8f8300cc-d8be-4303-9042-757cb9e15d3e",
   "metadata": {
    "id": "8f8300cc-d8be-4303-9042-757cb9e15d3e"
   },
   "source": [
    "### Training a Random Forest Classifier "
   ]
  },
  {
   "cell_type": "markdown",
   "id": "05280b49-11af-4fe6-9236-95f31fb5e0d5",
   "metadata": {
    "id": "05280b49-11af-4fe6-9236-95f31fb5e0d5"
   },
   "source": [
    "You're gonna start working in more complex models: ensambles, particularly, you're going to use the Random Forest Classifier from Scikit Learn. "
   ]
  },
  {
   "cell_type": "markdown",
   "id": "0efdfd67-ec68-49b3-8727-7ab9784b5e54",
   "metadata": {
    "id": "0efdfd67-ec68-49b3-8727-7ab9784b5e54"
   },
   "source": [
    "1- Train a RandomForestClassifier, print the time taken by the fit function. Just use default hyperparameters, except for n_jobs, which should be set to \"-1\" to allow the library to use all CPU cores to speed up training time."
   ]
  },
  {
   "cell_type": "code",
   "execution_count": 24,
   "id": "1d3b9ea6-4bf9-42f0-aed1-1c0f3a4f9b39",
   "metadata": {
    "id": "1d3b9ea6-4bf9-42f0-aed1-1c0f3a4f9b39"
   },
   "outputs": [],
   "source": [
    "### Complete in this cell: train a RandomForestClassifier"
   ]
  },
  {
   "cell_type": "markdown",
   "id": "3b12a0a5-8ff1-4cb6-9928-37122d2a3435",
   "metadata": {
    "id": "3b12a0a5-8ff1-4cb6-9928-37122d2a3435"
   },
   "source": [
    "2- Use the classifier to predict probabilities on the test set, and save the results to a csv file."
   ]
  },
  {
   "cell_type": "code",
   "execution_count": 25,
   "id": "4ba80108-858c-4d4e-ba19-7f19fa526dc9",
   "metadata": {
    "id": "4ba80108-858c-4d4e-ba19-7f19fa526dc9"
   },
   "outputs": [],
   "source": [
    "### Complete in this cell: predict test data and save csv"
   ]
  },
  {
   "cell_type": "markdown",
   "id": "40be1079-e800-42b1-96b0-dce1d04c0a86",
   "metadata": {
    "id": "40be1079-e800-42b1-96b0-dce1d04c0a86"
   },
   "source": [
    "3- Load the predictions to the competition. Report the private score here."
   ]
  },
  {
   "cell_type": "code",
   "execution_count": 26,
   "id": "66f1180a-a26e-4e67-bcee-2a59bece5271",
   "metadata": {
    "id": "66f1180a-a26e-4e67-bcee-2a59bece5271"
   },
   "outputs": [],
   "source": [
    "!kaggle competitions submit -c home-credit-default-risk -f predictions_rfc.csv -m \"\" -q\n",
    "\n",
    "### Complete in this cell: report your score on Kaggle\n",
    "# This model should have a private score around 0.68 "
   ]
  },
  {
   "cell_type": "code",
   "execution_count": null,
   "outputs": [],
   "source": [
    "!kaggle competitions submissions -v home-credit-default-risk > submissions.csv\n",
    "submissions = pd.read_csv(\"submissions.csv\")\n",
    "print(submissions.loc[submissions.fileName =='predictions_rfc.csv'][['fileName','status','privateScore']])\n",
    "del submissions"
   ],
   "metadata": {
    "collapsed": false,
    "pycharm": {
     "name": "#%%\n"
    }
   }
  },
  {
   "cell_type": "markdown",
   "id": "4acfcc24-62b6-4118-9c42-a0268dcf5c53",
   "metadata": {
    "id": "4acfcc24-62b6-4118-9c42-a0268dcf5c53"
   },
   "source": [
    "### Randomized Search with Cross Validation"
   ]
  },
  {
   "cell_type": "markdown",
   "id": "dd634b2b-68af-4db1-b062-1496f8d1179e",
   "metadata": {
    "id": "dd634b2b-68af-4db1-b062-1496f8d1179e"
   },
   "source": [
    "So far, we've only created models using the default hyperparameters of each algorithm. This is usually something that we would only do for baseline models, hyperparameter tuning is a very important part of the modeling process and is often the difference between having an acceptable model or not.\n",
    "\n",
    "But, there are usually lots of hyperparameters to tune and a finite amount of time to do it, you have to consider the time and resources it takes to find an optimal combination of them. In the previous section you trained a random forest classifier and saw how much it took to train it once in your PC. If you want to do hyperparameter optimization you now have to consider that you will have to train the algorithm N number of times, with N being the cartesian product of all parameters. \n",
    "\n",
    "Furthermore, you can't validate the performance of your trained models on the test set, as this data should only be used to validate the final model. So we have to implement a validation strategy, K-Fold Cross Validation being the most common. But this also adds time complexity to our training, because we will have to train each combinations of hyperparameters M number of times, X being the number of folds in which we divided our dataset, so the total number of training iterations will be NxM... this resulting number can grow VERY quickly.\n",
    "\n",
    "Fortunately there are strategies to mitigate this, here you're going to select a small number of hyperparameters to test a RandomForestClassifier, and use a Randomized Search algorithm with K-Fold Cross Validation to avoid doing a full search across the grid. \n",
    "\n",
    "Remember: take in consideration how much time it took to train a single classifier, and define the number of cross validations folds and iterations of the search accordingly. \n",
    "A recommendation: run the training process, go make yourself a cup of coffee, sit somewhere comfortably and forget about it for a while.\n"
   ]
  },
  {
   "cell_type": "markdown",
   "id": "c49a11c7-156f-46bb-8bba-be29d1b2ed1a",
   "metadata": {
    "id": "c49a11c7-156f-46bb-8bba-be29d1b2ed1a"
   },
   "source": [
    "1- Use RandomizedSearchCV to find the best combination of hyperparameters for a RandomForestClassifier. The validation metric used to evaluate the models should be \"roc_auc\"."
   ]
  },
  {
   "cell_type": "code",
   "execution_count": 27,
   "id": "0cb4c536-82d8-49f8-a0b6-fede491055c1",
   "metadata": {
    "id": "0cb4c536-82d8-49f8-a0b6-fede491055c1"
   },
   "outputs": [],
   "source": [
    "### Complete in this cell: Use RandomizedSearchCV to find the best combination of hyperparameters for a RandomForestClassifier\n",
    "example_hyperparameter_grid = {\n",
    " 'bootstrap': [True, False],\n",
    " 'max_depth': [10, 50, 100, None],\n",
    " 'max_features': ['auto', 'sqrt'],\n",
    " 'min_samples_leaf': [1, 2, 4],\n",
    " 'min_samples_split': [2, 5, 10],\n",
    " 'n_estimators': [100, 200]\n",
    "}"
   ]
  },
  {
   "cell_type": "markdown",
   "id": "b09205aa-5afc-481a-b45b-d5e80b56d804",
   "metadata": {
    "id": "b09205aa-5afc-481a-b45b-d5e80b56d804"
   },
   "source": [
    "2- Use the classifier to predict probabilities on the test set, and save the results to a csv file."
   ]
  },
  {
   "cell_type": "code",
   "execution_count": 28,
   "id": "4429ca94-57f4-487e-b3dd-883bc7bc7835",
   "metadata": {
    "id": "4429ca94-57f4-487e-b3dd-883bc7bc7835"
   },
   "outputs": [],
   "source": [
    "### Complete in this cell: predict test data and save csv"
   ]
  },
  {
   "cell_type": "markdown",
   "id": "e645e849-a7e0-43af-b7d1-0b84c29f0e70",
   "metadata": {
    "id": "e645e849-a7e0-43af-b7d1-0b84c29f0e70"
   },
   "source": [
    "3- Load the predictions to the competition. Report the private score here."
   ]
  },
  {
   "cell_type": "code",
   "execution_count": 29,
   "id": "953f2204-304a-405b-b51b-350f054eb3f4",
   "metadata": {
    "id": "953f2204-304a-405b-b51b-350f054eb3f4"
   },
   "outputs": [],
   "source": [
    "### Complete in this cell: report your score on Kaggle\n",
    "# This model should have a private score around 0.70 "
   ]
  },
  {
   "cell_type": "markdown",
   "id": "be101430-3682-468d-a43d-8c78f60f96a5",
   "metadata": {
    "id": "be101430-3682-468d-a43d-8c78f60f96a5"
   },
   "source": [
    "4- If you have the time and resources, you can train the model for longer iterations, or select more estimator sizes. This is optional, but if you, we would love to see your results."
   ]
  },
  {
   "cell_type": "markdown",
   "id": "d72e7335-f3cc-410d-81f2-f110f3fbb252",
   "metadata": {
    "id": "d72e7335-f3cc-410d-81f2-f110f3fbb252"
   },
   "source": [
    "### Optional: Training a LightGBM model "
   ]
  },
  {
   "cell_type": "markdown",
   "id": "015d58b7-9f70-4bfb-8b72-20a626e00ea0",
   "metadata": {
    "id": "015d58b7-9f70-4bfb-8b72-20a626e00ea0"
   },
   "source": [
    "Gradient Boosting Machine is one of the most used machine learning algorithms for tabular data. Lots of competitions have been won using models from libraries like XGBoost or LightGBM. You can try using [LightGBM](https://lightgbm.readthedocs.io/en/latest/) to train a new model an see how it performs compared to the other classifiers you trained. "
   ]
  },
  {
   "cell_type": "code",
   "execution_count": 30,
   "id": "91d497eb-2b8b-43fe-945e-26a04b8fc004",
   "metadata": {
    "id": "91d497eb-2b8b-43fe-945e-26a04b8fc004"
   },
   "outputs": [],
   "source": [
    "### Complete in this cell: train a LightGBM model\n"
   ]
  },
  {
   "cell_type": "markdown",
   "id": "c2d1a1f4-5e1e-4982-a6ae-a27b8c11428e",
   "metadata": {
    "id": "c2d1a1f4-5e1e-4982-a6ae-a27b8c11428e"
   },
   "source": [
    "### Optional: Using Scikit Learn Pipelines "
   ]
  },
  {
   "cell_type": "markdown",
   "id": "2e4f95fb-73bf-42c4-97a3-80078f2496aa",
   "metadata": {
    "id": "2e4f95fb-73bf-42c4-97a3-80078f2496aa"
   },
   "source": [
    "So far you've created special functions or blocks or code to chain operations on data and then train the models. But, reproducibility is important, and you don't want to have to remember the correct steps to follow each time you have new data to train your models. There are a lots of tools out there that can help you with that, here you can use a [Sklearn Pipeline](https://scikit-learn.org/stable/modules/generated/sklearn.pipeline.Pipeline.html) to process your data."
   ]
  },
  {
   "cell_type": "code",
   "execution_count": 31,
   "id": "5a5eecdf-ee08-4ebd-8667-25cdb9a3eef4",
   "metadata": {
    "id": "5a5eecdf-ee08-4ebd-8667-25cdb9a3eef4"
   },
   "outputs": [],
   "source": [
    "### Complete in this cell: use a sklearn Pipeline to automate the cleaning, standardizing and training "
   ]
  }
 ],
 "metadata": {
  "kernelspec": {
   "display_name": "Python 3 (ipykernel)",
   "language": "python",
   "name": "python3"
  },
  "language_info": {
   "codemirror_mode": {
    "name": "ipython",
    "version": 3
   },
   "file_extension": ".py",
   "mimetype": "text/x-python",
   "name": "python",
   "nbconvert_exporter": "python",
   "pygments_lexer": "ipython3",
   "version": "3.8.9"
  },
  "colab": {
   "name": "AnyoneAI - Project 3.ipynb",
   "provenance": [],
   "collapsed_sections": []
  }
 },
 "nbformat": 4,
 "nbformat_minor": 5
}