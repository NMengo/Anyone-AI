{
 "cells": [
  {
   "cell_type": "markdown",
   "id": "9d3c07ee-c3bf-4530-812a-36405502b38d",
   "metadata": {
    "id": "9d3c07ee-c3bf-4530-812a-36405502b38d"
   },
   "source": [
    "# Anyone AI"
   ]
  },
  {
   "cell_type": "markdown",
   "id": "12c65989-2d1a-4e6e-9332-092ff6830d29",
   "metadata": {
    "id": "12c65989-2d1a-4e6e-9332-092ff6830d29"
   },
   "source": [
    "# Project III - Home Credit Default Risk"
   ]
  },
  {
   "cell_type": "markdown",
   "id": "b5a8ce13-f23a-41bf-a8c7-d432ebcbe0c1",
   "metadata": {
    "id": "b5a8ce13-f23a-41bf-a8c7-d432ebcbe0c1"
   },
   "source": [
    "You've been learning a lot about Machine Learning Algorithms, now we you're gonna be asked to put it all together. "
   ]
  },
  {
   "cell_type": "markdown",
   "id": "58ca3658-e8a1-41ba-a823-1a88ca9ef34b",
   "metadata": {
    "id": "58ca3658-e8a1-41ba-a823-1a88ca9ef34b"
   },
   "source": [
    "You will create a complete pipeline to preprocess the data, train your model and then predict values for the [Home Credit Default Risk](https://www.kaggle.com/competitions/home-credit-default-risk/) Kaggle competition."
   ]
  },
  {
   "cell_type": "markdown",
   "id": "e396c950-04b0-453e-b930-a22a96cee2d1",
   "metadata": {
    "id": "e396c950-04b0-453e-b930-a22a96cee2d1"
   },
   "source": [
    "## Introduction"
   ]
  },
  {
   "cell_type": "markdown",
   "id": "6a305c07-e042-4c59-8aea-03475afc09dd",
   "metadata": {
    "id": "6a305c07-e042-4c59-8aea-03475afc09dd"
   },
   "source": [
    "Kaggle is a web platform and community for data scientist and machine learning engineers where competetitions and datasets are regularly published.\n",
    "\n",
    "This particular competition is a binary Classification task: we want to predict whether the person applying for a home credit will be able to repay its debt or not. The competition finished 4 years ago, so you will find a lot of blog posts and code written for it, we encourage you to read everything you can about it.\n",
    "\n",
    "The dataset is composed of multiple files with different information about loands taken. In this project we're going to exclusively work with the main files: application_train.csv and application_test.csv.\n",
    "\n",
    "The competition uses [Area Under the ROC Curve](https://developers.google.com/machine-learning/crash-course/classification/roc-and-auc?hl=es_419) as the evaluation metric, so our models will have to return the probabilities that a loan is not paid for each row."
   ]
  },
  {
   "cell_type": "markdown",
   "id": "3ab085b5-379c-4e02-9f96-08edf5dbf887",
   "metadata": {
    "id": "3ab085b5-379c-4e02-9f96-08edf5dbf887"
   },
   "source": [
    "### Getting the data"
   ]
  },
  {
   "cell_type": "markdown",
   "id": "73354ae2-3adf-43c7-b3f3-849db316bfd3",
   "metadata": {
    "id": "73354ae2-3adf-43c7-b3f3-849db316bfd3"
   },
   "source": [
    "1- Login to Kaggle (if you don't have an account you'll have to register to get it) and download the [complete dataset](https://www.kaggle.com/competitions/home-credit-default-risk/data). Read the information about the data. What does a row in the main file represent? What does the target variable means?"
   ]
  },
  {
   "cell_type": "code",
   "execution_count": null,
   "outputs": [],
   "source": [
    "!pip install -q kaggle\n",
    "import json\n",
    "# from google.colab import files"
   ],
   "metadata": {
    "collapsed": false,
    "pycharm": {
     "name": "#%%\n"
    }
   }
  },
  {
   "cell_type": "code",
   "execution_count": 2,
   "outputs": [],
   "source": [
    "import pandas as pd\n",
    "import matplotlib.pyplot as plt\n",
    "import seaborn as sns\n",
    "import numpy as np\n",
    "from sklearn.model_selection import train_test_split, StratifiedShuffleSplit, GridSearchCV\n",
    "from sklearn.metrics import mean_absolute_error, precision_score, recall_score, f1_score, accuracy_score,\\\n",
    "    classification_report\n",
    "from sklearn.preprocessing import MinMaxScaler, StandardScaler, OneHotEncoder\n",
    "from sklearn.linear_model import SGDRegressor, LogisticRegression\n",
    "from sklearn.tree import DecisionTreeRegressor\n",
    "from pandas.plotting import scatter_matrix\n",
    "import warnings\n",
    "warnings.filterwarnings('ignore')"
   ],
   "metadata": {
    "collapsed": false,
    "pycharm": {
     "name": "#%%\n"
    }
   }
  },
  {
   "cell_type": "markdown",
   "id": "c4f50673-a197-4ea4-99df-3d4435bd643d",
   "metadata": {
    "id": "c4f50673-a197-4ea4-99df-3d4435bd643d"
   },
   "source": [
    "One row represents one loan in our data sample.\n",
    "The target variable says wether the loan was repaid (0) or not (1)"
   ]
  },
  {
   "cell_type": "markdown",
   "id": "25a0a724-ceb1-40cb-b123-b8c907a9c06f",
   "metadata": {
    "id": "25a0a724-ceb1-40cb-b123-b8c907a9c06f"
   },
   "source": [
    "2- Load the training and test datasets, we're only going to work withe \"application_train.csv\" and \"application_test.csv\" for now"
   ]
  },
  {
   "cell_type": "code",
   "execution_count": null,
   "id": "1d62ba4d-a3f6-443b-8c3e-65582a85d8a6",
   "metadata": {
    "id": "1d62ba4d-a3f6-443b-8c3e-65582a85d8a6"
   },
   "outputs": [],
   "source": [
    "k = {\"username\":\"nicolasmengochea\",\n",
    "     \"key\":\"c93cfa7017ca4c7082e7bb521ec99ecc\"}\n",
    "with open('kaggle.json', 'w') as fp:\n",
    "  json.dump(k, fp)\n",
    "!mkdir ~/.kaggle\n",
    "!cp kaggle.json ~/.kaggle/\n",
    "!chmod 600 ~/.kaggle/kaggle.json\n",
    "!kaggle competitions download -c home-credit-default-risk\n",
    "!mkdir home-credit-default-risk\n",
    "!unzip home-credit-default-risk.zip -d home-credit-default-risk"
   ]
  },
  {
   "cell_type": "markdown",
   "id": "7c10a608-5c38-44f4-8158-18225619e7ae",
   "metadata": {
    "tags": [],
    "id": "7c10a608-5c38-44f4-8158-18225619e7ae"
   },
   "source": [
    "### Exploratory Data Analysis"
   ]
  },
  {
   "cell_type": "markdown",
   "id": "6bc490ab-a7b3-4590-a93c-70df44787682",
   "metadata": {
    "id": "6bc490ab-a7b3-4590-a93c-70df44787682"
   },
   "source": [
    "A lot of the analysis of the data can be found on public available Kaggle kernels or blog posts, but you need to make sure you understand the datasets properties before starting working on it, so we'll do exploratory data analysis for the main files"
   ]
  },
  {
   "cell_type": "markdown",
   "id": "2ea774d3-e12c-4c2b-846d-8c5c03e70928",
   "metadata": {
    "id": "2ea774d3-e12c-4c2b-846d-8c5c03e70928"
   },
   "source": [
    "**Dataset Basics**"
   ]
  },
  {
   "cell_type": "markdown",
   "id": "9f0b4817-5768-49d2-b5f2-907827541f16",
   "metadata": {
    "id": "9f0b4817-5768-49d2-b5f2-907827541f16"
   },
   "source": [
    "1- Show the shape of the training and test datasets."
   ]
  },
  {
   "cell_type": "code",
   "execution_count": 4,
   "outputs": [],
   "source": [
    "application_test = pd.read_csv('DataSets/application_test.csv')\n",
    "application_train = pd.read_csv('DataSets/application_train.csv')"
   ],
   "metadata": {
    "collapsed": false,
    "pycharm": {
     "name": "#%%\n"
    }
   }
  },
  {
   "cell_type": "code",
   "execution_count": 9,
   "id": "6a98fdd5-cbf2-4d20-9559-89c7cf5943cd",
   "metadata": {
    "id": "6a98fdd5-cbf2-4d20-9559-89c7cf5943cd"
   },
   "outputs": [
    {
     "name": "stdout",
     "output_type": "stream",
     "text": [
      "<class 'pandas.core.frame.DataFrame'>\n",
      "RangeIndex: 307511 entries, 0 to 307510\n",
      "Columns: 122 entries, SK_ID_CURR to AMT_REQ_CREDIT_BUREAU_YEAR\n",
      "dtypes: float64(65), int64(41), object(16)\n",
      "memory usage: 286.2+ MB\n",
      "None\n",
      "--------------------------\n",
      "<class 'pandas.core.frame.DataFrame'>\n",
      "RangeIndex: 48744 entries, 0 to 48743\n",
      "Columns: 121 entries, SK_ID_CURR to AMT_REQ_CREDIT_BUREAU_YEAR\n",
      "dtypes: float64(65), int64(40), object(16)\n",
      "memory usage: 45.0+ MB\n",
      "None\n"
     ]
    }
   ],
   "source": [
    "print(application_train.info())\n",
    "print('--------------------------')\n",
    "print(application_test.info())"
   ]
  },
  {
   "cell_type": "markdown",
   "id": "74e7a95b-8288-4ead-8c1e-f2cf68167d8e",
   "metadata": {
    "id": "74e7a95b-8288-4ead-8c1e-f2cf68167d8e"
   },
   "source": [
    "2- List all columns in the train dataset"
   ]
  },
  {
   "cell_type": "code",
   "execution_count": 17,
   "outputs": [
    {
     "name": "stdout",
     "output_type": "stream",
     "text": [
      "Missing column:  TARGET\n",
      "--------------------------------------------------------------------------------------\n",
      "['SK_ID_CURR', 'TARGET', 'NAME_CONTRACT_TYPE', 'CODE_GENDER', 'FLAG_OWN_CAR', 'FLAG_OWN_REALTY', 'CNT_CHILDREN', 'AMT_INCOME_TOTAL', 'AMT_CREDIT', 'AMT_ANNUITY', 'AMT_GOODS_PRICE', 'NAME_TYPE_SUITE', 'NAME_INCOME_TYPE', 'NAME_EDUCATION_TYPE', 'NAME_FAMILY_STATUS', 'NAME_HOUSING_TYPE', 'REGION_POPULATION_RELATIVE', 'DAYS_BIRTH', 'DAYS_EMPLOYED', 'DAYS_REGISTRATION', 'DAYS_ID_PUBLISH', 'OWN_CAR_AGE', 'FLAG_MOBIL', 'FLAG_EMP_PHONE', 'FLAG_WORK_PHONE', 'FLAG_CONT_MOBILE', 'FLAG_PHONE', 'FLAG_EMAIL', 'OCCUPATION_TYPE', 'CNT_FAM_MEMBERS', 'REGION_RATING_CLIENT', 'REGION_RATING_CLIENT_W_CITY', 'WEEKDAY_APPR_PROCESS_START', 'HOUR_APPR_PROCESS_START', 'REG_REGION_NOT_LIVE_REGION', 'REG_REGION_NOT_WORK_REGION', 'LIVE_REGION_NOT_WORK_REGION', 'REG_CITY_NOT_LIVE_CITY', 'REG_CITY_NOT_WORK_CITY', 'LIVE_CITY_NOT_WORK_CITY', 'ORGANIZATION_TYPE', 'EXT_SOURCE_1', 'EXT_SOURCE_2', 'EXT_SOURCE_3', 'APARTMENTS_AVG', 'BASEMENTAREA_AVG', 'YEARS_BEGINEXPLUATATION_AVG', 'YEARS_BUILD_AVG', 'COMMONAREA_AVG', 'ELEVATORS_AVG', 'ENTRANCES_AVG', 'FLOORSMAX_AVG', 'FLOORSMIN_AVG', 'LANDAREA_AVG', 'LIVINGAPARTMENTS_AVG', 'LIVINGAREA_AVG', 'NONLIVINGAPARTMENTS_AVG', 'NONLIVINGAREA_AVG', 'APARTMENTS_MODE', 'BASEMENTAREA_MODE', 'YEARS_BEGINEXPLUATATION_MODE', 'YEARS_BUILD_MODE', 'COMMONAREA_MODE', 'ELEVATORS_MODE', 'ENTRANCES_MODE', 'FLOORSMAX_MODE', 'FLOORSMIN_MODE', 'LANDAREA_MODE', 'LIVINGAPARTMENTS_MODE', 'LIVINGAREA_MODE', 'NONLIVINGAPARTMENTS_MODE', 'NONLIVINGAREA_MODE', 'APARTMENTS_MEDI', 'BASEMENTAREA_MEDI', 'YEARS_BEGINEXPLUATATION_MEDI', 'YEARS_BUILD_MEDI', 'COMMONAREA_MEDI', 'ELEVATORS_MEDI', 'ENTRANCES_MEDI', 'FLOORSMAX_MEDI', 'FLOORSMIN_MEDI', 'LANDAREA_MEDI', 'LIVINGAPARTMENTS_MEDI', 'LIVINGAREA_MEDI', 'NONLIVINGAPARTMENTS_MEDI', 'NONLIVINGAREA_MEDI', 'FONDKAPREMONT_MODE', 'HOUSETYPE_MODE', 'TOTALAREA_MODE', 'WALLSMATERIAL_MODE', 'EMERGENCYSTATE_MODE', 'OBS_30_CNT_SOCIAL_CIRCLE', 'DEF_30_CNT_SOCIAL_CIRCLE', 'OBS_60_CNT_SOCIAL_CIRCLE', 'DEF_60_CNT_SOCIAL_CIRCLE', 'DAYS_LAST_PHONE_CHANGE', 'FLAG_DOCUMENT_2', 'FLAG_DOCUMENT_3', 'FLAG_DOCUMENT_4', 'FLAG_DOCUMENT_5', 'FLAG_DOCUMENT_6', 'FLAG_DOCUMENT_7', 'FLAG_DOCUMENT_8', 'FLAG_DOCUMENT_9', 'FLAG_DOCUMENT_10', 'FLAG_DOCUMENT_11', 'FLAG_DOCUMENT_12', 'FLAG_DOCUMENT_13', 'FLAG_DOCUMENT_14', 'FLAG_DOCUMENT_15', 'FLAG_DOCUMENT_16', 'FLAG_DOCUMENT_17', 'FLAG_DOCUMENT_18', 'FLAG_DOCUMENT_19', 'FLAG_DOCUMENT_20', 'FLAG_DOCUMENT_21', 'AMT_REQ_CREDIT_BUREAU_HOUR', 'AMT_REQ_CREDIT_BUREAU_DAY', 'AMT_REQ_CREDIT_BUREAU_WEEK', 'AMT_REQ_CREDIT_BUREAU_MON', 'AMT_REQ_CREDIT_BUREAU_QRT', 'AMT_REQ_CREDIT_BUREAU_YEAR']\n"
     ]
    }
   ],
   "source": [
    "for column in application_train:\n",
    "    if column not in application_test.columns:\n",
    "        print(f\"Missing column: \", column)\n",
    "print('--------------------------------------------------------------------------------------')\n",
    "print(list(application_train.columns))"
   ],
   "metadata": {
    "collapsed": false,
    "pycharm": {
     "name": "#%%\n"
    }
   }
  },
  {
   "cell_type": "markdown",
   "id": "2dc4835f-90c3-4049-9ec2-44d102201104",
   "metadata": {
    "id": "2dc4835f-90c3-4049-9ec2-44d102201104"
   },
   "source": [
    "3- Show the first 5 records of the training dataset, transpose the dataframe to see each record as a column and features as rows, make sure all features are visualized. Take your time to review what kind of information you can gather from this data."
   ]
  },
  {
   "cell_type": "code",
   "execution_count": 18,
   "id": "ac9c85b3-52e0-4b80-9753-afb81f92bd0d",
   "metadata": {
    "id": "ac9c85b3-52e0-4b80-9753-afb81f92bd0d"
   },
   "outputs": [
    {
     "data": {
      "text/plain": "                                     0           1                2  \\\nSK_ID_CURR                      100002      100003           100004   \nTARGET                               1           0                0   \nNAME_CONTRACT_TYPE          Cash loans  Cash loans  Revolving loans   \nCODE_GENDER                          M           F                M   \nFLAG_OWN_CAR                         N           N                Y   \n...                                ...         ...              ...   \nAMT_REQ_CREDIT_BUREAU_DAY          0.0         0.0              0.0   \nAMT_REQ_CREDIT_BUREAU_WEEK         0.0         0.0              0.0   \nAMT_REQ_CREDIT_BUREAU_MON          0.0         0.0              0.0   \nAMT_REQ_CREDIT_BUREAU_QRT          0.0         0.0              0.0   \nAMT_REQ_CREDIT_BUREAU_YEAR         1.0         0.0              0.0   \n\n                                     3           4  \nSK_ID_CURR                      100006      100007  \nTARGET                               0           0  \nNAME_CONTRACT_TYPE          Cash loans  Cash loans  \nCODE_GENDER                          F           M  \nFLAG_OWN_CAR                         N           N  \n...                                ...         ...  \nAMT_REQ_CREDIT_BUREAU_DAY          NaN         0.0  \nAMT_REQ_CREDIT_BUREAU_WEEK         NaN         0.0  \nAMT_REQ_CREDIT_BUREAU_MON          NaN         0.0  \nAMT_REQ_CREDIT_BUREAU_QRT          NaN         0.0  \nAMT_REQ_CREDIT_BUREAU_YEAR         NaN         0.0  \n\n[122 rows x 5 columns]",
      "text/html": "<div>\n<style scoped>\n    .dataframe tbody tr th:only-of-type {\n        vertical-align: middle;\n    }\n\n    .dataframe tbody tr th {\n        vertical-align: top;\n    }\n\n    .dataframe thead th {\n        text-align: right;\n    }\n</style>\n<table border=\"1\" class=\"dataframe\">\n  <thead>\n    <tr style=\"text-align: right;\">\n      <th></th>\n      <th>0</th>\n      <th>1</th>\n      <th>2</th>\n      <th>3</th>\n      <th>4</th>\n    </tr>\n  </thead>\n  <tbody>\n    <tr>\n      <th>SK_ID_CURR</th>\n      <td>100002</td>\n      <td>100003</td>\n      <td>100004</td>\n      <td>100006</td>\n      <td>100007</td>\n    </tr>\n    <tr>\n      <th>TARGET</th>\n      <td>1</td>\n      <td>0</td>\n      <td>0</td>\n      <td>0</td>\n      <td>0</td>\n    </tr>\n    <tr>\n      <th>NAME_CONTRACT_TYPE</th>\n      <td>Cash loans</td>\n      <td>Cash loans</td>\n      <td>Revolving loans</td>\n      <td>Cash loans</td>\n      <td>Cash loans</td>\n    </tr>\n    <tr>\n      <th>CODE_GENDER</th>\n      <td>M</td>\n      <td>F</td>\n      <td>M</td>\n      <td>F</td>\n      <td>M</td>\n    </tr>\n    <tr>\n      <th>FLAG_OWN_CAR</th>\n      <td>N</td>\n      <td>N</td>\n      <td>Y</td>\n      <td>N</td>\n      <td>N</td>\n    </tr>\n    <tr>\n      <th>...</th>\n      <td>...</td>\n      <td>...</td>\n      <td>...</td>\n      <td>...</td>\n      <td>...</td>\n    </tr>\n    <tr>\n      <th>AMT_REQ_CREDIT_BUREAU_DAY</th>\n      <td>0.0</td>\n      <td>0.0</td>\n      <td>0.0</td>\n      <td>NaN</td>\n      <td>0.0</td>\n    </tr>\n    <tr>\n      <th>AMT_REQ_CREDIT_BUREAU_WEEK</th>\n      <td>0.0</td>\n      <td>0.0</td>\n      <td>0.0</td>\n      <td>NaN</td>\n      <td>0.0</td>\n    </tr>\n    <tr>\n      <th>AMT_REQ_CREDIT_BUREAU_MON</th>\n      <td>0.0</td>\n      <td>0.0</td>\n      <td>0.0</td>\n      <td>NaN</td>\n      <td>0.0</td>\n    </tr>\n    <tr>\n      <th>AMT_REQ_CREDIT_BUREAU_QRT</th>\n      <td>0.0</td>\n      <td>0.0</td>\n      <td>0.0</td>\n      <td>NaN</td>\n      <td>0.0</td>\n    </tr>\n    <tr>\n      <th>AMT_REQ_CREDIT_BUREAU_YEAR</th>\n      <td>1.0</td>\n      <td>0.0</td>\n      <td>0.0</td>\n      <td>NaN</td>\n      <td>0.0</td>\n    </tr>\n  </tbody>\n</table>\n<p>122 rows × 5 columns</p>\n</div>"
     },
     "execution_count": 18,
     "metadata": {},
     "output_type": "execute_result"
    }
   ],
   "source": [
    "a = application_train.head(5)\n",
    "a = a.T\n",
    "a"
   ]
  },
  {
   "cell_type": "markdown",
   "id": "59da8f46-e503-4b67-8e73-ac61c394824c",
   "metadata": {
    "id": "59da8f46-e503-4b67-8e73-ac61c394824c"
   },
   "source": [
    "4- Show the distribution of the target variable values: print the total value count and the percentage of each value, plot this relationship."
   ]
  },
  {
   "cell_type": "code",
   "execution_count": 23,
   "outputs": [
    {
     "name": "stdout",
     "output_type": "stream",
     "text": [
      "0    282686\n",
      "1     24825\n",
      "Name: TARGET, dtype: int64\n"
     ]
    },
    {
     "data": {
      "text/plain": "<Figure size 432x288 with 1 Axes>",
      "image/png": "[encoded data removed]"
     },
     "metadata": {
      "needs_background": "light"
     },
     "output_type": "display_data"
    }
   ],
   "source": [
    "application_train['TARGET'].hist()\n",
    "print(application_train['TARGET'].value_counts())\n"
   ],
   "metadata": {
    "collapsed": false,
    "pycharm": {
     "name": "#%%\n"
    }
   }
  },
  {
   "cell_type": "code",
   "execution_count": 24,
   "id": "8855d370-c825-415b-9dd0-9dbdd576fada",
   "metadata": {
    "id": "8855d370-c825-415b-9dd0-9dbdd576fada"
   },
   "outputs": [
    {
     "data": {
      "text/plain": "([<matplotlib.patches.Wedge at 0x1bf8036b6d0>,\n  <matplotlib.patches.Wedge at 0x1bf8036bdf0>],\n [Text(-1.0648123216659293, 0.27599768047650985, 'Negative'),\n  Text(1.0648123152057372, -0.27599770540024077, 'Positive')],\n [Text(-0.5808067209086887, 0.15054418935082356, '92%'),\n  Text(0.5808067173849475, -0.15054420294558588, '8%')])"
     },
     "execution_count": 24,
     "metadata": {},
     "output_type": "execute_result"
    },
    {
     "data": {
      "text/plain": "<Figure size 432x288 with 1 Axes>",
      "image/png": "[encoded data removed]"
     },
     "metadata": {},
     "output_type": "display_data"
    }
   ],
   "source": [
    "plt.pie(application_train['TARGET'].value_counts(), labels=['Negative','Positive'], autopct='%.0f%%')"
   ]
  },
  {
   "cell_type": "markdown",
   "id": "cc7b5a63-da31-4a61-9e91-9708dc7633a7",
   "metadata": {
    "id": "cc7b5a63-da31-4a61-9e91-9708dc7633a7"
   },
   "source": [
    "5- Show the number of columns of each data type"
   ]
  },
  {
   "cell_type": "code",
   "execution_count": 27,
   "id": "b74878dd-cc48-4e69-bc35-e90457d54b3a",
   "metadata": {
    "id": "b74878dd-cc48-4e69-bc35-e90457d54b3a"
   },
   "outputs": [
    {
     "data": {
      "text/plain": "float64    65\nint64      41\nobject     16\ndtype: int64"
     },
     "execution_count": 27,
     "metadata": {},
     "output_type": "execute_result"
    }
   ],
   "source": [
    "application_train.dtypes.value_counts()"
   ]
  },
  {
   "cell_type": "markdown",
   "id": "c0a8799e-d32a-4239-a85d-6ff29ab4682f",
   "metadata": {
    "id": "c0a8799e-d32a-4239-a85d-6ff29ab4682f"
   },
   "source": [
    "6- For categorical variables, show the number of distinct values in each column (number of labels)"
   ]
  },
  {
   "cell_type": "code",
   "execution_count": 40,
   "outputs": [
    {
     "data": {
      "text/plain": "7"
     },
     "execution_count": 40,
     "metadata": {},
     "output_type": "execute_result"
    }
   ],
   "source": [
    "application_train['NAME_TYPE_SUITE'].nunique()"
   ],
   "metadata": {
    "collapsed": false,
    "pycharm": {
     "name": "#%%\n"
    }
   }
  },
  {
   "cell_type": "code",
   "execution_count": 41,
   "id": "8b294976-dc0d-44bd-9bf6-29ba1f6a2e2b",
   "metadata": {
    "id": "8b294976-dc0d-44bd-9bf6-29ba1f6a2e2b"
   },
   "outputs": [
    {
     "data": {
      "text/plain": "{'NAME_CONTRACT_TYPE': Cash loans         278232\n Revolving loans     29279\n Name: NAME_CONTRACT_TYPE, dtype: int64,\n 'CODE_GENDER': F      202448\n M      105059\n XNA         4\n Name: CODE_GENDER, dtype: int64,\n 'FLAG_OWN_CAR': N    202924\n Y    104587\n Name: FLAG_OWN_CAR, dtype: int64,\n 'FLAG_OWN_REALTY': Y    213312\n N     94199\n Name: FLAG_OWN_REALTY, dtype: int64,\n 'NAME_TYPE_SUITE': Unaccompanied      248526\n Family              40149\n Spouse, partner     11370\n Children             3267\n Other_B              1770\n Other_A               866\n Group of people       271\n Name: NAME_TYPE_SUITE, dtype: int64,\n 'NAME_INCOME_TYPE': Working                 158774\n Commercial associate     71617\n Pensioner                55362\n State servant            21703\n Unemployed                  22\n Student                     18\n Businessman                 10\n Maternity leave              5\n Name: NAME_INCOME_TYPE, dtype: int64,\n 'NAME_EDUCATION_TYPE': Secondary / secondary special    218391\n Higher education                  74863\n Incomplete higher                 10277\n Lower secondary                    3816\n Academic degree                     164\n Name: NAME_EDUCATION_TYPE, dtype: int64,\n 'NAME_FAMILY_STATUS': Married                 196432\n Single / not married     45444\n Civil marriage           29775\n Separated                19770\n Widow                    16088\n Unknown                      2\n Name: NAME_FAMILY_STATUS, dtype: int64,\n 'NAME_HOUSING_TYPE': House / apartment      272868\n With parents            14840\n Municipal apartment     11183\n Rented apartment         4881\n Office apartment         2617\n Co-op apartment          1122\n Name: NAME_HOUSING_TYPE, dtype: int64,\n 'OCCUPATION_TYPE': Laborers                 55186\n Sales staff              32102\n Core staff               27570\n Managers                 21371\n Drivers                  18603\n High skill tech staff    11380\n Accountants               9813\n Medicine staff            8537\n Security staff            6721\n Cooking staff             5946\n Cleaning staff            4653\n Private service staff     2652\n Low-skill Laborers        2093\n Waiters/barmen staff      1348\n Secretaries               1305\n Realty agents              751\n HR staff                   563\n IT staff                   526\n Name: OCCUPATION_TYPE, dtype: int64,\n 'WEEKDAY_APPR_PROCESS_START': TUESDAY      53901\n WEDNESDAY    51934\n MONDAY       50714\n THURSDAY     50591\n FRIDAY       50338\n SATURDAY     33852\n SUNDAY       16181\n Name: WEEKDAY_APPR_PROCESS_START, dtype: int64,\n 'ORGANIZATION_TYPE': Business Entity Type 3    67992\n XNA                       55374\n Self-employed             38412\n Other                     16683\n Medicine                  11193\n Business Entity Type 2    10553\n Government                10404\n School                     8893\n Trade: type 7              7831\n Kindergarten               6880\n Construction               6721\n Business Entity Type 1     5984\n Transport: type 4          5398\n Trade: type 3              3492\n Industry: type 9           3368\n Industry: type 3           3278\n Security                   3247\n Housing                    2958\n Industry: type 11          2704\n Military                   2634\n Bank                       2507\n Agriculture                2454\n Police                     2341\n Transport: type 2          2204\n Postal                     2157\n Security Ministries        1974\n Trade: type 2              1900\n Restaurant                 1811\n Services                   1575\n University                 1327\n Industry: type 7           1307\n Transport: type 3          1187\n Industry: type 1           1039\n Hotel                       966\n Electricity                 950\n Industry: type 4            877\n Trade: type 6               631\n Industry: type 5            599\n Insurance                   597\n Telecom                     577\n Emergency                   560\n Industry: type 2            458\n Advertising                 429\n Realtor                     396\n Culture                     379\n Industry: type 12           369\n Trade: type 1               348\n Mobile                      317\n Legal Services              305\n Cleaning                    260\n Transport: type 1           201\n Industry: type 6            112\n Industry: type 10           109\n Religion                     85\n Industry: type 13            67\n Trade: type 4                64\n Trade: type 5                49\n Industry: type 8             24\n Name: ORGANIZATION_TYPE, dtype: int64,\n 'FONDKAPREMONT_MODE': reg oper account         73830\n reg oper spec account    12080\n not specified             5687\n org spec account          5619\n Name: FONDKAPREMONT_MODE, dtype: int64,\n 'HOUSETYPE_MODE': block of flats      150503\n specific housing      1499\n terraced house        1212\n Name: HOUSETYPE_MODE, dtype: int64,\n 'WALLSMATERIAL_MODE': Panel           66040\n Stone, brick    64815\n Block            9253\n Wooden           5362\n Mixed            2296\n Monolithic       1779\n Others           1625\n Name: WALLSMATERIAL_MODE, dtype: int64,\n 'EMERGENCYSTATE_MODE': No     159428\n Yes      2328\n Name: EMERGENCYSTATE_MODE, dtype: int64}"
     },
     "execution_count": 41,
     "metadata": {},
     "output_type": "execute_result"
    }
   ],
   "source": [
    "cat_quant_variables = {}\n",
    "cat_variables = {}\n",
    "for column in application_train.columns:\n",
    "    if application_train[column].dtype == 'object':\n",
    "        cat_quant_variables.update({column:application_train[column].value_counts()})\n",
    "        cat_variables.update({column: application_train[column].nunique()})\n",
    "\n",
    "cat_quant_variables"
   ]
  },
  {
   "cell_type": "code",
   "execution_count": 42,
   "outputs": [
    {
     "data": {
      "text/plain": "{'NAME_CONTRACT_TYPE': 2,\n 'CODE_GENDER': 3,\n 'FLAG_OWN_CAR': 2,\n 'FLAG_OWN_REALTY': 2,\n 'NAME_TYPE_SUITE': 7,\n 'NAME_INCOME_TYPE': 8,\n 'NAME_EDUCATION_TYPE': 5,\n 'NAME_FAMILY_STATUS': 6,\n 'NAME_HOUSING_TYPE': 6,\n 'OCCUPATION_TYPE': 18,\n 'WEEKDAY_APPR_PROCESS_START': 7,\n 'ORGANIZATION_TYPE': 58,\n 'FONDKAPREMONT_MODE': 4,\n 'HOUSETYPE_MODE': 3,\n 'WALLSMATERIAL_MODE': 7,\n 'EMERGENCYSTATE_MODE': 2}"
     },
     "execution_count": 42,
     "metadata": {},
     "output_type": "execute_result"
    }
   ],
   "source": [
    "cat_variables"
   ],
   "metadata": {
    "collapsed": false,
    "pycharm": {
     "name": "#%%\n"
    }
   }
  },
  {
   "cell_type": "markdown",
   "id": "967d1938-e27d-4fbd-9bdc-f26364f5fdfd",
   "metadata": {
    "id": "967d1938-e27d-4fbd-9bdc-f26364f5fdfd"
   },
   "source": [
    "7- Analyzing missing data: show the percentage of missing data for each column ordered by percentage descending (show only the 20 columns with higher missing pct)"
   ]
  },
  {
   "cell_type": "code",
   "execution_count": 44,
   "id": "0b65aa7e-d8a2-44b0-9803-ca5277471470",
   "metadata": {
    "id": "0b65aa7e-d8a2-44b0-9803-ca5277471470"
   },
   "outputs": [
    {
     "data": {
      "text/plain": "SK_ID_CURR                        0\nTARGET                            0\nNAME_CONTRACT_TYPE                0\nCODE_GENDER                       0\nFLAG_OWN_CAR                      0\n                              ...  \nAMT_REQ_CREDIT_BUREAU_DAY     41519\nAMT_REQ_CREDIT_BUREAU_WEEK    41519\nAMT_REQ_CREDIT_BUREAU_MON     41519\nAMT_REQ_CREDIT_BUREAU_QRT     41519\nAMT_REQ_CREDIT_BUREAU_YEAR    41519\nLength: 122, dtype: int64"
     },
     "execution_count": 44,
     "metadata": {},
     "output_type": "execute_result"
    }
   ],
   "source": [
    "application_train.isna().sum()"
   ]
  },
  {
   "cell_type": "code",
   "execution_count": 60,
   "outputs": [
    {
     "data": {
      "text/plain": "                              data\nCOMMONAREA_MEDI           0.698723\nCOMMONAREA_AVG            0.698723\nCOMMONAREA_MODE           0.698723\nNONLIVINGAPARTMENTS_MODE  0.694330\nNONLIVINGAPARTMENTS_AVG   0.694330\nNONLIVINGAPARTMENTS_MEDI  0.694330\nFONDKAPREMONT_MODE        0.683862\nLIVINGAPARTMENTS_MODE     0.683550\nLIVINGAPARTMENTS_AVG      0.683550\nLIVINGAPARTMENTS_MEDI     0.683550\nFLOORSMIN_AVG             0.678486\nFLOORSMIN_MODE            0.678486\nFLOORSMIN_MEDI            0.678486\nYEARS_BUILD_MEDI          0.664978\nYEARS_BUILD_MODE          0.664978\nYEARS_BUILD_AVG           0.664978\nOWN_CAR_AGE               0.659908\nLANDAREA_MEDI             0.593767\nLANDAREA_MODE             0.593767\nLANDAREA_AVG              0.593767",
      "text/html": "<div>\n<style scoped>\n    .dataframe tbody tr th:only-of-type {\n        vertical-align: middle;\n    }\n\n    .dataframe tbody tr th {\n        vertical-align: top;\n    }\n\n    .dataframe thead th {\n        text-align: right;\n    }\n</style>\n<table border=\"1\" class=\"dataframe\">\n  <thead>\n    <tr style=\"text-align: right;\">\n      <th></th>\n      <th>data</th>\n    </tr>\n  </thead>\n  <tbody>\n    <tr>\n      <th>COMMONAREA_MEDI</th>\n      <td>0.698723</td>\n    </tr>\n    <tr>\n      <th>COMMONAREA_AVG</th>\n      <td>0.698723</td>\n    </tr>\n    <tr>\n      <th>COMMONAREA_MODE</th>\n      <td>0.698723</td>\n    </tr>\n    <tr>\n      <th>NONLIVINGAPARTMENTS_MODE</th>\n      <td>0.694330</td>\n    </tr>\n    <tr>\n      <th>NONLIVINGAPARTMENTS_AVG</th>\n      <td>0.694330</td>\n    </tr>\n    <tr>\n      <th>NONLIVINGAPARTMENTS_MEDI</th>\n      <td>0.694330</td>\n    </tr>\n    <tr>\n      <th>FONDKAPREMONT_MODE</th>\n      <td>0.683862</td>\n    </tr>\n    <tr>\n      <th>LIVINGAPARTMENTS_MODE</th>\n      <td>0.683550</td>\n    </tr>\n    <tr>\n      <th>LIVINGAPARTMENTS_AVG</th>\n      <td>0.683550</td>\n    </tr>\n    <tr>\n      <th>LIVINGAPARTMENTS_MEDI</th>\n      <td>0.683550</td>\n    </tr>\n    <tr>\n      <th>FLOORSMIN_AVG</th>\n      <td>0.678486</td>\n    </tr>\n    <tr>\n      <th>FLOORSMIN_MODE</th>\n      <td>0.678486</td>\n    </tr>\n    <tr>\n      <th>FLOORSMIN_MEDI</th>\n      <td>0.678486</td>\n    </tr>\n    <tr>\n      <th>YEARS_BUILD_MEDI</th>\n      <td>0.664978</td>\n    </tr>\n    <tr>\n      <th>YEARS_BUILD_MODE</th>\n      <td>0.664978</td>\n    </tr>\n    <tr>\n      <th>YEARS_BUILD_AVG</th>\n      <td>0.664978</td>\n    </tr>\n    <tr>\n      <th>OWN_CAR_AGE</th>\n      <td>0.659908</td>\n    </tr>\n    <tr>\n      <th>LANDAREA_MEDI</th>\n      <td>0.593767</td>\n    </tr>\n    <tr>\n      <th>LANDAREA_MODE</th>\n      <td>0.593767</td>\n    </tr>\n    <tr>\n      <th>LANDAREA_AVG</th>\n      <td>0.593767</td>\n    </tr>\n  </tbody>\n</table>\n</div>"
     },
     "execution_count": 60,
     "metadata": {},
     "output_type": "execute_result"
    }
   ],
   "source": [
    "missing_values = pd.DataFrame(application_train.isna().sum() / application_train.count().max(), columns=['data'])\n",
    "missing_values.sort_values('data', ascending=False, inplace=True)\n",
    "missing_values.head(20)"
   ],
   "metadata": {
    "collapsed": false,
    "pycharm": {
     "name": "#%%\n"
    }
   }
  },
  {
   "cell_type": "markdown",
   "id": "783c5bb6-6b6d-4e34-bbe2-3a5dc319a4f0",
   "metadata": {
    "id": "783c5bb6-6b6d-4e34-bbe2-3a5dc319a4f0"
   },
   "source": [
    "**Analyzing distribution of variables**"
   ]
  },
  {
   "cell_type": "markdown",
   "id": "9c79d319-bde8-47a4-890d-6694edf221e2",
   "metadata": {
    "id": "9c79d319-bde8-47a4-890d-6694edf221e2"
   },
   "source": [
    "1- Show the distribution of credit amounts"
   ]
  },
  {
   "cell_type": "code",
   "execution_count": 61,
   "id": "bc953042-9744-498e-a435-fa660e76c70d",
   "metadata": {
    "id": "bc953042-9744-498e-a435-fa660e76c70d"
   },
   "outputs": [
    {
     "data": {
      "text/plain": "<AxesSubplot:>"
     },
     "execution_count": 61,
     "metadata": {},
     "output_type": "execute_result"
    },
    {
     "data": {
      "text/plain": "<Figure size 432x288 with 1 Axes>",
      "image/png": "[encoded data removed]"
     },
     "metadata": {
      "needs_background": "light"
     },
     "output_type": "display_data"
    }
   ],
   "source": [
    "application_train['AMT_CREDIT'].hist()"
   ]
  },
  {
   "cell_type": "markdown",
   "id": "f4e7bf4a-25c7-47c0-aea8-ed916d8827f6",
   "metadata": {
    "id": "f4e7bf4a-25c7-47c0-aea8-ed916d8827f6"
   },
   "source": [
    "2- Plot the education level of the credit applicants, show the percentages of each category. Also print the total counts for each category."
   ]
  },
  {
   "cell_type": "code",
   "execution_count": null,
   "id": "406d7d06-b21a-4938-8e3d-11798def489b",
   "metadata": {
    "id": "406d7d06-b21a-4938-8e3d-11798def489b"
   },
   "outputs": [],
   "source": [
    "### Complete in this cell: level of education plot"
   ]
  },
  {
   "cell_type": "markdown",
   "id": "78e17d30-acce-4b7f-bacc-af488cda3e7d",
   "metadata": {
    "id": "78e17d30-acce-4b7f-bacc-af488cda3e7d"
   },
   "source": [
    "3- Plot the distribution of ocupation of the loan applicants"
   ]
  },
  {
   "cell_type": "code",
   "execution_count": null,
   "id": "ec101d97-c77b-4e5d-b69f-7c2f8f652d8f",
   "metadata": {
    "id": "ec101d97-c77b-4e5d-b69f-7c2f8f652d8f"
   },
   "outputs": [],
   "source": [
    "### Complete in this cell: ocupation of applicants"
   ]
  },
  {
   "cell_type": "markdown",
   "id": "824b1bc0-4dad-4ce8-b574-cbae5984a589",
   "metadata": {
    "id": "824b1bc0-4dad-4ce8-b574-cbae5984a589"
   },
   "source": [
    "4- Plot the family status of the applicants"
   ]
  },
  {
   "cell_type": "code",
   "execution_count": null,
   "id": "95463328-4392-435e-a203-95e28998930b",
   "metadata": {
    "id": "95463328-4392-435e-a203-95e28998930b"
   },
   "outputs": [],
   "source": [
    "### Complete in this cell: family status"
   ]
  },
  {
   "cell_type": "markdown",
   "id": "efa77db6-a50a-454e-b1b2-83abe3c8baae",
   "metadata": {
    "id": "efa77db6-a50a-454e-b1b2-83abe3c8baae"
   },
   "source": [
    "5- Plot the income type of applicants grouped by the target variable"
   ]
  },
  {
   "cell_type": "code",
   "execution_count": null,
   "id": "f22c3267-56c8-45fc-9184-b822cd026571",
   "metadata": {
    "id": "f22c3267-56c8-45fc-9184-b822cd026571"
   },
   "outputs": [],
   "source": [
    "### Complete in this cell: Income type of applicants by target variable"
   ]
  },
  {
   "cell_type": "markdown",
   "id": "675b1ae3-c943-4737-bdb8-2ecff733b27b",
   "metadata": {
    "id": "675b1ae3-c943-4737-bdb8-2ecff733b27b"
   },
   "source": [
    "## Preprocessing"
   ]
  },
  {
   "cell_type": "markdown",
   "id": "51397c38-0204-454b-8fe6-011dc8c38418",
   "metadata": {
    "id": "51397c38-0204-454b-8fe6-011dc8c38418"
   },
   "source": [
    "In this section, you will code a function to make all the data pre processing for the dataset. What you have to deliver is a function that takes the train and test dataframes, processes all features, and returns the transformed data as numpy arrays ready to be used for training."
   ]
  },
  {
   "cell_type": "markdown",
   "id": "b72d36eb-3ae5-40b3-b9d2-48f6abdeb734",
   "metadata": {
    "id": "b72d36eb-3ae5-40b3-b9d2-48f6abdeb734"
   },
   "source": [
    "The function should perform these activities:\n",
    "\n",
    "- Correct outliers/anomalous values in numerical columns (hint: take a look at the DAYS_EMPLOYED column)\n",
    "- Impute values for all columns with missing data (use median as imputing value)\n",
    "- Encode categorical features:\n",
    "    - If feature has 2 categories encode using binary encoding\n",
    "    - More than 2 categories, use one hot encoding \n",
    "- Feature scaling\n",
    "\n",
    "Keep in mind that you could get different number of columns in train and test because some category could only be present in one of the dataframes, this could create more one hot encoded columns. You should align train and test to have the same number of columns"
   ]
  },
  {
   "cell_type": "code",
   "execution_count": null,
   "id": "27bfc706-a0ab-4711-9bb1-4fa77a6993d3",
   "metadata": {
    "id": "27bfc706-a0ab-4711-9bb1-4fa77a6993d3"
   },
   "outputs": [],
   "source": [
    "### Complete in this cell: Data pre processing function    "
   ]
  },
  {
   "cell_type": "markdown",
   "id": "2f5df1e8-1f03-4f14-9dbd-292d3b84859d",
   "metadata": {
    "id": "2f5df1e8-1f03-4f14-9dbd-292d3b84859d"
   },
   "source": [
    "## Training Models"
   ]
  },
  {
   "cell_type": "markdown",
   "id": "83062f02-7157-4083-b57b-78fbc95fe39b",
   "metadata": {
    "id": "83062f02-7157-4083-b57b-78fbc95fe39b"
   },
   "source": [
    "As usual, you will start training simple models and will progressively move to more complex models and pipelines."
   ]
  },
  {
   "cell_type": "markdown",
   "id": "7e99a786-a17e-4caa-9ac7-48fced40fa71",
   "metadata": {
    "id": "7e99a786-a17e-4caa-9ac7-48fced40fa71"
   },
   "source": [
    "### Baseline: LogisticRegression"
   ]
  },
  {
   "cell_type": "markdown",
   "id": "91e10796-6d86-4fce-8738-4b9c4fbbf359",
   "metadata": {
    "id": "91e10796-6d86-4fce-8738-4b9c4fbbf359"
   },
   "source": [
    "1- Import LogisticRegression from sklearn and train a model using the preprocesed train data from the previous section, and just default parameters. If you receive a warning because the algorithm failed to converge, try increasing the number of iterations or decreasing the C parameter "
   ]
  },
  {
   "cell_type": "code",
   "execution_count": null,
   "id": "e1285054-4ea6-4bdb-9477-e774fc3d04c5",
   "metadata": {
    "id": "e1285054-4ea6-4bdb-9477-e774fc3d04c5"
   },
   "outputs": [],
   "source": [
    "### Complete in this cell: train a logistic regression "
   ]
  },
  {
   "cell_type": "markdown",
   "id": "018d5c7e-012f-47cc-8bfc-0332de907ae9",
   "metadata": {
    "id": "018d5c7e-012f-47cc-8bfc-0332de907ae9"
   },
   "source": [
    "2- Use the trained model to predict probabilites for the test data, and then save the results to a csv in the format expected in the competition: a SK_ID_CURR column and a TARGET column with probabilities. REMEMBER: the TARGET columns should ONLY contain the probabilities that the debt is not repaid (equivalent to the class 1)."
   ]
  },
  {
   "cell_type": "code",
   "execution_count": null,
   "id": "798ae69b-1fe2-458d-9de7-3e1ed70b9b02",
   "metadata": {
    "id": "798ae69b-1fe2-458d-9de7-3e1ed70b9b02"
   },
   "outputs": [],
   "source": [
    "### Complete in this cell: predict test data and save csv"
   ]
  },
  {
   "cell_type": "markdown",
   "id": "b0826305-4900-4ba1-bf25-48205be980c6",
   "metadata": {
    "id": "b0826305-4900-4ba1-bf25-48205be980c6"
   },
   "source": [
    "3- Go to the Kaggle competition, and in the [submissions page](https://www.kaggle.com/competitions/home-credit-default-risk/submit) load your csv file. Report here the result in the private score you obtained."
   ]
  },
  {
   "cell_type": "markdown",
   "id": "4d889582-0c21-4789-acac-4d58f8eb74d9",
   "metadata": {
    "id": "4d889582-0c21-4789-acac-4d58f8eb74d9"
   },
   "source": [
    "At this point, the model should produce a result around 0.67 "
   ]
  },
  {
   "cell_type": "markdown",
   "id": "8f8300cc-d8be-4303-9042-757cb9e15d3e",
   "metadata": {
    "id": "8f8300cc-d8be-4303-9042-757cb9e15d3e"
   },
   "source": [
    "### Training a Random Forest Classifier "
   ]
  },
  {
   "cell_type": "markdown",
   "id": "05280b49-11af-4fe6-9236-95f31fb5e0d5",
   "metadata": {
    "id": "05280b49-11af-4fe6-9236-95f31fb5e0d5"
   },
   "source": [
    "You're gonna start working in more complex models: ensambles, particularly, you're going to use the Random Forest Classifier from Scikit Learn. "
   ]
  },
  {
   "cell_type": "markdown",
   "id": "0efdfd67-ec68-49b3-8727-7ab9784b5e54",
   "metadata": {
    "id": "0efdfd67-ec68-49b3-8727-7ab9784b5e54"
   },
   "source": [
    "1- Train a RandomForestClassifier, print the time taken by the fit function. Just use default hyperparameters, except for n_jobs, which should be set to \"-1\" to allow the library to use all CPU cores to speed up training time."
   ]
  },
  {
   "cell_type": "code",
   "execution_count": null,
   "id": "1d3b9ea6-4bf9-42f0-aed1-1c0f3a4f9b39",
   "metadata": {
    "id": "1d3b9ea6-4bf9-42f0-aed1-1c0f3a4f9b39"
   },
   "outputs": [],
   "source": [
    "### Complete in this cell: train a RandomForestClassifier"
   ]
  },
  {
   "cell_type": "markdown",
   "id": "3b12a0a5-8ff1-4cb6-9928-37122d2a3435",
   "metadata": {
    "id": "3b12a0a5-8ff1-4cb6-9928-37122d2a3435"
   },
   "source": [
    "2- Use the classifier to predict probabilities on the test set, and save the results to a csv file."
   ]
  },
  {
   "cell_type": "code",
   "execution_count": null,
   "id": "4ba80108-858c-4d4e-ba19-7f19fa526dc9",
   "metadata": {
    "id": "4ba80108-858c-4d4e-ba19-7f19fa526dc9"
   },
   "outputs": [],
   "source": [
    "### Complete in this cell: predict test data and save csv"
   ]
  },
  {
   "cell_type": "markdown",
   "id": "40be1079-e800-42b1-96b0-dce1d04c0a86",
   "metadata": {
    "id": "40be1079-e800-42b1-96b0-dce1d04c0a86"
   },
   "source": [
    "3- Load the predictions to the competition. Report the private score here."
   ]
  },
  {
   "cell_type": "code",
   "execution_count": null,
   "id": "66f1180a-a26e-4e67-bcee-2a59bece5271",
   "metadata": {
    "id": "66f1180a-a26e-4e67-bcee-2a59bece5271"
   },
   "outputs": [],
   "source": [
    "### Complete in this cell: report your score on Kaggle\n",
    "# This model should have a private score around 0.68 "
   ]
  },
  {
   "cell_type": "markdown",
   "id": "4acfcc24-62b6-4118-9c42-a0268dcf5c53",
   "metadata": {
    "id": "4acfcc24-62b6-4118-9c42-a0268dcf5c53"
   },
   "source": [
    "### Randomized Search with Cross Validation"
   ]
  },
  {
   "cell_type": "markdown",
   "id": "dd634b2b-68af-4db1-b062-1496f8d1179e",
   "metadata": {
    "id": "dd634b2b-68af-4db1-b062-1496f8d1179e"
   },
   "source": [
    "So far, we've only created models using the default hyperparameters of each algorithm. This is usually something that we would only do for baseline models, hyperparameter tuning is a very important part of the modeling process and is often the difference between having an acceptable model or not.\n",
    "\n",
    "But, there are usually lots of hyperparameters to tune and a finite amount of time to do it, you have to consider the time and resources it takes to find an optimal combination of them. In the previous section you trained a random forest classifier and saw how much it took to train it once in your PC. If you want to do hyperparameter optimization you now have to consider that you will have to train the algorithm N number of times, with N being the cartesian product of all parameters. \n",
    "\n",
    "Furthermore, you can't validate the performance of your trained models on the test set, as this data should only be used to validate the final model. So we have to implement a validation strategy, K-Fold Cross Validation being the most common. But this also adds time complexity to our training, because we will have to train each combinations of hyperparameters M number of times, X being the number of folds in which we divided our dataset, so the total number of training iterations will be NxM... this resulting number can grow VERY quickly.\n",
    "\n",
    "Fortunately there are strategies to mitigate this, here you're going to select a small number of hyperparameters to test a RandomForestClassifier, and use a Randomized Search algorithm with K-Fold Cross Validation to avoid doing a full search across the grid. \n",
    "\n",
    "Remember: take in consideration how much time it took to train a single classifier, and define the number of cross validations folds and iterations of the search accordingly. \n",
    "A recommendation: run the training process, go make yourself a cup of coffee, sit somewhere comfortably and forget about it for a while.\n"
   ]
  },
  {
   "cell_type": "markdown",
   "id": "c49a11c7-156f-46bb-8bba-be29d1b2ed1a",
   "metadata": {
    "id": "c49a11c7-156f-46bb-8bba-be29d1b2ed1a"
   },
   "source": [
    "1- Use RandomizedSearchCV to find the best combination of hyperparameters for a RandomForestClassifier. The validation metric used to evaluate the models should be \"roc_auc\"."
   ]
  },
  {
   "cell_type": "code",
   "execution_count": null,
   "id": "0cb4c536-82d8-49f8-a0b6-fede491055c1",
   "metadata": {
    "id": "0cb4c536-82d8-49f8-a0b6-fede491055c1"
   },
   "outputs": [],
   "source": [
    "### Complete in this cell: Use RandomizedSearchCV to find the best combination of hyperparameters for a RandomForestClassifier\n",
    "example_hyperparameter_grid = {\n",
    " 'bootstrap': [True, False],\n",
    " 'max_depth': [10, 50, 100, None],\n",
    " 'max_features': ['auto', 'sqrt'],\n",
    " 'min_samples_leaf': [1, 2, 4],\n",
    " 'min_samples_split': [2, 5, 10],\n",
    " 'n_estimators': [100, 200]\n",
    "}"
   ]
  },
  {
   "cell_type": "markdown",
   "id": "b09205aa-5afc-481a-b45b-d5e80b56d804",
   "metadata": {
    "id": "b09205aa-5afc-481a-b45b-d5e80b56d804"
   },
   "source": [
    "2- Use the classifier to predict probabilities on the test set, and save the results to a csv file."
   ]
  },
  {
   "cell_type": "code",
   "execution_count": null,
   "id": "4429ca94-57f4-487e-b3dd-883bc7bc7835",
   "metadata": {
    "id": "4429ca94-57f4-487e-b3dd-883bc7bc7835"
   },
   "outputs": [],
   "source": [
    "### Complete in this cell: predict test data and save csv"
   ]
  },
  {
   "cell_type": "markdown",
   "id": "e645e849-a7e0-43af-b7d1-0b84c29f0e70",
   "metadata": {
    "id": "e645e849-a7e0-43af-b7d1-0b84c29f0e70"
   },
   "source": [
    "3- Load the predictions to the competition. Report the private score here."
   ]
  },
  {
   "cell_type": "code",
   "execution_count": null,
   "id": "953f2204-304a-405b-b51b-350f054eb3f4",
   "metadata": {
    "id": "953f2204-304a-405b-b51b-350f054eb3f4"
   },
   "outputs": [],
   "source": [
    "### Complete in this cell: report your score on Kaggle\n",
    "# This model should have a private score around 0.70 "
   ]
  },
  {
   "cell_type": "markdown",
   "id": "be101430-3682-468d-a43d-8c78f60f96a5",
   "metadata": {
    "id": "be101430-3682-468d-a43d-8c78f60f96a5"
   },
   "source": [
    "4- If you have the time and resources, you can train the model for longer iterations, or select more estimator sizes. This is optional, but if you, we would love to see your results."
   ]
  },
  {
   "cell_type": "markdown",
   "id": "d72e7335-f3cc-410d-81f2-f110f3fbb252",
   "metadata": {
    "id": "d72e7335-f3cc-410d-81f2-f110f3fbb252"
   },
   "source": [
    "### Optional: Training a LightGBM model "
   ]
  },
  {
   "cell_type": "markdown",
   "id": "015d58b7-9f70-4bfb-8b72-20a626e00ea0",
   "metadata": {
    "id": "015d58b7-9f70-4bfb-8b72-20a626e00ea0"
   },
   "source": [
    "Gradient Boosting Machine is one of the most used machine learning algorithms for tabular data. Lots of competitions have been won using models from libraries like XGBoost or LightGBM. You can try using [LightGBM](https://lightgbm.readthedocs.io/en/latest/) to train a new model an see how it performs compared to the other classifiers you trained. "
   ]
  },
  {
   "cell_type": "code",
   "execution_count": null,
   "id": "91d497eb-2b8b-43fe-945e-26a04b8fc004",
   "metadata": {
    "id": "91d497eb-2b8b-43fe-945e-26a04b8fc004"
   },
   "outputs": [],
   "source": [
    "### Complete in this cell: train a LightGBM model\n"
   ]
  },
  {
   "cell_type": "markdown",
   "id": "c2d1a1f4-5e1e-4982-a6ae-a27b8c11428e",
   "metadata": {
    "id": "c2d1a1f4-5e1e-4982-a6ae-a27b8c11428e"
   },
   "source": [
    "### Optional: Using Scikit Learn Pipelines "
   ]
  },
  {
   "cell_type": "markdown",
   "id": "2e4f95fb-73bf-42c4-97a3-80078f2496aa",
   "metadata": {
    "id": "2e4f95fb-73bf-42c4-97a3-80078f2496aa"
   },
   "source": [
    "So far you've created special functions or blocks or code to chain operations on data and then train the models. But, reproducibility is important, and you don't want to have to remember the correct steps to follow each time you have new data to train your models. There are a lots of tools out there that can help you with that, here you can use a [Sklearn Pipeline](https://scikit-learn.org/stable/modules/generated/sklearn.pipeline.Pipeline.html) to process your data."
   ]
  },
  {
   "cell_type": "code",
   "execution_count": null,
   "id": "5a5eecdf-ee08-4ebd-8667-25cdb9a3eef4",
   "metadata": {
    "id": "5a5eecdf-ee08-4ebd-8667-25cdb9a3eef4"
   },
   "outputs": [],
   "source": [
    "### Complete in this cell: use a sklearn Pipeline to automate the cleaning, standardizing and training "
   ]
  }
 ],
 "metadata": {
  "kernelspec": {
   "display_name": "Python 3 (ipykernel)",
   "language": "python",
   "name": "python3"
  },
  "language_info": {
   "codemirror_mode": {
    "name": "ipython",
    "version": 3
   },
   "file_extension": ".py",
   "mimetype": "text/x-python",
   "name": "python",
   "nbconvert_exporter": "python",
   "pygments_lexer": "ipython3",
   "version": "3.8.9"
  },
  "colab": {
   "name": "AnyoneAI - Project 3.ipynb",
   "provenance": [],
   "collapsed_sections": []
  }
 },
 "nbformat": 4,
 "nbformat_minor": 5
}