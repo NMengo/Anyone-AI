{
 "cells": [
  {
   "cell_type": "markdown",
   "id": "9d3c07ee-c3bf-4530-812a-36405502b38d",
   "metadata": {
    "id": "9d3c07ee-c3bf-4530-812a-36405502b38d"
   },
   "source": [
    "# Anyone AI"
   ]
  },
  {
   "cell_type": "markdown",
   "id": "12c65989-2d1a-4e6e-9332-092ff6830d29",
   "metadata": {
    "id": "12c65989-2d1a-4e6e-9332-092ff6830d29"
   },
   "source": [
    "# Project III - Home Credit Default Risk"
   ]
  },
  {
   "cell_type": "markdown",
   "id": "b5a8ce13-f23a-41bf-a8c7-d432ebcbe0c1",
   "metadata": {
    "id": "b5a8ce13-f23a-41bf-a8c7-d432ebcbe0c1"
   },
   "source": [
    "You've been learning a lot about Machine Learning Algorithms, now we you're gonna be asked to put it all together. "
   ]
  },
  {
   "cell_type": "markdown",
   "id": "58ca3658-e8a1-41ba-a823-1a88ca9ef34b",
   "metadata": {
    "id": "58ca3658-e8a1-41ba-a823-1a88ca9ef34b"
   },
   "source": [
    "You will create a complete pipeline to preprocess the data, train your model and then predict values for the [Home Credit Default Risk](https://www.kaggle.com/competitions/home-credit-default-risk/) Kaggle competition."
   ]
  },
  {
   "cell_type": "markdown",
   "id": "e396c950-04b0-453e-b930-a22a96cee2d1",
   "metadata": {
    "id": "e396c950-04b0-453e-b930-a22a96cee2d1"
   },
   "source": [
    "## Introduction"
   ]
  },
  {
   "cell_type": "markdown",
   "id": "6a305c07-e042-4c59-8aea-03475afc09dd",
   "metadata": {
    "id": "6a305c07-e042-4c59-8aea-03475afc09dd"
   },
   "source": [
    "Kaggle is a web platform and community for data scientist and machine learning engineers where competetitions and datasets are regularly published.\n",
    "\n",
    "This particular competition is a binary Classification task: we want to predict whether the person applying for a home credit will be able to repay its debt or not. The competition finished 4 years ago, so you will find a lot of blog posts and code written for it, we encourage you to read everything you can about it.\n",
    "\n",
    "The dataset is composed of multiple files with different information about loands taken. In this project we're going to exclusively work with the main files: application_train.csv and application_test.csv.\n",
    "\n",
    "The competition uses [Area Under the ROC Curve](https://developers.google.com/machine-learning/crash-course/classification/roc-and-auc?hl=es_419) as the evaluation metric, so our models will have to return the probabilities that a loan is not paid for each row."
   ]
  },
  {
   "cell_type": "markdown",
   "id": "3ab085b5-379c-4e02-9f96-08edf5dbf887",
   "metadata": {
    "id": "3ab085b5-379c-4e02-9f96-08edf5dbf887"
   },
   "source": [
    "### Getting the data"
   ]
  },
  {
   "cell_type": "markdown",
   "id": "73354ae2-3adf-43c7-b3f3-849db316bfd3",
   "metadata": {
    "id": "73354ae2-3adf-43c7-b3f3-849db316bfd3"
   },
   "source": [
    "1- Login to Kaggle (if you don't have an account you'll have to register to get it) and download the [complete dataset](https://www.kaggle.com/competitions/home-credit-default-risk/data). Read the information about the data. What does a row in the main file represent? What does the target variable means?"
   ]
  },
  {
   "cell_type": "code",
   "execution_count": 111,
   "outputs": [
    {
     "name": "stdout",
     "output_type": "stream",
     "text": [
      "Requirement already satisfied: plotly in c:\\users\\mengo\\anaconda3\\envs\\python projects\\lib\\site-packages (5.8.0)\n",
      "Requirement already satisfied: tenacity>=6.2.0 in c:\\users\\mengo\\anaconda3\\envs\\python projects\\lib\\site-packages (from plotly) (8.0.1)\n"
     ]
    }
   ],
   "source": [
    "!pip install -q kaggle\n",
    "!pip install plotly\n",
    "import json\n",
    "# from google.colab import files"
   ],
   "metadata": {
    "collapsed": false,
    "pycharm": {
     "name": "#%%\n"
    }
   }
  },
  {
   "cell_type": "code",
   "execution_count": 19,
   "outputs": [],
   "source": [
    "%matplotlib inline\n",
    "import pandas as pd\n",
    "import matplotlib.pyplot as plt\n",
    "import numpy as np\n",
    "from sklearn.model_selection import RandomizedSearchCV, StratifiedKFold\n",
    "from sklearn.metrics import roc_curve, roc_auc_score\n",
    "from sklearn.preprocessing import MinMaxScaler, StandardScaler, OneHotEncoder\n",
    "from sklearn.linear_model import LogisticRegression\n",
    "from sklearn.ensemble import RandomForestClassifier\n",
    "from plotly.offline import iplot, init_notebook_mode\n",
    "import plotly.graph_objs as go\n",
    "from plotly import tools\n",
    "from sklearn.preprocessing import LabelBinarizer\n",
    "from sklearn.impute import SimpleImputer\n",
    "from scipy.stats import iqr\n",
    "from datetime import datetime as dt\n",
    "import lightgbm as lgb\n",
    "from sklearn.pipeline import Pipeline\n",
    "from sklearn.compose import ColumnTransformer\n",
    "import matplotlib as mpl\n",
    "import matplotlib.image as mpimg\n",
    "import re\n",
    "import warnings\n",
    "warnings.filterwarnings('ignore')\n",
    "pd.options.display.max_rows = None"
   ],
   "metadata": {
    "collapsed": false,
    "pycharm": {
     "name": "#%%\n"
    }
   }
  },
  {
   "cell_type": "markdown",
   "id": "c4f50673-a197-4ea4-99df-3d4435bd643d",
   "metadata": {
    "id": "c4f50673-a197-4ea4-99df-3d4435bd643d"
   },
   "source": [
    "One row represents one loan in our data sample.\n",
    "The target variable says wether the loan was repaid (0) or not (1)"
   ]
  },
  {
   "cell_type": "markdown",
   "id": "25a0a724-ceb1-40cb-b123-b8c907a9c06f",
   "metadata": {
    "id": "25a0a724-ceb1-40cb-b123-b8c907a9c06f"
   },
   "source": [
    "2- Load the training and test datasets, we're only going to work withe \"application_train.csv\" and \"application_test.csv\" for now"
   ]
  },
  {
   "cell_type": "code",
   "execution_count": 1,
   "id": "1d62ba4d-a3f6-443b-8c3e-65582a85d8a6",
   "metadata": {
    "id": "1d62ba4d-a3f6-443b-8c3e-65582a85d8a6"
   },
   "outputs": [],
   "source": [
    "k = {\"username\":\"nicolasmengochea\",\n",
    "     \"key\":\"c93cfa7017ca4c7082e7bb521ec99ecc\"}\n",
    "with open('kaggle.json', 'w') as fp:\n",
    "  json.dump(k, fp)\n",
    "!mkdir ~/.kaggle\n",
    "!cp kaggle.json ~/.kaggle/\n",
    "!chmod 600 ~/.kaggle/kaggle.json\n",
    "!kaggle competitions download -c home-credit-default-risk\n",
    "!mkdir home-credit-default-risk\n",
    "!unzip home-credit-default-risk.zip -d home-credit-default-risk"
   ]
  },
  {
   "cell_type": "markdown",
   "id": "7c10a608-5c38-44f4-8158-18225619e7ae",
   "metadata": {
    "tags": [],
    "id": "7c10a608-5c38-44f4-8158-18225619e7ae"
   },
   "source": [
    "### Exploratory Data Analysis"
   ]
  },
  {
   "cell_type": "markdown",
   "id": "6bc490ab-a7b3-4590-a93c-70df44787682",
   "metadata": {
    "id": "6bc490ab-a7b3-4590-a93c-70df44787682"
   },
   "source": [
    "A lot of the analysis of the data can be found on public available Kaggle kernels or blog posts, but you need to make sure you understand the datasets properties before starting working on it, so we'll do exploratory data analysis for the main files"
   ]
  },
  {
   "cell_type": "markdown",
   "id": "2ea774d3-e12c-4c2b-846d-8c5c03e70928",
   "metadata": {
    "id": "2ea774d3-e12c-4c2b-846d-8c5c03e70928"
   },
   "source": [
    "**Dataset Basics**"
   ]
  },
  {
   "cell_type": "markdown",
   "id": "9f0b4817-5768-49d2-b5f2-907827541f16",
   "metadata": {
    "id": "9f0b4817-5768-49d2-b5f2-907827541f16"
   },
   "source": [
    "1- Show the shape of the training and test datasets."
   ]
  },
  {
   "cell_type": "code",
   "execution_count": 10,
   "outputs": [],
   "source": [
    "application_test = pd.read_csv('DataSets/application_test.csv')\n",
    "application_train = pd.read_csv('DataSets/application_train.csv')\n",
    "application_test.insert(1, 'TARGET', np.zeros(len(application_test)))"
   ],
   "metadata": {
    "collapsed": false,
    "pycharm": {
     "name": "#%%\n"
    }
   }
  },
  {
   "cell_type": "code",
   "execution_count": 115,
   "id": "6a98fdd5-cbf2-4d20-9559-89c7cf5943cd",
   "metadata": {
    "id": "6a98fdd5-cbf2-4d20-9559-89c7cf5943cd"
   },
   "outputs": [
    {
     "name": "stdout",
     "output_type": "stream",
     "text": [
      "<class 'pandas.core.frame.DataFrame'>\n",
      "RangeIndex: 307511 entries, 0 to 307510\n",
      "Columns: 122 entries, SK_ID_CURR to AMT_REQ_CREDIT_BUREAU_YEAR\n",
      "dtypes: float64(65), int64(41), object(16)\n",
      "memory usage: 286.2+ MB\n",
      "None\n",
      "--------------------------\n",
      "<class 'pandas.core.frame.DataFrame'>\n",
      "RangeIndex: 48744 entries, 0 to 48743\n",
      "Columns: 122 entries, SK_ID_CURR to AMT_REQ_CREDIT_BUREAU_YEAR\n",
      "dtypes: float64(66), int64(40), object(16)\n",
      "memory usage: 45.4+ MB\n",
      "None\n"
     ]
    }
   ],
   "source": [
    "print(application_train.info())\n",
    "print('--------------------------')\n",
    "print(application_test.info())"
   ]
  },
  {
   "cell_type": "markdown",
   "id": "74e7a95b-8288-4ead-8c1e-f2cf68167d8e",
   "metadata": {
    "id": "74e7a95b-8288-4ead-8c1e-f2cf68167d8e"
   },
   "source": [
    "2- List all columns in the train dataset"
   ]
  },
  {
   "cell_type": "code",
   "execution_count": 116,
   "outputs": [
    {
     "name": "stdout",
     "output_type": "stream",
     "text": [
      "--------------------------------------------------------------------------------------\n",
      "['SK_ID_CURR', 'TARGET', 'NAME_CONTRACT_TYPE', 'CODE_GENDER', 'FLAG_OWN_CAR', 'FLAG_OWN_REALTY', 'CNT_CHILDREN', 'AMT_INCOME_TOTAL', 'AMT_CREDIT', 'AMT_ANNUITY', 'AMT_GOODS_PRICE', 'NAME_TYPE_SUITE', 'NAME_INCOME_TYPE', 'NAME_EDUCATION_TYPE', 'NAME_FAMILY_STATUS', 'NAME_HOUSING_TYPE', 'REGION_POPULATION_RELATIVE', 'DAYS_BIRTH', 'DAYS_EMPLOYED', 'DAYS_REGISTRATION', 'DAYS_ID_PUBLISH', 'OWN_CAR_AGE', 'FLAG_MOBIL', 'FLAG_EMP_PHONE', 'FLAG_WORK_PHONE', 'FLAG_CONT_MOBILE', 'FLAG_PHONE', 'FLAG_EMAIL', 'OCCUPATION_TYPE', 'CNT_FAM_MEMBERS', 'REGION_RATING_CLIENT', 'REGION_RATING_CLIENT_W_CITY', 'WEEKDAY_APPR_PROCESS_START', 'HOUR_APPR_PROCESS_START', 'REG_REGION_NOT_LIVE_REGION', 'REG_REGION_NOT_WORK_REGION', 'LIVE_REGION_NOT_WORK_REGION', 'REG_CITY_NOT_LIVE_CITY', 'REG_CITY_NOT_WORK_CITY', 'LIVE_CITY_NOT_WORK_CITY', 'ORGANIZATION_TYPE', 'EXT_SOURCE_1', 'EXT_SOURCE_2', 'EXT_SOURCE_3', 'APARTMENTS_AVG', 'BASEMENTAREA_AVG', 'YEARS_BEGINEXPLUATATION_AVG', 'YEARS_BUILD_AVG', 'COMMONAREA_AVG', 'ELEVATORS_AVG', 'ENTRANCES_AVG', 'FLOORSMAX_AVG', 'FLOORSMIN_AVG', 'LANDAREA_AVG', 'LIVINGAPARTMENTS_AVG', 'LIVINGAREA_AVG', 'NONLIVINGAPARTMENTS_AVG', 'NONLIVINGAREA_AVG', 'APARTMENTS_MODE', 'BASEMENTAREA_MODE', 'YEARS_BEGINEXPLUATATION_MODE', 'YEARS_BUILD_MODE', 'COMMONAREA_MODE', 'ELEVATORS_MODE', 'ENTRANCES_MODE', 'FLOORSMAX_MODE', 'FLOORSMIN_MODE', 'LANDAREA_MODE', 'LIVINGAPARTMENTS_MODE', 'LIVINGAREA_MODE', 'NONLIVINGAPARTMENTS_MODE', 'NONLIVINGAREA_MODE', 'APARTMENTS_MEDI', 'BASEMENTAREA_MEDI', 'YEARS_BEGINEXPLUATATION_MEDI', 'YEARS_BUILD_MEDI', 'COMMONAREA_MEDI', 'ELEVATORS_MEDI', 'ENTRANCES_MEDI', 'FLOORSMAX_MEDI', 'FLOORSMIN_MEDI', 'LANDAREA_MEDI', 'LIVINGAPARTMENTS_MEDI', 'LIVINGAREA_MEDI', 'NONLIVINGAPARTMENTS_MEDI', 'NONLIVINGAREA_MEDI', 'FONDKAPREMONT_MODE', 'HOUSETYPE_MODE', 'TOTALAREA_MODE', 'WALLSMATERIAL_MODE', 'EMERGENCYSTATE_MODE', 'OBS_30_CNT_SOCIAL_CIRCLE', 'DEF_30_CNT_SOCIAL_CIRCLE', 'OBS_60_CNT_SOCIAL_CIRCLE', 'DEF_60_CNT_SOCIAL_CIRCLE', 'DAYS_LAST_PHONE_CHANGE', 'FLAG_DOCUMENT_2', 'FLAG_DOCUMENT_3', 'FLAG_DOCUMENT_4', 'FLAG_DOCUMENT_5', 'FLAG_DOCUMENT_6', 'FLAG_DOCUMENT_7', 'FLAG_DOCUMENT_8', 'FLAG_DOCUMENT_9', 'FLAG_DOCUMENT_10', 'FLAG_DOCUMENT_11', 'FLAG_DOCUMENT_12', 'FLAG_DOCUMENT_13', 'FLAG_DOCUMENT_14', 'FLAG_DOCUMENT_15', 'FLAG_DOCUMENT_16', 'FLAG_DOCUMENT_17', 'FLAG_DOCUMENT_18', 'FLAG_DOCUMENT_19', 'FLAG_DOCUMENT_20', 'FLAG_DOCUMENT_21', 'AMT_REQ_CREDIT_BUREAU_HOUR', 'AMT_REQ_CREDIT_BUREAU_DAY', 'AMT_REQ_CREDIT_BUREAU_WEEK', 'AMT_REQ_CREDIT_BUREAU_MON', 'AMT_REQ_CREDIT_BUREAU_QRT', 'AMT_REQ_CREDIT_BUREAU_YEAR']\n"
     ]
    }
   ],
   "source": [
    "for column in application_train:\n",
    "    if column not in application_test.columns:\n",
    "        print(f\"Missing column: \", column)\n",
    "print('--------------------------------------------------------------------------------------')\n",
    "print(list(application_train.columns))"
   ],
   "metadata": {
    "collapsed": false,
    "pycharm": {
     "name": "#%%\n"
    }
   }
  },
  {
   "cell_type": "markdown",
   "id": "2dc4835f-90c3-4049-9ec2-44d102201104",
   "metadata": {
    "id": "2dc4835f-90c3-4049-9ec2-44d102201104"
   },
   "source": [
    "3- Show the first 5 records of the training dataset, transpose the dataframe to see each record as a column and features as rows, make sure all features are visualized. Take your time to review what kind of information you can gather from this data."
   ]
  },
  {
   "cell_type": "code",
   "execution_count": 14,
   "id": "ac9c85b3-52e0-4b80-9753-afb81f92bd0d",
   "metadata": {
    "id": "ac9c85b3-52e0-4b80-9753-afb81f92bd0d"
   },
   "outputs": [
    {
     "data": {
      "text/plain": "                                                          0  \\\nSK_ID_CURR                                           100002   \nTARGET                                                    1   \nNAME_CONTRACT_TYPE                               Cash loans   \nCODE_GENDER                                               M   \nFLAG_OWN_CAR                                              N   \nFLAG_OWN_REALTY                                           Y   \nCNT_CHILDREN                                              0   \nAMT_INCOME_TOTAL                                   202500.0   \nAMT_CREDIT                                         406597.5   \nAMT_ANNUITY                                         24700.5   \nAMT_GOODS_PRICE                                    351000.0   \nNAME_TYPE_SUITE                               Unaccompanied   \nNAME_INCOME_TYPE                                    Working   \nNAME_EDUCATION_TYPE           Secondary / secondary special   \nNAME_FAMILY_STATUS                     Single / not married   \nNAME_HOUSING_TYPE                         House / apartment   \nREGION_POPULATION_RELATIVE                         0.018801   \nDAYS_BIRTH                                            -9461   \nDAYS_EMPLOYED                                          -637   \nDAYS_REGISTRATION                                   -3648.0   \nDAYS_ID_PUBLISH                                       -2120   \nOWN_CAR_AGE                                             NaN   \nFLAG_MOBIL                                                1   \nFLAG_EMP_PHONE                                            1   \nFLAG_WORK_PHONE                                           0   \nFLAG_CONT_MOBILE                                          1   \nFLAG_PHONE                                                1   \nFLAG_EMAIL                                                0   \nOCCUPATION_TYPE                                    Laborers   \nCNT_FAM_MEMBERS                                         1.0   \nREGION_RATING_CLIENT                                      2   \nREGION_RATING_CLIENT_W_CITY                               2   \nWEEKDAY_APPR_PROCESS_START                        WEDNESDAY   \nHOUR_APPR_PROCESS_START                                  10   \nREG_REGION_NOT_LIVE_REGION                                0   \nREG_REGION_NOT_WORK_REGION                                0   \nLIVE_REGION_NOT_WORK_REGION                               0   \nREG_CITY_NOT_LIVE_CITY                                    0   \nREG_CITY_NOT_WORK_CITY                                    0   \nLIVE_CITY_NOT_WORK_CITY                                   0   \nORGANIZATION_TYPE                    Business Entity Type 3   \nEXT_SOURCE_1                                       0.083037   \nEXT_SOURCE_2                                       0.262949   \nEXT_SOURCE_3                                       0.139376   \nAPARTMENTS_AVG                                       0.0247   \nBASEMENTAREA_AVG                                     0.0369   \nYEARS_BEGINEXPLUATATION_AVG                          0.9722   \nYEARS_BUILD_AVG                                      0.6192   \nCOMMONAREA_AVG                                       0.0143   \nELEVATORS_AVG                                           0.0   \nENTRANCES_AVG                                         0.069   \nFLOORSMAX_AVG                                        0.0833   \nFLOORSMIN_AVG                                         0.125   \nLANDAREA_AVG                                         0.0369   \nLIVINGAPARTMENTS_AVG                                 0.0202   \nLIVINGAREA_AVG                                        0.019   \nNONLIVINGAPARTMENTS_AVG                                 0.0   \nNONLIVINGAREA_AVG                                       0.0   \nAPARTMENTS_MODE                                      0.0252   \nBASEMENTAREA_MODE                                    0.0383   \nYEARS_BEGINEXPLUATATION_MODE                         0.9722   \nYEARS_BUILD_MODE                                     0.6341   \nCOMMONAREA_MODE                                      0.0144   \nELEVATORS_MODE                                          0.0   \nENTRANCES_MODE                                        0.069   \nFLOORSMAX_MODE                                       0.0833   \nFLOORSMIN_MODE                                        0.125   \nLANDAREA_MODE                                        0.0377   \nLIVINGAPARTMENTS_MODE                                 0.022   \nLIVINGAREA_MODE                                      0.0198   \nNONLIVINGAPARTMENTS_MODE                                0.0   \nNONLIVINGAREA_MODE                                      0.0   \nAPARTMENTS_MEDI                                       0.025   \nBASEMENTAREA_MEDI                                    0.0369   \nYEARS_BEGINEXPLUATATION_MEDI                         0.9722   \nYEARS_BUILD_MEDI                                     0.6243   \nCOMMONAREA_MEDI                                      0.0144   \nELEVATORS_MEDI                                          0.0   \nENTRANCES_MEDI                                        0.069   \nFLOORSMAX_MEDI                                       0.0833   \nFLOORSMIN_MEDI                                        0.125   \nLANDAREA_MEDI                                        0.0375   \nLIVINGAPARTMENTS_MEDI                                0.0205   \nLIVINGAREA_MEDI                                      0.0193   \nNONLIVINGAPARTMENTS_MEDI                                0.0   \nNONLIVINGAREA_MEDI                                      0.0   \nFONDKAPREMONT_MODE                         reg oper account   \nHOUSETYPE_MODE                               block of flats   \nTOTALAREA_MODE                                       0.0149   \nWALLSMATERIAL_MODE                             Stone, brick   \nEMERGENCYSTATE_MODE                                      No   \nOBS_30_CNT_SOCIAL_CIRCLE                                2.0   \nDEF_30_CNT_SOCIAL_CIRCLE                                2.0   \nOBS_60_CNT_SOCIAL_CIRCLE                                2.0   \nDEF_60_CNT_SOCIAL_CIRCLE                                2.0   \nDAYS_LAST_PHONE_CHANGE                              -1134.0   \nFLAG_DOCUMENT_2                                           0   \nFLAG_DOCUMENT_3                                           1   \nFLAG_DOCUMENT_4                                           0   \nFLAG_DOCUMENT_5                                           0   \nFLAG_DOCUMENT_6                                           0   \nFLAG_DOCUMENT_7                                           0   \nFLAG_DOCUMENT_8                                           0   \nFLAG_DOCUMENT_9                                           0   \nFLAG_DOCUMENT_10                                          0   \nFLAG_DOCUMENT_11                                          0   \nFLAG_DOCUMENT_12                                          0   \nFLAG_DOCUMENT_13                                          0   \nFLAG_DOCUMENT_14                                          0   \nFLAG_DOCUMENT_15                                          0   \nFLAG_DOCUMENT_16                                          0   \nFLAG_DOCUMENT_17                                          0   \nFLAG_DOCUMENT_18                                          0   \nFLAG_DOCUMENT_19                                          0   \nFLAG_DOCUMENT_20                                          0   \nFLAG_DOCUMENT_21                                          0   \nAMT_REQ_CREDIT_BUREAU_HOUR                              0.0   \nAMT_REQ_CREDIT_BUREAU_DAY                               0.0   \nAMT_REQ_CREDIT_BUREAU_WEEK                              0.0   \nAMT_REQ_CREDIT_BUREAU_MON                               0.0   \nAMT_REQ_CREDIT_BUREAU_QRT                               0.0   \nAMT_REQ_CREDIT_BUREAU_YEAR                              1.0   \n\n                                              1  \\\nSK_ID_CURR                               100003   \nTARGET                                        0   \nNAME_CONTRACT_TYPE                   Cash loans   \nCODE_GENDER                                   F   \nFLAG_OWN_CAR                                  N   \nFLAG_OWN_REALTY                               N   \nCNT_CHILDREN                                  0   \nAMT_INCOME_TOTAL                       270000.0   \nAMT_CREDIT                            1293502.5   \nAMT_ANNUITY                             35698.5   \nAMT_GOODS_PRICE                       1129500.0   \nNAME_TYPE_SUITE                          Family   \nNAME_INCOME_TYPE                  State servant   \nNAME_EDUCATION_TYPE            Higher education   \nNAME_FAMILY_STATUS                      Married   \nNAME_HOUSING_TYPE             House / apartment   \nREGION_POPULATION_RELATIVE             0.003541   \nDAYS_BIRTH                               -16765   \nDAYS_EMPLOYED                             -1188   \nDAYS_REGISTRATION                       -1186.0   \nDAYS_ID_PUBLISH                            -291   \nOWN_CAR_AGE                                 NaN   \nFLAG_MOBIL                                    1   \nFLAG_EMP_PHONE                                1   \nFLAG_WORK_PHONE                               0   \nFLAG_CONT_MOBILE                              1   \nFLAG_PHONE                                    1   \nFLAG_EMAIL                                    0   \nOCCUPATION_TYPE                      Core staff   \nCNT_FAM_MEMBERS                             2.0   \nREGION_RATING_CLIENT                          1   \nREGION_RATING_CLIENT_W_CITY                   1   \nWEEKDAY_APPR_PROCESS_START               MONDAY   \nHOUR_APPR_PROCESS_START                      11   \nREG_REGION_NOT_LIVE_REGION                    0   \nREG_REGION_NOT_WORK_REGION                    0   \nLIVE_REGION_NOT_WORK_REGION                   0   \nREG_CITY_NOT_LIVE_CITY                        0   \nREG_CITY_NOT_WORK_CITY                        0   \nLIVE_CITY_NOT_WORK_CITY                       0   \nORGANIZATION_TYPE                        School   \nEXT_SOURCE_1                           0.311267   \nEXT_SOURCE_2                           0.622246   \nEXT_SOURCE_3                                NaN   \nAPARTMENTS_AVG                           0.0959   \nBASEMENTAREA_AVG                         0.0529   \nYEARS_BEGINEXPLUATATION_AVG              0.9851   \nYEARS_BUILD_AVG                           0.796   \nCOMMONAREA_AVG                           0.0605   \nELEVATORS_AVG                              0.08   \nENTRANCES_AVG                            0.0345   \nFLOORSMAX_AVG                            0.2917   \nFLOORSMIN_AVG                            0.3333   \nLANDAREA_AVG                              0.013   \nLIVINGAPARTMENTS_AVG                     0.0773   \nLIVINGAREA_AVG                           0.0549   \nNONLIVINGAPARTMENTS_AVG                  0.0039   \nNONLIVINGAREA_AVG                        0.0098   \nAPARTMENTS_MODE                          0.0924   \nBASEMENTAREA_MODE                        0.0538   \nYEARS_BEGINEXPLUATATION_MODE             0.9851   \nYEARS_BUILD_MODE                          0.804   \nCOMMONAREA_MODE                          0.0497   \nELEVATORS_MODE                           0.0806   \nENTRANCES_MODE                           0.0345   \nFLOORSMAX_MODE                           0.2917   \nFLOORSMIN_MODE                           0.3333   \nLANDAREA_MODE                            0.0128   \nLIVINGAPARTMENTS_MODE                     0.079   \nLIVINGAREA_MODE                          0.0554   \nNONLIVINGAPARTMENTS_MODE                    0.0   \nNONLIVINGAREA_MODE                          0.0   \nAPARTMENTS_MEDI                          0.0968   \nBASEMENTAREA_MEDI                        0.0529   \nYEARS_BEGINEXPLUATATION_MEDI             0.9851   \nYEARS_BUILD_MEDI                         0.7987   \nCOMMONAREA_MEDI                          0.0608   \nELEVATORS_MEDI                             0.08   \nENTRANCES_MEDI                           0.0345   \nFLOORSMAX_MEDI                           0.2917   \nFLOORSMIN_MEDI                           0.3333   \nLANDAREA_MEDI                            0.0132   \nLIVINGAPARTMENTS_MEDI                    0.0787   \nLIVINGAREA_MEDI                          0.0558   \nNONLIVINGAPARTMENTS_MEDI                 0.0039   \nNONLIVINGAREA_MEDI                         0.01   \nFONDKAPREMONT_MODE             reg oper account   \nHOUSETYPE_MODE                   block of flats   \nTOTALAREA_MODE                           0.0714   \nWALLSMATERIAL_MODE                        Block   \nEMERGENCYSTATE_MODE                          No   \nOBS_30_CNT_SOCIAL_CIRCLE                    1.0   \nDEF_30_CNT_SOCIAL_CIRCLE                    0.0   \nOBS_60_CNT_SOCIAL_CIRCLE                    1.0   \nDEF_60_CNT_SOCIAL_CIRCLE                    0.0   \nDAYS_LAST_PHONE_CHANGE                   -828.0   \nFLAG_DOCUMENT_2                               0   \nFLAG_DOCUMENT_3                               1   \nFLAG_DOCUMENT_4                               0   \nFLAG_DOCUMENT_5                               0   \nFLAG_DOCUMENT_6                               0   \nFLAG_DOCUMENT_7                               0   \nFLAG_DOCUMENT_8                               0   \nFLAG_DOCUMENT_9                               0   \nFLAG_DOCUMENT_10                              0   \nFLAG_DOCUMENT_11                              0   \nFLAG_DOCUMENT_12                              0   \nFLAG_DOCUMENT_13                              0   \nFLAG_DOCUMENT_14                              0   \nFLAG_DOCUMENT_15                              0   \nFLAG_DOCUMENT_16                              0   \nFLAG_DOCUMENT_17                              0   \nFLAG_DOCUMENT_18                              0   \nFLAG_DOCUMENT_19                              0   \nFLAG_DOCUMENT_20                              0   \nFLAG_DOCUMENT_21                              0   \nAMT_REQ_CREDIT_BUREAU_HOUR                  0.0   \nAMT_REQ_CREDIT_BUREAU_DAY                   0.0   \nAMT_REQ_CREDIT_BUREAU_WEEK                  0.0   \nAMT_REQ_CREDIT_BUREAU_MON                   0.0   \nAMT_REQ_CREDIT_BUREAU_QRT                   0.0   \nAMT_REQ_CREDIT_BUREAU_YEAR                  0.0   \n\n                                                          2  \\\nSK_ID_CURR                                           100004   \nTARGET                                                    0   \nNAME_CONTRACT_TYPE                          Revolving loans   \nCODE_GENDER                                               M   \nFLAG_OWN_CAR                                              Y   \nFLAG_OWN_REALTY                                           Y   \nCNT_CHILDREN                                              0   \nAMT_INCOME_TOTAL                                    67500.0   \nAMT_CREDIT                                         135000.0   \nAMT_ANNUITY                                          6750.0   \nAMT_GOODS_PRICE                                    135000.0   \nNAME_TYPE_SUITE                               Unaccompanied   \nNAME_INCOME_TYPE                                    Working   \nNAME_EDUCATION_TYPE           Secondary / secondary special   \nNAME_FAMILY_STATUS                     Single / not married   \nNAME_HOUSING_TYPE                         House / apartment   \nREGION_POPULATION_RELATIVE                         0.010032   \nDAYS_BIRTH                                           -19046   \nDAYS_EMPLOYED                                          -225   \nDAYS_REGISTRATION                                   -4260.0   \nDAYS_ID_PUBLISH                                       -2531   \nOWN_CAR_AGE                                            26.0   \nFLAG_MOBIL                                                1   \nFLAG_EMP_PHONE                                            1   \nFLAG_WORK_PHONE                                           1   \nFLAG_CONT_MOBILE                                          1   \nFLAG_PHONE                                                1   \nFLAG_EMAIL                                                0   \nOCCUPATION_TYPE                                    Laborers   \nCNT_FAM_MEMBERS                                         1.0   \nREGION_RATING_CLIENT                                      2   \nREGION_RATING_CLIENT_W_CITY                               2   \nWEEKDAY_APPR_PROCESS_START                           MONDAY   \nHOUR_APPR_PROCESS_START                                   9   \nREG_REGION_NOT_LIVE_REGION                                0   \nREG_REGION_NOT_WORK_REGION                                0   \nLIVE_REGION_NOT_WORK_REGION                               0   \nREG_CITY_NOT_LIVE_CITY                                    0   \nREG_CITY_NOT_WORK_CITY                                    0   \nLIVE_CITY_NOT_WORK_CITY                                   0   \nORGANIZATION_TYPE                                Government   \nEXT_SOURCE_1                                            NaN   \nEXT_SOURCE_2                                       0.555912   \nEXT_SOURCE_3                                       0.729567   \nAPARTMENTS_AVG                                          NaN   \nBASEMENTAREA_AVG                                        NaN   \nYEARS_BEGINEXPLUATATION_AVG                             NaN   \nYEARS_BUILD_AVG                                         NaN   \nCOMMONAREA_AVG                                          NaN   \nELEVATORS_AVG                                           NaN   \nENTRANCES_AVG                                           NaN   \nFLOORSMAX_AVG                                           NaN   \nFLOORSMIN_AVG                                           NaN   \nLANDAREA_AVG                                            NaN   \nLIVINGAPARTMENTS_AVG                                    NaN   \nLIVINGAREA_AVG                                          NaN   \nNONLIVINGAPARTMENTS_AVG                                 NaN   \nNONLIVINGAREA_AVG                                       NaN   \nAPARTMENTS_MODE                                         NaN   \nBASEMENTAREA_MODE                                       NaN   \nYEARS_BEGINEXPLUATATION_MODE                            NaN   \nYEARS_BUILD_MODE                                        NaN   \nCOMMONAREA_MODE                                         NaN   \nELEVATORS_MODE                                          NaN   \nENTRANCES_MODE                                          NaN   \nFLOORSMAX_MODE                                          NaN   \nFLOORSMIN_MODE                                          NaN   \nLANDAREA_MODE                                           NaN   \nLIVINGAPARTMENTS_MODE                                   NaN   \nLIVINGAREA_MODE                                         NaN   \nNONLIVINGAPARTMENTS_MODE                                NaN   \nNONLIVINGAREA_MODE                                      NaN   \nAPARTMENTS_MEDI                                         NaN   \nBASEMENTAREA_MEDI                                       NaN   \nYEARS_BEGINEXPLUATATION_MEDI                            NaN   \nYEARS_BUILD_MEDI                                        NaN   \nCOMMONAREA_MEDI                                         NaN   \nELEVATORS_MEDI                                          NaN   \nENTRANCES_MEDI                                          NaN   \nFLOORSMAX_MEDI                                          NaN   \nFLOORSMIN_MEDI                                          NaN   \nLANDAREA_MEDI                                           NaN   \nLIVINGAPARTMENTS_MEDI                                   NaN   \nLIVINGAREA_MEDI                                         NaN   \nNONLIVINGAPARTMENTS_MEDI                                NaN   \nNONLIVINGAREA_MEDI                                      NaN   \nFONDKAPREMONT_MODE                                      NaN   \nHOUSETYPE_MODE                                          NaN   \nTOTALAREA_MODE                                          NaN   \nWALLSMATERIAL_MODE                                      NaN   \nEMERGENCYSTATE_MODE                                     NaN   \nOBS_30_CNT_SOCIAL_CIRCLE                                0.0   \nDEF_30_CNT_SOCIAL_CIRCLE                                0.0   \nOBS_60_CNT_SOCIAL_CIRCLE                                0.0   \nDEF_60_CNT_SOCIAL_CIRCLE                                0.0   \nDAYS_LAST_PHONE_CHANGE                               -815.0   \nFLAG_DOCUMENT_2                                           0   \nFLAG_DOCUMENT_3                                           0   \nFLAG_DOCUMENT_4                                           0   \nFLAG_DOCUMENT_5                                           0   \nFLAG_DOCUMENT_6                                           0   \nFLAG_DOCUMENT_7                                           0   \nFLAG_DOCUMENT_8                                           0   \nFLAG_DOCUMENT_9                                           0   \nFLAG_DOCUMENT_10                                          0   \nFLAG_DOCUMENT_11                                          0   \nFLAG_DOCUMENT_12                                          0   \nFLAG_DOCUMENT_13                                          0   \nFLAG_DOCUMENT_14                                          0   \nFLAG_DOCUMENT_15                                          0   \nFLAG_DOCUMENT_16                                          0   \nFLAG_DOCUMENT_17                                          0   \nFLAG_DOCUMENT_18                                          0   \nFLAG_DOCUMENT_19                                          0   \nFLAG_DOCUMENT_20                                          0   \nFLAG_DOCUMENT_21                                          0   \nAMT_REQ_CREDIT_BUREAU_HOUR                              0.0   \nAMT_REQ_CREDIT_BUREAU_DAY                               0.0   \nAMT_REQ_CREDIT_BUREAU_WEEK                              0.0   \nAMT_REQ_CREDIT_BUREAU_MON                               0.0   \nAMT_REQ_CREDIT_BUREAU_QRT                               0.0   \nAMT_REQ_CREDIT_BUREAU_YEAR                              0.0   \n\n                                                          3  \\\nSK_ID_CURR                                           100006   \nTARGET                                                    0   \nNAME_CONTRACT_TYPE                               Cash loans   \nCODE_GENDER                                               F   \nFLAG_OWN_CAR                                              N   \nFLAG_OWN_REALTY                                           Y   \nCNT_CHILDREN                                              0   \nAMT_INCOME_TOTAL                                   135000.0   \nAMT_CREDIT                                         312682.5   \nAMT_ANNUITY                                         29686.5   \nAMT_GOODS_PRICE                                    297000.0   \nNAME_TYPE_SUITE                               Unaccompanied   \nNAME_INCOME_TYPE                                    Working   \nNAME_EDUCATION_TYPE           Secondary / secondary special   \nNAME_FAMILY_STATUS                           Civil marriage   \nNAME_HOUSING_TYPE                         House / apartment   \nREGION_POPULATION_RELATIVE                         0.008019   \nDAYS_BIRTH                                           -19005   \nDAYS_EMPLOYED                                         -3039   \nDAYS_REGISTRATION                                   -9833.0   \nDAYS_ID_PUBLISH                                       -2437   \nOWN_CAR_AGE                                             NaN   \nFLAG_MOBIL                                                1   \nFLAG_EMP_PHONE                                            1   \nFLAG_WORK_PHONE                                           0   \nFLAG_CONT_MOBILE                                          1   \nFLAG_PHONE                                                0   \nFLAG_EMAIL                                                0   \nOCCUPATION_TYPE                                    Laborers   \nCNT_FAM_MEMBERS                                         2.0   \nREGION_RATING_CLIENT                                      2   \nREGION_RATING_CLIENT_W_CITY                               2   \nWEEKDAY_APPR_PROCESS_START                        WEDNESDAY   \nHOUR_APPR_PROCESS_START                                  17   \nREG_REGION_NOT_LIVE_REGION                                0   \nREG_REGION_NOT_WORK_REGION                                0   \nLIVE_REGION_NOT_WORK_REGION                               0   \nREG_CITY_NOT_LIVE_CITY                                    0   \nREG_CITY_NOT_WORK_CITY                                    0   \nLIVE_CITY_NOT_WORK_CITY                                   0   \nORGANIZATION_TYPE                    Business Entity Type 3   \nEXT_SOURCE_1                                            NaN   \nEXT_SOURCE_2                                       0.650442   \nEXT_SOURCE_3                                            NaN   \nAPARTMENTS_AVG                                          NaN   \nBASEMENTAREA_AVG                                        NaN   \nYEARS_BEGINEXPLUATATION_AVG                             NaN   \nYEARS_BUILD_AVG                                         NaN   \nCOMMONAREA_AVG                                          NaN   \nELEVATORS_AVG                                           NaN   \nENTRANCES_AVG                                           NaN   \nFLOORSMAX_AVG                                           NaN   \nFLOORSMIN_AVG                                           NaN   \nLANDAREA_AVG                                            NaN   \nLIVINGAPARTMENTS_AVG                                    NaN   \nLIVINGAREA_AVG                                          NaN   \nNONLIVINGAPARTMENTS_AVG                                 NaN   \nNONLIVINGAREA_AVG                                       NaN   \nAPARTMENTS_MODE                                         NaN   \nBASEMENTAREA_MODE                                       NaN   \nYEARS_BEGINEXPLUATATION_MODE                            NaN   \nYEARS_BUILD_MODE                                        NaN   \nCOMMONAREA_MODE                                         NaN   \nELEVATORS_MODE                                          NaN   \nENTRANCES_MODE                                          NaN   \nFLOORSMAX_MODE                                          NaN   \nFLOORSMIN_MODE                                          NaN   \nLANDAREA_MODE                                           NaN   \nLIVINGAPARTMENTS_MODE                                   NaN   \nLIVINGAREA_MODE                                         NaN   \nNONLIVINGAPARTMENTS_MODE                                NaN   \nNONLIVINGAREA_MODE                                      NaN   \nAPARTMENTS_MEDI                                         NaN   \nBASEMENTAREA_MEDI                                       NaN   \nYEARS_BEGINEXPLUATATION_MEDI                            NaN   \nYEARS_BUILD_MEDI                                        NaN   \nCOMMONAREA_MEDI                                         NaN   \nELEVATORS_MEDI                                          NaN   \nENTRANCES_MEDI                                          NaN   \nFLOORSMAX_MEDI                                          NaN   \nFLOORSMIN_MEDI                                          NaN   \nLANDAREA_MEDI                                           NaN   \nLIVINGAPARTMENTS_MEDI                                   NaN   \nLIVINGAREA_MEDI                                         NaN   \nNONLIVINGAPARTMENTS_MEDI                                NaN   \nNONLIVINGAREA_MEDI                                      NaN   \nFONDKAPREMONT_MODE                                      NaN   \nHOUSETYPE_MODE                                          NaN   \nTOTALAREA_MODE                                          NaN   \nWALLSMATERIAL_MODE                                      NaN   \nEMERGENCYSTATE_MODE                                     NaN   \nOBS_30_CNT_SOCIAL_CIRCLE                                2.0   \nDEF_30_CNT_SOCIAL_CIRCLE                                0.0   \nOBS_60_CNT_SOCIAL_CIRCLE                                2.0   \nDEF_60_CNT_SOCIAL_CIRCLE                                0.0   \nDAYS_LAST_PHONE_CHANGE                               -617.0   \nFLAG_DOCUMENT_2                                           0   \nFLAG_DOCUMENT_3                                           1   \nFLAG_DOCUMENT_4                                           0   \nFLAG_DOCUMENT_5                                           0   \nFLAG_DOCUMENT_6                                           0   \nFLAG_DOCUMENT_7                                           0   \nFLAG_DOCUMENT_8                                           0   \nFLAG_DOCUMENT_9                                           0   \nFLAG_DOCUMENT_10                                          0   \nFLAG_DOCUMENT_11                                          0   \nFLAG_DOCUMENT_12                                          0   \nFLAG_DOCUMENT_13                                          0   \nFLAG_DOCUMENT_14                                          0   \nFLAG_DOCUMENT_15                                          0   \nFLAG_DOCUMENT_16                                          0   \nFLAG_DOCUMENT_17                                          0   \nFLAG_DOCUMENT_18                                          0   \nFLAG_DOCUMENT_19                                          0   \nFLAG_DOCUMENT_20                                          0   \nFLAG_DOCUMENT_21                                          0   \nAMT_REQ_CREDIT_BUREAU_HOUR                              NaN   \nAMT_REQ_CREDIT_BUREAU_DAY                               NaN   \nAMT_REQ_CREDIT_BUREAU_WEEK                              NaN   \nAMT_REQ_CREDIT_BUREAU_MON                               NaN   \nAMT_REQ_CREDIT_BUREAU_QRT                               NaN   \nAMT_REQ_CREDIT_BUREAU_YEAR                              NaN   \n\n                                                          4  \nSK_ID_CURR                                           100007  \nTARGET                                                    0  \nNAME_CONTRACT_TYPE                               Cash loans  \nCODE_GENDER                                               M  \nFLAG_OWN_CAR                                              N  \nFLAG_OWN_REALTY                                           Y  \nCNT_CHILDREN                                              0  \nAMT_INCOME_TOTAL                                   121500.0  \nAMT_CREDIT                                         513000.0  \nAMT_ANNUITY                                         21865.5  \nAMT_GOODS_PRICE                                    513000.0  \nNAME_TYPE_SUITE                               Unaccompanied  \nNAME_INCOME_TYPE                                    Working  \nNAME_EDUCATION_TYPE           Secondary / secondary special  \nNAME_FAMILY_STATUS                     Single / not married  \nNAME_HOUSING_TYPE                         House / apartment  \nREGION_POPULATION_RELATIVE                         0.028663  \nDAYS_BIRTH                                           -19932  \nDAYS_EMPLOYED                                         -3038  \nDAYS_REGISTRATION                                   -4311.0  \nDAYS_ID_PUBLISH                                       -3458  \nOWN_CAR_AGE                                             NaN  \nFLAG_MOBIL                                                1  \nFLAG_EMP_PHONE                                            1  \nFLAG_WORK_PHONE                                           0  \nFLAG_CONT_MOBILE                                          1  \nFLAG_PHONE                                                0  \nFLAG_EMAIL                                                0  \nOCCUPATION_TYPE                                  Core staff  \nCNT_FAM_MEMBERS                                         1.0  \nREGION_RATING_CLIENT                                      2  \nREGION_RATING_CLIENT_W_CITY                               2  \nWEEKDAY_APPR_PROCESS_START                         THURSDAY  \nHOUR_APPR_PROCESS_START                                  11  \nREG_REGION_NOT_LIVE_REGION                                0  \nREG_REGION_NOT_WORK_REGION                                0  \nLIVE_REGION_NOT_WORK_REGION                               0  \nREG_CITY_NOT_LIVE_CITY                                    0  \nREG_CITY_NOT_WORK_CITY                                    1  \nLIVE_CITY_NOT_WORK_CITY                                   1  \nORGANIZATION_TYPE                                  Religion  \nEXT_SOURCE_1                                            NaN  \nEXT_SOURCE_2                                       0.322738  \nEXT_SOURCE_3                                            NaN  \nAPARTMENTS_AVG                                          NaN  \nBASEMENTAREA_AVG                                        NaN  \nYEARS_BEGINEXPLUATATION_AVG                             NaN  \nYEARS_BUILD_AVG                                         NaN  \nCOMMONAREA_AVG                                          NaN  \nELEVATORS_AVG                                           NaN  \nENTRANCES_AVG                                           NaN  \nFLOORSMAX_AVG                                           NaN  \nFLOORSMIN_AVG                                           NaN  \nLANDAREA_AVG                                            NaN  \nLIVINGAPARTMENTS_AVG                                    NaN  \nLIVINGAREA_AVG                                          NaN  \nNONLIVINGAPARTMENTS_AVG                                 NaN  \nNONLIVINGAREA_AVG                                       NaN  \nAPARTMENTS_MODE                                         NaN  \nBASEMENTAREA_MODE                                       NaN  \nYEARS_BEGINEXPLUATATION_MODE                            NaN  \nYEARS_BUILD_MODE                                        NaN  \nCOMMONAREA_MODE                                         NaN  \nELEVATORS_MODE                                          NaN  \nENTRANCES_MODE                                          NaN  \nFLOORSMAX_MODE                                          NaN  \nFLOORSMIN_MODE                                          NaN  \nLANDAREA_MODE                                           NaN  \nLIVINGAPARTMENTS_MODE                                   NaN  \nLIVINGAREA_MODE                                         NaN  \nNONLIVINGAPARTMENTS_MODE                                NaN  \nNONLIVINGAREA_MODE                                      NaN  \nAPARTMENTS_MEDI                                         NaN  \nBASEMENTAREA_MEDI                                       NaN  \nYEARS_BEGINEXPLUATATION_MEDI                            NaN  \nYEARS_BUILD_MEDI                                        NaN  \nCOMMONAREA_MEDI                                         NaN  \nELEVATORS_MEDI                                          NaN  \nENTRANCES_MEDI                                          NaN  \nFLOORSMAX_MEDI                                          NaN  \nFLOORSMIN_MEDI                                          NaN  \nLANDAREA_MEDI                                           NaN  \nLIVINGAPARTMENTS_MEDI                                   NaN  \nLIVINGAREA_MEDI                                         NaN  \nNONLIVINGAPARTMENTS_MEDI                                NaN  \nNONLIVINGAREA_MEDI                                      NaN  \nFONDKAPREMONT_MODE                                      NaN  \nHOUSETYPE_MODE                                          NaN  \nTOTALAREA_MODE                                          NaN  \nWALLSMATERIAL_MODE                                      NaN  \nEMERGENCYSTATE_MODE                                     NaN  \nOBS_30_CNT_SOCIAL_CIRCLE                                0.0  \nDEF_30_CNT_SOCIAL_CIRCLE                                0.0  \nOBS_60_CNT_SOCIAL_CIRCLE                                0.0  \nDEF_60_CNT_SOCIAL_CIRCLE                                0.0  \nDAYS_LAST_PHONE_CHANGE                              -1106.0  \nFLAG_DOCUMENT_2                                           0  \nFLAG_DOCUMENT_3                                           0  \nFLAG_DOCUMENT_4                                           0  \nFLAG_DOCUMENT_5                                           0  \nFLAG_DOCUMENT_6                                           0  \nFLAG_DOCUMENT_7                                           0  \nFLAG_DOCUMENT_8                                           1  \nFLAG_DOCUMENT_9                                           0  \nFLAG_DOCUMENT_10                                          0  \nFLAG_DOCUMENT_11                                          0  \nFLAG_DOCUMENT_12                                          0  \nFLAG_DOCUMENT_13                                          0  \nFLAG_DOCUMENT_14                                          0  \nFLAG_DOCUMENT_15                                          0  \nFLAG_DOCUMENT_16                                          0  \nFLAG_DOCUMENT_17                                          0  \nFLAG_DOCUMENT_18                                          0  \nFLAG_DOCUMENT_19                                          0  \nFLAG_DOCUMENT_20                                          0  \nFLAG_DOCUMENT_21                                          0  \nAMT_REQ_CREDIT_BUREAU_HOUR                              0.0  \nAMT_REQ_CREDIT_BUREAU_DAY                               0.0  \nAMT_REQ_CREDIT_BUREAU_WEEK                              0.0  \nAMT_REQ_CREDIT_BUREAU_MON                               0.0  \nAMT_REQ_CREDIT_BUREAU_QRT                               0.0  \nAMT_REQ_CREDIT_BUREAU_YEAR                              0.0  ",
      "text/html": "<div>\n<style scoped>\n    .dataframe tbody tr th:only-of-type {\n        vertical-align: middle;\n    }\n\n    .dataframe tbody tr th {\n        vertical-align: top;\n    }\n\n    .dataframe thead th {\n        text-align: right;\n    }\n</style>\n<table border=\"1\" class=\"dataframe\">\n  <thead>\n    <tr style=\"text-align: right;\">\n      <th></th>\n      <th>0</th>\n      <th>1</th>\n      <th>2</th>\n      <th>3</th>\n      <th>4</th>\n    </tr>\n  </thead>\n  <tbody>\n    <tr>\n      <th>SK_ID_CURR</th>\n      <td>100002</td>\n      <td>100003</td>\n      <td>100004</td>\n      <td>100006</td>\n      <td>100007</td>\n    </tr>\n    <tr>\n      <th>TARGET</th>\n      <td>1</td>\n      <td>0</td>\n      <td>0</td>\n      <td>0</td>\n      <td>0</td>\n    </tr>\n    <tr>\n      <th>NAME_CONTRACT_TYPE</th>\n      <td>Cash loans</td>\n      <td>Cash loans</td>\n      <td>Revolving loans</td>\n      <td>Cash loans</td>\n      <td>Cash loans</td>\n    </tr>\n    <tr>\n      <th>CODE_GENDER</th>\n      <td>M</td>\n      <td>F</td>\n      <td>M</td>\n      <td>F</td>\n      <td>M</td>\n    </tr>\n    <tr>\n      <th>FLAG_OWN_CAR</th>\n      <td>N</td>\n      <td>N</td>\n      <td>Y</td>\n      <td>N</td>\n      <td>N</td>\n    </tr>\n    <tr>\n      <th>FLAG_OWN_REALTY</th>\n      <td>Y</td>\n      <td>N</td>\n      <td>Y</td>\n      <td>Y</td>\n      <td>Y</td>\n    </tr>\n    <tr>\n      <th>CNT_CHILDREN</th>\n      <td>0</td>\n      <td>0</td>\n      <td>0</td>\n      <td>0</td>\n      <td>0</td>\n    </tr>\n    <tr>\n      <th>AMT_INCOME_TOTAL</th>\n      <td>202500.0</td>\n      <td>270000.0</td>\n      <td>67500.0</td>\n      <td>135000.0</td>\n      <td>121500.0</td>\n    </tr>\n    <tr>\n      <th>AMT_CREDIT</th>\n      <td>406597.5</td>\n      <td>1293502.5</td>\n      <td>135000.0</td>\n      <td>312682.5</td>\n      <td>513000.0</td>\n    </tr>\n    <tr>\n      <th>AMT_ANNUITY</th>\n      <td>24700.5</td>\n      <td>35698.5</td>\n      <td>6750.0</td>\n      <td>29686.5</td>\n      <td>21865.5</td>\n    </tr>\n    <tr>\n      <th>AMT_GOODS_PRICE</th>\n      <td>351000.0</td>\n      <td>1129500.0</td>\n      <td>135000.0</td>\n      <td>297000.0</td>\n      <td>513000.0</td>\n    </tr>\n    <tr>\n      <th>NAME_TYPE_SUITE</th>\n      <td>Unaccompanied</td>\n      <td>Family</td>\n      <td>Unaccompanied</td>\n      <td>Unaccompanied</td>\n      <td>Unaccompanied</td>\n    </tr>\n    <tr>\n      <th>NAME_INCOME_TYPE</th>\n      <td>Working</td>\n      <td>State servant</td>\n      <td>Working</td>\n      <td>Working</td>\n      <td>Working</td>\n    </tr>\n    <tr>\n      <th>NAME_EDUCATION_TYPE</th>\n      <td>Secondary / secondary special</td>\n      <td>Higher education</td>\n      <td>Secondary / secondary special</td>\n      <td>Secondary / secondary special</td>\n      <td>Secondary / secondary special</td>\n    </tr>\n    <tr>\n      <th>NAME_FAMILY_STATUS</th>\n      <td>Single / not married</td>\n      <td>Married</td>\n      <td>Single / not married</td>\n      <td>Civil marriage</td>\n      <td>Single / not married</td>\n    </tr>\n    <tr>\n      <th>NAME_HOUSING_TYPE</th>\n      <td>House / apartment</td>\n      <td>House / apartment</td>\n      <td>House / apartment</td>\n      <td>House / apartment</td>\n      <td>House / apartment</td>\n    </tr>\n    <tr>\n      <th>REGION_POPULATION_RELATIVE</th>\n      <td>0.018801</td>\n      <td>0.003541</td>\n      <td>0.010032</td>\n      <td>0.008019</td>\n      <td>0.028663</td>\n    </tr>\n    <tr>\n      <th>DAYS_BIRTH</th>\n      <td>-9461</td>\n      <td>-16765</td>\n      <td>-19046</td>\n      <td>-19005</td>\n      <td>-19932</td>\n    </tr>\n    <tr>\n      <th>DAYS_EMPLOYED</th>\n      <td>-637</td>\n      <td>-1188</td>\n      <td>-225</td>\n      <td>-3039</td>\n      <td>-3038</td>\n    </tr>\n    <tr>\n      <th>DAYS_REGISTRATION</th>\n      <td>-3648.0</td>\n      <td>-1186.0</td>\n      <td>-4260.0</td>\n      <td>-9833.0</td>\n      <td>-4311.0</td>\n    </tr>\n    <tr>\n      <th>DAYS_ID_PUBLISH</th>\n      <td>-2120</td>\n      <td>-291</td>\n      <td>-2531</td>\n      <td>-2437</td>\n      <td>-3458</td>\n    </tr>\n    <tr>\n      <th>OWN_CAR_AGE</th>\n      <td>NaN</td>\n      <td>NaN</td>\n      <td>26.0</td>\n      <td>NaN</td>\n      <td>NaN</td>\n    </tr>\n    <tr>\n      <th>FLAG_MOBIL</th>\n      <td>1</td>\n      <td>1</td>\n      <td>1</td>\n      <td>1</td>\n      <td>1</td>\n    </tr>\n    <tr>\n      <th>FLAG_EMP_PHONE</th>\n      <td>1</td>\n      <td>1</td>\n      <td>1</td>\n      <td>1</td>\n      <td>1</td>\n    </tr>\n    <tr>\n      <th>FLAG_WORK_PHONE</th>\n      <td>0</td>\n      <td>0</td>\n      <td>1</td>\n      <td>0</td>\n      <td>0</td>\n    </tr>\n    <tr>\n      <th>FLAG_CONT_MOBILE</th>\n      <td>1</td>\n      <td>1</td>\n      <td>1</td>\n      <td>1</td>\n      <td>1</td>\n    </tr>\n    <tr>\n      <th>FLAG_PHONE</th>\n      <td>1</td>\n      <td>1</td>\n      <td>1</td>\n      <td>0</td>\n      <td>0</td>\n    </tr>\n    <tr>\n      <th>FLAG_EMAIL</th>\n      <td>0</td>\n      <td>0</td>\n      <td>0</td>\n      <td>0</td>\n      <td>0</td>\n    </tr>\n    <tr>\n      <th>OCCUPATION_TYPE</th>\n      <td>Laborers</td>\n      <td>Core staff</td>\n      <td>Laborers</td>\n      <td>Laborers</td>\n      <td>Core staff</td>\n    </tr>\n    <tr>\n      <th>CNT_FAM_MEMBERS</th>\n      <td>1.0</td>\n      <td>2.0</td>\n      <td>1.0</td>\n      <td>2.0</td>\n      <td>1.0</td>\n    </tr>\n    <tr>\n      <th>REGION_RATING_CLIENT</th>\n      <td>2</td>\n      <td>1</td>\n      <td>2</td>\n      <td>2</td>\n      <td>2</td>\n    </tr>\n    <tr>\n      <th>REGION_RATING_CLIENT_W_CITY</th>\n      <td>2</td>\n      <td>1</td>\n      <td>2</td>\n      <td>2</td>\n      <td>2</td>\n    </tr>\n    <tr>\n      <th>WEEKDAY_APPR_PROCESS_START</th>\n      <td>WEDNESDAY</td>\n      <td>MONDAY</td>\n      <td>MONDAY</td>\n      <td>WEDNESDAY</td>\n      <td>THURSDAY</td>\n    </tr>\n    <tr>\n      <th>HOUR_APPR_PROCESS_START</th>\n      <td>10</td>\n      <td>11</td>\n      <td>9</td>\n      <td>17</td>\n      <td>11</td>\n    </tr>\n    <tr>\n      <th>REG_REGION_NOT_LIVE_REGION</th>\n      <td>0</td>\n      <td>0</td>\n      <td>0</td>\n      <td>0</td>\n      <td>0</td>\n    </tr>\n    <tr>\n      <th>REG_REGION_NOT_WORK_REGION</th>\n      <td>0</td>\n      <td>0</td>\n      <td>0</td>\n      <td>0</td>\n      <td>0</td>\n    </tr>\n    <tr>\n      <th>LIVE_REGION_NOT_WORK_REGION</th>\n      <td>0</td>\n      <td>0</td>\n      <td>0</td>\n      <td>0</td>\n      <td>0</td>\n    </tr>\n    <tr>\n      <th>REG_CITY_NOT_LIVE_CITY</th>\n      <td>0</td>\n      <td>0</td>\n      <td>0</td>\n      <td>0</td>\n      <td>0</td>\n    </tr>\n    <tr>\n      <th>REG_CITY_NOT_WORK_CITY</th>\n      <td>0</td>\n      <td>0</td>\n      <td>0</td>\n      <td>0</td>\n      <td>1</td>\n    </tr>\n    <tr>\n      <th>LIVE_CITY_NOT_WORK_CITY</th>\n      <td>0</td>\n      <td>0</td>\n      <td>0</td>\n      <td>0</td>\n      <td>1</td>\n    </tr>\n    <tr>\n      <th>ORGANIZATION_TYPE</th>\n      <td>Business Entity Type 3</td>\n      <td>School</td>\n      <td>Government</td>\n      <td>Business Entity Type 3</td>\n      <td>Religion</td>\n    </tr>\n    <tr>\n      <th>EXT_SOURCE_1</th>\n      <td>0.083037</td>\n      <td>0.311267</td>\n      <td>NaN</td>\n      <td>NaN</td>\n      <td>NaN</td>\n    </tr>\n    <tr>\n      <th>EXT_SOURCE_2</th>\n      <td>0.262949</td>\n      <td>0.622246</td>\n      <td>0.555912</td>\n      <td>0.650442</td>\n      <td>0.322738</td>\n    </tr>\n    <tr>\n      <th>EXT_SOURCE_3</th>\n      <td>0.139376</td>\n      <td>NaN</td>\n      <td>0.729567</td>\n      <td>NaN</td>\n      <td>NaN</td>\n    </tr>\n    <tr>\n      <th>APARTMENTS_AVG</th>\n      <td>0.0247</td>\n      <td>0.0959</td>\n      <td>NaN</td>\n      <td>NaN</td>\n      <td>NaN</td>\n    </tr>\n    <tr>\n      <th>BASEMENTAREA_AVG</th>\n      <td>0.0369</td>\n      <td>0.0529</td>\n      <td>NaN</td>\n      <td>NaN</td>\n      <td>NaN</td>\n    </tr>\n    <tr>\n      <th>YEARS_BEGINEXPLUATATION_AVG</th>\n      <td>0.9722</td>\n      <td>0.9851</td>\n      <td>NaN</td>\n      <td>NaN</td>\n      <td>NaN</td>\n    </tr>\n    <tr>\n      <th>YEARS_BUILD_AVG</th>\n      <td>0.6192</td>\n      <td>0.796</td>\n      <td>NaN</td>\n      <td>NaN</td>\n      <td>NaN</td>\n    </tr>\n    <tr>\n      <th>COMMONAREA_AVG</th>\n      <td>0.0143</td>\n      <td>0.0605</td>\n      <td>NaN</td>\n      <td>NaN</td>\n      <td>NaN</td>\n    </tr>\n    <tr>\n      <th>ELEVATORS_AVG</th>\n      <td>0.0</td>\n      <td>0.08</td>\n      <td>NaN</td>\n      <td>NaN</td>\n      <td>NaN</td>\n    </tr>\n    <tr>\n      <th>ENTRANCES_AVG</th>\n      <td>0.069</td>\n      <td>0.0345</td>\n      <td>NaN</td>\n      <td>NaN</td>\n      <td>NaN</td>\n    </tr>\n    <tr>\n      <th>FLOORSMAX_AVG</th>\n      <td>0.0833</td>\n      <td>0.2917</td>\n      <td>NaN</td>\n      <td>NaN</td>\n      <td>NaN</td>\n    </tr>\n    <tr>\n      <th>FLOORSMIN_AVG</th>\n      <td>0.125</td>\n      <td>0.3333</td>\n      <td>NaN</td>\n      <td>NaN</td>\n      <td>NaN</td>\n    </tr>\n    <tr>\n      <th>LANDAREA_AVG</th>\n      <td>0.0369</td>\n      <td>0.013</td>\n      <td>NaN</td>\n      <td>NaN</td>\n      <td>NaN</td>\n    </tr>\n    <tr>\n      <th>LIVINGAPARTMENTS_AVG</th>\n      <td>0.0202</td>\n      <td>0.0773</td>\n      <td>NaN</td>\n      <td>NaN</td>\n      <td>NaN</td>\n    </tr>\n    <tr>\n      <th>LIVINGAREA_AVG</th>\n      <td>0.019</td>\n      <td>0.0549</td>\n      <td>NaN</td>\n      <td>NaN</td>\n      <td>NaN</td>\n    </tr>\n    <tr>\n      <th>NONLIVINGAPARTMENTS_AVG</th>\n      <td>0.0</td>\n      <td>0.0039</td>\n      <td>NaN</td>\n      <td>NaN</td>\n      <td>NaN</td>\n    </tr>\n    <tr>\n      <th>NONLIVINGAREA_AVG</th>\n      <td>0.0</td>\n      <td>0.0098</td>\n      <td>NaN</td>\n      <td>NaN</td>\n      <td>NaN</td>\n    </tr>\n    <tr>\n      <th>APARTMENTS_MODE</th>\n      <td>0.0252</td>\n      <td>0.0924</td>\n      <td>NaN</td>\n      <td>NaN</td>\n      <td>NaN</td>\n    </tr>\n    <tr>\n      <th>BASEMENTAREA_MODE</th>\n      <td>0.0383</td>\n      <td>0.0538</td>\n      <td>NaN</td>\n      <td>NaN</td>\n      <td>NaN</td>\n    </tr>\n    <tr>\n      <th>YEARS_BEGINEXPLUATATION_MODE</th>\n      <td>0.9722</td>\n      <td>0.9851</td>\n      <td>NaN</td>\n      <td>NaN</td>\n      <td>NaN</td>\n    </tr>\n    <tr>\n      <th>YEARS_BUILD_MODE</th>\n      <td>0.6341</td>\n      <td>0.804</td>\n      <td>NaN</td>\n      <td>NaN</td>\n      <td>NaN</td>\n    </tr>\n    <tr>\n      <th>COMMONAREA_MODE</th>\n      <td>0.0144</td>\n      <td>0.0497</td>\n      <td>NaN</td>\n      <td>NaN</td>\n      <td>NaN</td>\n    </tr>\n    <tr>\n      <th>ELEVATORS_MODE</th>\n      <td>0.0</td>\n      <td>0.0806</td>\n      <td>NaN</td>\n      <td>NaN</td>\n      <td>NaN</td>\n    </tr>\n    <tr>\n      <th>ENTRANCES_MODE</th>\n      <td>0.069</td>\n      <td>0.0345</td>\n      <td>NaN</td>\n      <td>NaN</td>\n      <td>NaN</td>\n    </tr>\n    <tr>\n      <th>FLOORSMAX_MODE</th>\n      <td>0.0833</td>\n      <td>0.2917</td>\n      <td>NaN</td>\n      <td>NaN</td>\n      <td>NaN</td>\n    </tr>\n    <tr>\n      <th>FLOORSMIN_MODE</th>\n      <td>0.125</td>\n      <td>0.3333</td>\n      <td>NaN</td>\n      <td>NaN</td>\n      <td>NaN</td>\n    </tr>\n    <tr>\n      <th>LANDAREA_MODE</th>\n      <td>0.0377</td>\n      <td>0.0128</td>\n      <td>NaN</td>\n      <td>NaN</td>\n      <td>NaN</td>\n    </tr>\n    <tr>\n      <th>LIVINGAPARTMENTS_MODE</th>\n      <td>0.022</td>\n      <td>0.079</td>\n      <td>NaN</td>\n      <td>NaN</td>\n      <td>NaN</td>\n    </tr>\n    <tr>\n      <th>LIVINGAREA_MODE</th>\n      <td>0.0198</td>\n      <td>0.0554</td>\n      <td>NaN</td>\n      <td>NaN</td>\n      <td>NaN</td>\n    </tr>\n    <tr>\n      <th>NONLIVINGAPARTMENTS_MODE</th>\n      <td>0.0</td>\n      <td>0.0</td>\n      <td>NaN</td>\n      <td>NaN</td>\n      <td>NaN</td>\n    </tr>\n    <tr>\n      <th>NONLIVINGAREA_MODE</th>\n      <td>0.0</td>\n      <td>0.0</td>\n      <td>NaN</td>\n      <td>NaN</td>\n      <td>NaN</td>\n    </tr>\n    <tr>\n      <th>APARTMENTS_MEDI</th>\n      <td>0.025</td>\n      <td>0.0968</td>\n      <td>NaN</td>\n      <td>NaN</td>\n      <td>NaN</td>\n    </tr>\n    <tr>\n      <th>BASEMENTAREA_MEDI</th>\n      <td>0.0369</td>\n      <td>0.0529</td>\n      <td>NaN</td>\n      <td>NaN</td>\n      <td>NaN</td>\n    </tr>\n    <tr>\n      <th>YEARS_BEGINEXPLUATATION_MEDI</th>\n      <td>0.9722</td>\n      <td>0.9851</td>\n      <td>NaN</td>\n      <td>NaN</td>\n      <td>NaN</td>\n    </tr>\n    <tr>\n      <th>YEARS_BUILD_MEDI</th>\n      <td>0.6243</td>\n      <td>0.7987</td>\n      <td>NaN</td>\n      <td>NaN</td>\n      <td>NaN</td>\n    </tr>\n    <tr>\n      <th>COMMONAREA_MEDI</th>\n      <td>0.0144</td>\n      <td>0.0608</td>\n      <td>NaN</td>\n      <td>NaN</td>\n      <td>NaN</td>\n    </tr>\n    <tr>\n      <th>ELEVATORS_MEDI</th>\n      <td>0.0</td>\n      <td>0.08</td>\n      <td>NaN</td>\n      <td>NaN</td>\n      <td>NaN</td>\n    </tr>\n    <tr>\n      <th>ENTRANCES_MEDI</th>\n      <td>0.069</td>\n      <td>0.0345</td>\n      <td>NaN</td>\n      <td>NaN</td>\n      <td>NaN</td>\n    </tr>\n    <tr>\n      <th>FLOORSMAX_MEDI</th>\n      <td>0.0833</td>\n      <td>0.2917</td>\n      <td>NaN</td>\n      <td>NaN</td>\n      <td>NaN</td>\n    </tr>\n    <tr>\n      <th>FLOORSMIN_MEDI</th>\n      <td>0.125</td>\n      <td>0.3333</td>\n      <td>NaN</td>\n      <td>NaN</td>\n      <td>NaN</td>\n    </tr>\n    <tr>\n      <th>LANDAREA_MEDI</th>\n      <td>0.0375</td>\n      <td>0.0132</td>\n      <td>NaN</td>\n      <td>NaN</td>\n      <td>NaN</td>\n    </tr>\n    <tr>\n      <th>LIVINGAPARTMENTS_MEDI</th>\n      <td>0.0205</td>\n      <td>0.0787</td>\n      <td>NaN</td>\n      <td>NaN</td>\n      <td>NaN</td>\n    </tr>\n    <tr>\n      <th>LIVINGAREA_MEDI</th>\n      <td>0.0193</td>\n      <td>0.0558</td>\n      <td>NaN</td>\n      <td>NaN</td>\n      <td>NaN</td>\n    </tr>\n    <tr>\n      <th>NONLIVINGAPARTMENTS_MEDI</th>\n      <td>0.0</td>\n      <td>0.0039</td>\n      <td>NaN</td>\n      <td>NaN</td>\n      <td>NaN</td>\n    </tr>\n    <tr>\n      <th>NONLIVINGAREA_MEDI</th>\n      <td>0.0</td>\n      <td>0.01</td>\n      <td>NaN</td>\n      <td>NaN</td>\n      <td>NaN</td>\n    </tr>\n    <tr>\n      <th>FONDKAPREMONT_MODE</th>\n      <td>reg oper account</td>\n      <td>reg oper account</td>\n      <td>NaN</td>\n      <td>NaN</td>\n      <td>NaN</td>\n    </tr>\n    <tr>\n      <th>HOUSETYPE_MODE</th>\n      <td>block of flats</td>\n      <td>block of flats</td>\n      <td>NaN</td>\n      <td>NaN</td>\n      <td>NaN</td>\n    </tr>\n    <tr>\n      <th>TOTALAREA_MODE</th>\n      <td>0.0149</td>\n      <td>0.0714</td>\n      <td>NaN</td>\n      <td>NaN</td>\n      <td>NaN</td>\n    </tr>\n    <tr>\n      <th>WALLSMATERIAL_MODE</th>\n      <td>Stone, brick</td>\n      <td>Block</td>\n      <td>NaN</td>\n      <td>NaN</td>\n      <td>NaN</td>\n    </tr>\n    <tr>\n      <th>EMERGENCYSTATE_MODE</th>\n      <td>No</td>\n      <td>No</td>\n      <td>NaN</td>\n      <td>NaN</td>\n      <td>NaN</td>\n    </tr>\n    <tr>\n      <th>OBS_30_CNT_SOCIAL_CIRCLE</th>\n      <td>2.0</td>\n      <td>1.0</td>\n      <td>0.0</td>\n      <td>2.0</td>\n      <td>0.0</td>\n    </tr>\n    <tr>\n      <th>DEF_30_CNT_SOCIAL_CIRCLE</th>\n      <td>2.0</td>\n      <td>0.0</td>\n      <td>0.0</td>\n      <td>0.0</td>\n      <td>0.0</td>\n    </tr>\n    <tr>\n      <th>OBS_60_CNT_SOCIAL_CIRCLE</th>\n      <td>2.0</td>\n      <td>1.0</td>\n      <td>0.0</td>\n      <td>2.0</td>\n      <td>0.0</td>\n    </tr>\n    <tr>\n      <th>DEF_60_CNT_SOCIAL_CIRCLE</th>\n      <td>2.0</td>\n      <td>0.0</td>\n      <td>0.0</td>\n      <td>0.0</td>\n      <td>0.0</td>\n    </tr>\n    <tr>\n      <th>DAYS_LAST_PHONE_CHANGE</th>\n      <td>-1134.0</td>\n      <td>-828.0</td>\n      <td>-815.0</td>\n      <td>-617.0</td>\n      <td>-1106.0</td>\n    </tr>\n    <tr>\n      <th>FLAG_DOCUMENT_2</th>\n      <td>0</td>\n      <td>0</td>\n      <td>0</td>\n      <td>0</td>\n      <td>0</td>\n    </tr>\n    <tr>\n      <th>FLAG_DOCUMENT_3</th>\n      <td>1</td>\n      <td>1</td>\n      <td>0</td>\n      <td>1</td>\n      <td>0</td>\n    </tr>\n    <tr>\n      <th>FLAG_DOCUMENT_4</th>\n      <td>0</td>\n      <td>0</td>\n      <td>0</td>\n      <td>0</td>\n      <td>0</td>\n    </tr>\n    <tr>\n      <th>FLAG_DOCUMENT_5</th>\n      <td>0</td>\n      <td>0</td>\n      <td>0</td>\n      <td>0</td>\n      <td>0</td>\n    </tr>\n    <tr>\n      <th>FLAG_DOCUMENT_6</th>\n      <td>0</td>\n      <td>0</td>\n      <td>0</td>\n      <td>0</td>\n      <td>0</td>\n    </tr>\n    <tr>\n      <th>FLAG_DOCUMENT_7</th>\n      <td>0</td>\n      <td>0</td>\n      <td>0</td>\n      <td>0</td>\n      <td>0</td>\n    </tr>\n    <tr>\n      <th>FLAG_DOCUMENT_8</th>\n      <td>0</td>\n      <td>0</td>\n      <td>0</td>\n      <td>0</td>\n      <td>1</td>\n    </tr>\n    <tr>\n      <th>FLAG_DOCUMENT_9</th>\n      <td>0</td>\n      <td>0</td>\n      <td>0</td>\n      <td>0</td>\n      <td>0</td>\n    </tr>\n    <tr>\n      <th>FLAG_DOCUMENT_10</th>\n      <td>0</td>\n      <td>0</td>\n      <td>0</td>\n      <td>0</td>\n      <td>0</td>\n    </tr>\n    <tr>\n      <th>FLAG_DOCUMENT_11</th>\n      <td>0</td>\n      <td>0</td>\n      <td>0</td>\n      <td>0</td>\n      <td>0</td>\n    </tr>\n    <tr>\n      <th>FLAG_DOCUMENT_12</th>\n      <td>0</td>\n      <td>0</td>\n      <td>0</td>\n      <td>0</td>\n      <td>0</td>\n    </tr>\n    <tr>\n      <th>FLAG_DOCUMENT_13</th>\n      <td>0</td>\n      <td>0</td>\n      <td>0</td>\n      <td>0</td>\n      <td>0</td>\n    </tr>\n    <tr>\n      <th>FLAG_DOCUMENT_14</th>\n      <td>0</td>\n      <td>0</td>\n      <td>0</td>\n      <td>0</td>\n      <td>0</td>\n    </tr>\n    <tr>\n      <th>FLAG_DOCUMENT_15</th>\n      <td>0</td>\n      <td>0</td>\n      <td>0</td>\n      <td>0</td>\n      <td>0</td>\n    </tr>\n    <tr>\n      <th>FLAG_DOCUMENT_16</th>\n      <td>0</td>\n      <td>0</td>\n      <td>0</td>\n      <td>0</td>\n      <td>0</td>\n    </tr>\n    <tr>\n      <th>FLAG_DOCUMENT_17</th>\n      <td>0</td>\n      <td>0</td>\n      <td>0</td>\n      <td>0</td>\n      <td>0</td>\n    </tr>\n    <tr>\n      <th>FLAG_DOCUMENT_18</th>\n      <td>0</td>\n      <td>0</td>\n      <td>0</td>\n      <td>0</td>\n      <td>0</td>\n    </tr>\n    <tr>\n      <th>FLAG_DOCUMENT_19</th>\n      <td>0</td>\n      <td>0</td>\n      <td>0</td>\n      <td>0</td>\n      <td>0</td>\n    </tr>\n    <tr>\n      <th>FLAG_DOCUMENT_20</th>\n      <td>0</td>\n      <td>0</td>\n      <td>0</td>\n      <td>0</td>\n      <td>0</td>\n    </tr>\n    <tr>\n      <th>FLAG_DOCUMENT_21</th>\n      <td>0</td>\n      <td>0</td>\n      <td>0</td>\n      <td>0</td>\n      <td>0</td>\n    </tr>\n    <tr>\n      <th>AMT_REQ_CREDIT_BUREAU_HOUR</th>\n      <td>0.0</td>\n      <td>0.0</td>\n      <td>0.0</td>\n      <td>NaN</td>\n      <td>0.0</td>\n    </tr>\n    <tr>\n      <th>AMT_REQ_CREDIT_BUREAU_DAY</th>\n      <td>0.0</td>\n      <td>0.0</td>\n      <td>0.0</td>\n      <td>NaN</td>\n      <td>0.0</td>\n    </tr>\n    <tr>\n      <th>AMT_REQ_CREDIT_BUREAU_WEEK</th>\n      <td>0.0</td>\n      <td>0.0</td>\n      <td>0.0</td>\n      <td>NaN</td>\n      <td>0.0</td>\n    </tr>\n    <tr>\n      <th>AMT_REQ_CREDIT_BUREAU_MON</th>\n      <td>0.0</td>\n      <td>0.0</td>\n      <td>0.0</td>\n      <td>NaN</td>\n      <td>0.0</td>\n    </tr>\n    <tr>\n      <th>AMT_REQ_CREDIT_BUREAU_QRT</th>\n      <td>0.0</td>\n      <td>0.0</td>\n      <td>0.0</td>\n      <td>NaN</td>\n      <td>0.0</td>\n    </tr>\n    <tr>\n      <th>AMT_REQ_CREDIT_BUREAU_YEAR</th>\n      <td>1.0</td>\n      <td>0.0</td>\n      <td>0.0</td>\n      <td>NaN</td>\n      <td>0.0</td>\n    </tr>\n  </tbody>\n</table>\n</div>"
     },
     "execution_count": 14,
     "metadata": {},
     "output_type": "execute_result"
    }
   ],
   "source": [
    "a = application_train.head(5)\n",
    "a = a.T\n",
    "a"
   ]
  },
  {
   "cell_type": "markdown",
   "id": "59da8f46-e503-4b67-8e73-ac61c394824c",
   "metadata": {
    "id": "59da8f46-e503-4b67-8e73-ac61c394824c"
   },
   "source": [
    "4- Show the distribution of the target variable values: print the total value count and the percentage of each value, plot this relationship."
   ]
  },
  {
   "cell_type": "code",
   "execution_count": 118,
   "outputs": [
    {
     "name": "stdout",
     "output_type": "stream",
     "text": [
      "0    282686\n",
      "1     24825\n",
      "Name: TARGET, dtype: int64\n"
     ]
    },
    {
     "data": {
      "text/plain": "<Figure size 432x288 with 1 Axes>",
      "image/png": "[encoded data removed]"
     },
     "metadata": {
      "needs_background": "light"
     },
     "output_type": "display_data"
    }
   ],
   "source": [
    "application_train['TARGET'].hist()\n",
    "print(application_train['TARGET'].value_counts())"
   ],
   "metadata": {
    "collapsed": false,
    "pycharm": {
     "name": "#%%\n"
    }
   }
  },
  {
   "cell_type": "code",
   "execution_count": 119,
   "id": "8855d370-c825-415b-9dd0-9dbdd576fada",
   "metadata": {
    "id": "8855d370-c825-415b-9dd0-9dbdd576fada"
   },
   "outputs": [
    {
     "data": {
      "text/plain": "([<matplotlib.patches.Wedge at 0x16f403cc850>,\n  <matplotlib.patches.Wedge at 0x16f403ccf70>],\n [Text(-1.0648123216659293, 0.27599768047650985, 'Negative'),\n  Text(1.0648123152057372, -0.27599770540024077, 'Positive')],\n [Text(-0.5808067209086887, 0.15054418935082356, '92%'),\n  Text(0.5808067173849475, -0.15054420294558588, '8%')])"
     },
     "execution_count": 119,
     "metadata": {},
     "output_type": "execute_result"
    },
    {
     "data": {
      "text/plain": "<Figure size 432x288 with 1 Axes>",
      "image/png": "[encoded data removed]"
     },
     "metadata": {},
     "output_type": "display_data"
    }
   ],
   "source": [
    "plt.pie(application_train['TARGET'].value_counts(), labels=['Negative','Positive'], autopct='%.0f%%')"
   ]
  },
  {
   "cell_type": "markdown",
   "id": "cc7b5a63-da31-4a61-9e91-9708dc7633a7",
   "metadata": {
    "id": "cc7b5a63-da31-4a61-9e91-9708dc7633a7"
   },
   "source": [
    "5- Show the number of columns of each data type"
   ]
  },
  {
   "cell_type": "code",
   "execution_count": 120,
   "id": "b74878dd-cc48-4e69-bc35-e90457d54b3a",
   "metadata": {
    "id": "b74878dd-cc48-4e69-bc35-e90457d54b3a"
   },
   "outputs": [
    {
     "data": {
      "text/plain": "float64    65\nint64      41\nobject     16\ndtype: int64"
     },
     "execution_count": 120,
     "metadata": {},
     "output_type": "execute_result"
    }
   ],
   "source": [
    "application_train.dtypes.value_counts()"
   ]
  },
  {
   "cell_type": "markdown",
   "id": "c0a8799e-d32a-4239-a85d-6ff29ab4682f",
   "metadata": {
    "id": "c0a8799e-d32a-4239-a85d-6ff29ab4682f"
   },
   "source": [
    "6- For categorical variables, show the number of distinct values in each column (number of labels)"
   ]
  },
  {
   "cell_type": "code",
   "execution_count": 165,
   "outputs": [],
   "source": [
    "def get_categoricals(train, criteria='Int and narrowed objects'):\n",
    "    \"\"\"\n",
    "    The criteria for categoricals selection will impact in feature encoding.\n",
    "    \"\"\"\n",
    "    df_categoricals = pd.DataFrame()\n",
    "    df_categoricals['column_name'] = train.columns\n",
    "    df_categoricals['dtype'] = np.array(train.dtypes)\n",
    "    df_categoricals['n_uniques'] = np.array(train.nunique())\n",
    "    # -----------------------------------------------------------------------------------\n",
    "    # Filters\n",
    "    type_object = df_categoricals['dtype'] == 'object'\n",
    "    type_int = df_categoricals['dtype'] == ('int64')\n",
    "    nunique_lt_2 = df_categoricals['n_uniques'] <= 2\n",
    "    # -----------------------------------------------------------------------------------\n",
    "    # Object nunique bounds\n",
    "    objects_nuniques = df_categoricals[type_object]['n_uniques']\n",
    "    upper_bound_nuniques = (np.quantile(objects_nuniques, 0.75) - np.quantile(objects_nuniques, 0.25)) * 1.5 \\\n",
    "                           + (np.quantile(objects_nuniques, 0.75))\n",
    "    not_outlier_nuniques = df_categoricals['n_uniques'] < upper_bound_nuniques\n",
    "    # -----------------------------------------------------------------------------------\n",
    "    # Criteria options\n",
    "    if criteria == 'Int and narrowed objects':\n",
    "        df_categoricals = df_categoricals[\n",
    "            (type_int & nunique_lt_2) |\n",
    "            (type_object & not_outlier_nuniques)]\n",
    "    elif criteria == 'Objects':\n",
    "        df_categoricals = df_categoricals[type_object]\n",
    "    elif criteria == 'Only narrow objects':\n",
    "        df_categoricals = df_categoricals[(type_object & not_outlier_nuniques)]\n",
    "\n",
    "    df_categoricals.set_index('column_name', inplace=True)\n",
    "    return df_categoricals"
   ],
   "metadata": {
    "collapsed": false,
    "pycharm": {
     "name": "#%%\n"
    }
   }
  },
  {
   "cell_type": "code",
   "execution_count": 168,
   "outputs": [
    {
     "data": {
      "text/plain": "                             dtype  n_uniques\ncolumn_name                                  \nNAME_CONTRACT_TYPE          object          2\nCODE_GENDER                 object          3\nFLAG_OWN_CAR                object          2\nFLAG_OWN_REALTY             object          2\nNAME_TYPE_SUITE             object          7\nNAME_INCOME_TYPE            object          8\nNAME_EDUCATION_TYPE         object          5\nNAME_FAMILY_STATUS          object          6\nNAME_HOUSING_TYPE           object          6\nOCCUPATION_TYPE             object         18\nWEEKDAY_APPR_PROCESS_START  object          7\nORGANIZATION_TYPE           object         58\nFONDKAPREMONT_MODE          object          4\nHOUSETYPE_MODE              object          3\nWALLSMATERIAL_MODE          object          7\nEMERGENCYSTATE_MODE         object          2",
      "text/html": "<div>\n<style scoped>\n    .dataframe tbody tr th:only-of-type {\n        vertical-align: middle;\n    }\n\n    .dataframe tbody tr th {\n        vertical-align: top;\n    }\n\n    .dataframe thead th {\n        text-align: right;\n    }\n</style>\n<table border=\"1\" class=\"dataframe\">\n  <thead>\n    <tr style=\"text-align: right;\">\n      <th></th>\n      <th>dtype</th>\n      <th>n_uniques</th>\n    </tr>\n    <tr>\n      <th>column_name</th>\n      <th></th>\n      <th></th>\n    </tr>\n  </thead>\n  <tbody>\n    <tr>\n      <th>NAME_CONTRACT_TYPE</th>\n      <td>object</td>\n      <td>2</td>\n    </tr>\n    <tr>\n      <th>CODE_GENDER</th>\n      <td>object</td>\n      <td>3</td>\n    </tr>\n    <tr>\n      <th>FLAG_OWN_CAR</th>\n      <td>object</td>\n      <td>2</td>\n    </tr>\n    <tr>\n      <th>FLAG_OWN_REALTY</th>\n      <td>object</td>\n      <td>2</td>\n    </tr>\n    <tr>\n      <th>NAME_TYPE_SUITE</th>\n      <td>object</td>\n      <td>7</td>\n    </tr>\n    <tr>\n      <th>NAME_INCOME_TYPE</th>\n      <td>object</td>\n      <td>8</td>\n    </tr>\n    <tr>\n      <th>NAME_EDUCATION_TYPE</th>\n      <td>object</td>\n      <td>5</td>\n    </tr>\n    <tr>\n      <th>NAME_FAMILY_STATUS</th>\n      <td>object</td>\n      <td>6</td>\n    </tr>\n    <tr>\n      <th>NAME_HOUSING_TYPE</th>\n      <td>object</td>\n      <td>6</td>\n    </tr>\n    <tr>\n      <th>OCCUPATION_TYPE</th>\n      <td>object</td>\n      <td>18</td>\n    </tr>\n    <tr>\n      <th>WEEKDAY_APPR_PROCESS_START</th>\n      <td>object</td>\n      <td>7</td>\n    </tr>\n    <tr>\n      <th>ORGANIZATION_TYPE</th>\n      <td>object</td>\n      <td>58</td>\n    </tr>\n    <tr>\n      <th>FONDKAPREMONT_MODE</th>\n      <td>object</td>\n      <td>4</td>\n    </tr>\n    <tr>\n      <th>HOUSETYPE_MODE</th>\n      <td>object</td>\n      <td>3</td>\n    </tr>\n    <tr>\n      <th>WALLSMATERIAL_MODE</th>\n      <td>object</td>\n      <td>7</td>\n    </tr>\n    <tr>\n      <th>EMERGENCYSTATE_MODE</th>\n      <td>object</td>\n      <td>2</td>\n    </tr>\n  </tbody>\n</table>\n</div>"
     },
     "execution_count": 168,
     "metadata": {},
     "output_type": "execute_result"
    }
   ],
   "source": [
    "categoricals = get_categoricals(application_train, criteria='Objects')\n",
    "categoricals"
   ],
   "metadata": {
    "collapsed": false,
    "pycharm": {
     "name": "#%%\n"
    }
   }
  },
  {
   "cell_type": "markdown",
   "id": "967d1938-e27d-4fbd-9bdc-f26364f5fdfd",
   "metadata": {
    "id": "967d1938-e27d-4fbd-9bdc-f26364f5fdfd"
   },
   "source": [
    "7- Analyzing missing data: show the percentage of missing data for each column ordered by percentage descending (show only the 20 columns with higher missing pct)"
   ]
  },
  {
   "cell_type": "code",
   "execution_count": 123,
   "outputs": [
    {
     "data": {
      "text/plain": "                              data\nCOMMONAREA_MEDI           0.698723\nCOMMONAREA_AVG            0.698723\nCOMMONAREA_MODE           0.698723\nNONLIVINGAPARTMENTS_MODE  0.694330\nNONLIVINGAPARTMENTS_AVG   0.694330\nNONLIVINGAPARTMENTS_MEDI  0.694330\nFONDKAPREMONT_MODE        0.683862\nLIVINGAPARTMENTS_MODE     0.683550\nLIVINGAPARTMENTS_AVG      0.683550\nLIVINGAPARTMENTS_MEDI     0.683550\nFLOORSMIN_AVG             0.678486\nFLOORSMIN_MODE            0.678486\nFLOORSMIN_MEDI            0.678486\nYEARS_BUILD_MEDI          0.664978\nYEARS_BUILD_MODE          0.664978\nYEARS_BUILD_AVG           0.664978\nOWN_CAR_AGE               0.659908\nLANDAREA_MEDI             0.593767\nLANDAREA_MODE             0.593767\nLANDAREA_AVG              0.593767",
      "text/html": "<div>\n<style scoped>\n    .dataframe tbody tr th:only-of-type {\n        vertical-align: middle;\n    }\n\n    .dataframe tbody tr th {\n        vertical-align: top;\n    }\n\n    .dataframe thead th {\n        text-align: right;\n    }\n</style>\n<table border=\"1\" class=\"dataframe\">\n  <thead>\n    <tr style=\"text-align: right;\">\n      <th></th>\n      <th>data</th>\n    </tr>\n  </thead>\n  <tbody>\n    <tr>\n      <th>COMMONAREA_MEDI</th>\n      <td>0.698723</td>\n    </tr>\n    <tr>\n      <th>COMMONAREA_AVG</th>\n      <td>0.698723</td>\n    </tr>\n    <tr>\n      <th>COMMONAREA_MODE</th>\n      <td>0.698723</td>\n    </tr>\n    <tr>\n      <th>NONLIVINGAPARTMENTS_MODE</th>\n      <td>0.694330</td>\n    </tr>\n    <tr>\n      <th>NONLIVINGAPARTMENTS_AVG</th>\n      <td>0.694330</td>\n    </tr>\n    <tr>\n      <th>NONLIVINGAPARTMENTS_MEDI</th>\n      <td>0.694330</td>\n    </tr>\n    <tr>\n      <th>FONDKAPREMONT_MODE</th>\n      <td>0.683862</td>\n    </tr>\n    <tr>\n      <th>LIVINGAPARTMENTS_MODE</th>\n      <td>0.683550</td>\n    </tr>\n    <tr>\n      <th>LIVINGAPARTMENTS_AVG</th>\n      <td>0.683550</td>\n    </tr>\n    <tr>\n      <th>LIVINGAPARTMENTS_MEDI</th>\n      <td>0.683550</td>\n    </tr>\n    <tr>\n      <th>FLOORSMIN_AVG</th>\n      <td>0.678486</td>\n    </tr>\n    <tr>\n      <th>FLOORSMIN_MODE</th>\n      <td>0.678486</td>\n    </tr>\n    <tr>\n      <th>FLOORSMIN_MEDI</th>\n      <td>0.678486</td>\n    </tr>\n    <tr>\n      <th>YEARS_BUILD_MEDI</th>\n      <td>0.664978</td>\n    </tr>\n    <tr>\n      <th>YEARS_BUILD_MODE</th>\n      <td>0.664978</td>\n    </tr>\n    <tr>\n      <th>YEARS_BUILD_AVG</th>\n      <td>0.664978</td>\n    </tr>\n    <tr>\n      <th>OWN_CAR_AGE</th>\n      <td>0.659908</td>\n    </tr>\n    <tr>\n      <th>LANDAREA_MEDI</th>\n      <td>0.593767</td>\n    </tr>\n    <tr>\n      <th>LANDAREA_MODE</th>\n      <td>0.593767</td>\n    </tr>\n    <tr>\n      <th>LANDAREA_AVG</th>\n      <td>0.593767</td>\n    </tr>\n  </tbody>\n</table>\n</div>"
     },
     "execution_count": 123,
     "metadata": {},
     "output_type": "execute_result"
    }
   ],
   "source": [
    "missing_values = pd.DataFrame(application_train.isna().sum() / application_train.count().max(), columns=['data'])\n",
    "missing_values.sort_values('data', ascending=False, inplace=True)\n",
    "missing_values.head(20)"
   ],
   "metadata": {
    "collapsed": false,
    "pycharm": {
     "name": "#%%\n"
    }
   }
  },
  {
   "cell_type": "markdown",
   "id": "783c5bb6-6b6d-4e34-bbe2-3a5dc319a4f0",
   "metadata": {
    "id": "783c5bb6-6b6d-4e34-bbe2-3a5dc319a4f0"
   },
   "source": [
    "**Analyzing distribution of variables**"
   ]
  },
  {
   "cell_type": "markdown",
   "id": "9c79d319-bde8-47a4-890d-6694edf221e2",
   "metadata": {
    "id": "9c79d319-bde8-47a4-890d-6694edf221e2"
   },
   "source": [
    "1- Show the distribution of credit amounts"
   ]
  },
  {
   "cell_type": "code",
   "execution_count": 124,
   "id": "bc953042-9744-498e-a435-fa660e76c70d",
   "metadata": {
    "id": "bc953042-9744-498e-a435-fa660e76c70d"
   },
   "outputs": [
    {
     "data": {
      "text/plain": "<AxesSubplot:>"
     },
     "execution_count": 124,
     "metadata": {},
     "output_type": "execute_result"
    },
    {
     "data": {
      "text/plain": "<Figure size 432x288 with 1 Axes>",
      "image/png": "[encoded data removed]"
     },
     "metadata": {
      "needs_background": "light"
     },
     "output_type": "display_data"
    }
   ],
   "source": [
    "application_train['AMT_CREDIT'].hist()"
   ]
  },
  {
   "cell_type": "markdown",
   "id": "f4e7bf4a-25c7-47c0-aea8-ed916d8827f6",
   "metadata": {
    "id": "f4e7bf4a-25c7-47c0-aea8-ed916d8827f6"
   },
   "source": [
    "2- Plot the education level of the credit applicants, show the percentages of each category. Also print the total counts for each category."
   ]
  },
  {
   "cell_type": "code",
   "execution_count": 125,
   "id": "406d7d06-b21a-4938-8e3d-11798def489b",
   "metadata": {
    "id": "406d7d06-b21a-4938-8e3d-11798def489b"
   },
   "outputs": [
    {
     "name": "stdout",
     "output_type": "stream",
     "text": [
      "Secondary / secondary special    218391\n",
      "Higher education                  74863\n",
      "Incomplete higher                 10277\n",
      "Lower secondary                    3816\n",
      "Academic degree                     164\n",
      "Name: NAME_EDUCATION_TYPE, dtype: int64\n"
     ]
    },
    {
     "data": {
      "text/plain": "([<matplotlib.patches.Wedge at 0x16f5ed0ed40>,\n  <matplotlib.patches.Wedge at 0x16f5ed0f460>,\n  <matplotlib.patches.Wedge at 0x16f5ed0fb80>,\n  <matplotlib.patches.Wedge at 0x16f5ecd02e0>,\n  <matplotlib.patches.Wedge at 0x16f5ecd0a00>],\n [Text(-0.6747143291350378, 0.8687695747779476, 'Secondary'),\n  Text(0.5414786909946752, -0.957497168245783, 'Higher education'),\n  Text(1.0809633059124244, -0.20376047524209107, 'Incomplete higher'),\n  Text(1.099014363537664, -0.04655565205110499, 'Lower secondary'),\n  Text(1.0999984559777936, -0.0018430535722772324, 'Academic degree')],\n [Text(-0.3680259977100206, 0.47387431351524406, '71%'),\n  Text(0.29535201326982274, -0.5222711826795179, '24%'),\n  Text(0.5896163486795041, -0.11114207740477693, '3%'),\n  Text(0.599462380111453, -0.025393992027875446, '1%'),\n  Text(0.5999991578060692, -0.001005301948514854, '0%')])"
     },
     "execution_count": 125,
     "metadata": {},
     "output_type": "execute_result"
    },
    {
     "data": {
      "text/plain": "<Figure size 432x288 with 1 Axes>",
      "image/png": "[encoded data removed]"
     },
     "metadata": {},
     "output_type": "display_data"
    }
   ],
   "source": [
    "print(application_train['NAME_EDUCATION_TYPE'].value_counts())\n",
    "plt.pie(application_train['NAME_EDUCATION_TYPE'].value_counts(), labels=['Secondary','Higher education', 'Incomplete higher', 'Lower secondary', 'Academic degree'], autopct='%.0f%%')"
   ]
  },
  {
   "cell_type": "markdown",
   "id": "78e17d30-acce-4b7f-bacc-af488cda3e7d",
   "metadata": {
    "id": "78e17d30-acce-4b7f-bacc-af488cda3e7d"
   },
   "source": [
    "3- Plot the distribution of ocupation of the loan applicants"
   ]
  },
  {
   "cell_type": "code",
   "execution_count": 164,
   "id": "ec101d97-c77b-4e5d-b69f-7c2f8f652d8f",
   "metadata": {
    "id": "ec101d97-c77b-4e5d-b69f-7c2f8f652d8f"
   },
   "outputs": [
    {
     "data": {
      "text/plain": "<AxesSubplot:>"
     },
     "execution_count": 164,
     "metadata": {},
     "output_type": "execute_result"
    },
    {
     "data": {
      "text/plain": "<Figure size 432x288 with 1 Axes>",
      "image/png": "[encoded data removed]"
     },
     "metadata": {
      "needs_background": "light"
     },
     "output_type": "display_data"
    }
   ],
   "source": [
    "application_train['OCCUPATION_TYPE'].hist()"
   ]
  },
  {
   "cell_type": "code",
   "execution_count": 5,
   "outputs": [],
   "source": [
    "def gp(col, title):\n",
    "    df1 = application_train[application_train[\"TARGET\"] == 1]\n",
    "    df0 = application_train[application_train[\"TARGET\"] == 0]\n",
    "    a1 = df1[col].value_counts()\n",
    "    b1 = df0[col].value_counts()\n",
    "\n",
    "    total = dict(application_train[col].value_counts())\n",
    "    x0 = a1.index\n",
    "    x1 = b1.index\n",
    "\n",
    "    y0 = [float(x)*100 / total[x0[i]] for i,x in enumerate(a1.values)]\n",
    "    y1 = [float(x)*100 / total[x1[i]] for i,x in enumerate(b1.values)]\n",
    "\n",
    "    trace1 = go.Bar(x=a1.index, y=y0, name='Target : 1', marker=dict(color=\"#96D38C\"))\n",
    "    trace2 = go.Bar(x=b1.index, y=y1, name='Target : 0', marker=dict(color=\"#FEBFB3\"))\n",
    "    return trace1, trace2"
   ],
   "metadata": {
    "collapsed": false,
    "pycharm": {
     "name": "#%%\n"
    }
   }
  },
  {
   "cell_type": "code",
   "execution_count": 6,
   "outputs": [],
   "source": [
    "def bar_hor(df, col, title, color, w=None, h=None, lm=0, limit=100, return_trace=False, rev=False, xlb = False):\n",
    "    cnt_srs = df[col].value_counts()\n",
    "    yy = cnt_srs.head(limit).index[::-1]\n",
    "    xx = cnt_srs.head(limit).values[::-1]\n",
    "    if rev:\n",
    "        yy = cnt_srs.tail(limit).index[::-1]\n",
    "        xx = cnt_srs.tail(limit).values[::-1]\n",
    "    if xlb:\n",
    "        trace = go.Bar(y=xlb, x=xx, orientation = 'h', marker=dict(color=color))\n",
    "    else:\n",
    "        trace = go.Bar(y=yy, x=xx, orientation = 'h', marker=dict(color=color))\n",
    "    if return_trace:\n",
    "        return trace\n",
    "    layout = dict(title=title, margin=dict(l=lm), width=w, height=h)\n",
    "    data = [trace]\n",
    "    fig = go.Figure(data=data, layout=layout)\n",
    "    iplot(fig)"
   ],
   "metadata": {
    "collapsed": false,
    "pycharm": {
     "name": "#%%\n"
    }
   }
  },
  {
   "cell_type": "markdown",
   "id": "824b1bc0-4dad-4ce8-b574-cbae5984a589",
   "metadata": {
    "id": "824b1bc0-4dad-4ce8-b574-cbae5984a589"
   },
   "source": [
    "4- Plot the family status of the applicants"
   ]
  },
  {
   "cell_type": "code",
   "execution_count": 17,
   "id": "95463328-4392-435e-a203-95e28998930b",
   "metadata": {
    "id": "95463328-4392-435e-a203-95e28998930b"
   },
   "outputs": [
    {
     "data": {
      "application/vnd.plotly.v1+json": {
       "data": [
        {
         "marker": {
          "color": "#f975ae"
         },
         "orientation": "h",
         "x": [
          2,
          16088,
          19770,
          29775,
          45444,
          196432
         ],
         "xaxis": "x",
         "y": [
          "Unknown",
          "Widow",
          "Separated",
          "Civil marriage",
          "Single / not married",
          "Married"
         ],
         "yaxis": "y",
         "type": "bar"
        },
        {
         "marker": {
          "color": "#96D38C"
         },
         "name": "Target : 1",
         "x": [
          "Married",
          "Single / not married",
          "Civil marriage",
          "Separated",
          "Widow"
         ],
         "xaxis": "x2",
         "y": [
          7.559868045939562,
          9.80767538068832,
          9.944584382871536,
          8.19423368740516,
          5.824216807558429
         ],
         "yaxis": "y2",
         "type": "bar"
        },
        {
         "marker": {
          "color": "#FEBFB3"
         },
         "name": "Target : 0",
         "x": [
          "Married",
          "Single / not married",
          "Civil marriage",
          "Separated",
          "Widow",
          "Unknown"
         ],
         "xaxis": "x3",
         "y": [
          92.44013195406043,
          90.19232461931168,
          90.05541561712846,
          91.80576631259484,
          94.17578319244157,
          100.0
         ],
         "yaxis": "y3",
         "type": "bar"
        }
       ],
       "layout": {
        "annotations": [
         {
          "font": {
           "size": 16
          },
          "showarrow": false,
          "text": "Family Status Distribution",
          "x": 0.14444444444444446,
          "xanchor": "center",
          "xref": "paper",
          "y": 1.0,
          "yanchor": "bottom",
          "yref": "paper"
         },
         {
          "font": {
           "size": 16
          },
          "showarrow": false,
          "text": "Family Status, Target = 1",
          "x": 0.5,
          "xanchor": "center",
          "xref": "paper",
          "y": 1.0,
          "yanchor": "bottom",
          "yref": "paper"
         },
         {
          "font": {
           "size": 16
          },
          "showarrow": false,
          "text": "Family Status, Target = 0",
          "x": 0.8555555555555556,
          "xanchor": "center",
          "xref": "paper",
          "y": 1.0,
          "yanchor": "bottom",
          "yref": "paper"
         }
        ],
        "height": 350,
        "margin": {
         "l": 120
        },
        "showlegend": false,
        "template": {
         "data": {
          "barpolar": [
           {
            "marker": {
             "line": {
              "color": "#E5ECF6",
              "width": 0.5
             },
             "pattern": {
              "fillmode": "overlay",
              "size": 10,
              "solidity": 0.2
             }
            },
            "type": "barpolar"
           }
          ],
          "bar": [
           {
            "error_x": {
             "color": "#2a3f5f"
            },
            "error_y": {
             "color": "#2a3f5f"
            },
            "marker": {
             "line": {
              "color": "#E5ECF6",
              "width": 0.5
             },
             "pattern": {
              "fillmode": "overlay",
              "size": 10,
              "solidity": 0.2
             }
            },
            "type": "bar"
           }
          ],
          "carpet": [
           {
            "aaxis": {
             "endlinecolor": "#2a3f5f",
             "gridcolor": "white",
             "linecolor": "white",
             "minorgridcolor": "white",
             "startlinecolor": "#2a3f5f"
            },
            "baxis": {
             "endlinecolor": "#2a3f5f",
             "gridcolor": "white",
             "linecolor": "white",
             "minorgridcolor": "white",
             "startlinecolor": "#2a3f5f"
            },
            "type": "carpet"
           }
          ],
          "choropleth": [
           {
            "colorbar": {
             "outlinewidth": 0,
             "ticks": ""
            },
            "type": "choropleth"
           }
          ],
          "contourcarpet": [
           {
            "colorbar": {
             "outlinewidth": 0,
             "ticks": ""
            },
            "type": "contourcarpet"
           }
          ],
          "contour": [
           {
            "colorbar": {
             "outlinewidth": 0,
             "ticks": ""
            },
            "colorscale": [
             [
              0.0,
              "#0d0887"
             ],
             [
              0.1111111111111111,
              "#46039f"
             ],
             [
              0.2222222222222222,
              "#7201a8"
             ],
             [
              0.3333333333333333,
              "#9c179e"
             ],
             [
              0.4444444444444444,
              "#bd3786"
             ],
             [
              0.5555555555555556,
              "#d8576b"
             ],
             [
              0.6666666666666666,
              "#ed7953"
             ],
             [
              0.7777777777777778,
              "#fb9f3a"
             ],
             [
              0.8888888888888888,
              "#fdca26"
             ],
             [
              1.0,
              "#f0f921"
             ]
            ],
            "type": "contour"
           }
          ],
          "heatmapgl": [
           {
            "colorbar": {
             "outlinewidth": 0,
             "ticks": ""
            },
            "colorscale": [
             [
              0.0,
              "#0d0887"
             ],
             [
              0.1111111111111111,
              "#46039f"
             ],
             [
              0.2222222222222222,
              "#7201a8"
             ],
             [
              0.3333333333333333,
              "#9c179e"
             ],
             [
              0.4444444444444444,
              "#bd3786"
             ],
             [
              0.5555555555555556,
              "#d8576b"
             ],
             [
              0.6666666666666666,
              "#ed7953"
             ],
             [
              0.7777777777777778,
              "#fb9f3a"
             ],
             [
              0.8888888888888888,
              "#fdca26"
             ],
             [
              1.0,
              "#f0f921"
             ]
            ],
            "type": "heatmapgl"
           }
          ],
          "heatmap": [
           {
            "colorbar": {
             "outlinewidth": 0,
             "ticks": ""
            },
            "colorscale": [
             [
              0.0,
              "#0d0887"
             ],
             [
              0.1111111111111111,
              "#46039f"
             ],
             [
              0.2222222222222222,
              "#7201a8"
             ],
             [
              0.3333333333333333,
              "#9c179e"
             ],
             [
              0.4444444444444444,
              "#bd3786"
             ],
             [
              0.5555555555555556,
              "#d8576b"
             ],
             [
              0.6666666666666666,
              "#ed7953"
             ],
             [
              0.7777777777777778,
              "#fb9f3a"
             ],
             [
              0.8888888888888888,
              "#fdca26"
             ],
             [
              1.0,
              "#f0f921"
             ]
            ],
            "type": "heatmap"
           }
          ],
          "histogram2dcontour": [
           {
            "colorbar": {
             "outlinewidth": 0,
             "ticks": ""
            },
            "colorscale": [
             [
              0.0,
              "#0d0887"
             ],
             [
              0.1111111111111111,
              "#46039f"
             ],
             [
              0.2222222222222222,
              "#7201a8"
             ],
             [
              0.3333333333333333,
              "#9c179e"
             ],
             [
              0.4444444444444444,
              "#bd3786"
             ],
             [
              0.5555555555555556,
              "#d8576b"
             ],
             [
              0.6666666666666666,
              "#ed7953"
             ],
             [
              0.7777777777777778,
              "#fb9f3a"
             ],
             [
              0.8888888888888888,
              "#fdca26"
             ],
             [
              1.0,
              "#f0f921"
             ]
            ],
            "type": "histogram2dcontour"
           }
          ],
          "histogram2d": [
           {
            "colorbar": {
             "outlinewidth": 0,
             "ticks": ""
            },
            "colorscale": [
             [
              0.0,
              "#0d0887"
             ],
             [
              0.1111111111111111,
              "#46039f"
             ],
             [
              0.2222222222222222,
              "#7201a8"
             ],
             [
              0.3333333333333333,
              "#9c179e"
             ],
             [
              0.4444444444444444,
              "#bd3786"
             ],
             [
              0.5555555555555556,
              "#d8576b"
             ],
             [
              0.6666666666666666,
              "#ed7953"
             ],
             [
              0.7777777777777778,
              "#fb9f3a"
             ],
             [
              0.8888888888888888,
              "#fdca26"
             ],
             [
              1.0,
              "#f0f921"
             ]
            ],
            "type": "histogram2d"
           }
          ],
          "histogram": [
           {
            "marker": {
             "pattern": {
              "fillmode": "overlay",
              "size": 10,
              "solidity": 0.2
             }
            },
            "type": "histogram"
           }
          ],
          "mesh3d": [
           {
            "colorbar": {
             "outlinewidth": 0,
             "ticks": ""
            },
            "type": "mesh3d"
           }
          ],
          "parcoords": [
           {
            "line": {
             "colorbar": {
              "outlinewidth": 0,
              "ticks": ""
             }
            },
            "type": "parcoords"
           }
          ],
          "pie": [
           {
            "automargin": true,
            "type": "pie"
           }
          ],
          "scatter3d": [
           {
            "line": {
             "colorbar": {
              "outlinewidth": 0,
              "ticks": ""
             }
            },
            "marker": {
             "colorbar": {
              "outlinewidth": 0,
              "ticks": ""
             }
            },
            "type": "scatter3d"
           }
          ],
          "scattercarpet": [
           {
            "marker": {
             "colorbar": {
              "outlinewidth": 0,
              "ticks": ""
             }
            },
            "type": "scattercarpet"
           }
          ],
          "scattergeo": [
           {
            "marker": {
             "colorbar": {
              "outlinewidth": 0,
              "ticks": ""
             }
            },
            "type": "scattergeo"
           }
          ],
          "scattergl": [
           {
            "marker": {
             "colorbar": {
              "outlinewidth": 0,
              "ticks": ""
             }
            },
            "type": "scattergl"
           }
          ],
          "scattermapbox": [
           {
            "marker": {
             "colorbar": {
              "outlinewidth": 0,
              "ticks": ""
             }
            },
            "type": "scattermapbox"
           }
          ],
          "scatterpolargl": [
           {
            "marker": {
             "colorbar": {
              "outlinewidth": 0,
              "ticks": ""
             }
            },
            "type": "scatterpolargl"
           }
          ],
          "scatterpolar": [
           {
            "marker": {
             "colorbar": {
              "outlinewidth": 0,
              "ticks": ""
             }
            },
            "type": "scatterpolar"
           }
          ],
          "scatter": [
           {
            "fillpattern": {
             "fillmode": "overlay",
             "size": 10,
             "solidity": 0.2
            },
            "type": "scatter"
           }
          ],
          "scatterternary": [
           {
            "marker": {
             "colorbar": {
              "outlinewidth": 0,
              "ticks": ""
             }
            },
            "type": "scatterternary"
           }
          ],
          "surface": [
           {
            "colorbar": {
             "outlinewidth": 0,
             "ticks": ""
            },
            "colorscale": [
             [
              0.0,
              "#0d0887"
             ],
             [
              0.1111111111111111,
              "#46039f"
             ],
             [
              0.2222222222222222,
              "#7201a8"
             ],
             [
              0.3333333333333333,
              "#9c179e"
             ],
             [
              0.4444444444444444,
              "#bd3786"
             ],
             [
              0.5555555555555556,
              "#d8576b"
             ],
             [
              0.6666666666666666,
              "#ed7953"
             ],
             [
              0.7777777777777778,
              "#fb9f3a"
             ],
             [
              0.8888888888888888,
              "#fdca26"
             ],
             [
              1.0,
              "#f0f921"
             ]
            ],
            "type": "surface"
           }
          ],
          "table": [
           {
            "cells": {
             "fill": {
              "color": "#EBF0F8"
             },
             "line": {
              "color": "white"
             }
            },
            "header": {
             "fill": {
              "color": "#C8D4E3"
             },
             "line": {
              "color": "white"
             }
            },
            "type": "table"
           }
          ]
         },
         "layout": {
          "annotationdefaults": {
           "arrowcolor": "#2a3f5f",
           "arrowhead": 0,
           "arrowwidth": 1
          },
          "autotypenumbers": "strict",
          "coloraxis": {
           "colorbar": {
            "outlinewidth": 0,
            "ticks": ""
           }
          },
          "colorscale": {
           "diverging": [
            [
             0,
             "#8e0152"
            ],
            [
             0.1,
             "#c51b7d"
            ],
            [
             0.2,
             "#de77ae"
            ],
            [
             0.3,
             "#f1b6da"
            ],
            [
             0.4,
             "#fde0ef"
            ],
            [
             0.5,
             "#f7f7f7"
            ],
            [
             0.6,
             "#e6f5d0"
            ],
            [
             0.7,
             "#b8e186"
            ],
            [
             0.8,
             "#7fbc41"
            ],
            [
             0.9,
             "#4d9221"
            ],
            [
             1,
             "#276419"
            ]
           ],
           "sequential": [
            [
             0.0,
             "#0d0887"
            ],
            [
             0.1111111111111111,
             "#46039f"
            ],
            [
             0.2222222222222222,
             "#7201a8"
            ],
            [
             0.3333333333333333,
             "#9c179e"
            ],
            [
             0.4444444444444444,
             "#bd3786"
            ],
            [
             0.5555555555555556,
             "#d8576b"
            ],
            [
             0.6666666666666666,
             "#ed7953"
            ],
            [
             0.7777777777777778,
             "#fb9f3a"
            ],
            [
             0.8888888888888888,
             "#fdca26"
            ],
            [
             1.0,
             "#f0f921"
            ]
           ],
           "sequentialminus": [
            [
             0.0,
             "#0d0887"
            ],
            [
             0.1111111111111111,
             "#46039f"
            ],
            [
             0.2222222222222222,
             "#7201a8"
            ],
            [
             0.3333333333333333,
             "#9c179e"
            ],
            [
             0.4444444444444444,
             "#bd3786"
            ],
            [
             0.5555555555555556,
             "#d8576b"
            ],
            [
             0.6666666666666666,
             "#ed7953"
            ],
            [
             0.7777777777777778,
             "#fb9f3a"
            ],
            [
             0.8888888888888888,
             "#fdca26"
            ],
            [
             1.0,
             "#f0f921"
            ]
           ]
          },
          "colorway": [
           "#636efa",
           "#EF553B",
           "#00cc96",
           "#ab63fa",
           "#FFA15A",
           "#19d3f3",
           "#FF6692",
           "#B6E880",
           "#FF97FF",
           "#FECB52"
          ],
          "font": {
           "color": "#2a3f5f"
          },
          "geo": {
           "bgcolor": "white",
           "lakecolor": "white",
           "landcolor": "#E5ECF6",
           "showlakes": true,
           "showland": true,
           "subunitcolor": "white"
          },
          "hoverlabel": {
           "align": "left"
          },
          "hovermode": "closest",
          "mapbox": {
           "style": "light"
          },
          "paper_bgcolor": "white",
          "plot_bgcolor": "#E5ECF6",
          "polar": {
           "angularaxis": {
            "gridcolor": "white",
            "linecolor": "white",
            "ticks": ""
           },
           "bgcolor": "#E5ECF6",
           "radialaxis": {
            "gridcolor": "white",
            "linecolor": "white",
            "ticks": ""
           }
          },
          "scene": {
           "xaxis": {
            "backgroundcolor": "#E5ECF6",
            "gridcolor": "white",
            "gridwidth": 2,
            "linecolor": "white",
            "showbackground": true,
            "ticks": "",
            "zerolinecolor": "white"
           },
           "yaxis": {
            "backgroundcolor": "#E5ECF6",
            "gridcolor": "white",
            "gridwidth": 2,
            "linecolor": "white",
            "showbackground": true,
            "ticks": "",
            "zerolinecolor": "white"
           },
           "zaxis": {
            "backgroundcolor": "#E5ECF6",
            "gridcolor": "white",
            "gridwidth": 2,
            "linecolor": "white",
            "showbackground": true,
            "ticks": "",
            "zerolinecolor": "white"
           }
          },
          "shapedefaults": {
           "line": {
            "color": "#2a3f5f"
           }
          },
          "ternary": {
           "aaxis": {
            "gridcolor": "white",
            "linecolor": "white",
            "ticks": ""
           },
           "baxis": {
            "gridcolor": "white",
            "linecolor": "white",
            "ticks": ""
           },
           "bgcolor": "#E5ECF6",
           "caxis": {
            "gridcolor": "white",
            "linecolor": "white",
            "ticks": ""
           }
          },
          "title": {
           "x": 0.05
          },
          "xaxis": {
           "automargin": true,
           "gridcolor": "white",
           "linecolor": "white",
           "ticks": "",
           "title": {
            "standoff": 15
           },
           "zerolinecolor": "white",
           "zerolinewidth": 2
          },
          "yaxis": {
           "automargin": true,
           "gridcolor": "white",
           "linecolor": "white",
           "ticks": "",
           "title": {
            "standoff": 15
           },
           "zerolinecolor": "white",
           "zerolinewidth": 2
          }
         }
        },
        "xaxis": {
         "anchor": "y",
         "domain": [
          0.0,
          0.2888888888888889
         ]
        },
        "yaxis": {
         "anchor": "x",
         "domain": [
          0.0,
          1.0
         ]
        },
        "xaxis2": {
         "anchor": "y2",
         "domain": [
          0.35555555555555557,
          0.6444444444444445
         ]
        },
        "yaxis2": {
         "anchor": "x2",
         "domain": [
          0.0,
          1.0
         ]
        },
        "xaxis3": {
         "anchor": "y3",
         "domain": [
          0.7111111111111111,
          1.0
         ]
        },
        "yaxis3": {
         "anchor": "x3",
         "domain": [
          0.0,
          1.0
         ]
        }
       },
       "config": {
        "showLink": false,
        "linkText": "Export to plot.ly",
        "plotlyServerURL": "https://plot.ly"
       }
      },
      "text/html": "<div>                            <div id=\"e379a602-cda7-4468-a5e0-ff5f2af33dd1\" class=\"plotly-graph-div\" style=\"height:350px; width:100%;\"></div>            <script type=\"text/javascript\">                require([\"plotly\"], function(Plotly) {                    window.PLOTLYENV=window.PLOTLYENV || {};                                    if (document.getElementById(\"e379a602-cda7-4468-a5e0-ff5f2af33dd1\")) {                    Plotly.newPlot(                        \"e379a602-cda7-4468-a5e0-ff5f2af33dd1\",                        [{\"marker\":{\"color\":\"#f975ae\"},\"orientation\":\"h\",\"x\":[2,16088,19770,29775,45444,196432],\"xaxis\":\"x\",\"y\":[\"Unknown\",\"Widow\",\"Separated\",\"Civil marriage\",\"Single / not married\",\"Married\"],\"yaxis\":\"y\",\"type\":\"bar\"},{\"marker\":{\"color\":\"#96D38C\"},\"name\":\"Target : 1\",\"x\":[\"Married\",\"Single / not married\",\"Civil marriage\",\"Separated\",\"Widow\"],\"xaxis\":\"x2\",\"y\":[7.559868045939562,9.80767538068832,9.944584382871536,8.19423368740516,5.824216807558429],\"yaxis\":\"y2\",\"type\":\"bar\"},{\"marker\":{\"color\":\"#FEBFB3\"},\"name\":\"Target : 0\",\"x\":[\"Married\",\"Single / not married\",\"Civil marriage\",\"Separated\",\"Widow\",\"Unknown\"],\"xaxis\":\"x3\",\"y\":[92.44013195406043,90.19232461931168,90.05541561712846,91.80576631259484,94.17578319244157,100.0],\"yaxis\":\"y3\",\"type\":\"bar\"}],                        {\"annotations\":[{\"font\":{\"size\":16},\"showarrow\":false,\"text\":\"Family Status Distribution\",\"x\":0.14444444444444446,\"xanchor\":\"center\",\"xref\":\"paper\",\"y\":1.0,\"yanchor\":\"bottom\",\"yref\":\"paper\"},{\"font\":{\"size\":16},\"showarrow\":false,\"text\":\"Family Status, Target = 1\",\"x\":0.5,\"xanchor\":\"center\",\"xref\":\"paper\",\"y\":1.0,\"yanchor\":\"bottom\",\"yref\":\"paper\"},{\"font\":{\"size\":16},\"showarrow\":false,\"text\":\"Family Status, Target = 0\",\"x\":0.8555555555555556,\"xanchor\":\"center\",\"xref\":\"paper\",\"y\":1.0,\"yanchor\":\"bottom\",\"yref\":\"paper\"}],\"height\":350,\"margin\":{\"l\":120},\"showlegend\":false,\"template\":{\"data\":{\"barpolar\":[{\"marker\":{\"line\":{\"color\":\"#E5ECF6\",\"width\":0.5},\"pattern\":{\"fillmode\":\"overlay\",\"size\":10,\"solidity\":0.2}},\"type\":\"barpolar\"}],\"bar\":[{\"error_x\":{\"color\":\"#2a3f5f\"},\"error_y\":{\"color\":\"#2a3f5f\"},\"marker\":{\"line\":{\"color\":\"#E5ECF6\",\"width\":0.5},\"pattern\":{\"fillmode\":\"overlay\",\"size\":10,\"solidity\":0.2}},\"type\":\"bar\"}],\"carpet\":[{\"aaxis\":{\"endlinecolor\":\"#2a3f5f\",\"gridcolor\":\"white\",\"linecolor\":\"white\",\"minorgridcolor\":\"white\",\"startlinecolor\":\"#2a3f5f\"},\"baxis\":{\"endlinecolor\":\"#2a3f5f\",\"gridcolor\":\"white\",\"linecolor\":\"white\",\"minorgridcolor\":\"white\",\"startlinecolor\":\"#2a3f5f\"},\"type\":\"carpet\"}],\"choropleth\":[{\"colorbar\":{\"outlinewidth\":0,\"ticks\":\"\"},\"type\":\"choropleth\"}],\"contourcarpet\":[{\"colorbar\":{\"outlinewidth\":0,\"ticks\":\"\"},\"type\":\"contourcarpet\"}],\"contour\":[{\"colorbar\":{\"outlinewidth\":0,\"ticks\":\"\"},\"colorscale\":[[0.0,\"#0d0887\"],[0.1111111111111111,\"#46039f\"],[0.2222222222222222,\"#7201a8\"],[0.3333333333333333,\"#9c179e\"],[0.4444444444444444,\"#bd3786\"],[0.5555555555555556,\"#d8576b\"],[0.6666666666666666,\"#ed7953\"],[0.7777777777777778,\"#fb9f3a\"],[0.8888888888888888,\"#fdca26\"],[1.0,\"#f0f921\"]],\"type\":\"contour\"}],\"heatmapgl\":[{\"colorbar\":{\"outlinewidth\":0,\"ticks\":\"\"},\"colorscale\":[[0.0,\"#0d0887\"],[0.1111111111111111,\"#46039f\"],[0.2222222222222222,\"#7201a8\"],[0.3333333333333333,\"#9c179e\"],[0.4444444444444444,\"#bd3786\"],[0.5555555555555556,\"#d8576b\"],[0.6666666666666666,\"#ed7953\"],[0.7777777777777778,\"#fb9f3a\"],[0.8888888888888888,\"#fdca26\"],[1.0,\"#f0f921\"]],\"type\":\"heatmapgl\"}],\"heatmap\":[{\"colorbar\":{\"outlinewidth\":0,\"ticks\":\"\"},\"colorscale\":[[0.0,\"#0d0887\"],[0.1111111111111111,\"#46039f\"],[0.2222222222222222,\"#7201a8\"],[0.3333333333333333,\"#9c179e\"],[0.4444444444444444,\"#bd3786\"],[0.5555555555555556,\"#d8576b\"],[0.6666666666666666,\"#ed7953\"],[0.7777777777777778,\"#fb9f3a\"],[0.8888888888888888,\"#fdca26\"],[1.0,\"#f0f921\"]],\"type\":\"heatmap\"}],\"histogram2dcontour\":[{\"colorbar\":{\"outlinewidth\":0,\"ticks\":\"\"},\"colorscale\":[[0.0,\"#0d0887\"],[0.1111111111111111,\"#46039f\"],[0.2222222222222222,\"#7201a8\"],[0.3333333333333333,\"#9c179e\"],[0.4444444444444444,\"#bd3786\"],[0.5555555555555556,\"#d8576b\"],[0.6666666666666666,\"#ed7953\"],[0.7777777777777778,\"#fb9f3a\"],[0.8888888888888888,\"#fdca26\"],[1.0,\"#f0f921\"]],\"type\":\"histogram2dcontour\"}],\"histogram2d\":[{\"colorbar\":{\"outlinewidth\":0,\"ticks\":\"\"},\"colorscale\":[[0.0,\"#0d0887\"],[0.1111111111111111,\"#46039f\"],[0.2222222222222222,\"#7201a8\"],[0.3333333333333333,\"#9c179e\"],[0.4444444444444444,\"#bd3786\"],[0.5555555555555556,\"#d8576b\"],[0.6666666666666666,\"#ed7953\"],[0.7777777777777778,\"#fb9f3a\"],[0.8888888888888888,\"#fdca26\"],[1.0,\"#f0f921\"]],\"type\":\"histogram2d\"}],\"histogram\":[{\"marker\":{\"pattern\":{\"fillmode\":\"overlay\",\"size\":10,\"solidity\":0.2}},\"type\":\"histogram\"}],\"mesh3d\":[{\"colorbar\":{\"outlinewidth\":0,\"ticks\":\"\"},\"type\":\"mesh3d\"}],\"parcoords\":[{\"line\":{\"colorbar\":{\"outlinewidth\":0,\"ticks\":\"\"}},\"type\":\"parcoords\"}],\"pie\":[{\"automargin\":true,\"type\":\"pie\"}],\"scatter3d\":[{\"line\":{\"colorbar\":{\"outlinewidth\":0,\"ticks\":\"\"}},\"marker\":{\"colorbar\":{\"outlinewidth\":0,\"ticks\":\"\"}},\"type\":\"scatter3d\"}],\"scattercarpet\":[{\"marker\":{\"colorbar\":{\"outlinewidth\":0,\"ticks\":\"\"}},\"type\":\"scattercarpet\"}],\"scattergeo\":[{\"marker\":{\"colorbar\":{\"outlinewidth\":0,\"ticks\":\"\"}},\"type\":\"scattergeo\"}],\"scattergl\":[{\"marker\":{\"colorbar\":{\"outlinewidth\":0,\"ticks\":\"\"}},\"type\":\"scattergl\"}],\"scattermapbox\":[{\"marker\":{\"colorbar\":{\"outlinewidth\":0,\"ticks\":\"\"}},\"type\":\"scattermapbox\"}],\"scatterpolargl\":[{\"marker\":{\"colorbar\":{\"outlinewidth\":0,\"ticks\":\"\"}},\"type\":\"scatterpolargl\"}],\"scatterpolar\":[{\"marker\":{\"colorbar\":{\"outlinewidth\":0,\"ticks\":\"\"}},\"type\":\"scatterpolar\"}],\"scatter\":[{\"fillpattern\":{\"fillmode\":\"overlay\",\"size\":10,\"solidity\":0.2},\"type\":\"scatter\"}],\"scatterternary\":[{\"marker\":{\"colorbar\":{\"outlinewidth\":0,\"ticks\":\"\"}},\"type\":\"scatterternary\"}],\"surface\":[{\"colorbar\":{\"outlinewidth\":0,\"ticks\":\"\"},\"colorscale\":[[0.0,\"#0d0887\"],[0.1111111111111111,\"#46039f\"],[0.2222222222222222,\"#7201a8\"],[0.3333333333333333,\"#9c179e\"],[0.4444444444444444,\"#bd3786\"],[0.5555555555555556,\"#d8576b\"],[0.6666666666666666,\"#ed7953\"],[0.7777777777777778,\"#fb9f3a\"],[0.8888888888888888,\"#fdca26\"],[1.0,\"#f0f921\"]],\"type\":\"surface\"}],\"table\":[{\"cells\":{\"fill\":{\"color\":\"#EBF0F8\"},\"line\":{\"color\":\"white\"}},\"header\":{\"fill\":{\"color\":\"#C8D4E3\"},\"line\":{\"color\":\"white\"}},\"type\":\"table\"}]},\"layout\":{\"annotationdefaults\":{\"arrowcolor\":\"#2a3f5f\",\"arrowhead\":0,\"arrowwidth\":1},\"autotypenumbers\":\"strict\",\"coloraxis\":{\"colorbar\":{\"outlinewidth\":0,\"ticks\":\"\"}},\"colorscale\":{\"diverging\":[[0,\"#8e0152\"],[0.1,\"#c51b7d\"],[0.2,\"#de77ae\"],[0.3,\"#f1b6da\"],[0.4,\"#fde0ef\"],[0.5,\"#f7f7f7\"],[0.6,\"#e6f5d0\"],[0.7,\"#b8e186\"],[0.8,\"#7fbc41\"],[0.9,\"#4d9221\"],[1,\"#276419\"]],\"sequential\":[[0.0,\"#0d0887\"],[0.1111111111111111,\"#46039f\"],[0.2222222222222222,\"#7201a8\"],[0.3333333333333333,\"#9c179e\"],[0.4444444444444444,\"#bd3786\"],[0.5555555555555556,\"#d8576b\"],[0.6666666666666666,\"#ed7953\"],[0.7777777777777778,\"#fb9f3a\"],[0.8888888888888888,\"#fdca26\"],[1.0,\"#f0f921\"]],\"sequentialminus\":[[0.0,\"#0d0887\"],[0.1111111111111111,\"#46039f\"],[0.2222222222222222,\"#7201a8\"],[0.3333333333333333,\"#9c179e\"],[0.4444444444444444,\"#bd3786\"],[0.5555555555555556,\"#d8576b\"],[0.6666666666666666,\"#ed7953\"],[0.7777777777777778,\"#fb9f3a\"],[0.8888888888888888,\"#fdca26\"],[1.0,\"#f0f921\"]]},\"colorway\":[\"#636efa\",\"#EF553B\",\"#00cc96\",\"#ab63fa\",\"#FFA15A\",\"#19d3f3\",\"#FF6692\",\"#B6E880\",\"#FF97FF\",\"#FECB52\"],\"font\":{\"color\":\"#2a3f5f\"},\"geo\":{\"bgcolor\":\"white\",\"lakecolor\":\"white\",\"landcolor\":\"#E5ECF6\",\"showlakes\":true,\"showland\":true,\"subunitcolor\":\"white\"},\"hoverlabel\":{\"align\":\"left\"},\"hovermode\":\"closest\",\"mapbox\":{\"style\":\"light\"},\"paper_bgcolor\":\"white\",\"plot_bgcolor\":\"#E5ECF6\",\"polar\":{\"angularaxis\":{\"gridcolor\":\"white\",\"linecolor\":\"white\",\"ticks\":\"\"},\"bgcolor\":\"#E5ECF6\",\"radialaxis\":{\"gridcolor\":\"white\",\"linecolor\":\"white\",\"ticks\":\"\"}},\"scene\":{\"xaxis\":{\"backgroundcolor\":\"#E5ECF6\",\"gridcolor\":\"white\",\"gridwidth\":2,\"linecolor\":\"white\",\"showbackground\":true,\"ticks\":\"\",\"zerolinecolor\":\"white\"},\"yaxis\":{\"backgroundcolor\":\"#E5ECF6\",\"gridcolor\":\"white\",\"gridwidth\":2,\"linecolor\":\"white\",\"showbackground\":true,\"ticks\":\"\",\"zerolinecolor\":\"white\"},\"zaxis\":{\"backgroundcolor\":\"#E5ECF6\",\"gridcolor\":\"white\",\"gridwidth\":2,\"linecolor\":\"white\",\"showbackground\":true,\"ticks\":\"\",\"zerolinecolor\":\"white\"}},\"shapedefaults\":{\"line\":{\"color\":\"#2a3f5f\"}},\"ternary\":{\"aaxis\":{\"gridcolor\":\"white\",\"linecolor\":\"white\",\"ticks\":\"\"},\"baxis\":{\"gridcolor\":\"white\",\"linecolor\":\"white\",\"ticks\":\"\"},\"bgcolor\":\"#E5ECF6\",\"caxis\":{\"gridcolor\":\"white\",\"linecolor\":\"white\",\"ticks\":\"\"}},\"title\":{\"x\":0.05},\"xaxis\":{\"automargin\":true,\"gridcolor\":\"white\",\"linecolor\":\"white\",\"ticks\":\"\",\"title\":{\"standoff\":15},\"zerolinecolor\":\"white\",\"zerolinewidth\":2},\"yaxis\":{\"automargin\":true,\"gridcolor\":\"white\",\"linecolor\":\"white\",\"ticks\":\"\",\"title\":{\"standoff\":15},\"zerolinecolor\":\"white\",\"zerolinewidth\":2}}},\"xaxis\":{\"anchor\":\"y\",\"domain\":[0.0,0.2888888888888889]},\"yaxis\":{\"anchor\":\"x\",\"domain\":[0.0,1.0]},\"xaxis2\":{\"anchor\":\"y2\",\"domain\":[0.35555555555555557,0.6444444444444445]},\"yaxis2\":{\"anchor\":\"x2\",\"domain\":[0.0,1.0]},\"xaxis3\":{\"anchor\":\"y3\",\"domain\":[0.7111111111111111,1.0]},\"yaxis3\":{\"anchor\":\"x3\",\"domain\":[0.0,1.0]}},                        {\"responsive\": true}                    ).then(function(){\n                            \nvar gd = document.getElementById('e379a602-cda7-4468-a5e0-ff5f2af33dd1');\nvar x = new MutationObserver(function (mutations, observer) {{\n        var display = window.getComputedStyle(gd).display;\n        if (!display || display === 'none') {{\n            console.log([gd, 'removed!']);\n            Plotly.purge(gd);\n            observer.disconnect();\n        }}\n}});\n\n// Listen for the removal of the full notebook cells\nvar notebookContainer = gd.closest('#notebook-container');\nif (notebookContainer) {{\n    x.observe(notebookContainer, {childList: true});\n}}\n\n// Listen for the clearing of the current output cell\nvar outputEl = gd.closest('.output');\nif (outputEl) {{\n    x.observe(outputEl, {childList: true});\n}}\n\n                        })                };                });            </script>        </div>"
     },
     "metadata": {},
     "output_type": "display_data"
    }
   ],
   "source": [
    "tr0 = bar_hor(application_train, \"NAME_FAMILY_STATUS\", \"Distribution of CODE_GENDER Variable\" ,\"#f975ae\", w=700, lm=100, return_trace= True)\n",
    "tr1, tr2 = gp('NAME_FAMILY_STATUS', 'Distribution of Target with Applicant Gender')\n",
    "\n",
    "fig = tools.make_subplots(rows=1, cols=3, print_grid=False, subplot_titles = [\"Family Status Distribution\" , \"Family Status, Target = 1\" ,\"Family Status, Target = 0\"])\n",
    "fig.append_trace(tr0, 1, 1)\n",
    "fig.append_trace(tr1, 1, 2)\n",
    "fig.append_trace(tr2, 1, 3)\n",
    "fig['layout'].update(height=350, showlegend=False, margin=dict(l=120))\n",
    "iplot(fig)"
   ]
  },
  {
   "cell_type": "code",
   "execution_count": 20,
   "outputs": [
    {
     "data": {
      "text/plain": "<Figure size 3600x360 with 1 Axes>",
      "image/png": "[encoded data removed]"
     },
     "metadata": {
      "needs_background": "light"
     },
     "output_type": "display_data"
    }
   ],
   "source": [
    "# Showing it this way since notebook in github is not showing these graphs.\n",
    "img1 = mpimg.imread('Family_status.JPG')\n",
    "plt.figure(figsize=(50,5))\n",
    "imgplot = plt.imshow(img1)"
   ],
   "metadata": {
    "collapsed": false,
    "pycharm": {
     "name": "#%%\n"
    }
   }
  },
  {
   "cell_type": "markdown",
   "id": "efa77db6-a50a-454e-b1b2-83abe3c8baae",
   "metadata": {
    "id": "efa77db6-a50a-454e-b1b2-83abe3c8baae"
   },
   "source": [
    "5- Plot the income type of applicants grouped by the target variable"
   ]
  },
  {
   "cell_type": "code",
   "execution_count": 18,
   "id": "f22c3267-56c8-45fc-9184-b822cd026571",
   "metadata": {
    "id": "f22c3267-56c8-45fc-9184-b822cd026571"
   },
   "outputs": [
    {
     "data": {
      "application/vnd.plotly.v1+json": {
       "data": [
        {
         "marker": {
          "color": "#96D38C"
         },
         "name": "Target : 1",
         "x": [
          "Working",
          "Commercial associate",
          "Pensioner",
          "State servant",
          "Unemployed",
          "Maternity leave"
         ],
         "xaxis": "x",
         "y": [
          9.588471664126368,
          7.484256531270509,
          5.386366099490625,
          5.754964751416855,
          36.36363636363637,
          40.0
         ],
         "yaxis": "y",
         "type": "bar"
        },
        {
         "marker": {
          "color": "#FEBFB3"
         },
         "name": "Target : 0",
         "x": [
          "Working",
          "Commercial associate",
          "Pensioner",
          "State servant",
          "Student",
          "Unemployed",
          "Businessman",
          "Maternity leave"
         ],
         "xaxis": "x2",
         "y": [
          90.41152833587363,
          92.5157434687295,
          94.61363390050937,
          94.24503524858315,
          100.0,
          63.63636363636363,
          100.0,
          60.0
         ],
         "yaxis": "y2",
         "type": "bar"
        }
       ],
       "layout": {
        "annotations": [
         {
          "font": {
           "size": 16
          },
          "showarrow": false,
          "text": "Applicants Income Types when Target = 1",
          "x": 0.225,
          "xanchor": "center",
          "xref": "paper",
          "y": 1.0,
          "yanchor": "bottom",
          "yref": "paper"
         },
         {
          "font": {
           "size": 16
          },
          "showarrow": false,
          "text": "Applicants Income Type When Target = 0",
          "x": 0.775,
          "xanchor": "center",
          "xref": "paper",
          "y": 1.0,
          "yanchor": "bottom",
          "yref": "paper"
         }
        ],
        "height": 350,
        "margin": {
         "l": 120
        },
        "showlegend": false,
        "template": {
         "data": {
          "barpolar": [
           {
            "marker": {
             "line": {
              "color": "#E5ECF6",
              "width": 0.5
             },
             "pattern": {
              "fillmode": "overlay",
              "size": 10,
              "solidity": 0.2
             }
            },
            "type": "barpolar"
           }
          ],
          "bar": [
           {
            "error_x": {
             "color": "#2a3f5f"
            },
            "error_y": {
             "color": "#2a3f5f"
            },
            "marker": {
             "line": {
              "color": "#E5ECF6",
              "width": 0.5
             },
             "pattern": {
              "fillmode": "overlay",
              "size": 10,
              "solidity": 0.2
             }
            },
            "type": "bar"
           }
          ],
          "carpet": [
           {
            "aaxis": {
             "endlinecolor": "#2a3f5f",
             "gridcolor": "white",
             "linecolor": "white",
             "minorgridcolor": "white",
             "startlinecolor": "#2a3f5f"
            },
            "baxis": {
             "endlinecolor": "#2a3f5f",
             "gridcolor": "white",
             "linecolor": "white",
             "minorgridcolor": "white",
             "startlinecolor": "#2a3f5f"
            },
            "type": "carpet"
           }
          ],
          "choropleth": [
           {
            "colorbar": {
             "outlinewidth": 0,
             "ticks": ""
            },
            "type": "choropleth"
           }
          ],
          "contourcarpet": [
           {
            "colorbar": {
             "outlinewidth": 0,
             "ticks": ""
            },
            "type": "contourcarpet"
           }
          ],
          "contour": [
           {
            "colorbar": {
             "outlinewidth": 0,
             "ticks": ""
            },
            "colorscale": [
             [
              0.0,
              "#0d0887"
             ],
             [
              0.1111111111111111,
              "#46039f"
             ],
             [
              0.2222222222222222,
              "#7201a8"
             ],
             [
              0.3333333333333333,
              "#9c179e"
             ],
             [
              0.4444444444444444,
              "#bd3786"
             ],
             [
              0.5555555555555556,
              "#d8576b"
             ],
             [
              0.6666666666666666,
              "#ed7953"
             ],
             [
              0.7777777777777778,
              "#fb9f3a"
             ],
             [
              0.8888888888888888,
              "#fdca26"
             ],
             [
              1.0,
              "#f0f921"
             ]
            ],
            "type": "contour"
           }
          ],
          "heatmapgl": [
           {
            "colorbar": {
             "outlinewidth": 0,
             "ticks": ""
            },
            "colorscale": [
             [
              0.0,
              "#0d0887"
             ],
             [
              0.1111111111111111,
              "#46039f"
             ],
             [
              0.2222222222222222,
              "#7201a8"
             ],
             [
              0.3333333333333333,
              "#9c179e"
             ],
             [
              0.4444444444444444,
              "#bd3786"
             ],
             [
              0.5555555555555556,
              "#d8576b"
             ],
             [
              0.6666666666666666,
              "#ed7953"
             ],
             [
              0.7777777777777778,
              "#fb9f3a"
             ],
             [
              0.8888888888888888,
              "#fdca26"
             ],
             [
              1.0,
              "#f0f921"
             ]
            ],
            "type": "heatmapgl"
           }
          ],
          "heatmap": [
           {
            "colorbar": {
             "outlinewidth": 0,
             "ticks": ""
            },
            "colorscale": [
             [
              0.0,
              "#0d0887"
             ],
             [
              0.1111111111111111,
              "#46039f"
             ],
             [
              0.2222222222222222,
              "#7201a8"
             ],
             [
              0.3333333333333333,
              "#9c179e"
             ],
             [
              0.4444444444444444,
              "#bd3786"
             ],
             [
              0.5555555555555556,
              "#d8576b"
             ],
             [
              0.6666666666666666,
              "#ed7953"
             ],
             [
              0.7777777777777778,
              "#fb9f3a"
             ],
             [
              0.8888888888888888,
              "#fdca26"
             ],
             [
              1.0,
              "#f0f921"
             ]
            ],
            "type": "heatmap"
           }
          ],
          "histogram2dcontour": [
           {
            "colorbar": {
             "outlinewidth": 0,
             "ticks": ""
            },
            "colorscale": [
             [
              0.0,
              "#0d0887"
             ],
             [
              0.1111111111111111,
              "#46039f"
             ],
             [
              0.2222222222222222,
              "#7201a8"
             ],
             [
              0.3333333333333333,
              "#9c179e"
             ],
             [
              0.4444444444444444,
              "#bd3786"
             ],
             [
              0.5555555555555556,
              "#d8576b"
             ],
             [
              0.6666666666666666,
              "#ed7953"
             ],
             [
              0.7777777777777778,
              "#fb9f3a"
             ],
             [
              0.8888888888888888,
              "#fdca26"
             ],
             [
              1.0,
              "#f0f921"
             ]
            ],
            "type": "histogram2dcontour"
           }
          ],
          "histogram2d": [
           {
            "colorbar": {
             "outlinewidth": 0,
             "ticks": ""
            },
            "colorscale": [
             [
              0.0,
              "#0d0887"
             ],
             [
              0.1111111111111111,
              "#46039f"
             ],
             [
              0.2222222222222222,
              "#7201a8"
             ],
             [
              0.3333333333333333,
              "#9c179e"
             ],
             [
              0.4444444444444444,
              "#bd3786"
             ],
             [
              0.5555555555555556,
              "#d8576b"
             ],
             [
              0.6666666666666666,
              "#ed7953"
             ],
             [
              0.7777777777777778,
              "#fb9f3a"
             ],
             [
              0.8888888888888888,
              "#fdca26"
             ],
             [
              1.0,
              "#f0f921"
             ]
            ],
            "type": "histogram2d"
           }
          ],
          "histogram": [
           {
            "marker": {
             "pattern": {
              "fillmode": "overlay",
              "size": 10,
              "solidity": 0.2
             }
            },
            "type": "histogram"
           }
          ],
          "mesh3d": [
           {
            "colorbar": {
             "outlinewidth": 0,
             "ticks": ""
            },
            "type": "mesh3d"
           }
          ],
          "parcoords": [
           {
            "line": {
             "colorbar": {
              "outlinewidth": 0,
              "ticks": ""
             }
            },
            "type": "parcoords"
           }
          ],
          "pie": [
           {
            "automargin": true,
            "type": "pie"
           }
          ],
          "scatter3d": [
           {
            "line": {
             "colorbar": {
              "outlinewidth": 0,
              "ticks": ""
             }
            },
            "marker": {
             "colorbar": {
              "outlinewidth": 0,
              "ticks": ""
             }
            },
            "type": "scatter3d"
           }
          ],
          "scattercarpet": [
           {
            "marker": {
             "colorbar": {
              "outlinewidth": 0,
              "ticks": ""
             }
            },
            "type": "scattercarpet"
           }
          ],
          "scattergeo": [
           {
            "marker": {
             "colorbar": {
              "outlinewidth": 0,
              "ticks": ""
             }
            },
            "type": "scattergeo"
           }
          ],
          "scattergl": [
           {
            "marker": {
             "colorbar": {
              "outlinewidth": 0,
              "ticks": ""
             }
            },
            "type": "scattergl"
           }
          ],
          "scattermapbox": [
           {
            "marker": {
             "colorbar": {
              "outlinewidth": 0,
              "ticks": ""
             }
            },
            "type": "scattermapbox"
           }
          ],
          "scatterpolargl": [
           {
            "marker": {
             "colorbar": {
              "outlinewidth": 0,
              "ticks": ""
             }
            },
            "type": "scatterpolargl"
           }
          ],
          "scatterpolar": [
           {
            "marker": {
             "colorbar": {
              "outlinewidth": 0,
              "ticks": ""
             }
            },
            "type": "scatterpolar"
           }
          ],
          "scatter": [
           {
            "fillpattern": {
             "fillmode": "overlay",
             "size": 10,
             "solidity": 0.2
            },
            "type": "scatter"
           }
          ],
          "scatterternary": [
           {
            "marker": {
             "colorbar": {
              "outlinewidth": 0,
              "ticks": ""
             }
            },
            "type": "scatterternary"
           }
          ],
          "surface": [
           {
            "colorbar": {
             "outlinewidth": 0,
             "ticks": ""
            },
            "colorscale": [
             [
              0.0,
              "#0d0887"
             ],
             [
              0.1111111111111111,
              "#46039f"
             ],
             [
              0.2222222222222222,
              "#7201a8"
             ],
             [
              0.3333333333333333,
              "#9c179e"
             ],
             [
              0.4444444444444444,
              "#bd3786"
             ],
             [
              0.5555555555555556,
              "#d8576b"
             ],
             [
              0.6666666666666666,
              "#ed7953"
             ],
             [
              0.7777777777777778,
              "#fb9f3a"
             ],
             [
              0.8888888888888888,
              "#fdca26"
             ],
             [
              1.0,
              "#f0f921"
             ]
            ],
            "type": "surface"
           }
          ],
          "table": [
           {
            "cells": {
             "fill": {
              "color": "#EBF0F8"
             },
             "line": {
              "color": "white"
             }
            },
            "header": {
             "fill": {
              "color": "#C8D4E3"
             },
             "line": {
              "color": "white"
             }
            },
            "type": "table"
           }
          ]
         },
         "layout": {
          "annotationdefaults": {
           "arrowcolor": "#2a3f5f",
           "arrowhead": 0,
           "arrowwidth": 1
          },
          "autotypenumbers": "strict",
          "coloraxis": {
           "colorbar": {
            "outlinewidth": 0,
            "ticks": ""
           }
          },
          "colorscale": {
           "diverging": [
            [
             0,
             "#8e0152"
            ],
            [
             0.1,
             "#c51b7d"
            ],
            [
             0.2,
             "#de77ae"
            ],
            [
             0.3,
             "#f1b6da"
            ],
            [
             0.4,
             "#fde0ef"
            ],
            [
             0.5,
             "#f7f7f7"
            ],
            [
             0.6,
             "#e6f5d0"
            ],
            [
             0.7,
             "#b8e186"
            ],
            [
             0.8,
             "#7fbc41"
            ],
            [
             0.9,
             "#4d9221"
            ],
            [
             1,
             "#276419"
            ]
           ],
           "sequential": [
            [
             0.0,
             "#0d0887"
            ],
            [
             0.1111111111111111,
             "#46039f"
            ],
            [
             0.2222222222222222,
             "#7201a8"
            ],
            [
             0.3333333333333333,
             "#9c179e"
            ],
            [
             0.4444444444444444,
             "#bd3786"
            ],
            [
             0.5555555555555556,
             "#d8576b"
            ],
            [
             0.6666666666666666,
             "#ed7953"
            ],
            [
             0.7777777777777778,
             "#fb9f3a"
            ],
            [
             0.8888888888888888,
             "#fdca26"
            ],
            [
             1.0,
             "#f0f921"
            ]
           ],
           "sequentialminus": [
            [
             0.0,
             "#0d0887"
            ],
            [
             0.1111111111111111,
             "#46039f"
            ],
            [
             0.2222222222222222,
             "#7201a8"
            ],
            [
             0.3333333333333333,
             "#9c179e"
            ],
            [
             0.4444444444444444,
             "#bd3786"
            ],
            [
             0.5555555555555556,
             "#d8576b"
            ],
            [
             0.6666666666666666,
             "#ed7953"
            ],
            [
             0.7777777777777778,
             "#fb9f3a"
            ],
            [
             0.8888888888888888,
             "#fdca26"
            ],
            [
             1.0,
             "#f0f921"
            ]
           ]
          },
          "colorway": [
           "#636efa",
           "#EF553B",
           "#00cc96",
           "#ab63fa",
           "#FFA15A",
           "#19d3f3",
           "#FF6692",
           "#B6E880",
           "#FF97FF",
           "#FECB52"
          ],
          "font": {
           "color": "#2a3f5f"
          },
          "geo": {
           "bgcolor": "white",
           "lakecolor": "white",
           "landcolor": "#E5ECF6",
           "showlakes": true,
           "showland": true,
           "subunitcolor": "white"
          },
          "hoverlabel": {
           "align": "left"
          },
          "hovermode": "closest",
          "mapbox": {
           "style": "light"
          },
          "paper_bgcolor": "white",
          "plot_bgcolor": "#E5ECF6",
          "polar": {
           "angularaxis": {
            "gridcolor": "white",
            "linecolor": "white",
            "ticks": ""
           },
           "bgcolor": "#E5ECF6",
           "radialaxis": {
            "gridcolor": "white",
            "linecolor": "white",
            "ticks": ""
           }
          },
          "scene": {
           "xaxis": {
            "backgroundcolor": "#E5ECF6",
            "gridcolor": "white",
            "gridwidth": 2,
            "linecolor": "white",
            "showbackground": true,
            "ticks": "",
            "zerolinecolor": "white"
           },
           "yaxis": {
            "backgroundcolor": "#E5ECF6",
            "gridcolor": "white",
            "gridwidth": 2,
            "linecolor": "white",
            "showbackground": true,
            "ticks": "",
            "zerolinecolor": "white"
           },
           "zaxis": {
            "backgroundcolor": "#E5ECF6",
            "gridcolor": "white",
            "gridwidth": 2,
            "linecolor": "white",
            "showbackground": true,
            "ticks": "",
            "zerolinecolor": "white"
           }
          },
          "shapedefaults": {
           "line": {
            "color": "#2a3f5f"
           }
          },
          "ternary": {
           "aaxis": {
            "gridcolor": "white",
            "linecolor": "white",
            "ticks": ""
           },
           "baxis": {
            "gridcolor": "white",
            "linecolor": "white",
            "ticks": ""
           },
           "bgcolor": "#E5ECF6",
           "caxis": {
            "gridcolor": "white",
            "linecolor": "white",
            "ticks": ""
           }
          },
          "title": {
           "x": 0.05
          },
          "xaxis": {
           "automargin": true,
           "gridcolor": "white",
           "linecolor": "white",
           "ticks": "",
           "title": {
            "standoff": 15
           },
           "zerolinecolor": "white",
           "zerolinewidth": 2
          },
          "yaxis": {
           "automargin": true,
           "gridcolor": "white",
           "linecolor": "white",
           "ticks": "",
           "title": {
            "standoff": 15
           },
           "zerolinecolor": "white",
           "zerolinewidth": 2
          }
         }
        },
        "xaxis": {
         "anchor": "y",
         "domain": [
          0.0,
          0.45
         ]
        },
        "yaxis": {
         "anchor": "x",
         "domain": [
          0.0,
          1.0
         ]
        },
        "xaxis2": {
         "anchor": "y2",
         "domain": [
          0.55,
          1.0
         ]
        },
        "yaxis2": {
         "anchor": "x2",
         "domain": [
          0.0,
          1.0
         ]
        }
       },
       "config": {
        "showLink": false,
        "linkText": "Export to plot.ly",
        "plotlyServerURL": "https://plot.ly"
       }
      },
      "text/html": "<div>                            <div id=\"e190ad1b-4fd3-4987-941f-039367686c05\" class=\"plotly-graph-div\" style=\"height:350px; width:100%;\"></div>            <script type=\"text/javascript\">                require([\"plotly\"], function(Plotly) {                    window.PLOTLYENV=window.PLOTLYENV || {};                                    if (document.getElementById(\"e190ad1b-4fd3-4987-941f-039367686c05\")) {                    Plotly.newPlot(                        \"e190ad1b-4fd3-4987-941f-039367686c05\",                        [{\"marker\":{\"color\":\"#96D38C\"},\"name\":\"Target : 1\",\"x\":[\"Working\",\"Commercial associate\",\"Pensioner\",\"State servant\",\"Unemployed\",\"Maternity leave\"],\"xaxis\":\"x\",\"y\":[9.588471664126368,7.484256531270509,5.386366099490625,5.754964751416855,36.36363636363637,40.0],\"yaxis\":\"y\",\"type\":\"bar\"},{\"marker\":{\"color\":\"#FEBFB3\"},\"name\":\"Target : 0\",\"x\":[\"Working\",\"Commercial associate\",\"Pensioner\",\"State servant\",\"Student\",\"Unemployed\",\"Businessman\",\"Maternity leave\"],\"xaxis\":\"x2\",\"y\":[90.41152833587363,92.5157434687295,94.61363390050937,94.24503524858315,100.0,63.63636363636363,100.0,60.0],\"yaxis\":\"y2\",\"type\":\"bar\"}],                        {\"annotations\":[{\"font\":{\"size\":16},\"showarrow\":false,\"text\":\"Applicants Income Types when Target = 1\",\"x\":0.225,\"xanchor\":\"center\",\"xref\":\"paper\",\"y\":1.0,\"yanchor\":\"bottom\",\"yref\":\"paper\"},{\"font\":{\"size\":16},\"showarrow\":false,\"text\":\"Applicants Income Type When Target = 0\",\"x\":0.775,\"xanchor\":\"center\",\"xref\":\"paper\",\"y\":1.0,\"yanchor\":\"bottom\",\"yref\":\"paper\"}],\"height\":350,\"margin\":{\"l\":120},\"showlegend\":false,\"template\":{\"data\":{\"barpolar\":[{\"marker\":{\"line\":{\"color\":\"#E5ECF6\",\"width\":0.5},\"pattern\":{\"fillmode\":\"overlay\",\"size\":10,\"solidity\":0.2}},\"type\":\"barpolar\"}],\"bar\":[{\"error_x\":{\"color\":\"#2a3f5f\"},\"error_y\":{\"color\":\"#2a3f5f\"},\"marker\":{\"line\":{\"color\":\"#E5ECF6\",\"width\":0.5},\"pattern\":{\"fillmode\":\"overlay\",\"size\":10,\"solidity\":0.2}},\"type\":\"bar\"}],\"carpet\":[{\"aaxis\":{\"endlinecolor\":\"#2a3f5f\",\"gridcolor\":\"white\",\"linecolor\":\"white\",\"minorgridcolor\":\"white\",\"startlinecolor\":\"#2a3f5f\"},\"baxis\":{\"endlinecolor\":\"#2a3f5f\",\"gridcolor\":\"white\",\"linecolor\":\"white\",\"minorgridcolor\":\"white\",\"startlinecolor\":\"#2a3f5f\"},\"type\":\"carpet\"}],\"choropleth\":[{\"colorbar\":{\"outlinewidth\":0,\"ticks\":\"\"},\"type\":\"choropleth\"}],\"contourcarpet\":[{\"colorbar\":{\"outlinewidth\":0,\"ticks\":\"\"},\"type\":\"contourcarpet\"}],\"contour\":[{\"colorbar\":{\"outlinewidth\":0,\"ticks\":\"\"},\"colorscale\":[[0.0,\"#0d0887\"],[0.1111111111111111,\"#46039f\"],[0.2222222222222222,\"#7201a8\"],[0.3333333333333333,\"#9c179e\"],[0.4444444444444444,\"#bd3786\"],[0.5555555555555556,\"#d8576b\"],[0.6666666666666666,\"#ed7953\"],[0.7777777777777778,\"#fb9f3a\"],[0.8888888888888888,\"#fdca26\"],[1.0,\"#f0f921\"]],\"type\":\"contour\"}],\"heatmapgl\":[{\"colorbar\":{\"outlinewidth\":0,\"ticks\":\"\"},\"colorscale\":[[0.0,\"#0d0887\"],[0.1111111111111111,\"#46039f\"],[0.2222222222222222,\"#7201a8\"],[0.3333333333333333,\"#9c179e\"],[0.4444444444444444,\"#bd3786\"],[0.5555555555555556,\"#d8576b\"],[0.6666666666666666,\"#ed7953\"],[0.7777777777777778,\"#fb9f3a\"],[0.8888888888888888,\"#fdca26\"],[1.0,\"#f0f921\"]],\"type\":\"heatmapgl\"}],\"heatmap\":[{\"colorbar\":{\"outlinewidth\":0,\"ticks\":\"\"},\"colorscale\":[[0.0,\"#0d0887\"],[0.1111111111111111,\"#46039f\"],[0.2222222222222222,\"#7201a8\"],[0.3333333333333333,\"#9c179e\"],[0.4444444444444444,\"#bd3786\"],[0.5555555555555556,\"#d8576b\"],[0.6666666666666666,\"#ed7953\"],[0.7777777777777778,\"#fb9f3a\"],[0.8888888888888888,\"#fdca26\"],[1.0,\"#f0f921\"]],\"type\":\"heatmap\"}],\"histogram2dcontour\":[{\"colorbar\":{\"outlinewidth\":0,\"ticks\":\"\"},\"colorscale\":[[0.0,\"#0d0887\"],[0.1111111111111111,\"#46039f\"],[0.2222222222222222,\"#7201a8\"],[0.3333333333333333,\"#9c179e\"],[0.4444444444444444,\"#bd3786\"],[0.5555555555555556,\"#d8576b\"],[0.6666666666666666,\"#ed7953\"],[0.7777777777777778,\"#fb9f3a\"],[0.8888888888888888,\"#fdca26\"],[1.0,\"#f0f921\"]],\"type\":\"histogram2dcontour\"}],\"histogram2d\":[{\"colorbar\":{\"outlinewidth\":0,\"ticks\":\"\"},\"colorscale\":[[0.0,\"#0d0887\"],[0.1111111111111111,\"#46039f\"],[0.2222222222222222,\"#7201a8\"],[0.3333333333333333,\"#9c179e\"],[0.4444444444444444,\"#bd3786\"],[0.5555555555555556,\"#d8576b\"],[0.6666666666666666,\"#ed7953\"],[0.7777777777777778,\"#fb9f3a\"],[0.8888888888888888,\"#fdca26\"],[1.0,\"#f0f921\"]],\"type\":\"histogram2d\"}],\"histogram\":[{\"marker\":{\"pattern\":{\"fillmode\":\"overlay\",\"size\":10,\"solidity\":0.2}},\"type\":\"histogram\"}],\"mesh3d\":[{\"colorbar\":{\"outlinewidth\":0,\"ticks\":\"\"},\"type\":\"mesh3d\"}],\"parcoords\":[{\"line\":{\"colorbar\":{\"outlinewidth\":0,\"ticks\":\"\"}},\"type\":\"parcoords\"}],\"pie\":[{\"automargin\":true,\"type\":\"pie\"}],\"scatter3d\":[{\"line\":{\"colorbar\":{\"outlinewidth\":0,\"ticks\":\"\"}},\"marker\":{\"colorbar\":{\"outlinewidth\":0,\"ticks\":\"\"}},\"type\":\"scatter3d\"}],\"scattercarpet\":[{\"marker\":{\"colorbar\":{\"outlinewidth\":0,\"ticks\":\"\"}},\"type\":\"scattercarpet\"}],\"scattergeo\":[{\"marker\":{\"colorbar\":{\"outlinewidth\":0,\"ticks\":\"\"}},\"type\":\"scattergeo\"}],\"scattergl\":[{\"marker\":{\"colorbar\":{\"outlinewidth\":0,\"ticks\":\"\"}},\"type\":\"scattergl\"}],\"scattermapbox\":[{\"marker\":{\"colorbar\":{\"outlinewidth\":0,\"ticks\":\"\"}},\"type\":\"scattermapbox\"}],\"scatterpolargl\":[{\"marker\":{\"colorbar\":{\"outlinewidth\":0,\"ticks\":\"\"}},\"type\":\"scatterpolargl\"}],\"scatterpolar\":[{\"marker\":{\"colorbar\":{\"outlinewidth\":0,\"ticks\":\"\"}},\"type\":\"scatterpolar\"}],\"scatter\":[{\"fillpattern\":{\"fillmode\":\"overlay\",\"size\":10,\"solidity\":0.2},\"type\":\"scatter\"}],\"scatterternary\":[{\"marker\":{\"colorbar\":{\"outlinewidth\":0,\"ticks\":\"\"}},\"type\":\"scatterternary\"}],\"surface\":[{\"colorbar\":{\"outlinewidth\":0,\"ticks\":\"\"},\"colorscale\":[[0.0,\"#0d0887\"],[0.1111111111111111,\"#46039f\"],[0.2222222222222222,\"#7201a8\"],[0.3333333333333333,\"#9c179e\"],[0.4444444444444444,\"#bd3786\"],[0.5555555555555556,\"#d8576b\"],[0.6666666666666666,\"#ed7953\"],[0.7777777777777778,\"#fb9f3a\"],[0.8888888888888888,\"#fdca26\"],[1.0,\"#f0f921\"]],\"type\":\"surface\"}],\"table\":[{\"cells\":{\"fill\":{\"color\":\"#EBF0F8\"},\"line\":{\"color\":\"white\"}},\"header\":{\"fill\":{\"color\":\"#C8D4E3\"},\"line\":{\"color\":\"white\"}},\"type\":\"table\"}]},\"layout\":{\"annotationdefaults\":{\"arrowcolor\":\"#2a3f5f\",\"arrowhead\":0,\"arrowwidth\":1},\"autotypenumbers\":\"strict\",\"coloraxis\":{\"colorbar\":{\"outlinewidth\":0,\"ticks\":\"\"}},\"colorscale\":{\"diverging\":[[0,\"#8e0152\"],[0.1,\"#c51b7d\"],[0.2,\"#de77ae\"],[0.3,\"#f1b6da\"],[0.4,\"#fde0ef\"],[0.5,\"#f7f7f7\"],[0.6,\"#e6f5d0\"],[0.7,\"#b8e186\"],[0.8,\"#7fbc41\"],[0.9,\"#4d9221\"],[1,\"#276419\"]],\"sequential\":[[0.0,\"#0d0887\"],[0.1111111111111111,\"#46039f\"],[0.2222222222222222,\"#7201a8\"],[0.3333333333333333,\"#9c179e\"],[0.4444444444444444,\"#bd3786\"],[0.5555555555555556,\"#d8576b\"],[0.6666666666666666,\"#ed7953\"],[0.7777777777777778,\"#fb9f3a\"],[0.8888888888888888,\"#fdca26\"],[1.0,\"#f0f921\"]],\"sequentialminus\":[[0.0,\"#0d0887\"],[0.1111111111111111,\"#46039f\"],[0.2222222222222222,\"#7201a8\"],[0.3333333333333333,\"#9c179e\"],[0.4444444444444444,\"#bd3786\"],[0.5555555555555556,\"#d8576b\"],[0.6666666666666666,\"#ed7953\"],[0.7777777777777778,\"#fb9f3a\"],[0.8888888888888888,\"#fdca26\"],[1.0,\"#f0f921\"]]},\"colorway\":[\"#636efa\",\"#EF553B\",\"#00cc96\",\"#ab63fa\",\"#FFA15A\",\"#19d3f3\",\"#FF6692\",\"#B6E880\",\"#FF97FF\",\"#FECB52\"],\"font\":{\"color\":\"#2a3f5f\"},\"geo\":{\"bgcolor\":\"white\",\"lakecolor\":\"white\",\"landcolor\":\"#E5ECF6\",\"showlakes\":true,\"showland\":true,\"subunitcolor\":\"white\"},\"hoverlabel\":{\"align\":\"left\"},\"hovermode\":\"closest\",\"mapbox\":{\"style\":\"light\"},\"paper_bgcolor\":\"white\",\"plot_bgcolor\":\"#E5ECF6\",\"polar\":{\"angularaxis\":{\"gridcolor\":\"white\",\"linecolor\":\"white\",\"ticks\":\"\"},\"bgcolor\":\"#E5ECF6\",\"radialaxis\":{\"gridcolor\":\"white\",\"linecolor\":\"white\",\"ticks\":\"\"}},\"scene\":{\"xaxis\":{\"backgroundcolor\":\"#E5ECF6\",\"gridcolor\":\"white\",\"gridwidth\":2,\"linecolor\":\"white\",\"showbackground\":true,\"ticks\":\"\",\"zerolinecolor\":\"white\"},\"yaxis\":{\"backgroundcolor\":\"#E5ECF6\",\"gridcolor\":\"white\",\"gridwidth\":2,\"linecolor\":\"white\",\"showbackground\":true,\"ticks\":\"\",\"zerolinecolor\":\"white\"},\"zaxis\":{\"backgroundcolor\":\"#E5ECF6\",\"gridcolor\":\"white\",\"gridwidth\":2,\"linecolor\":\"white\",\"showbackground\":true,\"ticks\":\"\",\"zerolinecolor\":\"white\"}},\"shapedefaults\":{\"line\":{\"color\":\"#2a3f5f\"}},\"ternary\":{\"aaxis\":{\"gridcolor\":\"white\",\"linecolor\":\"white\",\"ticks\":\"\"},\"baxis\":{\"gridcolor\":\"white\",\"linecolor\":\"white\",\"ticks\":\"\"},\"bgcolor\":\"#E5ECF6\",\"caxis\":{\"gridcolor\":\"white\",\"linecolor\":\"white\",\"ticks\":\"\"}},\"title\":{\"x\":0.05},\"xaxis\":{\"automargin\":true,\"gridcolor\":\"white\",\"linecolor\":\"white\",\"ticks\":\"\",\"title\":{\"standoff\":15},\"zerolinecolor\":\"white\",\"zerolinewidth\":2},\"yaxis\":{\"automargin\":true,\"gridcolor\":\"white\",\"linecolor\":\"white\",\"ticks\":\"\",\"title\":{\"standoff\":15},\"zerolinecolor\":\"white\",\"zerolinewidth\":2}}},\"xaxis\":{\"anchor\":\"y\",\"domain\":[0.0,0.45]},\"yaxis\":{\"anchor\":\"x\",\"domain\":[0.0,1.0]},\"xaxis2\":{\"anchor\":\"y2\",\"domain\":[0.55,1.0]},\"yaxis2\":{\"anchor\":\"x2\",\"domain\":[0.0,1.0]}},                        {\"responsive\": true}                    ).then(function(){\n                            \nvar gd = document.getElementById('e190ad1b-4fd3-4987-941f-039367686c05');\nvar x = new MutationObserver(function (mutations, observer) {{\n        var display = window.getComputedStyle(gd).display;\n        if (!display || display === 'none') {{\n            console.log([gd, 'removed!']);\n            Plotly.purge(gd);\n            observer.disconnect();\n        }}\n}});\n\n// Listen for the removal of the full notebook cells\nvar notebookContainer = gd.closest('#notebook-container');\nif (notebookContainer) {{\n    x.observe(notebookContainer, {childList: true});\n}}\n\n// Listen for the clearing of the current output cell\nvar outputEl = gd.closest('.output');\nif (outputEl) {{\n    x.observe(outputEl, {childList: true});\n}}\n\n                        })                };                });            </script>        </div>"
     },
     "metadata": {},
     "output_type": "display_data"
    }
   ],
   "source": [
    "tr1, tr2 = gp('NAME_INCOME_TYPE', 'Applicants Income Types which repayed the loan')\n",
    "fig = tools.make_subplots(rows=1, cols=2, print_grid=False,\n",
    "                          subplot_titles = [\"Applicants Income Types when Target = 1\", \"Applicants Income Type When Target = 0\"])\n",
    "fig.append_trace(tr1, 1, 1)\n",
    "fig.append_trace(tr2, 1, 2)\n",
    "fig['layout'].update(height=350, showlegend=False, margin=dict(l=120))\n",
    "iplot(fig)"
   ]
  },
  {
   "cell_type": "code",
   "execution_count": 21,
   "outputs": [
    {
     "data": {
      "text/plain": "<Figure size 3600x360 with 1 Axes>",
      "image/png": "[encoded data removed]"
     },
     "metadata": {
      "needs_background": "light"
     },
     "output_type": "display_data"
    }
   ],
   "source": [
    "# Showing it this way since notebook in github is not showing these graphs.\n",
    "img2 = mpimg.imread('Income_type.JPG')\n",
    "plt.figure(figsize=(50,5))\n",
    "imgplot2 = plt.imshow(img2)"
   ],
   "metadata": {
    "collapsed": false,
    "pycharm": {
     "name": "#%%\n"
    }
   }
  },
  {
   "cell_type": "markdown",
   "id": "675b1ae3-c943-4737-bdb8-2ecff733b27b",
   "metadata": {
    "id": "675b1ae3-c943-4737-bdb8-2ecff733b27b"
   },
   "source": [
    "## Preprocessing"
   ]
  },
  {
   "cell_type": "markdown",
   "id": "51397c38-0204-454b-8fe6-011dc8c38418",
   "metadata": {
    "id": "51397c38-0204-454b-8fe6-011dc8c38418"
   },
   "source": [
    "In this section, you will code a function to make all the data pre processing for the dataset. What you have to deliver is a function that takes the train and test dataframes, processes all features, and returns the transformed data as numpy arrays ready to be used for training."
   ]
  },
  {
   "cell_type": "markdown",
   "id": "b72d36eb-3ae5-40b3-b9d2-48f6abdeb734",
   "metadata": {
    "id": "b72d36eb-3ae5-40b3-b9d2-48f6abdeb734"
   },
   "source": [
    "The function should perform these activities:\n",
    "\n",
    "- Correct outliers/anomalous values in numerical columns (hint: take a look at the DAYS_EMPLOYED column)\n",
    "- Impute values for all columns with missing data (use median as imputing value)\n",
    "- Encode categorical features:\n",
    "    - If feature has 2 categories encode using binary encoding\n",
    "    - More than 2 categories, use one hot encoding \n",
    "- Feature scaling\n",
    "\n",
    "Keep in mind that you could get different number of columns in train and test because some category could only be present in one of the dataframes, this could create more one hot encoded columns. You should align train and test to have the same number of columns"
   ]
  },
  {
   "cell_type": "code",
   "execution_count": 131,
   "outputs": [],
   "source": [
    "def equalize_train_test(train, test):\n",
    "    train['NAME_INCOME_TYPE'] = train['NAME_INCOME_TYPE'].replace(['Maternity leave'], 'Working')\n",
    "    # train['CODE_GENDER'] = train['CODE_GENDER'].replace(['XNA'], 'F')\n",
    "    train = train.replace(['XNA', 'XAP'], np.nan)\n",
    "    test = test.replace(['XNA', 'XAP'], np.nan)\n",
    "    train['DAYS_EMPLOYED'].replace(365243, np.nan, inplace = True)\n",
    "    test['DAYS_EMPLOYED'].replace(365243, np.nan, inplace = True)\n",
    "    train['NAME_FAMILY_STATUS'] = train['NAME_FAMILY_STATUS'].replace(['Unknown'], 'Married')\n",
    "    return train,test"
   ],
   "metadata": {
    "collapsed": false,
    "pycharm": {
     "name": "#%%\n"
    }
   }
  },
  {
   "cell_type": "code",
   "execution_count": 132,
   "outputs": [],
   "source": [
    "def get_numerical_bounds(train, categoricals, index, bound_mult=1.5):\n",
    "    df_numerical = pd.DataFrame()\n",
    "    df_numerical['column_name'] = train.columns\n",
    "    df_numerical['dtype'] = np.array(train.dtypes)\n",
    "    df_numerical = df_numerical[df_numerical['dtype'] != 'object']\n",
    "    df_numerical.reset_index(inplace=True, drop=True)\n",
    "\n",
    "    for i in range(len(df_numerical)):\n",
    "        df_numerical.loc[i, 'upper bound'] = np.quantile(train[df_numerical.loc[i, 'column_name']], 0.75) + iqr(\n",
    "            train[df_numerical.loc[i, 'column_name']]) * bound_mult\n",
    "        df_numerical.loc[i, 'lower bound'] = np.quantile(train[df_numerical.loc[i, 'column_name']], 0.25) - iqr(\n",
    "            train[df_numerical.loc[i, 'column_name']]) * bound_mult\n",
    "        df_numerical = df_numerical.fillna(0)\n",
    "\n",
    "    df_numerical = pd.merge(df_numerical, categoricals, on=['column_name'], how=\"outer\", indicator=True).query(\n",
    "        '_merge==\"left_only\"')\n",
    "    df_numerical = df_numerical[df_numerical['upper bound'] > 10]\n",
    "    df_numerical.drop(['dtype_y', 'n_uniques', '_merge'], axis=1, inplace=True)\n",
    "    df_numerical.set_index('column_name', inplace=True)\n",
    "    df_numerical.drop([index, 'HOUR_APPR_PROCESS_START'], axis=0, inplace=True)\n",
    "    return df_numerical"
   ],
   "metadata": {
    "collapsed": false,
    "pycharm": {
     "name": "#%%\n"
    }
   }
  },
  {
   "cell_type": "code",
   "execution_count": 133,
   "outputs": [],
   "source": [
    "def manage_outliers(df_numerical, train, outl_treatment='Filter'):\n",
    "    print(f\"Original DF Lenght: {len(train)}\")\n",
    "    for column in train:\n",
    "        if outl_treatment == 'Filter':\n",
    "            if column in list(df_numerical.index):\n",
    "                train = train[train[column] < df_numerical.loc[column, 'upper bound']]\n",
    "                train = train[train[column] > df_numerical.loc[column, 'lower bound']]\n",
    "        elif outl_treatment == 'Mean':\n",
    "            if column in list(df_numerical.index):\n",
    "                values_inside_range = train[column][(train[column] < df_numerical.loc[column, 'upper bound']) &\n",
    "                                            (train[column] > df_numerical.loc[column, 'lower bound'])]\n",
    "                mean_vir = float(values_inside_range.mean())\n",
    "                train[column][(train[column] > df_numerical.loc[column, 'upper bound']) &\n",
    "                                       (train[column] < df_numerical.loc[column, 'lower bound'])] = mean_vir\n",
    "        else:\n",
    "            break\n",
    "    print(f\"Post processing DF Lenght: {len(train)}\")\n",
    "    return train"
   ],
   "metadata": {
    "collapsed": false,
    "pycharm": {
     "name": "#%%\n"
    }
   }
  },
  {
   "cell_type": "code",
   "execution_count": 134,
   "outputs": [],
   "source": [
    "def imputing_values(train, test, categoricals, object_treatment='Mode'):\n",
    "    imp = SimpleImputer(missing_values=np.nan, strategy='median')\n",
    "\n",
    "    for column in train:\n",
    "        if train[column].dtypes != 'object':\n",
    "            train[column] = imp.fit_transform(train[column].values.reshape(-1, 1))\n",
    "            test[column] = imp.transform(test[column].values.reshape(-1, 1))\n",
    "\n",
    "    if object_treatment == 'Drop rows if nans':\n",
    "        for column in train:\n",
    "            if train[column].dtypes == 'object':\n",
    "                train = train.dropna(axis=0, how='any', subset=column)\n",
    "        return train, test, categoricals\n",
    "    elif object_treatment == 'Drop columns if nans':\n",
    "        for column in train:\n",
    "            if train[column].dtypes == 'object' and train[column].isna().any():\n",
    "                train = train.drop(column, axis=1)\n",
    "                categoricals = categoricals[categoricals.index != column]\n",
    "            if test[column].dtypes == 'object' and test[column].isna().any():\n",
    "                test = test.drop(column, axis=1)\n",
    "        train, test = train.align(test, join='inner', axis=1)\n",
    "        return train, test, categoricals\n",
    "    elif object_treatment == 'Mode':\n",
    "        imp2 = SimpleImputer(missing_values=np.nan, strategy='most_frequent')\n",
    "        for column in train:\n",
    "            if train[column].dtypes == 'object':\n",
    "                train[column] = imp2.fit_transform(train[column].values.reshape(-1, 1))\n",
    "                test[column] = imp2.transform(test[column].values.reshape(-1, 1))\n",
    "        return train, test, categoricals\n",
    "    else:\n",
    "        raise ValueError('Wrong parameter')"
   ],
   "metadata": {
    "collapsed": false,
    "pycharm": {
     "name": "#%%\n"
    }
   }
  },
  {
   "cell_type": "code",
   "execution_count": 135,
   "outputs": [],
   "source": [
    "def feature_encoding(train, test, categoricals):\n",
    "    lb = LabelBinarizer()\n",
    "    oh = OneHotEncoder(handle_unknown='ignore')\n",
    "    trindex = train.index\n",
    "    teindex = test.index\n",
    "    for column_name in list(categoricals.index):\n",
    "        try:\n",
    "            if categoricals.loc[column_name, 'n_uniques'] <= 2:\n",
    "                train[column_name] = lb.fit_transform(train[column_name])\n",
    "                test[column_name] = lb.transform(test[column_name])\n",
    "            elif categoricals.loc[column_name, 'n_uniques'] > 2:\n",
    "                # Train Set --------------------------------------------------------------------------------------------\n",
    "                train_encoded = pd.DataFrame(oh.fit_transform(train[[column_name]]).toarray(), index=trindex)\n",
    "                train_encoded.columns = oh.get_feature_names_out([column_name])\n",
    "                train_encoded.columns = train_encoded.columns.str.replace(column_name + '_', '')\n",
    "                # Test Set ---------------------------------------------------------------------------------------------\n",
    "                test_encoded = pd.DataFrame(oh.transform(test[[column_name]]).toarray(), index=teindex)\n",
    "                test_encoded.columns = oh.get_feature_names_out([column_name])\n",
    "                test_encoded.columns = test_encoded.columns.str.replace(column_name + '_', '')\n",
    "                train, test = train.drop(column_name, axis=1), test.drop(column_name, axis=1)\n",
    "                train, test = pd.concat([train, train_encoded], axis=1), pd.concat([test, test_encoded], axis=1)\n",
    "            else:\n",
    "                pass\n",
    "        except:\n",
    "            pass\n",
    "    return train, test"
   ],
   "metadata": {
    "collapsed": false,
    "pycharm": {
     "name": "#%%\n"
    }
   }
  },
  {
   "cell_type": "code",
   "execution_count": 136,
   "outputs": [],
   "source": [
    "# Function to Scale only numerical features from a given dataset, using a given Scaling method.\n",
    "def numerical_scaler(train, test, scaling_method):\n",
    "    columns_drop_list = []\n",
    "    trindex = train.index\n",
    "    teindex = test.index\n",
    "    for column in train:\n",
    "        print(column)\n",
    "        if train[column].dtypes in ['float', 'float64', 'int64']:\n",
    "            pass\n",
    "        else:\n",
    "            columns_drop_list.append(column)\n",
    "\n",
    "    columns_drop_list.append('TARGET') # IF MINMAXSCALER, COMMENT. #####################################################\n",
    "    train_numeric = train.drop(columns_drop_list, axis=1)\n",
    "    test_numeric = test.drop(columns_drop_list, axis=1)\n",
    "    train_numeric_columns = train_numeric.columns\n",
    "    test_numeric_columns = test_numeric.columns\n",
    "    scaler = scaling_method\n",
    "    train_numeric = pd.DataFrame(scaler.fit_transform(train_numeric), columns=train_numeric_columns, index=trindex)\n",
    "    test_numeric = pd.DataFrame(scaler.transform(test_numeric), columns=test_numeric_columns, index=teindex)\n",
    "    train, test = (pd.concat([train[columns_drop_list], train_numeric], axis=1),\n",
    "                   pd.concat([test[columns_drop_list], test_numeric], axis=1))\n",
    "    return train, test"
   ],
   "metadata": {
    "collapsed": false,
    "pycharm": {
     "name": "#%%\n"
    }
   }
  },
  {
   "cell_type": "code",
   "execution_count": 137,
   "outputs": [],
   "source": [
    "# Manual align between Dfs.\n",
    "def train_test_column_dif(train:pd.DataFrame, test:pd.DataFrame):\n",
    "    columns_train = list(train.columns)\n",
    "    columns_test = list(test.columns)\n",
    "\n",
    "    for column in columns_train:\n",
    "        if column not in columns_test:\n",
    "            test[column] = np.zeros(len(test))\n",
    "\n",
    "    for column in columns_test:\n",
    "        if column not in columns_train:\n",
    "            train[column] = np.zeros(len(train))\n",
    "    return train, test"
   ],
   "metadata": {
    "collapsed": false,
    "pycharm": {
     "name": "#%%\n"
    }
   }
  },
  {
   "cell_type": "code",
   "execution_count": 138,
   "id": "27bfc706-a0ab-4711-9bb1-4fa77a6993d3",
   "metadata": {
    "id": "27bfc706-a0ab-4711-9bb1-4fa77a6993d3"
   },
   "outputs": [],
   "source": [
    "def preprocessing(train: pd.DataFrame, test, index: str):\n",
    "    train, test = equalize_train_test(train, test)\n",
    "    categoricals = get_categoricals(train, criteria='Objects')                                                          # 'Int and narrowed objects' / 'Objects' / 'Only narrow objects'\n",
    "    df_numerical = get_numerical_bounds(train, categoricals, index, bound_mult=1)                                       # Any\n",
    "    train = manage_outliers(df_numerical, train, outl_treatment='Filter')                                               # None(only 365243) / Filter / Mean\n",
    "    train, test, categoricals = imputing_values(train, test, categoricals, object_treatment='Mode')                     # Drop rows if nans / Drop columns if nans / Mode\n",
    "    train, test = feature_encoding(train, test, categoricals)\n",
    "    # ============================================\n",
    "    train[index], test[index] = train[index].astype('int64'), test[index].astype('int64')\n",
    "    train.set_index(index, inplace=True)\n",
    "    test.set_index(index, inplace=True)\n",
    "    # ============================================\n",
    "    train, test = numerical_scaler(train, test, StandardScaler())                                                       # MinMaxScaler() / StandardScaler()\n",
    "    train, test = train.select_dtypes(exclude=['object']), test.select_dtypes(exclude=['object'])\n",
    "    train, test = train_test_column_dif(train, test)\n",
    "    return train, test"
   ]
  },
  {
   "cell_type": "code",
   "execution_count": 139,
   "outputs": [
    {
     "name": "stdout",
     "output_type": "stream",
     "text": [
      "Original DF Lenght: 307511\n",
      "Post processing DF Lenght: 264248\n",
      "TARGET\n",
      "NAME_CONTRACT_TYPE\n",
      "CODE_GENDER\n",
      "FLAG_OWN_CAR\n",
      "FLAG_OWN_REALTY\n",
      "CNT_CHILDREN\n",
      "AMT_INCOME_TOTAL\n",
      "AMT_CREDIT\n",
      "AMT_ANNUITY\n",
      "AMT_GOODS_PRICE\n",
      "REGION_POPULATION_RELATIVE\n",
      "DAYS_BIRTH\n",
      "DAYS_EMPLOYED\n",
      "DAYS_REGISTRATION\n",
      "DAYS_ID_PUBLISH\n",
      "OWN_CAR_AGE\n",
      "FLAG_MOBIL\n",
      "FLAG_EMP_PHONE\n",
      "FLAG_WORK_PHONE\n",
      "FLAG_CONT_MOBILE\n",
      "FLAG_PHONE\n",
      "FLAG_EMAIL\n",
      "CNT_FAM_MEMBERS\n",
      "REGION_RATING_CLIENT\n",
      "REGION_RATING_CLIENT_W_CITY\n",
      "HOUR_APPR_PROCESS_START\n",
      "REG_REGION_NOT_LIVE_REGION\n",
      "REG_REGION_NOT_WORK_REGION\n",
      "LIVE_REGION_NOT_WORK_REGION\n",
      "REG_CITY_NOT_LIVE_CITY\n",
      "REG_CITY_NOT_WORK_CITY\n",
      "LIVE_CITY_NOT_WORK_CITY\n",
      "EXT_SOURCE_1\n",
      "EXT_SOURCE_2\n",
      "EXT_SOURCE_3\n",
      "APARTMENTS_AVG\n",
      "BASEMENTAREA_AVG\n",
      "YEARS_BEGINEXPLUATATION_AVG\n",
      "YEARS_BUILD_AVG\n",
      "COMMONAREA_AVG\n",
      "ELEVATORS_AVG\n",
      "ENTRANCES_AVG\n",
      "FLOORSMAX_AVG\n",
      "FLOORSMIN_AVG\n",
      "LANDAREA_AVG\n",
      "LIVINGAPARTMENTS_AVG\n",
      "LIVINGAREA_AVG\n",
      "NONLIVINGAPARTMENTS_AVG\n",
      "NONLIVINGAREA_AVG\n",
      "APARTMENTS_MODE\n",
      "BASEMENTAREA_MODE\n",
      "YEARS_BEGINEXPLUATATION_MODE\n",
      "YEARS_BUILD_MODE\n",
      "COMMONAREA_MODE\n",
      "ELEVATORS_MODE\n",
      "ENTRANCES_MODE\n",
      "FLOORSMAX_MODE\n",
      "FLOORSMIN_MODE\n",
      "LANDAREA_MODE\n",
      "LIVINGAPARTMENTS_MODE\n",
      "LIVINGAREA_MODE\n",
      "NONLIVINGAPARTMENTS_MODE\n",
      "NONLIVINGAREA_MODE\n",
      "APARTMENTS_MEDI\n",
      "BASEMENTAREA_MEDI\n",
      "YEARS_BEGINEXPLUATATION_MEDI\n",
      "YEARS_BUILD_MEDI\n",
      "COMMONAREA_MEDI\n",
      "ELEVATORS_MEDI\n",
      "ENTRANCES_MEDI\n",
      "FLOORSMAX_MEDI\n",
      "FLOORSMIN_MEDI\n",
      "LANDAREA_MEDI\n",
      "LIVINGAPARTMENTS_MEDI\n",
      "LIVINGAREA_MEDI\n",
      "NONLIVINGAPARTMENTS_MEDI\n",
      "NONLIVINGAREA_MEDI\n",
      "TOTALAREA_MODE\n",
      "EMERGENCYSTATE_MODE\n",
      "OBS_30_CNT_SOCIAL_CIRCLE\n",
      "DEF_30_CNT_SOCIAL_CIRCLE\n",
      "OBS_60_CNT_SOCIAL_CIRCLE\n",
      "DEF_60_CNT_SOCIAL_CIRCLE\n",
      "DAYS_LAST_PHONE_CHANGE\n",
      "FLAG_DOCUMENT_2\n",
      "FLAG_DOCUMENT_3\n",
      "FLAG_DOCUMENT_4\n",
      "FLAG_DOCUMENT_5\n",
      "FLAG_DOCUMENT_6\n",
      "FLAG_DOCUMENT_7\n",
      "FLAG_DOCUMENT_8\n",
      "FLAG_DOCUMENT_9\n",
      "FLAG_DOCUMENT_10\n",
      "FLAG_DOCUMENT_11\n",
      "FLAG_DOCUMENT_12\n",
      "FLAG_DOCUMENT_13\n",
      "FLAG_DOCUMENT_14\n",
      "FLAG_DOCUMENT_15\n",
      "FLAG_DOCUMENT_16\n",
      "FLAG_DOCUMENT_17\n",
      "FLAG_DOCUMENT_18\n",
      "FLAG_DOCUMENT_19\n",
      "FLAG_DOCUMENT_20\n",
      "FLAG_DOCUMENT_21\n",
      "AMT_REQ_CREDIT_BUREAU_HOUR\n",
      "AMT_REQ_CREDIT_BUREAU_DAY\n",
      "AMT_REQ_CREDIT_BUREAU_WEEK\n",
      "AMT_REQ_CREDIT_BUREAU_MON\n",
      "AMT_REQ_CREDIT_BUREAU_QRT\n",
      "AMT_REQ_CREDIT_BUREAU_YEAR\n",
      "Children\n",
      "Family\n",
      "Group of people\n",
      "Other_A\n",
      "Other_B\n",
      "Spouse, partner\n",
      "Unaccompanied\n",
      "Businessman\n",
      "Commercial associate\n",
      "Pensioner\n",
      "State servant\n",
      "Student\n",
      "Unemployed\n",
      "Working\n",
      "Academic degree\n",
      "Higher education\n",
      "Incomplete higher\n",
      "Lower secondary\n",
      "Secondary / secondary special\n",
      "Civil marriage\n",
      "Married\n",
      "Separated\n",
      "Single / not married\n",
      "Widow\n",
      "Co-op apartment\n",
      "House / apartment\n",
      "Municipal apartment\n",
      "Office apartment\n",
      "Rented apartment\n",
      "With parents\n",
      "Accountants\n",
      "Cleaning staff\n",
      "Cooking staff\n",
      "Core staff\n",
      "Drivers\n",
      "HR staff\n",
      "High skill tech staff\n",
      "IT staff\n",
      "Laborers\n",
      "Low-skill Laborers\n",
      "Managers\n",
      "Medicine staff\n",
      "Private service staff\n",
      "Realty agents\n",
      "Sales staff\n",
      "Secretaries\n",
      "Security staff\n",
      "Waiters/barmen staff\n",
      "FRIDAY\n",
      "MONDAY\n",
      "SATURDAY\n",
      "SUNDAY\n",
      "THURSDAY\n",
      "TUESDAY\n",
      "WEDNESDAY\n",
      "Advertising\n",
      "Agriculture\n",
      "Bank\n",
      "Business Entity Type 1\n",
      "Business Entity Type 2\n",
      "Business Entity Type 3\n",
      "Cleaning\n",
      "Construction\n",
      "Culture\n",
      "Electricity\n",
      "Emergency\n",
      "Government\n",
      "Hotel\n",
      "Housing\n",
      "Industry: type 1\n",
      "Industry: type 10\n",
      "Industry: type 11\n",
      "Industry: type 12\n",
      "Industry: type 13\n",
      "Industry: type 2\n",
      "Industry: type 3\n",
      "Industry: type 4\n",
      "Industry: type 5\n",
      "Industry: type 6\n",
      "Industry: type 7\n",
      "Industry: type 8\n",
      "Industry: type 9\n",
      "Insurance\n",
      "Kindergarten\n",
      "Legal Services\n",
      "Medicine\n",
      "Military\n",
      "Mobile\n",
      "Other\n",
      "Police\n",
      "Postal\n",
      "Realtor\n",
      "Religion\n",
      "Restaurant\n",
      "School\n",
      "Security\n",
      "Security Ministries\n",
      "Self-employed\n",
      "Services\n",
      "Telecom\n",
      "Trade: type 1\n",
      "Trade: type 2\n",
      "Trade: type 3\n",
      "Trade: type 4\n",
      "Trade: type 5\n",
      "Trade: type 6\n",
      "Trade: type 7\n",
      "Transport: type 1\n",
      "Transport: type 2\n",
      "Transport: type 3\n",
      "Transport: type 4\n",
      "University\n",
      "not specified\n",
      "org spec account\n",
      "reg oper account\n",
      "reg oper spec account\n",
      "block of flats\n",
      "specific housing\n",
      "terraced house\n",
      "Block\n",
      "Mixed\n",
      "Monolithic\n",
      "Others\n",
      "Panel\n",
      "Stone, brick\n",
      "Wooden\n"
     ]
    }
   ],
   "source": [
    "application_train, application_test = preprocessing(application_train, application_test, 'SK_ID_CURR')"
   ],
   "metadata": {
    "collapsed": false,
    "pycharm": {
     "name": "#%%\n"
    }
   }
  },
  {
   "cell_type": "code",
   "execution_count": 140,
   "outputs": [],
   "source": [
    "X_train = application_train.drop('TARGET', axis=1)\n",
    "y_train = application_train['TARGET'].copy()\n",
    "ytrainhead = y_train.head()\n",
    "X_test = application_test.drop('TARGET', axis=1)"
   ],
   "metadata": {
    "collapsed": false,
    "pycharm": {
     "name": "#%%\n"
    }
   }
  },
  {
   "cell_type": "markdown",
   "id": "2f5df1e8-1f03-4f14-9dbd-292d3b84859d",
   "metadata": {
    "id": "2f5df1e8-1f03-4f14-9dbd-292d3b84859d"
   },
   "source": [
    "## Training Models"
   ]
  },
  {
   "cell_type": "markdown",
   "id": "83062f02-7157-4083-b57b-78fbc95fe39b",
   "metadata": {
    "id": "83062f02-7157-4083-b57b-78fbc95fe39b"
   },
   "source": [
    "As usual, you will start training simple models and will progressively move to more complex models and pipelines."
   ]
  },
  {
   "cell_type": "markdown",
   "id": "7e99a786-a17e-4caa-9ac7-48fced40fa71",
   "metadata": {
    "id": "7e99a786-a17e-4caa-9ac7-48fced40fa71"
   },
   "source": [
    "### Baseline: LogisticRegression"
   ]
  },
  {
   "cell_type": "markdown",
   "id": "91e10796-6d86-4fce-8738-4b9c4fbbf359",
   "metadata": {
    "id": "91e10796-6d86-4fce-8738-4b9c4fbbf359"
   },
   "source": [
    "1- Import LogisticRegression from sklearn and train a model using the preprocesed train data from the previous section, and just default parameters. If you receive a warning because the algorithm failed to converge, try increasing the number of iterations or decreasing the C parameter "
   ]
  },
  {
   "cell_type": "code",
   "execution_count": 141,
   "outputs": [
    {
     "data": {
      "text/plain": "\"\\n**N° 15 Try:\\n**Even though with 0.5 bounds the result is slightly better I think there's way more risk of overfitting, and it is not worth it.**\\nCategoricals (encoding related): Objects\\nBounds: 1\\nOutlier treatment: Filter\\nNan object treatment: Mode\\nScaler: StandardScaler\\n\\n**Result: 0.73472\\n\""
     },
     "execution_count": 141,
     "metadata": {},
     "output_type": "execute_result"
    }
   ],
   "source": [
    "\"\"\"\n",
    "**N° 1 Try:\n",
    "\n",
    "Categoricals (encoding related): Int and narrowed objects\n",
    "Bounds: 1.5\n",
    "Outlier treatment: None\n",
    "Nan object treatment: Mode\n",
    "Scaler: MinMaxScaler\n",
    "\n",
    "**Result: 0.73113\n",
    "=====================================================================================\n",
    "=====================================================================================\n",
    "**N° 2 Try:\n",
    "\n",
    "Categoricals (encoding related): Objects\n",
    "Bounds: 1.5\n",
    "Outlier treatment: None\n",
    "Nan object treatment: Mode\n",
    "Scaler: StandardScaler\n",
    "\n",
    "**Result: 0.73385\n",
    "=====================================================================================\n",
    "=====================================================================================\n",
    "**N° 3 Try:\n",
    "\n",
    "Categoricals (encoding related): Objects\n",
    "Bounds: 1.5\n",
    "Outlier treatment: None\n",
    "Nan object treatment: Mode\n",
    "Scaler: MinMaxScaler\n",
    "\n",
    "**Result: 0.73038\n",
    "=====================================================================================\n",
    "=====================================================================================\n",
    "**N° 4 Try:\n",
    "\n",
    "Categoricals (encoding related): Only narrow objects\n",
    "Bounds: 1.5\n",
    "Outlier treatment: None\n",
    "Nan object treatment: Mode\n",
    "Scaler: StandardScaler\n",
    "\n",
    "**Result: 0.73197\n",
    "=====================================================================================\n",
    "=====================================================================================\n",
    "**N° 5 Try:\n",
    "\n",
    "Categoricals (encoding related): Objects\n",
    "Bounds: 1.5\n",
    "Outlier treatment: Filter\n",
    "Nan object treatment: Mode\n",
    "Scaler: StandardScaler\n",
    "\n",
    "**Result: 0.73434\n",
    "=====================================================================================\n",
    "=====================================================================================\n",
    "**N° 6 Try:\n",
    "\n",
    "Categoricals (encoding related): Objects\n",
    "Bounds: 2\n",
    "Outlier treatment: Filter\n",
    "Nan object treatment: Mode\n",
    "Scaler: StandardScaler\n",
    "\n",
    "**Result: 0.73426\n",
    "=====================================================================================\n",
    "=====================================================================================\n",
    "**N° 7 Try:\n",
    "\n",
    "Categoricals (encoding related): Objects\n",
    "Bounds: 1\n",
    "Outlier treatment: Filter\n",
    "Nan object treatment: Mode\n",
    "Scaler: StandardScaler\n",
    "\n",
    "**Result: 0.73472\n",
    "=====================================================================================\n",
    "=====================================================================================\n",
    "**N° 8 Try:\n",
    "**Even though with 0.5 bounds the result is slightly better I think there's way more risk of overfitting, and it is not worth it.**\n",
    "\n",
    "Categoricals (encoding related): Objects\n",
    "Bounds: 0.5\n",
    "Outlier treatment: Filter\n",
    "Nan object treatment: Mode\n",
    "Scaler: StandardScaler\n",
    "\n",
    "**Result: 0.73478\n",
    "=====================================================================================\n",
    "=====================================================================================\n",
    "**N° 9 Try:\n",
    "Categoricals (encoding related): Objects\n",
    "Bounds: 1\n",
    "Outlier treatment: Mean\n",
    "Nan object treatment: Mode\n",
    "Scaler: StandardScaler\n",
    "\n",
    "**Result: 0.73385\n",
    "=====================================================================================\n",
    "=====================================================================================\n",
    "**N° 10 Try:\n",
    "Categoricals (encoding related): Objects\n",
    "Bounds: 1\n",
    "Outlier treatment: Filter\n",
    "Nan object treatment: Drop rows if nans\n",
    "Scaler: StandardScaler\n",
    "\n",
    "**Result: 0.61486\n",
    "=====================================================================================\n",
    "=====================================================================================\n",
    "**N° 12 Try:\n",
    "Categoricals (encoding related): Objects\n",
    "Bounds: 2.5\n",
    "Outlier treatment: Mean\n",
    "Nan object treatment: Drop rows if nans\n",
    "Scaler: StandardScaler\n",
    "\n",
    "**Result: 0.61212\n",
    "=====================================================================================\n",
    "=====================================================================================\n",
    "**N° 13 Try:\n",
    "Categoricals (encoding related): Objects\n",
    "Bounds: 1\n",
    "Outlier treatment: Filter\n",
    "Nan object treatment: Drop columns if nans\n",
    "Scaler: StandardScaler\n",
    "\n",
    "**Result: 0.72924\n",
    "=====================================================================================\n",
    "=====================================================================================\n",
    "**N° 14 Try:\n",
    "Categoricals (encoding related): Objects\n",
    "Bounds: 2\n",
    "Outlier treatment: Mean\n",
    "Nan object treatment: Drop columns if nans\n",
    "Scaler: StandardScaler\n",
    "\n",
    "**Result: 0.72880\n",
    "=====================================================================================\n",
    "=====================================================================================\n",
    "**N° 15 Try:\n",
    "**Even though with 0.5 bounds the result is slightly better I think there's way more risk of overfitting, and it is not worth it.**\n",
    "Categoricals (encoding related): Objects\n",
    "Bounds: 1\n",
    "Outlier treatment: Filter\n",
    "Nan object treatment: Mode\n",
    "Scaler: StandardScaler\n",
    "\n",
    "**Result: 0.73472\n",
    "\"\"\""
   ],
   "metadata": {
    "collapsed": false,
    "pycharm": {
     "name": "#%%\n"
    }
   }
  },
  {
   "cell_type": "code",
   "execution_count": 142,
   "id": "e1285054-4ea6-4bdb-9477-e774fc3d04c5",
   "metadata": {
    "id": "e1285054-4ea6-4bdb-9477-e774fc3d04c5"
   },
   "outputs": [
    {
     "data": {
      "text/plain": "LogisticRegression(C=0.1, random_state=42)"
     },
     "execution_count": 142,
     "metadata": {},
     "output_type": "execute_result"
    }
   ],
   "source": [
    "# Logistic Regressor - Default\n",
    "lr = LogisticRegression(C=0.1, random_state=42)\n",
    "lr.fit(X_train, y_train)"
   ]
  },
  {
   "cell_type": "markdown",
   "id": "018d5c7e-012f-47cc-8bfc-0332de907ae9",
   "metadata": {
    "id": "018d5c7e-012f-47cc-8bfc-0332de907ae9"
   },
   "source": [
    "2- Use the trained model to predict probabilites for the test data, and then save the results to a csv in the format expected in the competition: a SK_ID_CURR column and a TARGET column with probabilities. REMEMBER: the TARGET columns should ONLY contain the probabilities that the debt is not repaid (equivalent to the class 1)."
   ]
  },
  {
   "cell_type": "code",
   "execution_count": 143,
   "id": "798ae69b-1fe2-458d-9de7-3e1ed70b9b02",
   "metadata": {
    "id": "798ae69b-1fe2-458d-9de7-3e1ed70b9b02"
   },
   "outputs": [],
   "source": [
    "predict_proba = lr.predict_proba(X_test)[:, 1]\n",
    "predictions_df = pd.DataFrame({'SK_ID_CURR':X_test.index, 'TARGET':predict_proba})\n",
    "predictions_df.to_csv('predictions_df.csv', index=False)\n",
    "\n",
    "# Private Score: 0.73472"
   ]
  },
  {
   "cell_type": "markdown",
   "id": "b0826305-4900-4ba1-bf25-48205be980c6",
   "metadata": {
    "id": "b0826305-4900-4ba1-bf25-48205be980c6"
   },
   "source": [
    "3- Go to the Kaggle competition, and in the [submissions page](https://www.kaggle.com/competitions/home-credit-default-risk/submit) load your csv file. Report here the result in the private score you obtained."
   ]
  },
  {
   "cell_type": "code",
   "execution_count": 148,
   "outputs": [
    {
     "name": "stdout",
     "output_type": "stream",
     "text": [
      "Successfully submitted to Home Credit Default Risk\n"
     ]
    }
   ],
   "source": [
    "!kaggle competitions submit -c home-credit-default-risk -f predictions_df.csv -m \"\" -q\n",
    "!kaggle competitions submissions -v home-credit-default-risk > submissions.csv"
   ],
   "metadata": {
    "collapsed": false,
    "pycharm": {
     "name": "#%%\n"
    }
   }
  },
  {
   "cell_type": "code",
   "execution_count": 155,
   "outputs": [
    {
     "name": "stdout",
     "output_type": "stream",
     "text": [
      "              fileName  privateScore\n",
      "0   predictions_df.csv       0.73472\n",
      "4   predictions_df.csv       0.73472\n",
      "5   predictions_df.csv       0.72880\n",
      "6   predictions_df.csv       0.72924\n",
      "7   predictions_df.csv       0.61212\n",
      "8   predictions_df.csv       0.61486\n",
      "9   predictions_df.csv       0.73385\n",
      "10  predictions_df.csv       0.73385\n",
      "11  predictions_df.csv       0.73385\n",
      "12  predictions_df.csv       0.73468\n",
      "13  predictions_df.csv       0.73478\n",
      "14  predictions_df.csv       0.73472\n",
      "15  predictions_df.csv       0.73426\n",
      "16  predictions_df.csv       0.73434\n",
      "17  predictions_df.csv       0.73197\n",
      "18  predictions_df.csv       0.73038\n",
      "19  predictions_df.csv       0.73385\n",
      "20  predictions_df.csv       0.73113\n",
      "21  predictions_df.csv       0.67325\n",
      "22  predictions_df.csv       0.67325\n",
      "23  predictions_df.csv       0.63049\n",
      "24  predictions_df.csv       0.59970\n",
      "25  predictions_df.csv       0.65850\n",
      "26  predictions_df.csv       0.65145\n",
      "27  predictions_df.csv       0.64362\n",
      "28  predictions_df.csv       0.64389\n",
      "29  predictions_df.csv       0.64389\n",
      "30  predictions_df.csv       0.63896\n",
      "31  predictions_df.csv       0.60789\n",
      "32  predictions_df.csv       0.63181\n",
      "33  predictions_df.csv       0.63112\n",
      "34  predictions_df.csv       0.63816\n",
      "35  predictions_df.csv       0.63816\n",
      "36  predictions_df.csv       0.63112\n",
      "37  predictions_df.csv       0.63112\n",
      "38  predictions_df.csv       0.62155\n",
      "39  predictions_df.csv           NaN\n",
      "40  predictions_df.csv       0.63181\n",
      "41  predictions_df.csv       0.63167\n",
      "42  predictions_df.csv       0.62874\n",
      "43  predictions_df.csv       0.63168\n",
      "44  predictions_df.csv       0.63007\n",
      "45  predictions_df.csv       0.63055\n",
      "46  predictions_df.csv       0.62874\n",
      "47  predictions_df.csv       0.62874\n",
      "48  predictions_df.csv       0.63025\n",
      "49  predictions_df.csv       0.63181\n"
     ]
    }
   ],
   "source": [
    "submissions = pd.read_csv(\"submissions.csv\")\n",
    "print(submissions.loc[submissions.fileName =='predictions_df.csv'][['fileName','privateScore']])"
   ],
   "metadata": {
    "collapsed": false,
    "pycharm": {
     "name": "#%%\n"
    }
   }
  },
  {
   "cell_type": "markdown",
   "id": "4d889582-0c21-4789-acac-4d58f8eb74d9",
   "metadata": {
    "id": "4d889582-0c21-4789-acac-4d58f8eb74d9"
   },
   "source": [
    "At this point, the model should produce a result around 0.67 "
   ]
  },
  {
   "cell_type": "markdown",
   "id": "8f8300cc-d8be-4303-9042-757cb9e15d3e",
   "metadata": {
    "id": "8f8300cc-d8be-4303-9042-757cb9e15d3e"
   },
   "source": [
    "### Training a Random Forest Classifier "
   ]
  },
  {
   "cell_type": "markdown",
   "id": "05280b49-11af-4fe6-9236-95f31fb5e0d5",
   "metadata": {
    "id": "05280b49-11af-4fe6-9236-95f31fb5e0d5"
   },
   "source": [
    "You're gonna start working in more complex models: ensambles, particularly, you're going to use the Random Forest Classifier from Scikit Learn. "
   ]
  },
  {
   "cell_type": "markdown",
   "id": "0efdfd67-ec68-49b3-8727-7ab9784b5e54",
   "metadata": {
    "id": "0efdfd67-ec68-49b3-8727-7ab9784b5e54"
   },
   "source": [
    "1- Train a RandomForestClassifier, print the time taken by the fit function. Just use default hyperparameters, except for n_jobs, which should be set to \"-1\" to allow the library to use all CPU cores to speed up training time."
   ]
  },
  {
   "cell_type": "code",
   "execution_count": 152,
   "outputs": [],
   "source": [
    "def search_best_hyperparameters(search_method, train, train_targets, model, param_grid, cv=3, n_iter=None, scoring=None):\n",
    "    # param_grid = [{str(key): value for key, value in kwargs.items()}]\n",
    "    search = search_method(model, param_grid, cv=cv, n_iter=n_iter, scoring=scoring, return_train_score=True)\n",
    "    search.fit(train, train_targets.ravel())\n",
    "\n",
    "    best_params = search.best_params_\n",
    "    best_params.update({'random_state': 42})\n",
    "    best_score = search.best_score_\n",
    "    results = search.cv_results_\n",
    "\n",
    "    return best_params, best_score, results"
   ],
   "metadata": {
    "collapsed": false,
    "pycharm": {
     "name": "#%%\n"
    }
   }
  },
  {
   "cell_type": "code",
   "execution_count": 153,
   "outputs": [],
   "source": [
    "def tuned_model_evaluation(X_train, y_train, X_test, model, params:dict):\n",
    "    tuned_model = model(**{key:value for key, value in params.items()})\n",
    "    tuned_model.fit(X_train, y_train)\n",
    "    tuned_proba = tuned_model.predict_proba(X_test)[:, 1]\n",
    "    tuned_predictions = pd.DataFrame({'SK_ID_CURR':X_test.index, 'TARGET':tuned_proba})\n",
    "    # tuned_predictions.to_csv('tuned_predictions_rfc.csv', index=False)\n",
    "    tuned_predictions.to_csv('tuned_predictions_lr2.csv', index=False)\n",
    "\n",
    "    return tuned_predictions"
   ],
   "metadata": {
    "collapsed": false,
    "pycharm": {
     "name": "#%%\n"
    }
   }
  },
  {
   "cell_type": "code",
   "execution_count": null,
   "id": "1d3b9ea6-4bf9-42f0-aed1-1c0f3a4f9b39",
   "metadata": {
    "id": "1d3b9ea6-4bf9-42f0-aed1-1c0f3a4f9b39"
   },
   "outputs": [],
   "source": [
    "# ======================================================================================================================\n",
    "# Random Forest Classifier - Default\n",
    "start = dt.now()\n",
    "rfc = RandomForestClassifier(random_state=42, n_jobs=-1)\n",
    "rfc.fit(X_train, y_train)"
   ]
  },
  {
   "cell_type": "markdown",
   "id": "3b12a0a5-8ff1-4cb6-9928-37122d2a3435",
   "metadata": {
    "id": "3b12a0a5-8ff1-4cb6-9928-37122d2a3435"
   },
   "source": [
    "2- Use the classifier to predict probabilities on the test set, and save the results to a csv file."
   ]
  },
  {
   "cell_type": "code",
   "execution_count": null,
   "id": "4ba80108-858c-4d4e-ba19-7f19fa526dc9",
   "metadata": {
    "id": "4ba80108-858c-4d4e-ba19-7f19fa526dc9"
   },
   "outputs": [],
   "source": [
    "predict_proba_rfc = rfc.predict_proba(X_test)[:, 1]\n",
    "predictions_rfc = pd.DataFrame({'SK_ID_CURR':X_test.index, 'TARGET':predict_proba_rfc})\n",
    "predictions_rfc.to_csv('predictions_rfc.csv', index=False)"
   ]
  },
  {
   "cell_type": "markdown",
   "id": "40be1079-e800-42b1-96b0-dce1d04c0a86",
   "metadata": {
    "id": "40be1079-e800-42b1-96b0-dce1d04c0a86"
   },
   "source": [
    "3- Load the predictions to the competition. Report the private score here."
   ]
  },
  {
   "cell_type": "code",
   "execution_count": 154,
   "id": "66f1180a-a26e-4e67-bcee-2a59bece5271",
   "metadata": {
    "id": "66f1180a-a26e-4e67-bcee-2a59bece5271"
   },
   "outputs": [
    {
     "name": "stdout",
     "output_type": "stream",
     "text": [
      "              fileName  privateScore\n",
      "3  predictions_rfc.csv       0.68799\n"
     ]
    }
   ],
   "source": [
    "# !kaggle competitions submissions -v home-credit-default-risk > submissions.csv\n",
    "submissions = pd.read_csv(\"submissions.csv\")\n",
    "print(submissions.loc[submissions.fileName =='predictions_rfc.csv'][['fileName','privateScore']])"
   ]
  },
  {
   "cell_type": "markdown",
   "id": "4acfcc24-62b6-4118-9c42-a0268dcf5c53",
   "metadata": {
    "id": "4acfcc24-62b6-4118-9c42-a0268dcf5c53"
   },
   "source": [
    "### Randomized Search with Cross Validation"
   ]
  },
  {
   "cell_type": "markdown",
   "id": "dd634b2b-68af-4db1-b062-1496f8d1179e",
   "metadata": {
    "id": "dd634b2b-68af-4db1-b062-1496f8d1179e"
   },
   "source": [
    "So far, we've only created models using the default hyperparameters of each algorithm. This is usually something that we would only do for baseline models, hyperparameter tuning is a very important part of the modeling process and is often the difference between having an acceptable model or not.\n",
    "\n",
    "But, there are usually lots of hyperparameters to tune and a finite amount of time to do it, you have to consider the time and resources it takes to find an optimal combination of them. In the previous section you trained a random forest classifier and saw how much it took to train it once in your PC. If you want to do hyperparameter optimization you now have to consider that you will have to train the algorithm N number of times, with N being the cartesian product of all parameters. \n",
    "\n",
    "Furthermore, you can't validate the performance of your trained models on the test set, as this data should only be used to validate the final model. So we have to implement a validation strategy, K-Fold Cross Validation being the most common. But this also adds time complexity to our training, because we will have to train each combinations of hyperparameters M number of times, X being the number of folds in which we divided our dataset, so the total number of training iterations will be NxM... this resulting number can grow VERY quickly.\n",
    "\n",
    "Fortunately there are strategies to mitigate this, here you're going to select a small number of hyperparameters to test a RandomForestClassifier, and use a Randomized Search algorithm with K-Fold Cross Validation to avoid doing a full search across the grid. \n",
    "\n",
    "Remember: take in consideration how much time it took to train a single classifier, and define the number of cross validations folds and iterations of the search accordingly. \n",
    "A recommendation: run the training process, go make yourself a cup of coffee, sit somewhere comfortably and forget about it for a while.\n"
   ]
  },
  {
   "cell_type": "markdown",
   "id": "c49a11c7-156f-46bb-8bba-be29d1b2ed1a",
   "metadata": {
    "id": "c49a11c7-156f-46bb-8bba-be29d1b2ed1a"
   },
   "source": [
    "1- Use RandomizedSearchCV to find the best combination of hyperparameters for a RandomForestClassifier. The validation metric used to evaluate the models should be \"roc_auc\"."
   ]
  },
  {
   "cell_type": "markdown",
   "id": "b09205aa-5afc-481a-b45b-d5e80b56d804",
   "metadata": {
    "id": "b09205aa-5afc-481a-b45b-d5e80b56d804"
   },
   "source": [
    "2- Use the classifier to predict probabilities on the test set, and save the results to a csv file."
   ]
  },
  {
   "cell_type": "code",
   "execution_count": null,
   "id": "4429ca94-57f4-487e-b3dd-883bc7bc7835",
   "metadata": {
    "id": "4429ca94-57f4-487e-b3dd-883bc7bc7835"
   },
   "outputs": [],
   "source": [
    "# ======================================================================================================================\n",
    "# Random Forest Classifier - Tuned\n",
    "param_grid = {\n",
    " 'bootstrap': [True, False],\n",
    " 'max_depth': [10, 50, 100, None],\n",
    " 'max_features': ['auto', 'sqrt'],\n",
    " 'min_samples_leaf': [1, 2, 4],\n",
    " 'min_samples_split': [2, 5, 10],\n",
    " 'n_estimators': [100, 200]\n",
    "}\n",
    "\n",
    "best_params, best_score, results  = search_best_hyperparameters(RandomizedSearchCV, X_train, y_train, rfc, param_grid,\n",
    "                                                                cv=3, n_iter=10, scoring='roc_auc')\n",
    "\n",
    "tuned_predictions_rfc = tuned_model_evaluation(X_train, y_train, X_test, RandomForestClassifier, best_params)\n",
    "end = dt.now()\n",
    "\n",
    "# Private Score: 0.72011\n",
    "# Processing time: 15min"
   ]
  },
  {
   "cell_type": "markdown",
   "id": "e645e849-a7e0-43af-b7d1-0b84c29f0e70",
   "metadata": {
    "id": "e645e849-a7e0-43af-b7d1-0b84c29f0e70"
   },
   "source": [
    "3- Load the predictions to the competition. Report the private score here."
   ]
  },
  {
   "cell_type": "code",
   "execution_count": 156,
   "id": "953f2204-304a-405b-b51b-350f054eb3f4",
   "metadata": {
    "id": "953f2204-304a-405b-b51b-350f054eb3f4"
   },
   "outputs": [
    {
     "name": "stdout",
     "output_type": "stream",
     "text": [
      "                    fileName  privateScore\n",
      "2  tuned_predictions_rfc.csv       0.72011\n"
     ]
    }
   ],
   "source": [
    "submissions = pd.read_csv(\"submissions.csv\")\n",
    "print(submissions.loc[submissions.fileName =='tuned_predictions_rfc.csv'][['fileName','privateScore']])"
   ]
  },
  {
   "cell_type": "markdown",
   "id": "be101430-3682-468d-a43d-8c78f60f96a5",
   "metadata": {
    "id": "be101430-3682-468d-a43d-8c78f60f96a5"
   },
   "source": [
    "4- If you have the time and resources, you can train the model for longer iterations, or select more estimator sizes. This is optional, but if you, we would love to see your results."
   ]
  },
  {
   "cell_type": "markdown",
   "id": "d72e7335-f3cc-410d-81f2-f110f3fbb252",
   "metadata": {
    "id": "d72e7335-f3cc-410d-81f2-f110f3fbb252"
   },
   "source": [
    "### Optional: Training a LightGBM model "
   ]
  },
  {
   "cell_type": "markdown",
   "id": "015d58b7-9f70-4bfb-8b72-20a626e00ea0",
   "metadata": {
    "id": "015d58b7-9f70-4bfb-8b72-20a626e00ea0"
   },
   "source": [
    "Gradient Boosting Machine is one of the most used machine learning algorithms for tabular data. Lots of competitions have been won using models from libraries like XGBoost or LightGBM. You can try using [LightGBM](https://lightgbm.readthedocs.io/en/latest/) to train a new model an see how it performs compared to the other classifiers you trained. "
   ]
  },
  {
   "cell_type": "code",
   "execution_count": null,
   "id": "91d497eb-2b8b-43fe-945e-26a04b8fc004",
   "metadata": {
    "id": "91d497eb-2b8b-43fe-945e-26a04b8fc004"
   },
   "outputs": [],
   "source": [
    "# LightGBM model\n",
    "def lgbm(train, test, n_folds):\n",
    "    folds = StratifiedKFold(n_splits=n_folds, shuffle=True, random_state=42)\n",
    "    predictions = np.zeros(test.shape[0])\n",
    "\n",
    "    features = [column for column in train.columns if column not in ['TARGET', 'SK_ID_CURR']]\n",
    "    for n_fold, (itrain, ival) in enumerate(folds.split(train[features], train['TARGET'])):\n",
    "        dtrain = lgb.Dataset(data=train[features].iloc[itrain], label=train['TARGET'].iloc[itrain], free_raw_data=False, silent=True)\n",
    "        dvalid = lgb.Dataset(data=train[features].iloc[ival], label=train['TARGET'].iloc[ival], free_raw_data=False, silent=True)\n",
    "\n",
    "        param_grid = {\n",
    "            'objective': 'binary',\n",
    "            'boosting_type': 'gbdt',\n",
    "            'nthread': 4,\n",
    "            'learning_rate': 0.02,\n",
    "            'num_leaves': 20,\n",
    "            'colsample_bytree': 0.9497036,\n",
    "            'subsample': 0.8715623,\n",
    "            'subsample_freq': 1,\n",
    "            'max_depth': 8,\n",
    "            'reg_alpha': 0.041545473,\n",
    "            'reg_lambda': 0.0735294,\n",
    "            'min_split_gain': 0.0222415,\n",
    "            'min_child_weight': 60,\n",
    "            'seed': 0,\n",
    "            'verbose': -1,\n",
    "            'metric': 'auc',\n",
    "        }\n",
    "\n",
    "        clf = lgb.train(params=param_grid, train_set=dtrain, num_boost_round=10000, valid_sets=[dtrain, dvalid],\n",
    "                        early_stopping_rounds=200, verbose_eval=False)\n",
    "\n",
    "        predictions += clf.predict(test[features]) / folds.n_splits\n",
    "\n",
    "    clf_predictions = pd.DataFrame({'SK_ID_CURR':test.index, 'TARGET':predictions})\n",
    "    clf_predictions.to_csv('predictions_clf.csv', index=False)\n",
    "\n",
    "    return clf_predictions\n",
    "\n",
    "application_train = application_train.rename(columns = lambda x:re.sub('[^A-Za-z0-9_]+', '', x))\n",
    "application_test = application_test.rename(columns = lambda x:re.sub('[^A-Za-z0-9_]+', '', x))\n",
    "\n",
    "predictions_lgbm = lgbm(application_train, application_test, n_folds=3)"
   ]
  },
  {
   "cell_type": "code",
   "execution_count": 158,
   "outputs": [
    {
     "name": "stdout",
     "output_type": "stream",
     "text": [
      "Successfully submitted to Home Credit Default Risk\n",
      "Empty DataFrame\n",
      "Columns: [fileName, privateScore]\n",
      "Index: []\n"
     ]
    }
   ],
   "source": [
    "!kaggle competitions submit -c home-credit-default-risk -f predictions_df.csv -m \"\" -q"
   ],
   "metadata": {
    "collapsed": false,
    "pycharm": {
     "name": "#%%\n"
    }
   }
  },
  {
   "cell_type": "code",
   "execution_count": 160,
   "outputs": [
    {
     "name": "stdout",
     "output_type": "stream",
     "text": [
      "               fileName  privateScore\n",
      "0  predictions_lgbm.csv       0.74809\n"
     ]
    }
   ],
   "source": [
    "!kaggle competitions submissions -v home-credit-default-risk > submissions.csv\n",
    "submissions = pd.read_csv(\"submissions.csv\")\n",
    "print(submissions.loc[submissions.fileName =='predictions_lgbm.csv'][['fileName','privateScore']])"
   ],
   "metadata": {
    "collapsed": false,
    "pycharm": {
     "name": "#%%\n"
    }
   }
  },
  {
   "cell_type": "markdown",
   "id": "c2d1a1f4-5e1e-4982-a6ae-a27b8c11428e",
   "metadata": {
    "id": "c2d1a1f4-5e1e-4982-a6ae-a27b8c11428e"
   },
   "source": [
    "### Optional: Using Scikit Learn Pipelines "
   ]
  },
  {
   "cell_type": "markdown",
   "id": "2e4f95fb-73bf-42c4-97a3-80078f2496aa",
   "metadata": {
    "id": "2e4f95fb-73bf-42c4-97a3-80078f2496aa"
   },
   "source": [
    "So far you've created special functions or blocks or code to chain operations on data and then train the models. But, reproducibility is important, and you don't want to have to remember the correct steps to follow each time you have new data to train your models. There are a lots of tools out there that can help you with that, here you can use a [Sklearn Pipeline](https://scikit-learn.org/stable/modules/generated/sklearn.pipeline.Pipeline.html) to process your data."
   ]
  },
  {
   "cell_type": "code",
   "execution_count": 170,
   "outputs": [],
   "source": [
    "num_attribs = [column for column in application_train.columns if column not in list(categoricals.index)]\n",
    "cat_attribs = list(categoricals.index)\n",
    "\n",
    "num_pipeline = Pipeline([\n",
    "    ('imputer', SimpleImputer(strategy='mean')),\n",
    "    ('std_scaler', StandardScaler())\n",
    "])\n",
    "\n",
    "cat_pipeline = Pipeline([\n",
    "    ('imputer', SimpleImputer(strategy='most_frequent')),\n",
    "    ('encoder', OneHotEncoder(handle_unknown='ignore'))\n",
    "])\n",
    "\n",
    "full_pipeline = ColumnTransformer([\n",
    "    (\"num\", num_pipeline, num_attribs),\n",
    "    (\"cat\", cat_pipeline, cat_attribs)\n",
    "])"
   ],
   "metadata": {
    "collapsed": false,
    "pycharm": {
     "name": "#%%\n"
    }
   }
  },
  {
   "cell_type": "code",
   "execution_count": null,
   "outputs": [],
   "source": [
    "prepared_train = full_pipeline.fit_transform(application_train)\n",
    "prepared_test = full_pipeline.transform(application_test)\n",
    "X_train = prepared_train.drop('TARGET', axis=1)\n",
    "y_train = prepared_train['TARGET'].copy()\n",
    "X_test = prepared_test.drop('TARGET', axis=1)"
   ],
   "metadata": {
    "collapsed": false,
    "pycharm": {
     "name": "#%%\n"
    }
   }
  },
  {
   "cell_type": "code",
   "execution_count": null,
   "outputs": [],
   "source": [
    "lr.fit(X_train, y_train)\n",
    "predict_proba_pipe = lr.predict_proba(X_test)[:, 1]\n",
    "predictions_pipe = pd.DataFrame({'SK_ID_CURR':X_test.index, 'TARGET':predict_proba})\n",
    "predictions_pipe.to_csv('predictions_pipe.csv', index=False)"
   ],
   "metadata": {
    "collapsed": false,
    "pycharm": {
     "name": "#%%\n"
    }
   }
  }
 ],
 "metadata": {
  "kernelspec": {
   "display_name": "Python 3 (ipykernel)",
   "language": "python",
   "name": "python3"
  },
  "language_info": {
   "codemirror_mode": {
    "name": "ipython",
    "version": 3
   },
   "file_extension": ".py",
   "mimetype": "text/x-python",
   "name": "python",
   "nbconvert_exporter": "python",
   "pygments_lexer": "ipython3",
   "version": "3.8.9"
  },
  "colab": {
   "name": "AnyoneAI - Project 3.ipynb",
   "provenance": [],
   "collapsed_sections": []
  }
 },
 "nbformat": 4,
 "nbformat_minor": 5
}